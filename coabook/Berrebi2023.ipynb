{
 "cells": [
  {
   "cell_type": "markdown",
   "metadata": {
    "colab_type": "text",
    "id": "view-in-github"
   },
   "source": [
    "<a href=\"https://colab.research.google.com/github/coa-project/pycoa/blob/ReadingDataModification/coabook/Berrebi2023.ipynb\" target=\"_parent\"><img src=\"https://colab.research.google.com/assets/colab-badge.svg\" alt=\"Open In Colab\"/></a>"
   ]
  },
  {
   "cell_type": "markdown",
   "metadata": {
    "id": "Hqi3HgLd0J-l"
   },
   "source": [
    "<a href=\"https://mybinder.org/v2/gh/coa-project/pycoa/dev?labpath=coabook/FdS2022a.ipynb\" target=\"_parent\"><img src=\"https://camo.githubusercontent.com/581c077bdbc6ca6899c86d0acc6145ae85e9d80e6f805a1071793dbe48917982/68747470733a2f2f6d7962696e6465722e6f72672f62616467655f6c6f676f2e737667\" alt=\"Open In Binder\"/></a>"
   ]
  },
  {
   "cell_type": "markdown",
   "metadata": {
    "id": "yrk1vvuwxiUu"
   },
   "source": [
    "<a href=\"https://nbviewer.org/github/coa-project/pycoa/blob/dev/coabook/FdS2022a.ipynb\" target=\"_parent\" ><img src=\"https://raw.githubusercontent.com/jupyter/design/master/logos/Badges/nbviewer_badge.svg\" height=\"25\"  alt=\"View in Jupyter nbviewwer\" align=\"middle\" /></a>"
   ]
  },
  {
   "cell_type": "markdown",
   "metadata": {
    "id": "xueZfi-b_sre"
   },
   "source": [
    "<img src=\"https://www.pycoa.fr/fig/logo-anime.gif\" alt=\"Pycoa\" width=\"125\">\n",
    "\n",
    "# Démonstration du logiciel PyCoA (27 juin 2022)\n",
    "[ⓒpycoa.fr](http://pycoa.fr)\n",
    "\n",
    "Ce cahier (*notebook*) Jupyter de démonstration est destiné aux élèves et enseignant·es de lycée.\n",
    "\n",
    "Il est stocké sur GitHub et téléchargeable à l'adresse\n",
    "http://bit.ly/pycoaFdS22a. Il fonctionne avec la version `dev` juin 2022 de PyCoa."
   ]
  },
  {
   "cell_type": "markdown",
   "metadata": {
    "id": "_hfa1G0M7Lc5"
   },
   "source": [
    "# Importation du package dans l'environement de développement"
   ]
  },
  {
   "cell_type": "markdown",
   "metadata": {
    "id": "DuqlhKNT0J-o"
   },
   "source": [
    "Les commandes ci-après s'assurent de la bonne installation et configuration de PyCoA : \n",
    "* dans le cas d'une installation locale\n",
    "* pour l'utilisation dans Colab\n",
    "* pour l'utilisation dans Binder\n",
    "\n",
    "**Exécutez ces lignes sans trop vous poser de questions…**"
   ]
  },
  {
   "cell_type": "code",
   "execution_count": null,
   "metadata": {
    "id": "a7S3ZtTKNkwn"
   },
   "outputs": [],
   "source": [
    "import sys\n",
    "import subprocess\n",
    "import importlib\n",
    "coa_module_info = importlib.util.find_spec(\"coaenv\")\n",
    "if coa_module_info != None:\n",
    "  import coaenv as pycoa\n",
    "else:\n",
    "  #dans le cas où on utilise colab de Google  \n",
    "  subprocess.check_call(['pip3', 'install', '--quiet', 'git+https://github.com/coa-project/pycoa.git@dev'])\n",
    "  sys.path.insert(1, 'pycoa')\n",
    "  import coa.front as pycoa"
   ]
  },
  {
   "cell_type": "markdown",
   "metadata": {
    "id": "Z12lNyVW0J-p"
   },
   "source": [
    "Si aucune base de données épidémiologique n'est selectionnée avec `pycoa.setwhom`,  la base `JHU` pour John Hopkins University est chargée par défaut. JHU est une des premières institution à avoir agrégé les données épidémiologiques des pays, et proposé un tableau de bord sur internet (*dashboard*) pour visualiser les données : https://coronavirus.jhu.edu/map.html. \n",
    "\n",
    "PyCoA a été conçu pour étenndre les possibilités de ces *dashboard*. D'une part il permet de récupérer directement les données épidémiologiques  ; d'autre par il permet les représenter comme on le souhaite.\n"
   ]
  },
  {
   "cell_type": "markdown",
   "metadata": {
    "id": "Ja7n3KAh0J-p"
   },
   "source": [
    "# Pour commencer\n",
    "\n",
    "## Une première instruction"
   ]
  },
  {
   "cell_type": "code",
   "execution_count": null,
   "metadata": {
    "id": "wAzNPUnx0J-q"
   },
   "outputs": [],
   "source": [
    "pycoa.plot(option='sumall')"
   ]
  },
  {
   "cell_type": "markdown",
   "metadata": {
    "id": "4GVKiX6L0J-q"
   },
   "source": [
    "Cette instruction `pycoa.plot`, trace l'évolution temporelle de certaines données, ici le nombre total de décès dus au Covid dans le monde. Le graphe obtenu, qui utilise la librairie [Bokeh](https://bokeh.org/), est interactif : \n",
    "- que se passe-t-il lorsque le **curseur passe sur la courbe ?**\n",
    "- à quoi servent **les 5 icônes en haut à droite ?** ;\n",
    "- il y a deux onglets *linear* et *log* : **à quoi servent-ils ?**"
   ]
  },
  {
   "cell_type": "markdown",
   "metadata": {
    "id": "Nx8oViWL0J-q"
   },
   "source": [
    "On n'a pas besoin de préciser que c'est le nombre total de décès (`tot_deaths`) qu'on veut tracer ici, c'est choisi par défaut. En revanche on précise bien qu'on veut la somme de tous les pays, et non (par exemple) le nombre pour chaque pays : on utilise donc le mot-clé `sumall`.\n",
    "\n",
    "Les mots-clés (`kwargs`) permette de préciser ce qu'on veut tracer."
   ]
  },
  {
   "cell_type": "markdown",
   "metadata": {
    "id": "H06z7ugA0J-q"
   },
   "source": [
    "## *Mots-clés*\n",
    "\n",
    "Différents mots-clés sont possibles pour les diverses instructions :\n",
    "\n",
    "*   `which`: donnée sélectionnée dans la base courante\n",
    "*   `what`: information de type `'cumul'`, `'daily'` ou `'weekly'`\n",
    "*   `where`: sélection de la localisation, localisation qui dépend de la base utilisée\n",
    "  *   pays, `list` de pays, région, continent…\n",
    "  *   département, `list` de départements, régions\n",
    "*   `option`: `'nonneg'`, `'nofillnan'`, `'smooth7'`, `'sumall'`\n",
    "*   `when`: fenêtre de date pour la donnée sélectionnée"
   ]
  },
  {
   "cell_type": "markdown",
   "metadata": {
    "id": "eb91ASrV0J-q"
   },
   "source": [
    "## Un deuxième exemple\n",
    "\n",
    "**Que pensez-vous que l'instruction suivante fasse ?**"
   ]
  },
  {
   "cell_type": "code",
   "execution_count": null,
   "metadata": {
    "id": "zFDh5W5x0J-r"
   },
   "outputs": [],
   "source": [
    "pycoa.plot(where='g20')"
   ]
  },
  {
   "cell_type": "markdown",
   "metadata": {
    "id": "visBWw_R0J-r"
   },
   "source": [
    "En utilisant les capacités interactives du graphe, **comparez l'évolution temporelle des diférents pays au début de l'épidémie.**\n",
    "\n",
    "**Peut-on voir la nature initialement exponentielle de l'épidémie ?**"
   ]
  },
  {
   "cell_type": "markdown",
   "metadata": {
    "id": "tRXSHppM0J-r"
   },
   "source": [
    "## Une première carte\n",
    "\n",
    "Outre des séries temportelles, PyCoA permet de représenter des données spatiales, plus spécifiquement des cartes."
   ]
  },
  {
   "cell_type": "code",
   "execution_count": null,
   "metadata": {
    "id": "USDORXDP0J-r"
   },
   "outputs": [],
   "source": [
    "pycoa.map(where='oecd', what='daily', when='01/06/2022', which='tot_confirmed')"
   ]
  },
  {
   "cell_type": "markdown",
   "metadata": {
    "id": "kH3GExF50J-r"
   },
   "source": [
    "Cette carte, comme les graphes précédent, est également interactive. ** Essayez de centrer la carte sur la France **.\n",
    "\n",
    "D'autres instructions existent dans PyCoA."
   ]
  },
  {
   "cell_type": "markdown",
   "metadata": {
    "id": "gcrFlprV0J-r"
   },
   "source": [
    "## *Instructions de PyCoA*\n",
    "*   `pycoa.plot` : pour les séries temporelles\n",
    "*   `pycoa.map` : pour une représentation sous forme de carte\n",
    "*   `pycoa.hist` : pour les histogrammes, avec pour option\n",
    "  *   `typeofhist='bycountry'` (par défaut), pour un histogramme à barres horizontales, lieu par lieu\n",
    "  *   `typeofhist='byvalue'`, pour un histogramme à barres verticales, par valeurs\n",
    "  *   `typeofhist='pie'`, pour un camembert\n",
    "*   `pycoa.get` : pour récupérer les données, en vue d'un traitement ultérieur"
   ]
  },
  {
   "cell_type": "markdown",
   "metadata": {
    "id": "z-v-Jnss0J-r"
   },
   "source": [
    "## *Documentation*\n",
    "\n",
    "Une documentation plus complète des instructions et options de PyCoA se trouve sur le [wiki PyCoA](https://github.com/coa-project/pycoa/wiki/Accueil). En particulier consultez le menu affiché en bas à droite : \n",
    "* [Récupération des données et traitements](https://github.com/coa-project/pycoa/wiki/Donn%C3%A9es%2Ctraitements)\n",
    "* [Graphiques en courbes](https://github.com/coa-project/pycoa/wiki/Courbes)\n",
    "* [Histogrammes, secteurs et cartes](https://github.com/coa-project/pycoa/wiki/Diagrammes%2CCartes)\n",
    "* [Avancé](https://github.com/coa-project/pycoa/wiki/Avance)\n",
    "* [Études de cas](https://github.com/coa-project/pycoa/wiki/Etudes%2Cde%2Ccas)"
   ]
  },
  {
   "cell_type": "markdown",
   "metadata": {
    "id": "hgF-8lmE0J-s"
   },
   "source": [
    "# Pour continuer\n",
    "\n",
    "## D'autres bases de données\n",
    "\n",
    "Il est possible d'utiliser d'autres bases de données. 18 bases de données sont accessibles. 17 concernent le COVID."
   ]
  },
  {
   "cell_type": "code",
   "execution_count": null,
   "metadata": {},
   "outputs": [],
   "source": [
    "pycoa.listwhom(True)"
   ]
  },
  {
   "cell_type": "markdown",
   "metadata": {},
   "source": [
    "Pour sélectionner une base de donnée spécifique, on utilse l'instruction `pycoa.setwhom`, comme dans l'exemple suivant."
   ]
  },
  {
   "cell_type": "code",
   "execution_count": null,
   "metadata": {
    "id": "pXHEIaa20J-s"
   },
   "outputs": [],
   "source": [
    "pycoa.setwhom('owid')"
   ]
  },
  {
   "cell_type": "markdown",
   "metadata": {
    "id": "x0gTbc0j0J-s"
   },
   "source": [
    "Une fois chargée, le contenu de la base de données est indiqué. En particulier, la base de données [OwID = \"Our World In Data\"](https://ourworldindata.org/coronavirus) contient des données relatives à la vaccination (ce qui n'était pas le cas de JHU, précédemment sélectionnée par défaut). Il devient alors possible d'explorer les corrélations entre vaccination et mortalité."
   ]
  },
  {
   "cell_type": "markdown",
   "metadata": {
    "id": "YsL1lbX60J-s"
   },
   "source": [
    "**Explorez et expliquez** les effets des 3 instructions suivantes."
   ]
  },
  {
   "cell_type": "code",
   "execution_count": null,
   "metadata": {
    "id": "DmtEnOG80J-s"
   },
   "outputs": [],
   "source": [
    "pycoa.hist(which='total_vaccinations') # default is for all countries"
   ]
  },
  {
   "cell_type": "code",
   "execution_count": null,
   "metadata": {
    "id": "E94MvcZq0J-t"
   },
   "outputs": [],
   "source": [
    "pycoa.hist(which='cur_icu_patients', typeofhist='pie',where='european union')"
   ]
  },
  {
   "cell_type": "code",
   "execution_count": null,
   "metadata": {
    "id": "bk-lcnqw0J-t"
   },
   "outputs": [],
   "source": [
    "pycoa.hist(which='total_people_fully_vaccinated_per_hundred', typeofhist='byvalue', where='asia')"
   ]
  },
  {
   "cell_type": "markdown",
   "metadata": {
    "id": "CxYcgH030J-t"
   },
   "source": [
    "## Données françaises\n",
    "\n",
    "Santé Publique France (`spf`) diffuse les données afférentes à l'épidémie de COVID en France. Malheureusement, contrairement aux autres bases de données, le format des données varie souvent, sans avertissement. Il arrive donc hélas que les commandes échouent, le temps d'apdater PyCoA aux dernières modifications.\n",
    "\n",
    "Dans la cellule ci-dessous, **proposez une instruction pour sélectionner la base de donnée `spf`.**"
   ]
  },
  {
   "cell_type": "code",
   "execution_count": null,
   "metadata": {
    "id": "oDwRnTbB0J-t"
   },
   "outputs": [],
   "source": [
    "pycoa.setwhom('spf')"
   ]
  },
  {
   "cell_type": "markdown",
   "metadata": {
    "id": "XMaVys-q0J-t"
   },
   "source": [
    "L'instruction suivante trace la carte du taux de vaccination pour la Métropole."
   ]
  },
  {
   "cell_type": "code",
   "execution_count": null,
   "metadata": {
    "id": "AGlTgXA60J-t"
   },
   "outputs": [],
   "source": [
    "pycoa.map(where='Métropole',which='tot_vacc_complet', tile='esri', bypop='100') # Vaccinations, map view optional tile, with population normalization "
   ]
  },
  {
   "cell_type": "markdown",
   "metadata": {
    "id": "2h9gSj7p0J-t"
   },
   "source": [
    "## Données américaines"
   ]
  },
  {
   "cell_type": "markdown",
   "metadata": {
    "id": "j3mNGqKw0J-t"
   },
   "source": [
    "**Prévoir ce que font l'ensemble des deux instructions suivantes.** (avant de les exécuter)\n"
   ]
  },
  {
   "cell_type": "code",
   "execution_count": null,
   "metadata": {
    "id": "dFLWfvoI0J-u"
   },
   "outputs": [],
   "source": [
    "pycoa.setwhom('jhu-usa')"
   ]
  },
  {
   "cell_type": "code",
   "execution_count": null,
   "metadata": {
    "id": "Ra-r14390J-u"
   },
   "outputs": [],
   "source": [
    "pycoa.map(visu='folium')"
   ]
  },
  {
   "cell_type": "markdown",
   "metadata": {
    "id": "2nOXtOyY0J-u"
   },
   "source": [
    "## MonkeyPox\n",
    "\n",
    "Représentez successivement : \n",
    "- l'évolution temporelle du nombre de cas mondiaux de monkeypox\n",
    "- l'évolution temporelle de nombre de cas dans chaque pays\n",
    "- l'histogramme des cas de monkeypox\n",
    "- la carte mondiale des cas de monkeypox"
   ]
  },
  {
   "cell_type": "code",
   "execution_count": null,
   "metadata": {
    "id": "z8yO7rgR0J-u"
   },
   "outputs": [],
   "source": []
  },
  {
   "cell_type": "code",
   "execution_count": null,
   "metadata": {
    "id": "HuoeVYrG0J-u"
   },
   "outputs": [],
   "source": []
  },
  {
   "cell_type": "code",
   "execution_count": null,
   "metadata": {
    "id": "iG0c01WN0J-u"
   },
   "outputs": [],
   "source": []
  },
  {
   "cell_type": "code",
   "execution_count": null,
   "metadata": {
    "id": "ThmZPxNu0J-u"
   },
   "outputs": [],
   "source": []
  },
  {
   "cell_type": "markdown",
   "metadata": {
    "id": "AobLkvBk0J-u"
   },
   "source": [
    "# Pour aller encore plus loin, sur la base d'exemples"
   ]
  },
  {
   "cell_type": "code",
   "execution_count": null,
   "metadata": {
    "id": "kDG2y1pNXxSW"
   },
   "outputs": [],
   "source": [
    "print(pycoa.listwhich())\n",
    "print(pycoa.listwhat())\n",
    "print(pycoa.listoption())\n",
    "print(pycoa.listwhom(detailed=True))"
   ]
  },
  {
   "cell_type": "code",
   "execution_count": null,
   "metadata": {
    "id": "ybd6vpJNosUg"
   },
   "outputs": [],
   "source": [
    "pycoa.setwhom('spf')"
   ]
  },
  {
   "cell_type": "code",
   "execution_count": null,
   "metadata": {
    "id": "VDcO4x_50J-v"
   },
   "outputs": [],
   "source": [
    "pycoa.listwhere(True) # Pour avoir la liste des régions"
   ]
  },
  {
   "cell_type": "code",
   "execution_count": null,
   "metadata": {
    "id": "ZLlDSHEp0J-v"
   },
   "outputs": [],
   "source": [
    "pycoa.hist(where='ile de france',which='cur_rea')"
   ]
  },
  {
   "cell_type": "code",
   "execution_count": null,
   "metadata": {
    "id": "Mex3OQI-YJ-2"
   },
   "outputs": [],
   "source": [
    "pycoa.plot(where='Métropole',what='daily',which='tot_dchosp')"
   ]
  },
  {
   "cell_type": "code",
   "execution_count": null,
   "metadata": {
    "id": "NgzTaICjvvD0"
   },
   "outputs": [],
   "source": [
    "pycoa.plot(where='Métropole',what='daily',which='tot_dchosp',option='smooth7') # moyennage sur 7 jours glissants"
   ]
  },
  {
   "cell_type": "markdown",
   "metadata": {
    "id": "7cFUUJBzcxq_"
   },
   "source": [
    "Avec notre package de gestion de la geographie, on peut faire par exemple : "
   ]
  },
  {
   "cell_type": "code",
   "execution_count": null,
   "metadata": {
    "id": "GYw6yqvAcwmI"
   },
   "outputs": [],
   "source": [
    "pycoa.setwhom('jhu')\n",
    "pycoa.plot(where='G20',what='daily',which='tot_deaths')"
   ]
  },
  {
   "cell_type": "markdown",
   "metadata": {
    "id": "KjCgQFLbdeeZ"
   },
   "source": [
    "Il est possible d'utiliser l'option `sumall` pour l'Afrique complète entre le 01/05/2020 et le 27/01/2021."
   ]
  },
  {
   "cell_type": "code",
   "execution_count": null,
   "metadata": {
    "id": "g44MPW3taxX9"
   },
   "outputs": [],
   "source": [
    "pycoa.plot(where='Africa',what='daily',which='tot_deaths',option=\"sumall\",when='01/05/2020:27/01/2021')"
   ]
  },
  {
   "cell_type": "markdown",
   "metadata": {
    "id": "hQWpM38aeEkE"
   },
   "source": [
    "Si on se concentre sur la France et l'Espagne…"
   ]
  },
  {
   "cell_type": "code",
   "execution_count": null,
   "metadata": {
    "id": "6pKXTyT5ZIdh"
   },
   "outputs": [],
   "source": [
    "pycoa.plot(where=['France','Spain'],what='daily',which='tot_deaths')"
   ]
  },
  {
   "cell_type": "code",
   "execution_count": null,
   "metadata": {
    "id": "R0fmFePxemAE"
   },
   "outputs": [],
   "source": [
    "pycoa.plot(where=['France','Spain'],what='standard',which='tot_deaths')"
   ]
  },
  {
   "cell_type": "code",
   "execution_count": null,
   "metadata": {
    "id": "cUAtb_eHeuZA"
   },
   "outputs": [],
   "source": [
    "pycoa.plot(where=['France','Spain'],what='standard',which='tot_deaths',option='nonneg')"
   ]
  },
  {
   "cell_type": "code",
   "execution_count": null,
   "metadata": {
    "id": "SoYpafDye7Ry"
   },
   "outputs": [],
   "source": [
    "# Owid database\n",
    "pycoa.setwhom('owid')"
   ]
  },
  {
   "cell_type": "code",
   "execution_count": null,
   "metadata": {
    "id": "Bhy7bn1De_K2"
   },
   "outputs": [],
   "source": [
    "pycoa.hist(where='Europe',which='total_vaccinations',typeofhist='pie')"
   ]
  },
  {
   "cell_type": "code",
   "execution_count": null,
   "metadata": {
    "id": "Mm21lYqhfN-P"
   },
   "outputs": [],
   "source": [
    "pycoa.map(where='G7',what='standard',which='total_vaccinations')"
   ]
  },
  {
   "cell_type": "code",
   "execution_count": null,
   "metadata": {
    "id": "4k2YC1LYgr5d"
   },
   "outputs": [],
   "source": [
    "pycoa.map(where='G7',what='standard',which='total_vaccinations',tile='esri')"
   ]
  },
  {
   "cell_type": "code",
   "execution_count": null,
   "metadata": {
    "id": "YqxknP3pfSDy"
   },
   "outputs": [],
   "source": [
    "# Base de SPF\n",
    "pycoa.setwhom('spf')"
   ]
  },
  {
   "cell_type": "code",
   "execution_count": null,
   "metadata": {
    "id": "wcuVLyJKgIiU"
   },
   "outputs": [],
   "source": [
    "pycoa.hist(where=['Île-de-France','Bretagne',\"Provence-Alpes-Côte d'Azur\"],what='standard',which='tot_vacc_complet')\n",
    "pycoa.plot(where=['Île-de-France','Bretagne',\"Provence-Alpes-Côte d'Azur\"],what='standard',which='tot_vacc_complet')"
   ]
  },
  {
   "cell_type": "code",
   "execution_count": null,
   "metadata": {
    "id": "-q9O_rYI0J-x"
   },
   "outputs": [],
   "source": [
    "# Utilisation de la notation à double crochets\n",
    "pycoa.hist(where=[['Île-de-France'],['Bretagne'],[\"Provence-Alpes-Côte d'Azur\"]],what='standard',which='tot_vacc_complet',option='sumall')\n",
    "pycoa.plot(where=[['Île-de-France'],['Bretagne'],[\"Provence-Alpes-Côte d'Azur\"]],what='standard',which='tot_vacc_complet',option='sumall')"
   ]
  },
  {
   "cell_type": "code",
   "execution_count": null,
   "metadata": {
    "id": "HmQjlZAYwv58"
   },
   "outputs": [],
   "source": [
    "pycoa.plot(option='sumall',which='tot_vacc_complet')"
   ]
  },
  {
   "cell_type": "markdown",
   "metadata": {
    "id": "53hYSJDe0J-x"
   },
   "source": [
    "## À vous de jouer maintenant !…"
   ]
  },
  {
   "cell_type": "code",
   "execution_count": null,
   "metadata": {
    "id": "6Od0lOw90J-x"
   },
   "outputs": [],
   "source": []
  }
 ],
 "metadata": {
  "colab": {
   "include_colab_link": true,
   "name": "Salon de la Culture et des Jeux Mathématiques 2022",
   "provenance": [],
   "toc_visible": true
  },
  "kernelspec": {
   "display_name": "Python 3 (ipykernel)",
   "language": "python",
   "name": "python3"
  },
  "language_info": {
   "codemirror_mode": {
    "name": "ipython",
    "version": 3
   },
   "file_extension": ".py",
   "mimetype": "text/x-python",
   "name": "python",
   "nbconvert_exporter": "python",
   "pygments_lexer": "ipython3",
   "version": "3.9.6"
  }
 },
 "nbformat": 4,
 "nbformat_minor": 1
}
