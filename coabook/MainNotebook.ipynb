{
 "cells": [
  {
   "cell_type": "markdown",
   "id": "574b5528",
   "metadata": {},
   "source": [
    "<img src=\"https://www.pycoa.fr/fig/logo-anime.gif\" alt=\"Pycoa\" width=\"125\">\n",
    "<center>\n",
    "\n",
    "# Présentation du logiciel Pycoa [ⓒpycoa.fr](http://pycoa.fr) "
   ]
  },
  {
   "cell_type": "markdown",
   "id": "df00ef8f",
   "metadata": {},
   "source": [
    "## Bienvenue dans ce guide d'utilisation de Pycoa !\n",
    "\n",
    "Ce notebook a pour objectif de vous fournir une introduction complète aux fonctionnalités principales de Pycoa, une plateforme logicielle puissante dédiée à l'analyse de données et à la visualisation de données covid. Que vous soyez débutant ou utilisateur expérimenté, ce guide vous accompagnera à travers les différentes étapes pour maîtriser Pycoa et exploiter tout son potentiel.\n",
    "\n",
    "PyCoA (Python Covid Analysis) est un framework Python™ qui fournit :\n",
    "\n",
    "- un accès simple aux bases de données communes Covid-19 ;\n",
    "- des outils pour représenter et analyser les données Covid-19 tels que des tracés de séries chronologiques, des histogrammes et des cartes.\n",
    "\n",
    "Au fil de ce guide, vous découvrirez comment :\n",
    "\n",
    "- Importer vos données à partir des diverses base de données disponibles.\n",
    "- Exporter vos données grâce à pandas.\n",
    "- Manipuler des données pour créer votre propre graphique.\n",
    "- Créer une variété de graphiques informatifs et esthétiques pour visualiser vos données sous différents angles.\n",
    "\n",
    "Que vous souhaitiez explorer Pycoa pour la première fois ou approfondir vos connaissances existantes, ce guide est conçu pour vous accompagner à chaque étape de votre parcours. Nous espérons que vous trouverez ce guide instructif et utile dans votre exploration de Pycoa."
   ]
  },
  {
   "cell_type": "markdown",
   "id": "8fee8f80",
   "metadata": {},
   "source": [
    "# 0. — NoteBook Olympics \n",
    "\n",
    "À l'approche des Jeux Olympiques de Paris 2024, nous avons préparé un notebook spécial sur les JO avec Pycoa. Explorez les médailles d'or, d'argent et de bronze remportées par chaque pays, et visualisez les données à travers des graphiques interactifs, des histogrammes ou encore des cartes. Découvrez tout cela et bien plus encore pour vous immerger dans l'univers des JO !\n",
    "\n",
    "[![Binder](https://mybinder.org/badge_logo.svg)](https://mybinder.org/v2/gh/coa-project/pycoa/helpfonction?labpath=coabook%2FNotebook_JO.ipynb)"
   ]
  },
  {
   "cell_type": "markdown",
   "id": "cc0f96aa",
   "metadata": {},
   "source": [
    "# 1. — Installation de [Pycoa](http://pycoa.fr)\n",
    "\n",
    "## En ligne\n",
    "\n",
    " ### Binder (recommandé)\n",
    "Il est possible d'utiliser ce notebook en ligne, sans installation locale à l'aide de l'infrastructure [Binder](https://mybinder.org/). Pour cela, cliquer sur l'icône suivante : \n",
    "\n",
    "\n",
    "[![Binder](https://mybinder.org/badge_logo.svg)](https://mybinder.org/v2/gh/coa-project/pycoa/helpfonction?labpath=coabook%2FMainNotebook.ipynb)\n",
    "\n",
    "Suivant l'occupation des serveurs Binder le déploiement peut prendre entre 1 min et 5 min.\n",
    " ### Google Colab\n",
    "Il est aussi possible d'utiliser Google Colab.\n",
    "Si l'on utilise un jupyter externalisé, comme google colaboratory, on utilisera également une installation via l'outil pip. On lancera ainsi à l'invite python :\n",
    "`pip3 install git+https://github.com/coa-project/pycoa.git`\n",
    "\n",
    "## Localement\n",
    "\n",
    "Pour installer [Pycoa](http://pycoa.fr) sur son propre ordinateur, il faut suivre la procédure décrite sur le [wiki de Pycoa](https://github.com/coa-project/pycoa/wiki/Installation). "
   ]
  },
  {
   "cell_type": "markdown",
   "id": "26ffe595",
   "metadata": {},
   "source": [
    "# 2. — Utilisation de [Pycoa](http://pycoa.fr)\n",
    "\n",
    "## &nbsp;&nbsp;&nbsp;A. - Importation de la librairie\n",
    "\n",
    "Dans le code, il faut d'abord importer la librairie (_package_) dans l'environnement de développement.\n"
   ]
  },
  {
   "cell_type": "code",
   "execution_count": null,
   "id": "607013ec",
   "metadata": {},
   "outputs": [],
   "source": [
    "from coaenv import *"
   ]
  },
  {
   "cell_type": "markdown",
   "id": "529dab95",
   "metadata": {},
   "source": [
    "## &nbsp;&nbsp;&nbsp; B. - Sélection de la base de données\n",
    "Plusieurs bases de données liées au Covid-19 sont exploitables.\n",
    "\n",
    "La première des instructions suivantes donne la liste des bases disponibles, avec leur nom, le code pays au format [ISO 3166-1 alpha 3](https://fr.wikipedia.org/wiki/ISO_3166-1#Table_de_codage) (ou ww pour world), le niveau de détail géographique (granularité), le pays ou les régions associées."
   ]
  },
  {
   "cell_type": "code",
   "execution_count": null,
   "id": "a897ed84",
   "metadata": {},
   "outputs": [],
   "source": [
    "pycoa.listwhom(True)"
   ]
  },
  {
   "cell_type": "markdown",
   "id": "1c256e77",
   "metadata": {},
   "source": [
    "Pour l'exemple, la seconde instruction permet de séléctionner la principale base de données _française_, produite par Santé Publique France (la base de données s'appelle donc `spf`). \n",
    "Cela peut prendre quelques instants."
   ]
  },
  {
   "cell_type": "code",
   "execution_count": null,
   "id": "e1e8b218",
   "metadata": {
    "scrolled": true
   },
   "outputs": [],
   "source": [
    "pycoa.setwhom('spf', reload=False)"
   ]
  },
  {
   "cell_type": "markdown",
   "id": "3f6072fe",
   "metadata": {},
   "source": [
    "Santé Publique France diffuse les données afférentes à l'épidémie de Covid-19 en France. De manière regrettable, et contrairement aux autres bases de données, le format des données varie fréquemment et sans avertissement. Il arrive donc hélas que certaines commandes échouent, le temps d'apdater [Pycoa](http://pycoa.fr) aux dernières modifications."
   ]
  },
  {
   "cell_type": "markdown",
   "id": "6be76275",
   "metadata": {},
   "source": [
    "**Pour connaître la base de données utilisée actuellement on peut utiliser :**"
   ]
  },
  {
   "cell_type": "code",
   "execution_count": null,
   "id": "10c1b997",
   "metadata": {},
   "outputs": [],
   "source": [
    "pycoa.getwhom()"
   ]
  },
  {
   "cell_type": "markdown",
   "id": "d2e888a4",
   "metadata": {},
   "source": [
    "La base une fois chargée, une liste d'information nous est donnée :\n",
    "\n",
    "- La liste des données épidémilogiques (`which`) : *['cur_hosp', 'cur_idx_R', 'cur_idx_tx_incid', 'cur_idx_tx_occupation_sae', 'cur_nb_A0', 'cur_nb_A1', 'cur_nb_C0', 'cur_nb_C1', 'cur_nbre_pass_corona', 'cur_rea', 'cur_tx_A1', 'cur_tx_C1', 'cur_tx_pos', 'incid_dchosp', 'incid_hosp', 'incid_rad', 'incid_rea', 'tot_P', 'tot_T', 'tot_dchosp', 'tot_rad', 'tot_vacc1', 'tot_vacc2_rappel', 'tot_vacc_complet', 'tot_vacc_rappel']*\n",
    "- Un exemple de liste relatif à la localisation (`where`) : **Côtes-d'Armor, Eure, Orne, Pyrénées-Atlantiques, Ain...**\n",
    "- La dernière mise à jour : **2024-05-14**"
   ]
  },
  {
   "cell_type": "markdown",
   "id": "cd7a1fdb",
   "metadata": {},
   "source": [
    "## &nbsp;&nbsp;&nbsp;C. - Contenu des bases de données\n",
    "\n",
    "**La liste des _variables epidémiologiques_ disponibles pour la base de donnée sélectionnée est donnée par l'instruction suivante :**"
   ]
  },
  {
   "cell_type": "code",
   "execution_count": null,
   "id": "bf4a848e",
   "metadata": {
    "scrolled": false
   },
   "outputs": [],
   "source": [
    "pycoa.listwhich()"
   ]
  },
  {
   "cell_type": "markdown",
   "id": "8245b895",
   "metadata": {},
   "source": [
    "**La liste des _zones géographiques_ accessibles dans la base de donnée sélectionnée est quant à elle donnée par l'instruction suivante :**"
   ]
  },
  {
   "cell_type": "code",
   "execution_count": null,
   "id": "1d54c494",
   "metadata": {},
   "outputs": [],
   "source": [
    "pycoa.listwhere() "
   ]
  },
  {
   "cell_type": "markdown",
   "id": "09a03e04",
   "metadata": {},
   "source": [
    "**Différents mots-clés permettent de récupérer des informations spécifiques de la base de donnée :**\n",
    "\n",
    "- **`which`**: _variables epidémiologiques_ d'intérêt (donnée sélectionnée)\n",
    "- **`where`**: sélection de la (ou les) zone(s) géographique(s) :\n",
    "   - pays, `list` de pays, région, continent…\n",
    "   - département, `list` de départements, régions…\n",
    "- **`what`**: dans le cas d'une série temporelle :\n",
    "   - `'cumul'` dans le cas où on veut voir la somme de tout ce qu'il s'est passé\n",
    "   - `'daily'` pour les valeurs journalières\n",
    "   - `'weekly'` pour les valeurs hebdomadaires\n",
    "   - `'standart'`(par defaut ici) \n",
    "- **`when`**: fenêtre de dates pour la donnée sélectionnée\n",
    "   - `'vide'` : format pas défaut\n",
    "   - `'dd/mm/yyyy:dd/mm/yyyy'`: le début et la fin de la fenêtre temporelle sont précisés\n",
    "   - `''dd/mm/yyyy:` : uniquement le début est précisé, la date de fin est fixé par la dernière valeur de la base de donnée\n",
    "   - `':dd/mm/yyyy'` : uniquement la date de fin est précisée, le début est fixé par la première valeur de la base de donnée\n",
    "\t\n",
    "- **`option`**: \n",
    "   - `'nonneg'` : lisse les données pour éviter les valeurs négatives (corrections a posteriori)\n",
    "   - `'nofillnan'` : par défaut les données cumulées qui n'ont pas de valeurs (\"Not a Number\" ou Nan) sont remplacées par les valeurs du jour précedent, `'nofillnan'` supprime ce remplissage\n",
    "   - `'smooth7'` : lisse les données sur 7 jours pour faire disparaître les fluctuations liées par exemple aux weekends\n",
    "   - `'sumall'` : somme toutes les valeurs présentes\n",
    "\n",
    "- **`bypop`** : Permet de normaliser les courbes par le nombre d'habitants. Pour se faire on utilisera bypop. Cette variable peut être exprimé en puissance de 10 : 'no', '100', '1k', '100', '1M' or 'pop' .\n",
    "\n",
    "   \n",
    "On peut aussi utiliser les instructions suivantes :\n",
    "- `pycoa.listwhat()`  : Liste les différentes options possibles pour l'attribut what.\n",
    "- `pycoa.listwhere(True)` : Liste les régions.\n",
    "- `pycoa.listoption()`: Liste les options disponibles.\n",
    "- `pycoa.listoutput()`: Liste les formats de sortie disponibles : pandas, geopandas, list, dict, array.\n",
    "- `pycoa.listbypop()` : Liste les options pour normaliser les courbes par le nombre d'habitants.\n"
   ]
  },
  {
   "cell_type": "markdown",
   "id": "8cba7792",
   "metadata": {},
   "source": [
    "## &nbsp;&nbsp;&nbsp; D. - Instructions de Pycoa\n",
    "\n",
    "Pycoa permet à la fois d'importer les données d'une base de donnnée publique, mais également de les représenter et de les récupérer pour les exporter Les instructions suivantes\n",
    "\n",
    "- **`pycoa.plot`** : pour représenter la donnée sélectionnée en fonction du temps (série temporelle)\n",
    "\n",
    "  - `typeofplot='date'` (par défaut). Le plot est une évolution temporelle de la variable épidémiologique étudiée.\n",
    "  - `typeofplot='menulocation'`, si l'on désire comparer uniquement 2 variations temporelles parmi la liste where. Un double menu déroulant apparaît permettant de choisir les 2 courbes à comparer.\n",
    "  - `typeofplot='yearly'`, représentation des mois uniquement pour les différentes années en jeu, important pour voir les effets saisonniers. Permet de comparer les différentes années entre elles.\n",
    "  - `typeofplot='spiral'`, représentation en spiral, complémentaire de la précédente\n",
    "  \n",
    "  \n",
    "- **`pycoa.map`** : pour une représentation sous forme de carte.\n",
    "\n",
    "    Il est possible de changer les textures des cartes. Voici la liste des textures (tiles) disponible  :\n",
    "    - `tile='openstreet'`: Utilise les données de la carte OpenStreetMap, qui sont collectées par une communauté mondiale de contributeurs et mises à jour en temps réel. Cette texture offre une carte de base détaillée qui couvre le monde entier.\n",
    "    - `tile='esri'` : Utilise les services de cartographie d'Esri, qui fournissent des données cartographiques riches et détaillées. Cette texture est idéale pour des applications nécessitant des cartes précises et professionnelles.\n",
    "    - `tile='stamen'` : Utilise les tuiles de Stamen Design, une entreprise spécialisée dans la création de cartes élégantes et artistiques. Les tuiles Stamen offrent une esthétique unique avec différentes options, comme la carte en noir et blanc (toner), la carte en couleur (terrain) ou la carte en tons pastel (watercolor).\n",
    "    - `tile ='positron'`: Fournit des cartes modernes et élégantes créées par Carto, avec une esthétique minimaliste et des couleurs vives. Les cartes Positron sont idéales pour les visualisations contemporaines et les applications axées sur le design.\n",
    "\n",
    "\n",
    "\n",
    "- **`pycoa.hist`** : pour les histogrammes, avec pour option :\n",
    "\n",
    "  - `typeofhist='bycountry'` (par défaut), pour un histogramme à barres horizontales, lieu par lieu\n",
    "  - `typeofhist='byvalue'`, pour un histogramme à barres verticales, par valeurs\n",
    "  - `typeofhist='pie'`, pour un \"camembert\"\n",
    "  \n",
    "  \n",
    "- **`pycoa.get`** : pour récupérer les données, en vue d'un traitement ultérieur.\n",
    "\n",
    "\n",
    "On peut aussi utiliser les instructions suivantes :\n",
    "- `pycoa.listplot()` : Liste les types de graphiques disponibles.\n",
    "- `pycoa.listhist()` : Liste les types d'histogrammes disponibles.\n",
    "- `pycoa.listtile()` : Liste les textures disponibles pour les cartes."
   ]
  },
  {
   "cell_type": "markdown",
   "id": "ef15896b",
   "metadata": {},
   "source": [
    "# 3. — Exemples\n",
    "\n",
    "Dans cette section, nous vous présenterons comment effectuer des requêtes basiques avec Pycoa. Il existe trois types principaux de requêtes que vous pouvez effectuer pour explorer et visualiser vos données : les graphiques dans le temps (plot), les cartes et les histogrammes. \n",
    "\n",
    "Nous allons vous guider à travers des exemples pratiques de chaque type de requête, en vous montrant comment les construire et interpréter les résultats. Que vous souhaitiez visualiser l'évolution temporelle des données, créer des histogrammes pour analyser la répartition des valeurs, ou représenter les données sur une carte géographique, ces exemples vous aideront à démarrer avec Pycoa.\n",
    "\n",
    "## &nbsp;&nbsp;&nbsp; A. - Évolution temporelle (plot)"
   ]
  },
  {
   "cell_type": "markdown",
   "id": "8e999acc",
   "metadata": {},
   "source": [
    "### 1. Date"
   ]
  },
  {
   "cell_type": "code",
   "execution_count": null,
   "id": "e6511f68",
   "metadata": {
    "scrolled": false
   },
   "outputs": [],
   "source": [
    "pycoa.plot(which='tot_vacc_complet', where='Bretagne', typeofplot='date')"
   ]
  },
  {
   "cell_type": "markdown",
   "id": "63491577",
   "metadata": {},
   "source": [
    "Cette requête va représenter graphiquement l'évolution du nombre total de personnes entièrement vaccinées dans la région de Bretagne. Les données sont séparées par département. Essayer avec ou sans `typeofplot='date'`, vous constaterez que vous tombez sur le même graphique."
   ]
  },
  {
   "cell_type": "code",
   "execution_count": null,
   "id": "48611090",
   "metadata": {},
   "outputs": [],
   "source": [
    "pycoa.plot(which='tot_vacc_complet', where='Paris', what='daily', option='smooth7')"
   ]
  },
  {
   "cell_type": "markdown",
   "id": "c24ea618",
   "metadata": {},
   "source": [
    "Cette représentation graphique montre l'évolution quotidienne du nombre total de personnes entièrement vaccinées à Paris. De plus en utilisant l'option `'smooth7'` les données sont lissées sur une période de 7 jours pour atténuer les variations journalières telles que les week-ends."
   ]
  },
  {
   "cell_type": "code",
   "execution_count": null,
   "id": "82d73ada",
   "metadata": {},
   "outputs": [],
   "source": [
    "pycoa.plot(where='Île-de-France', option='sumall', when='01/01/2021:01/01/2023')"
   ]
  },
  {
   "cell_type": "markdown",
   "id": "915f19e9",
   "metadata": {},
   "source": [
    "Cette représentation graphique montre l'évolution de la valeur épidémologique par défaut (tot_dchosp). En utilisant `sumall` cela nous permet de regrouper tous les départements d'Île-de-France. Faites un essai avec et sans ! Grâce à l'attribut `when` seul les données comprises entre le 01/01/2021 et le 01/01/2023 sont affichées."
   ]
  },
  {
   "cell_type": "markdown",
   "id": "0c51395c",
   "metadata": {},
   "source": [
    "### Sommes partielles\n",
    "\n",
    "Il est possible de faire des sommes partielles de données. Par exemple pour avoir la somme en Bretagne, en Île-de-France et en Hauts-de-Francee on utilisera les doubles crochets comme suit"
   ]
  },
  {
   "cell_type": "code",
   "execution_count": null,
   "id": "e6c7d3ff",
   "metadata": {},
   "outputs": [],
   "source": [
    "pycoa.plot(where=[['Bretagne','Île-de-France','Hauts-de-France']],option='sumall')"
   ]
  },
  {
   "cell_type": "markdown",
   "id": "0ef92d2a",
   "metadata": {},
   "source": [
    "### Sommes semi partielles\n",
    "\n",
    "Il est également possible de faire des sommes semi partielles de données. Par exemple pour avoir les sommes en Bretagne, en Île-de-France et en Hauts-de-France on utilisera les doubles crochets comme suit. Quasiment pareil que la requête précédente mais on sépare les valeurs par régions."
   ]
  },
  {
   "cell_type": "code",
   "execution_count": null,
   "id": "5f6af45e",
   "metadata": {},
   "outputs": [],
   "source": [
    "pycoa.plot(where=[['Bretagne'],['Île-de-France'],['Hauts-de-France']],option='sumall')"
   ]
  },
  {
   "cell_type": "markdown",
   "id": "348bc73b",
   "metadata": {},
   "source": [
    "### Bypop\n",
    "\n",
    "On peut vouloir normaliser les courbes par le nombre d'habitants. Pour se faire on utilisera `bypop`\n",
    "."
   ]
  },
  {
   "cell_type": "markdown",
   "id": "6484230c",
   "metadata": {},
   "source": [
    "Cette variable peut être exprimé en puissance de 10 : 'no', '100', '1k', '100', '1M' or 'pop' ."
   ]
  },
  {
   "cell_type": "code",
   "execution_count": null,
   "id": "84174c46",
   "metadata": {},
   "outputs": [],
   "source": [
    "pycoa.plot(where='France',bypop='100k')"
   ]
  },
  {
   "cell_type": "markdown",
   "id": "c6b84d60",
   "metadata": {},
   "source": [
    "Ici une normalisation pour 100k habitants a été appliquée. Donc on a le taux de décès en hopital pour 100k habitants par départements.\n"
   ]
  },
  {
   "cell_type": "markdown",
   "id": "87ceb6d6",
   "metadata": {},
   "source": [
    "### 2. Menulocation"
   ]
  },
  {
   "cell_type": "code",
   "execution_count": null,
   "id": "bf224aa5",
   "metadata": {},
   "outputs": [],
   "source": [
    "pycoa.plot(which='cur_rea', typeofplot='menulocation')"
   ]
  },
  {
   "cell_type": "markdown",
   "id": "0a084c9d",
   "metadata": {},
   "source": [
    "Nous utilisons `which='cur_rea'` pour représenter le nombre de patients actuellement en réanimation. L'option `typeofplot='menulocation'`nous permet de comparer deux courbes en sélectionnant les régions ou pays spécifiques dans un menu déroulant."
   ]
  },
  {
   "cell_type": "markdown",
   "id": "f32054be",
   "metadata": {},
   "source": [
    "### 3. Yearly"
   ]
  },
  {
   "cell_type": "code",
   "execution_count": null,
   "id": "71564593",
   "metadata": {},
   "outputs": [],
   "source": [
    "pycoa.plot(where='Nord',what='daily',option=['nonneg','smooth7'],typeofplot='yearly')"
   ]
  },
  {
   "cell_type": "markdown",
   "id": "822e41f3",
   "metadata": {},
   "source": [
    "Cette représentation graphique présente l'évolution quotidienne des décès à l'hopital dans la région du Nord. En spécifiant `what='daily'`, nous examinons les valeurs journalières, ce qui nous permet de voir les fluctuations quotidiennes. De plus, en utilisant `option=['nonneg','smooth7']`, les données sont lissées pour éviter les valeurs négatives et atténuer les fluctuations à court terme. Enfin, en choisissant `typeofplot='yearly'`, nous avons une représentation des mois pour différentes années, ce qui est essentiel pour détecter les effets saisonniers et comparer les tendances d'une année à l'autre."
   ]
  },
  {
   "cell_type": "markdown",
   "id": "39ebd8d1",
   "metadata": {},
   "source": [
    "### 4. Spiral"
   ]
  },
  {
   "cell_type": "code",
   "execution_count": null,
   "id": "40d2ca10",
   "metadata": {},
   "outputs": [],
   "source": [
    "pycoa.plot(where='Paris',what='daily',option=['nonneg','smooth7'],typeofplot='spiral', when='01/01/2021:01/01/2023')"
   ]
  },
  {
   "cell_type": "markdown",
   "id": "fe44ea69",
   "metadata": {},
   "source": [
    "Même requête que précédemment en changeant juste la date. En choisissant `typeofplot='spiral'`, les données sont représentées en spirale, ce qui offre une perspective différente et intéressante de l'évolution temporelle des données."
   ]
  },
  {
   "cell_type": "markdown",
   "id": "d3919f8a",
   "metadata": {},
   "source": [
    "### 5. Versus"
   ]
  },
  {
   "cell_type": "markdown",
   "id": "5d4227e7",
   "metadata": {},
   "source": [
    "Cette représentation va nous permettre de comparer 2 courbes de variables épidémologiques différentes."
   ]
  },
  {
   "cell_type": "code",
   "execution_count": null,
   "id": "50b9e93a",
   "metadata": {},
   "outputs": [],
   "source": [
    "A = pycoa.get(which='cur_rea', where='Paris')\n",
    "B = pycoa.get(which='tot_vacc_complet', where='Paris')\n",
    "A['tot_vacc_complet'] = B['tot_vacc_complet']\n",
    "pycoa.plot(input=A, input_field=['cur_rea', 'tot_vacc_complet'], title='cur_rea et tot_vacc_complet à Paris')"
   ]
  },
  {
   "cell_type": "markdown",
   "id": "5408e9db",
   "metadata": {},
   "source": [
    "## &nbsp;&nbsp;&nbsp; B. - Cartes"
   ]
  },
  {
   "cell_type": "markdown",
   "id": "a394651d",
   "metadata": {},
   "source": [
    "Les cartes, tout comme les graphes cartésiens précédents, sont interactives."
   ]
  },
  {
   "cell_type": "code",
   "execution_count": null,
   "id": "08a49a52",
   "metadata": {},
   "outputs": [],
   "source": [
    "pycoa.map(where=['Métropole'],which='tot_dchosp')"
   ]
  },
  {
   "cell_type": "markdown",
   "id": "d5dedbf9",
   "metadata": {},
   "source": [
    "Cette requête génère une carte interactive illustrant le nombre total de décès à l'hôpital en France métropolitaine. L'affichage permet de visualiser les données de manière dynamique, offrant ainsi un aperçu clair et détaillé de l'impact du COVID-19 à travers les différentes régions."
   ]
  },
  {
   "cell_type": "code",
   "execution_count": null,
   "id": "192cf54b",
   "metadata": {},
   "outputs": [],
   "source": [
    "pycoa.map(where='Île-de-France',which='tot_vacc_complet')"
   ]
  },
  {
   "cell_type": "markdown",
   "id": "31bca75c",
   "metadata": {},
   "source": [
    "Cette requête génère une carte interactive illustrant le nombre total de vaccin complet en France métropolitaine. L'affichage permet de visualiser les données de manière dynamique, offrant ainsi un aperçu clair et détaillé de l'impact du COVID-19 à travers la région Île-de-France."
   ]
  },
  {
   "cell_type": "markdown",
   "id": "d9bdd97d",
   "metadata": {},
   "source": [
    "### Maplabel"
   ]
  },
  {
   "cell_type": "markdown",
   "id": "d77c5e5a",
   "metadata": {},
   "source": [
    "On peut ajouter aux cartes directement des données à afficher avec l'option `maplabel`.\n",
    "- **`maplabel`** :\n",
    "   - `'text'`  affiche des données au format texte sur la carte\n",
    "   - `'spark'` affiche une image de type sparkline (évolution temporelle)"
   ]
  },
  {
   "cell_type": "code",
   "execution_count": null,
   "id": "028bd1d7",
   "metadata": {},
   "outputs": [],
   "source": [
    "pycoa.map(where='Bretagne', maplabel ='text')"
   ]
  },
  {
   "cell_type": "markdown",
   "id": "0061c8e6",
   "metadata": {},
   "source": [
    "## &nbsp;&nbsp;&nbsp; C. - Histogrammes\n"
   ]
  },
  {
   "cell_type": "markdown",
   "id": "400988d8",
   "metadata": {},
   "source": [
    "### 1. Bycountry"
   ]
  },
  {
   "cell_type": "code",
   "execution_count": null,
   "id": "1cd51f4e",
   "metadata": {},
   "outputs": [],
   "source": [
    "pycoa.hist(where='Normandie', which='tot_vacc_complet')"
   ]
  },
  {
   "cell_type": "markdown",
   "id": "650ca264",
   "metadata": {},
   "source": [
    "Histogramme représentant la répartition du nombre total de personnes entièrement vaccinées dans la région de Normandie en comparant les différents départements."
   ]
  },
  {
   "cell_type": "markdown",
   "id": "ac39a2d6",
   "metadata": {},
   "source": [
    "### 2. Byvalue"
   ]
  },
  {
   "cell_type": "code",
   "execution_count": null,
   "id": "bff105ff",
   "metadata": {
    "scrolled": false
   },
   "outputs": [],
   "source": [
    "pycoa.hist(where='Bretagne', which='tot_vacc_complet', typeofhist='byvalue', bins=4)"
   ]
  },
  {
   "cell_type": "markdown",
   "id": "8a40c0b6",
   "metadata": {},
   "source": [
    "Histogramme  représentant la répartition du nombre total de personnes entièrement vaccinées dans la région de Bretagne en comparant les différents départements mais avec barres verticales. L'attribut `bins` permet de choisir le nombre de barres que l'on souhaite afficher."
   ]
  },
  {
   "cell_type": "markdown",
   "id": "5f8607e2",
   "metadata": {},
   "source": [
    "### 3. Pie"
   ]
  },
  {
   "cell_type": "code",
   "execution_count": null,
   "id": "af717865",
   "metadata": {},
   "outputs": [],
   "source": [
    "pycoa.hist(where=['Bretagne', 'Île-de-France'] ,which='tot_vacc_complet', typeofhist='pie')"
   ]
  },
  {
   "cell_type": "markdown",
   "id": "e687dd6c",
   "metadata": {},
   "source": [
    "Camembert représentant la répartition du nombre total de personnes entièrement vaccinées dans la région de Bretagne"
   ]
  },
  {
   "cell_type": "markdown",
   "id": "6f74fbfc",
   "metadata": {},
   "source": [
    "### dateslider"
   ]
  },
  {
   "cell_type": "markdown",
   "id": "15ae1d68",
   "metadata": {},
   "source": [
    "Dans le but d'étudier les evolutions temporelles des fonctions `histo` et `map` l'arguments `dateslider=True` (par défaut False) peut être invoqué.\n",
    "Une fois invoqué un curseur apparaitra en haut des graphique permettant de choisir une date antérieure à la date du graphique."
   ]
  },
  {
   "cell_type": "code",
   "execution_count": null,
   "id": "1b96b8f4",
   "metadata": {},
   "outputs": [],
   "source": [
    "pycoa.hist(which='tot_vacc_complet',where='Île-de-France',dateslider=True)"
   ]
  },
  {
   "cell_type": "markdown",
   "id": "230dc16a",
   "metadata": {},
   "source": [
    "## &nbsp;&nbsp;&nbsp;D. - Récupération de données\n",
    "\n",
    "Il est possible de récupérer les données dans un Pandas DataFrame, structure de données similaire à un tableau Excel, géré par la bibliothèsque `pandas`."
   ]
  },
  {
   "cell_type": "code",
   "execution_count": null,
   "id": "387a537b",
   "metadata": {},
   "outputs": [],
   "source": [
    "mydf= pycoa.get(where='France', which='tot_vacc_complet')\n",
    "display(mydf)"
   ]
  },
  {
   "cell_type": "markdown",
   "id": "fbedc029",
   "metadata": {},
   "source": [
    "Cette requête utilise la fonction `pycoa.get` pour récupérer les données de vaccination complète pour la France et les stocker dans une structure de données appelée DataFrame, gérée par la bibliothèque pandas. Le DataFrame est similaire à un tableau Excel et peut être facilement manipulé et analysé pour extraire des informations utiles. Ensuite, en utilisant `display(mydf)`, nous affichons le DataFrame pour visualiser les données récupérées de manière organisée et lisible. Ici on peut y voir un aperçu des premières et dernières lignes."
   ]
  },
  {
   "cell_type": "markdown",
   "id": "90661250",
   "metadata": {},
   "source": [
    "## &nbsp;&nbsp;&nbsp;E. - Travailler sur une autre base de données\n",
    "\n",
    "Pour cet exemple, nous utilisons les données de [OWID](https://ourworldindata.org/coronavirus), certainement la base de données la plus complète sur le Covid-19. A priori les données concernant le nombre de cas et de décès sont identiques à celles affichées par la Johns Hopkins University, l'une des première institutions à suivre l'épidémie [JHU](https://coronavirus.jhu.edu/map.html)."
   ]
  },
  {
   "cell_type": "markdown",
   "id": "ebf51e25",
   "metadata": {},
   "source": [
    "### Changement de la base de données"
   ]
  },
  {
   "cell_type": "code",
   "execution_count": null,
   "id": "d61b3ec9",
   "metadata": {},
   "outputs": [],
   "source": [
    "pycoa.setwhom('owid')"
   ]
  },
  {
   "cell_type": "markdown",
   "id": "7c5ffcd5",
   "metadata": {},
   "source": [
    "### Représentation géographique du nombre de décès dus au Covid-19\n",
    "\n",
    "Par défaut, les données épidémiologiques chargées sont 1er item de la base, ici ``total_deaths'` soit le nombre total de morts. La fonction `pycoa.map` représente la carte des zones géographiques liées à la base, ici l'ensemble des pays du monde.\n",
    "\n",
    "L'option `visu='folium'` modifie à la marge la carte."
   ]
  },
  {
   "cell_type": "code",
   "execution_count": null,
   "id": "e47e0977",
   "metadata": {},
   "outputs": [],
   "source": [
    "pycoa.map()"
   ]
  },
  {
   "cell_type": "code",
   "execution_count": null,
   "id": "81a9cdc1",
   "metadata": {},
   "outputs": [],
   "source": [
    "pycoa.map(visu='folium')"
   ]
  },
  {
   "cell_type": "markdown",
   "id": "7db9cd9b",
   "metadata": {},
   "source": [
    "### Histogramme du nombre de personnes vaccinnées pour 100 habitants\n",
    "Il est possible de choisir un sous-ensemble des pays du monde en précisant le mot clé `where` ; ici on choisit les pays du G20. D'autres options analogues sont possibles, qu'on peut récupérer comme précédemment expliqué à l'aide de la fonction `pycoa.listwhere()`."
   ]
  },
  {
   "cell_type": "code",
   "execution_count": null,
   "id": "e4781334",
   "metadata": {},
   "outputs": [],
   "source": [
    "pycoa.hist(which='total_people_vaccinated_per_hundred', where='G20')"
   ]
  },
  {
   "cell_type": "markdown",
   "id": "c401e138",
   "metadata": {},
   "source": [
    "## &nbsp;&nbsp;&nbsp;F. - Travailler avec une autre visualisation et personnalisation des graphiques\n"
   ]
  },
  {
   "cell_type": "markdown",
   "id": "554b58d5",
   "metadata": {},
   "source": [
    "On va tout d'abord utiliser la commande `listvisu()` pour savoir les visualisations disponibles."
   ]
  },
  {
   "cell_type": "code",
   "execution_count": null,
   "id": "bf5e31a6",
   "metadata": {
    "scrolled": true
   },
   "outputs": [],
   "source": [
    "pycoa.listvisu()"
   ]
  },
  {
   "cell_type": "markdown",
   "id": "b0c162b1",
   "metadata": {},
   "source": [
    "### Types de visualisation disponibles dans Pycoa :\n"
   ]
  },
  {
   "cell_type": "markdown",
   "id": "aa4bcf10",
   "metadata": {},
   "source": [
    "Depuis sa dernière mise à jour Pycoa offre plusieurs options pour visualiser les données en utilisant différentes bibliothèques de visualisation. \n",
    "- **`pycoa.setvisu(vis='name_visu')`** : Permet sélectionner le type de visualisation que vous préférez. \n",
    "   - `'bokeh'` (par defaut) : pour des visualisations interactives et dynamiques avec Bokeh\n",
    "   - `'folium'` : Utilisé uniquement pour les cartes fonctionne avec bokeh\n",
    "   - `'seaborn'` : pour des visualisations statistiques avec Seaborn\n",
    "   - `'mplt'` : pour des visualisations classiques avec Matplotlib\n",
    "   "
   ]
  },
  {
   "cell_type": "markdown",
   "id": "831d43df",
   "metadata": {},
   "source": [
    "**Exemple avec Seaborn**"
   ]
  },
  {
   "cell_type": "code",
   "execution_count": null,
   "id": "edba1a5e",
   "metadata": {},
   "outputs": [],
   "source": [
    "pycoa.setvisu(vis='seaborn')"
   ]
  },
  {
   "cell_type": "code",
   "execution_count": null,
   "id": "fca3cee1",
   "metadata": {
    "scrolled": false
   },
   "outputs": [],
   "source": [
    "pycoa.plot()"
   ]
  },
  {
   "cell_type": "code",
   "execution_count": null,
   "id": "d78d9c1a",
   "metadata": {},
   "outputs": [],
   "source": [
    "pycoa.hist()"
   ]
  },
  {
   "cell_type": "code",
   "execution_count": null,
   "id": "33ad4306",
   "metadata": {},
   "outputs": [],
   "source": [
    "pycoa.hist(typeofhist='byvalue')"
   ]
  },
  {
   "cell_type": "code",
   "execution_count": null,
   "id": "138d1821",
   "metadata": {},
   "outputs": [],
   "source": [
    "pycoa.hist(typeofhist='pie')"
   ]
  },
  {
   "cell_type": "code",
   "execution_count": null,
   "id": "6ffbdb79",
   "metadata": {},
   "outputs": [],
   "source": [
    "pycoa.map()"
   ]
  },
  {
   "cell_type": "markdown",
   "id": "e5ea13ba",
   "metadata": {},
   "source": [
    "Cette 'heatmap' nous indique le nombre de décès à l'hopital en France par mois et par années. Très intéressante pour comparer les différentes années et pour voir quand l'épidemie à été la plus forte."
   ]
  },
  {
   "cell_type": "markdown",
   "id": "2205b975",
   "metadata": {},
   "source": [
    "### Options de Personnalisation des Graphiques\n",
    "\n",
    "En plus de choisir le type de visualisation, Pycoa permet également de personnaliser divers aspects des graphiques. Les options de personnalisation incluent :\n",
    "\n",
    "- **`mode`**: affiche les informations sur les courbes survolées\n",
    "   - `'mouse'` (defaut)\n",
    "   - `'hline'` ligne horizontale\n",
    "   - `'vline'` ligne verticale \n",
    "- **`title`**: titre du graphique\n",
    "- **`textcopyright`**: nom accolé au copyright ⓒ pycoa.fr\n",
    "- **`plot_width`**: largeur du graphique (défaut plot_width=500)\n",
    "- **`plot_height`**: hauteur du graphique (défaut plot_height=380)"
   ]
  },
  {
   "cell_type": "code",
   "execution_count": null,
   "id": "e4b0e73b",
   "metadata": {},
   "outputs": [],
   "source": [
    "pycoa.setvisu(vis='bokeh', mode='hline', plot_width=600, plot_height=400, title='Mon graphique', textcopyright = '@myname')\n"
   ]
  },
  {
   "cell_type": "markdown",
   "id": "dd3b0f1e",
   "metadata": {},
   "source": [
    "## &nbsp;&nbsp;&nbsp;G. - Les sorties, travailler sur les données pour des traitements ultérieurs\n"
   ]
  },
  {
   "cell_type": "markdown",
   "id": "b0ed8e5c",
   "metadata": {},
   "source": [
    "**Liste des sorties disponibles :**"
   ]
  },
  {
   "cell_type": "code",
   "execution_count": null,
   "id": "87c2101d",
   "metadata": {},
   "outputs": [],
   "source": [
    "pycoa.listoutput()"
   ]
  },
  {
   "cell_type": "markdown",
   "id": "33ace4a3",
   "metadata": {},
   "source": [
    "**Exemple avec pandas :**"
   ]
  },
  {
   "cell_type": "code",
   "execution_count": null,
   "id": "fe8bddd6",
   "metadata": {},
   "outputs": [],
   "source": [
    "A=pycoa.get(where=['Paris'], what='daily', which='tot_vacc_complet',output='pandas')\n",
    "A.head()"
   ]
  },
  {
   "cell_type": "markdown",
   "id": "2dfc6d0d",
   "metadata": {},
   "source": [
    "### Sauvegarder les données dans un fichier externe\n"
   ]
  },
  {
   "cell_type": "markdown",
   "id": "5403c023",
   "metadata": {},
   "source": [
    "On utilisera pour se faire la fonction saveoutput.\n",
    "Celle-ci prend 3 arguments:\n",
    "\n",
    "- `pandas` : les données à sauvegarder dans un format Python pandas dataframe. Cette variable est nécessaire, il n'y a pas de valeur par défaut.\n",
    "- `saveformat` : le format du fichier à sauvegarder excel (défaut) ou csv.\n",
    "- `savename` : nom du fichier sauvegarder, (par défaut le fichier à le nom pycoaout + '.xlsx/.csv'."
   ]
  },
  {
   "cell_type": "code",
   "execution_count": null,
   "id": "25c7c8af",
   "metadata": {
    "scrolled": true
   },
   "outputs": [],
   "source": [
    "A=pycoa.get(which='tot_vacc_complet',where='Bretagne',output='pandas')\n",
    "pycoa.saveoutput(pandas=A,savename='monfichier',saveformat='csv')"
   ]
  },
  {
   "cell_type": "markdown",
   "id": "c98ccd33",
   "metadata": {},
   "source": [
    "On sauve le pandas dataframe A dans un fichier de format csv avec comme nom monfichier.csv. **Le fichier créé se trouve au niveau du répertoire courant.**"
   ]
  },
  {
   "cell_type": "markdown",
   "id": "48195b2a",
   "metadata": {},
   "source": [
    "# 4. —  Documentation\n",
    "\n",
    "Pour une documentation complète des instructions et des options de Pycoa, consultez le [wiki Pycoa](https://github.com/coa-project/pycoa/wiki/Accueil). Vous y trouverez une multitude de ressources pour vous aider à tirer le meilleur parti du logiciel :\n",
    "\n",
    "* [Récupération des données et traitements](https://github.com/coa-project/pycoa/wiki/Donn%C3%A9es%2Ctraitements) : Découvrez comment récupérer les données épidémiologiques et effectuer divers traitements pour les analyser.\n",
    "* [Graphiques en courbes](https://github.com/coa-project/pycoa/wiki/Courbes) : Apprenez à créer des graphiques en courbes pour visualiser l'évolution temporelle des données.\n",
    "* [Histogrammes, secteurs et cartes](https://github.com/coa-project/pycoa/wiki/Diagrammes%2CCartes) : Explorez les différentes options pour créer des histogrammes, des graphiques en secteurs et des cartes pour mieux comprendre les données.\n",
    "* [Avancé](https://github.com/coa-project/pycoa/wiki/Avance) : Plongez dans des fonctionnalités avancées de Pycoa pour des analyses plus approfondies et des visualisations personnalisées.\n",
    "* [Études de cas](https://github.com/coa-project/pycoa/wiki/Etudes%2Cde%2Ccas) : Découvrez les variables disponibles pour chaque base de données.\n",
    "\n",
    "N'hésitez pas à nous contacter pour toute question ou assistance supplémentaire :\n",
    "\n",
    "Suivez-nous sur Twitter [@pycoa_fr](https://twitter.com/pycoa_fr) pour rester informé des dernières mises à jour et des astuces.\n",
    "\n",
    "Envoyez-nous un e-mail à support@pycoa.fr, nous sommes là pour vous aider et répondre à vos questions."
   ]
  },
  {
   "cell_type": "markdown",
   "id": "fa7e1093",
   "metadata": {},
   "source": [
    "# À vous de jouer ! "
   ]
  },
  {
   "cell_type": "code",
   "execution_count": null,
   "id": "c0e115ac",
   "metadata": {},
   "outputs": [],
   "source": []
  }
 ],
 "metadata": {
  "kernelspec": {
   "display_name": "Python 3 (ipykernel)",
   "language": "python",
   "name": "python3"
  },
  "language_info": {
   "codemirror_mode": {
    "name": "ipython",
    "version": 3
   },
   "file_extension": ".py",
   "mimetype": "text/x-python",
   "name": "python",
   "nbconvert_exporter": "python",
   "pygments_lexer": "ipython3",
   "version": "3.9.7"
  }
 },
 "nbformat": 4,
 "nbformat_minor": 5
}
