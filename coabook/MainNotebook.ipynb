{
<<<<<<< HEAD
=======
 "cells": [
  {
   "cell_type": "markdown",
   "id": "574b5528",
   "metadata": {},
   "source": [
    "<img src=\"https://www.pycoa.fr/fig/logo-anime.gif\" alt=\"Pycoa\" width=\"125\">\n",
    "<center>\n",
    "\n",
    "# Présentation du logiciel Pycoa [ⓒpycoa.fr](http://pycoa.fr) "
   ]
  },
  {
   "cell_type": "markdown",
   "id": "df00ef8f",
   "metadata": {},
   "source": [
    "## Bienvenue dans ce guide d'utilisation de Pycoa !\n",
    "\n",
    "Ce notebook a pour objectif de vous fournir une introduction complète aux fonctionnalités principales de Pycoa, une plateforme logicielle puissante dédiée à l'analyse de données et à la visualisation de données covid. Que vous soyez débutant ou utilisateur expérimenté, ce guide vous accompagnera à travers les différentes étapes pour maîtriser Pycoa et exploiter tout son potentiel.\n",
    "\n",
    "PyCoA (Python Covid Analysis) est un framework Python™ qui fournit :\n",
    "\n",
    "- un accès simple aux bases de données communes Covid-19 ;\n",
    "- des outils pour représenter et analyser les données Covid-19 tels que des tracés de séries chronologiques, des histogrammes et des cartes.\n",
    "\n",
    "Au fil de ce guide, vous découvrirez comment :\n",
    "\n",
    "- Importer vos données à partir des diverses base de données disponibles.\n",
    "- Exporter vos données grâce à pandas.\n",
    "- Manipuler des données pour créer votre propre graphique.\n",
    "- Créer une variété de graphiques informatifs et esthétiques pour visualiser vos données sous différents angles.\n",
    "\n",
    "Que vous souhaitiez explorer Pycoa pour la première fois ou approfondir vos connaissances existantes, ce guide est conçu pour vous accompagner à chaque étape de votre parcours. Nous espérons que vous trouverez ce guide instructif et utile dans votre exploration de Pycoa."
   ]
  },
  {
   "cell_type": "markdown",
   "id": "8fee8f80",
   "metadata": {},
   "source": [
    "# 0. — NoteBook Olympics \n",
    "\n",
    "À l'approche des Jeux Olympiques de Paris 2024, nous avons préparé un notebook spécial sur les JO avec Pycoa. Explorez les médailles d'or, d'argent et de bronze remportées par chaque pays, et visualisez les données à travers des graphiques interactifs, des histogrammes ou encore des cartes. Découvrez tout cela et bien plus encore pour vous immerger dans l'univers des JO !\n",
    "\n",
    "[![Binder](https://mybinder.org/badge_logo.svg)](https://mybinder.org/v2/gh/coa-project/pycoa/helpfonction?labpath=coabook%2FNotebook_JO.ipynb)"
   ]
  },
  {
   "cell_type": "markdown",
   "id": "cc0f96aa",
   "metadata": {},
   "source": [
    "# 1. — Installation de [Pycoa](http://pycoa.fr)\n",
    "\n",
    "## En ligne\n",
    "\n",
    " ### Binder (recommandé)\n",
    "Il est possible d'utiliser ce notebook en ligne, sans installation locale à l'aide de l'infrastructure [Binder](https://mybinder.org/). Pour cela, cliquer sur l'icône suivante : \n",
    "\n",
    "\n",
    "[![Binder](https://mybinder.org/badge_logo.svg)](https://mybinder.org/v2/gh/coa-project/pycoa/main?labpath=coabook%2FMainNotebook.ipynb)\n",
    "\n",
    "Suivant l'occupation des serveurs Binder le déploiement peut prendre entre 1 min et 5 min.\n",
    " ### Google Colab\n",
    "Il est aussi possible d'utiliser Google Colab.\n",
    "Si l'on utilise un jupyter externalisé, comme google colaboratory, on utilisera également une installation via l'outil pip. On lancera ainsi à l'invite python :\n",
    "`pip3 install git+https://github.com/coa-project/pycoa.git`\n",
    "\n",
    "## Localement\n",
    "\n",
    "Pour installer [Pycoa](http://pycoa.fr) sur son propre ordinateur, il faut suivre la procédure décrite sur le [wiki de Pycoa](https://github.com/coa-project/pycoa/wiki/Installation). "
   ]
  },
  {
   "cell_type": "markdown",
   "id": "26ffe595",
   "metadata": {},
   "source": [
    "# 2. — Utilisation de [Pycoa](http://pycoa.fr)\n",
    "\n",
    "## &nbsp;&nbsp;&nbsp;A. - Importation de la librairie\n",
    "\n",
    "Dans le code, il faut d'abord importer la librairie (_package_) dans l'environnement de développement.\n"
   ]
  },
  {
   "cell_type": "code",
   "execution_count": null,
   "id": "607013ec",
   "metadata": {},
   "outputs": [],
   "source": [
    "from coaenv import *"
   ]
  },
  {
   "cell_type": "markdown",
   "id": "529dab95",
   "metadata": {},
   "source": [
    "## &nbsp;&nbsp;&nbsp; B. - Sélection de la base de données\n",
    "Plusieurs bases de données liées au Covid-19 sont exploitables.\n",
    "\n",
    "La première des instructions suivantes donne la liste des bases disponibles, avec leur nom, le code pays au format [ISO 3166-1 alpha 3](https://fr.wikipedia.org/wiki/ISO_3166-1#Table_de_codage) (ou ww pour world), le niveau de détail géographique (granularité), le pays ou les régions associées."
   ]
  },
  {
   "cell_type": "code",
   "execution_count": null,
   "id": "a897ed84",
   "metadata": {},
   "outputs": [],
   "source": [
    "pycoa.listwhom(True)"
   ]
  },
  {
   "cell_type": "markdown",
   "id": "1c256e77",
   "metadata": {},
   "source": [
    "Pour l'exemple, la seconde instruction permet de séléctionner la principale base de données _française_, produite par Santé Publique France (la base de données s'appelle donc `spf`). \n",
    "Cela peut prendre quelques instants."
   ]
  },
  {
   "cell_type": "code",
   "execution_count": null,
   "id": "e1e8b218",
   "metadata": {
    "scrolled": true
   },
   "outputs": [],
   "source": [
    "pycoa.setwhom('spf', reload=False)"
   ]
  },
  {
   "cell_type": "markdown",
   "id": "3f6072fe",
   "metadata": {},
   "source": [
    "Santé Publique France diffuse les données afférentes à l'épidémie de Covid-19 en France. De manière regrettable, et contrairement aux autres bases de données, le format des données varie fréquemment et sans avertissement. Il arrive donc hélas que certaines commandes échouent, le temps d'apdater [Pycoa](http://pycoa.fr) aux dernières modifications."
   ]
  },
  {
   "cell_type": "markdown",
   "id": "6be76275",
   "metadata": {},
   "source": [
    "**Pour connaître la base de données utilisée actuellement on peut utiliser :**"
   ]
  },
  {
   "cell_type": "code",
   "execution_count": null,
   "id": "10c1b997",
   "metadata": {},
   "outputs": [],
   "source": [
    "pycoa.getwhom()"
   ]
  },
  {
   "cell_type": "markdown",
   "id": "d2e888a4",
   "metadata": {},
   "source": [
    "La base une fois chargée, une liste d'information nous est donnée :\n",
    "\n",
    "- La liste des données épidémilogiques (`which`) : *['cur_hosp', 'cur_idx_R', 'cur_idx_tx_incid', 'cur_idx_tx_occupation_sae', 'cur_nb_A0', 'cur_nb_A1', 'cur_nb_C0', 'cur_nb_C1', 'cur_nbre_pass_corona', 'cur_rea', 'cur_tx_A1', 'cur_tx_C1', 'cur_tx_pos', 'incid_dchosp', 'incid_hosp', 'incid_rad', 'incid_rea', 'tot_P', 'tot_T', 'tot_dchosp', 'tot_rad', 'tot_vacc1', 'tot_vacc2_rappel', 'tot_vacc_complet', 'tot_vacc_rappel']*\n",
    "- Un exemple de liste relatif à la localisation (`where`) : **Côtes-d'Armor, Eure, Orne, Pyrénées-Atlantiques, Ain...**\n",
    "- La dernière mise à jour : **2024-05-14**"
   ]
  },
  {
   "cell_type": "markdown",
   "id": "cd7a1fdb",
   "metadata": {},
   "source": [
    "## &nbsp;&nbsp;&nbsp;C. - Contenu des bases de données\n",
    "\n",
    "**La liste des _variables epidémiologiques_ disponibles pour la base de donnée sélectionnée est donnée par l'instruction suivante :**"
   ]
  },
  {
   "cell_type": "code",
   "execution_count": null,
   "id": "bf4a848e",
   "metadata": {
    "scrolled": false
   },
   "outputs": [],
   "source": [
    "pycoa.listwhich()"
   ]
  },
  {
   "cell_type": "markdown",
   "id": "8245b895",
   "metadata": {},
   "source": [
    "**La liste des _zones géographiques_ accessibles dans la base de donnée sélectionnée est quant à elle donnée par l'instruction suivante :**"
   ]
  },
  {
   "cell_type": "code",
   "execution_count": null,
   "id": "1d54c494",
   "metadata": {},
   "outputs": [],
   "source": [
    "pycoa.listwhere() "
   ]
  },
  {
   "cell_type": "markdown",
   "id": "09a03e04",
   "metadata": {},
   "source": [
    "**Différents mots-clés permettent de récupérer des informations spécifiques de la base de donnée :**\n",
    "\n",
    "- **`which`**: _variables epidémiologiques_ d'intérêt (donnée sélectionnée)\n",
    "- **`where`**: sélection de la (ou les) zone(s) géographique(s) :\n",
    "   - pays, `list` de pays, région, continent…\n",
    "   - département, `list` de départements, régions…\n",
    "- **`what`**: dans le cas d'une série temporelle :\n",
    "   - `'cumul'` dans le cas où on veut voir la somme de tout ce qu'il s'est passé\n",
    "   - `'daily'` pour les valeurs journalières\n",
    "   - `'weekly'` pour les valeurs hebdomadaires\n",
    "   - `'standart'`(par defaut ici) \n",
    "- **`when`**: fenêtre de dates pour la donnée sélectionnée\n",
    "   - `'vide'` : format pas défaut\n",
    "   - `'dd/mm/yyyy:dd/mm/yyyy'`: le début et la fin de la fenêtre temporelle sont précisés\n",
    "   - `''dd/mm/yyyy:` : uniquement le début est précisé, la date de fin est fixé par la dernière valeur de la base de donnée\n",
    "   - `':dd/mm/yyyy'` : uniquement la date de fin est précisée, le début est fixé par la première valeur de la base de donnée\n",
    "\t\n",
    "- **`option`**: \n",
    "   - `'nonneg'` : lisse les données pour éviter les valeurs négatives (corrections a posteriori)\n",
    "   - `'nofillnan'` : par défaut les données cumulées qui n'ont pas de valeurs (\"Not a Number\" ou Nan) sont remplacées par les valeurs du jour précedent, `'nofillnan'` supprime ce remplissage\n",
    "   - `'smooth7'` : lisse les données sur 7 jours pour faire disparaître les fluctuations liées par exemple aux weekends\n",
    "   - `'sumall'` : somme toutes les valeurs présentes\n",
    "\n",
    "- **`bypop`** : Permet de normaliser les courbes par le nombre d'habitants. Pour se faire on utilisera bypop. Cette variable peut être exprimé en puissance de 10 : 'no', '100', '1k', '100', '1M' or 'pop' .\n",
    "\n",
    "   \n",
    "On peut aussi utiliser les instructions suivantes :\n",
    "- `pycoa.listwhat()`  : Liste les différentes options possibles pour l'attribut what.\n",
    "- `pycoa.listwhere(True)` : Liste les régions.\n",
    "- `pycoa.listoption()`: Liste les options disponibles.\n",
    "- `pycoa.listoutput()`: Liste les formats de sortie disponibles : pandas, geopandas, list, dict, array.\n",
    "- `pycoa.listbypop()` : Liste les options pour normaliser les courbes par le nombre d'habitants.\n"
   ]
  },
  {
   "cell_type": "markdown",
   "id": "8cba7792",
   "metadata": {},
   "source": [
    "## &nbsp;&nbsp;&nbsp; D. - Instructions de Pycoa\n",
    "\n",
    "Pycoa permet à la fois d'importer les données d'une base de donnnée publique, mais également de les représenter et de les récupérer pour les exporter Les instructions suivantes\n",
    "\n",
    "- **`pycoa.plot`** : pour représenter la donnée sélectionnée en fonction du temps (série temporelle)\n",
    "\n",
    "  - `typeofplot='date'` (par défaut). Le plot est une évolution temporelle de la variable épidémiologique étudiée.\n",
    "  - `typeofplot='menulocation'`, si l'on désire comparer uniquement 2 variations temporelles parmi la liste where. Un double menu déroulant apparaît permettant de choisir les 2 courbes à comparer.\n",
    "  - `typeofplot='yearly'`, représentation des mois uniquement pour les différentes années en jeu, important pour voir les effets saisonniers. Permet de comparer les différentes années entre elles.\n",
    "  - `typeofplot='spiral'`, représentation en spiral, complémentaire de la précédente\n",
    "  \n",
    "  \n",
    "- **`pycoa.map`** : pour une représentation sous forme de carte.\n",
    "\n",
    "    Il est possible de changer les textures des cartes. Voici la liste des textures (tiles) disponible  :\n",
    "    - `tile='openstreet'`: Utilise les données de la carte OpenStreetMap, qui sont collectées par une communauté mondiale de contributeurs et mises à jour en temps réel. Cette texture offre une carte de base détaillée qui couvre le monde entier.\n",
    "    - `tile='esri'` : Utilise les services de cartographie d'Esri, qui fournissent des données cartographiques riches et détaillées. Cette texture est idéale pour des applications nécessitant des cartes précises et professionnelles.\n",
    "    - `tile='stamen'` : Utilise les tuiles de Stamen Design, une entreprise spécialisée dans la création de cartes élégantes et artistiques. Les tuiles Stamen offrent une esthétique unique avec différentes options, comme la carte en noir et blanc (toner), la carte en couleur (terrain) ou la carte en tons pastel (watercolor).\n",
    "    - `tile ='positron'`: Fournit des cartes modernes et élégantes créées par Carto, avec une esthétique minimaliste et des couleurs vives. Les cartes Positron sont idéales pour les visualisations contemporaines et les applications axées sur le design.\n",
    "\n",
    "\n",
    "\n",
    "- **`pycoa.hist`** : pour les histogrammes, avec pour option :\n",
    "\n",
    "  - `typeofhist='bycountry'` (par défaut), pour un histogramme à barres horizontales, lieu par lieu\n",
    "  - `typeofhist='byvalue'`, pour un histogramme à barres verticales, par valeurs\n",
    "  - `typeofhist='pie'`, pour un \"camembert\"\n",
    "  \n",
    "  \n",
    "- **`pycoa.get`** : pour récupérer les données, en vue d'un traitement ultérieur.\n",
    "\n",
    "\n",
    "On peut aussi utiliser les instructions suivantes :\n",
    "- `pycoa.listplot()` : Liste les types de graphiques disponibles.\n",
    "- `pycoa.listhist()` : Liste les types d'histogrammes disponibles.\n",
    "- `pycoa.listtile()` : Liste les textures disponibles pour les cartes."
   ]
  },
  {
   "cell_type": "markdown",
   "id": "ef15896b",
   "metadata": {},
   "source": [
    "# 3. — Exemples\n",
    "\n",
    "Dans cette section, nous vous présenterons comment effectuer des requêtes basiques avec Pycoa. Il existe trois types principaux de requêtes que vous pouvez effectuer pour explorer et visualiser vos données : les graphiques dans le temps (plot), les cartes et les histogrammes. \n",
    "\n",
    "Nous allons vous guider à travers des exemples pratiques de chaque type de requête, en vous montrant comment les construire et interpréter les résultats. Que vous souhaitiez visualiser l'évolution temporelle des données, créer des histogrammes pour analyser la répartition des valeurs, ou représenter les données sur une carte géographique, ces exemples vous aideront à démarrer avec Pycoa.\n",
    "\n",
    "## &nbsp;&nbsp;&nbsp; A. - Évolution temporelle (plot)"
   ]
  },
  {
   "cell_type": "markdown",
   "id": "8e999acc",
   "metadata": {},
   "source": [
    "### 1. Date"
   ]
  },
  {
   "cell_type": "code",
   "execution_count": null,
   "id": "e6511f68",
   "metadata": {
    "scrolled": false
   },
   "outputs": [],
   "source": [
    "pycoa.plot(which='tot_vacc_complet', where='Bretagne', typeofplot='date')"
   ]
  },
  {
   "cell_type": "markdown",
   "id": "63491577",
   "metadata": {},
   "source": [
    "Cette requête va représenter graphiquement l'évolution du nombre total de personnes entièrement vaccinées dans la région de Bretagne. Les données sont séparées par département. Essayer avec ou sans `typeofplot='date'`, vous constaterez que vous tombez sur le même graphique."
   ]
  },
  {
   "cell_type": "code",
   "execution_count": null,
   "id": "48611090",
   "metadata": {},
   "outputs": [],
   "source": [
    "pycoa.plot(which='tot_vacc_complet', where='Paris', what='daily', option='smooth7')"
   ]
  },
  {
   "cell_type": "markdown",
   "id": "c24ea618",
   "metadata": {},
   "source": [
    "Cette représentation graphique montre l'évolution quotidienne du nombre total de personnes entièrement vaccinées à Paris. De plus en utilisant l'option `'smooth7'` les données sont lissées sur une période de 7 jours pour atténuer les variations journalières telles que les week-ends."
   ]
  },
  {
   "cell_type": "code",
   "execution_count": null,
   "id": "82d73ada",
   "metadata": {},
   "outputs": [],
   "source": [
    "pycoa.plot(where='Île-de-France', option='sumall', when='01/01/2021:01/01/2023')"
   ]
  },
  {
   "cell_type": "markdown",
   "id": "915f19e9",
   "metadata": {},
   "source": [
    "Cette représentation graphique montre l'évolution de la valeur épidémologique par défaut (tot_dchosp). En utilisant `sumall` cela nous permet de regrouper tous les départements d'Île-de-France. Faites un essai avec et sans ! Grâce à l'attribut `when` seul les données comprises entre le 01/01/2021 et le 01/01/2023 sont affichées."
   ]
  },
  {
   "cell_type": "markdown",
   "id": "0c51395c",
   "metadata": {},
   "source": [
    "### Sommes partielles\n",
    "\n",
    "Il est possible de faire des sommes partielles de données. Par exemple pour avoir la somme en Bretagne, en Île-de-France et en Hauts-de-Francee on utilisera les doubles crochets comme suit"
   ]
  },
  {
   "cell_type": "code",
   "execution_count": null,
   "id": "e6c7d3ff",
   "metadata": {},
   "outputs": [],
   "source": [
    "pycoa.plot(where=[['Bretagne','Île-de-France','Hauts-de-France']],option='sumall')"
   ]
  },
  {
   "cell_type": "markdown",
   "id": "0ef92d2a",
   "metadata": {},
   "source": [
    "### Sommes semi partielles\n",
    "\n",
    "Il est également possible de faire des sommes semi partielles de données. Par exemple pour avoir les sommes en Bretagne, en Île-de-France et en Hauts-de-France on utilisera les doubles crochets comme suit. Quasiment pareil que la requête précédente mais on sépare les valeurs par régions."
   ]
  },
  {
   "cell_type": "code",
   "execution_count": null,
   "id": "5f6af45e",
   "metadata": {},
   "outputs": [],
   "source": [
    "pycoa.plot(where=[['Bretagne'],['Île-de-France'],['Hauts-de-France']],option='sumall')"
   ]
  },
  {
   "cell_type": "markdown",
   "id": "348bc73b",
   "metadata": {},
   "source": [
    "### Bypop\n",
    "\n",
    "On peut vouloir normaliser les courbes par le nombre d'habitants. Pour se faire on utilisera `bypop`\n",
    "."
   ]
  },
  {
   "cell_type": "markdown",
   "id": "6484230c",
   "metadata": {},
   "source": [
    "Cette variable peut être exprimé en puissance de 10 : 'no', '100', '1k', '100', '1M' or 'pop' ."
   ]
  },
  {
   "cell_type": "code",
   "execution_count": null,
   "id": "84174c46",
   "metadata": {},
   "outputs": [],
   "source": [
    "pycoa.plot(where='France',bypop='100k')"
   ]
  },
  {
   "cell_type": "markdown",
   "id": "c6b84d60",
   "metadata": {},
   "source": [
    "Ici une normalisation pour 100k habitants a été appliquée. Donc on a le taux de décès en hopital pour 100k habitants par départements.\n"
   ]
  },
  {
   "cell_type": "markdown",
   "id": "87ceb6d6",
   "metadata": {},
   "source": [
    "### 2. Menulocation"
   ]
  },
  {
   "cell_type": "code",
   "execution_count": null,
   "id": "bf224aa5",
   "metadata": {},
   "outputs": [],
   "source": [
    "pycoa.plot(which='cur_rea', typeofplot='menulocation')"
   ]
  },
  {
   "cell_type": "markdown",
   "id": "0a084c9d",
   "metadata": {},
   "source": [
    "Nous utilisons `which='cur_rea'` pour représenter le nombre de patients actuellement en réanimation. L'option `typeofplot='menulocation'`nous permet de comparer deux courbes en sélectionnant les régions ou pays spécifiques dans un menu déroulant."
   ]
  },
  {
   "cell_type": "markdown",
   "id": "f32054be",
   "metadata": {},
   "source": [
    "### 3. Yearly"
   ]
  },
  {
   "cell_type": "code",
   "execution_count": null,
   "id": "71564593",
   "metadata": {},
   "outputs": [],
   "source": [
    "pycoa.plot(where='Nord',what='daily',option=['nonneg','smooth7'],typeofplot='yearly')"
   ]
  },
  {
   "cell_type": "markdown",
   "id": "822e41f3",
   "metadata": {},
   "source": [
    "Cette représentation graphique présente l'évolution quotidienne des décès à l'hopital dans la région du Nord. En spécifiant `what='daily'`, nous examinons les valeurs journalières, ce qui nous permet de voir les fluctuations quotidiennes. De plus, en utilisant `option=['nonneg','smooth7']`, les données sont lissées pour éviter les valeurs négatives et atténuer les fluctuations à court terme. Enfin, en choisissant `typeofplot='yearly'`, nous avons une représentation des mois pour différentes années, ce qui est essentiel pour détecter les effets saisonniers et comparer les tendances d'une année à l'autre."
   ]
  },
  {
   "cell_type": "markdown",
   "id": "39ebd8d1",
   "metadata": {},
   "source": [
    "### 4. Spiral"
   ]
  },
  {
   "cell_type": "code",
   "execution_count": null,
   "id": "40d2ca10",
   "metadata": {},
   "outputs": [],
   "source": [
    "pycoa.plot(where='Paris',what='daily',option=['nonneg','smooth7'],typeofplot='spiral', when='01/01/2021:01/01/2023')"
   ]
  },
  {
   "cell_type": "markdown",
   "id": "fe44ea69",
   "metadata": {},
   "source": [
    "Même requête que précédemment en changeant juste la date. En choisissant `typeofplot='spiral'`, les données sont représentées en spirale, ce qui offre une perspective différente et intéressante de l'évolution temporelle des données."
   ]
  },
  {
   "cell_type": "markdown",
   "id": "d3919f8a",
   "metadata": {},
   "source": [
    "### 5. Versus"
   ]
  },
  {
   "cell_type": "markdown",
   "id": "5d4227e7",
   "metadata": {},
   "source": [
    "Cette représentation va nous permettre de comparer 2 courbes de variables épidémologiques différentes."
   ]
  },
  {
   "cell_type": "code",
   "execution_count": null,
   "id": "50b9e93a",
   "metadata": {},
   "outputs": [],
   "source": [
    "A = pycoa.get(which='cur_rea', where='Paris')\n",
    "B = pycoa.get(which='tot_vacc_complet', where='Paris')\n",
    "A['tot_vacc_complet'] = B['tot_vacc_complet']\n",
    "pycoa.plot(input=A, input_field=['cur_rea', 'tot_vacc_complet'], title='cur_rea et tot_vacc_complet à Paris')"
   ]
  },
  {
   "cell_type": "markdown",
   "id": "5408e9db",
   "metadata": {},
   "source": [
    "## &nbsp;&nbsp;&nbsp; B. - Cartes"
   ]
  },
  {
   "cell_type": "markdown",
   "id": "a394651d",
   "metadata": {},
   "source": [
    "Les cartes, tout comme les graphes cartésiens précédents, sont interactives."
   ]
  },
  {
   "cell_type": "code",
   "execution_count": null,
   "id": "08a49a52",
   "metadata": {},
   "outputs": [],
   "source": [
    "pycoa.map(where=['Métropole'],which='tot_dchosp')"
   ]
  },
  {
   "cell_type": "markdown",
   "id": "d5dedbf9",
   "metadata": {},
   "source": [
    "Cette requête génère une carte interactive illustrant le nombre total de décès à l'hôpital en France métropolitaine. L'affichage permet de visualiser les données de manière dynamique, offrant ainsi un aperçu clair et détaillé de l'impact du COVID-19 à travers les différentes régions."
   ]
  },
  {
   "cell_type": "code",
   "execution_count": null,
   "id": "192cf54b",
   "metadata": {},
   "outputs": [],
   "source": [
    "pycoa.map(where='Île-de-France',which='tot_vacc_complet')"
   ]
  },
  {
   "cell_type": "markdown",
   "id": "31bca75c",
   "metadata": {},
   "source": [
    "Cette requête génère une carte interactive illustrant le nombre total de vaccin complet en France métropolitaine. L'affichage permet de visualiser les données de manière dynamique, offrant ainsi un aperçu clair et détaillé de l'impact du COVID-19 à travers la région Île-de-France."
   ]
  },
  {
   "cell_type": "markdown",
   "id": "d9bdd97d",
   "metadata": {},
   "source": [
    "### Maplabel"
   ]
  },
  {
   "cell_type": "markdown",
   "id": "d77c5e5a",
   "metadata": {},
   "source": [
    "On peut ajouter aux cartes directement des données à afficher avec l'option `maplabel`.\n",
    "- **`maplabel`** :\n",
    "   - `'text'`  affiche des données au format texte sur la carte\n",
    "   - `'spark'` affiche une image de type sparkline (évolution temporelle)"
   ]
  },
  {
   "cell_type": "code",
   "execution_count": null,
   "id": "028bd1d7",
   "metadata": {},
   "outputs": [],
   "source": [
    "pycoa.map(where='Bretagne', maplabel ='text')"
   ]
  },
  {
   "cell_type": "markdown",
   "id": "0061c8e6",
   "metadata": {},
   "source": [
    "## &nbsp;&nbsp;&nbsp; C. - Histogrammes\n"
   ]
  },
  {
   "cell_type": "markdown",
   "id": "400988d8",
   "metadata": {},
   "source": [
    "### 1. Bycountry"
   ]
  },
  {
   "cell_type": "code",
   "execution_count": null,
   "id": "1cd51f4e",
   "metadata": {},
   "outputs": [],
   "source": [
    "pycoa.hist(where='Normandie', which='tot_vacc_complet')"
   ]
  },
  {
   "cell_type": "markdown",
   "id": "650ca264",
   "metadata": {},
   "source": [
    "Histogramme représentant la répartition du nombre total de personnes entièrement vaccinées dans la région de Normandie en comparant les différents départements."
   ]
  },
  {
   "cell_type": "markdown",
   "id": "ac39a2d6",
   "metadata": {},
   "source": [
    "### 2. Byvalue"
   ]
  },
  {
   "cell_type": "code",
   "execution_count": null,
   "id": "bff105ff",
   "metadata": {
    "scrolled": false
   },
   "outputs": [],
   "source": [
    "pycoa.hist(where='Bretagne', which='tot_vacc_complet', typeofhist='byvalue', bins=4)"
   ]
  },
  {
   "cell_type": "markdown",
   "id": "8a40c0b6",
   "metadata": {},
   "source": [
    "Histogramme  représentant la répartition du nombre total de personnes entièrement vaccinées dans la région de Bretagne en comparant les différents départements mais avec barres verticales. L'attribut `bins` permet de choisir le nombre de barres que l'on souhaite afficher."
   ]
  },
  {
   "cell_type": "markdown",
   "id": "5f8607e2",
   "metadata": {},
   "source": [
    "### 3. Pie"
   ]
  },
  {
   "cell_type": "code",
   "execution_count": null,
   "id": "af717865",
   "metadata": {},
   "outputs": [],
   "source": [
    "pycoa.hist(where=['Bretagne', 'Île-de-France'] ,which='tot_vacc_complet', typeofhist='pie')"
   ]
  },
  {
   "cell_type": "markdown",
   "id": "e687dd6c",
   "metadata": {},
   "source": [
    "Camembert représentant la répartition du nombre total de personnes entièrement vaccinées dans la région de Bretagne"
   ]
  },
  {
   "cell_type": "markdown",
   "id": "6f74fbfc",
   "metadata": {},
   "source": [
    "### dateslider"
   ]
  },
  {
   "cell_type": "markdown",
   "id": "15ae1d68",
   "metadata": {},
   "source": [
    "Dans le but d'étudier les evolutions temporelles des fonctions `histo` et `map` l'arguments `dateslider=True` (par défaut False) peut être invoqué.\n",
    "Une fois invoqué un curseur apparaitra en haut des graphique permettant de choisir une date antérieure à la date du graphique."
   ]
  },
  {
   "cell_type": "code",
   "execution_count": null,
   "id": "1b96b8f4",
   "metadata": {},
   "outputs": [],
   "source": [
    "pycoa.hist(which='tot_vacc_complet',where='Île-de-France',dateslider=True)"
   ]
  },
  {
   "cell_type": "markdown",
   "id": "230dc16a",
   "metadata": {},
   "source": [
    "## &nbsp;&nbsp;&nbsp;D. - Récupération de données\n",
    "\n",
    "Il est possible de récupérer les données dans un Pandas DataFrame, structure de données similaire à un tableau Excel, géré par la bibliothèsque `pandas`."
   ]
  },
  {
   "cell_type": "code",
   "execution_count": null,
   "id": "387a537b",
   "metadata": {},
   "outputs": [],
   "source": [
    "mydf= pycoa.get(where='France', which='tot_vacc_complet')\n",
    "display(mydf)"
   ]
  },
  {
   "cell_type": "markdown",
   "id": "fbedc029",
   "metadata": {},
   "source": [
    "Cette requête utilise la fonction `pycoa.get` pour récupérer les données de vaccination complète pour la France et les stocker dans une structure de données appelée DataFrame, gérée par la bibliothèque pandas. Le DataFrame est similaire à un tableau Excel et peut être facilement manipulé et analysé pour extraire des informations utiles. Ensuite, en utilisant `display(mydf)`, nous affichons le DataFrame pour visualiser les données récupérées de manière organisée et lisible. Ici on peut y voir un aperçu des premières et dernières lignes."
   ]
  },
  {
   "cell_type": "markdown",
   "id": "90661250",
   "metadata": {},
   "source": [
    "## &nbsp;&nbsp;&nbsp;E. - Travailler sur une autre base de données\n",
    "\n",
    "Pour cet exemple, nous utilisons les données de [OWID](https://ourworldindata.org/coronavirus), certainement la base de données la plus complète sur le Covid-19. A priori les données concernant le nombre de cas et de décès sont identiques à celles affichées par la Johns Hopkins University, l'une des première institutions à suivre l'épidémie [JHU](https://coronavirus.jhu.edu/map.html)."
   ]
  },
  {
   "cell_type": "markdown",
   "id": "ebf51e25",
   "metadata": {},
   "source": [
    "### Changement de la base de données"
   ]
  },
  {
   "cell_type": "code",
   "execution_count": null,
   "id": "d61b3ec9",
   "metadata": {},
   "outputs": [],
   "source": [
    "pycoa.setwhom('owid')"
   ]
  },
  {
   "cell_type": "markdown",
   "id": "7c5ffcd5",
   "metadata": {},
   "source": [
    "### Représentation géographique du nombre de décès dus au Covid-19\n",
    "\n",
    "Par défaut, les données épidémiologiques chargées sont 1er item de la base, ici ``total_deaths'` soit le nombre total de morts. La fonction `pycoa.map` représente la carte des zones géographiques liées à la base, ici l'ensemble des pays du monde.\n",
    "\n",
    "L'option `visu='folium'` modifie à la marge la carte."
   ]
  },
  {
   "cell_type": "code",
   "execution_count": null,
   "id": "e47e0977",
   "metadata": {},
   "outputs": [],
   "source": [
    "pycoa.map()"
   ]
  },
  {
   "cell_type": "code",
   "execution_count": null,
   "id": "81a9cdc1",
   "metadata": {},
   "outputs": [],
   "source": [
    "pycoa.map(visu='folium')"
   ]
  },
  {
   "cell_type": "markdown",
   "id": "7db9cd9b",
   "metadata": {},
   "source": [
    "### Histogramme du nombre de personnes vaccinnées pour 100 habitants\n",
    "Il est possible de choisir un sous-ensemble des pays du monde en précisant le mot clé `where` ; ici on choisit les pays du G20. D'autres options analogues sont possibles, qu'on peut récupérer comme précédemment expliqué à l'aide de la fonction `pycoa.listwhere()`."
   ]
  },
  {
   "cell_type": "code",
   "execution_count": null,
   "id": "e4781334",
   "metadata": {},
   "outputs": [],
   "source": [
    "pycoa.hist(which='total_people_vaccinated_per_hundred', where='G20')"
   ]
  },
  {
   "cell_type": "markdown",
   "id": "c401e138",
   "metadata": {},
   "source": [
    "## &nbsp;&nbsp;&nbsp;F. - Travailler avec une autre visualisation et personnalisation des graphiques\n"
   ]
  },
  {
   "cell_type": "markdown",
   "id": "554b58d5",
   "metadata": {},
   "source": [
    "On va tout d'abord utiliser la commande `listvisu()` pour savoir les visualisations disponibles."
   ]
  },
  {
   "cell_type": "code",
   "execution_count": null,
   "id": "bf5e31a6",
   "metadata": {
    "scrolled": true
   },
   "outputs": [],
   "source": [
    "pycoa.listvisu()"
   ]
  },
  {
   "cell_type": "markdown",
   "id": "b0c162b1",
   "metadata": {},
   "source": [
    "### Types de visualisation disponibles dans Pycoa :\n"
   ]
  },
  {
   "cell_type": "markdown",
   "id": "aa4bcf10",
   "metadata": {},
   "source": [
    "Depuis sa dernière mise à jour Pycoa offre plusieurs options pour visualiser les données en utilisant différentes bibliothèques de visualisation. \n",
    "- **`pycoa.setvisu(vis='name_visu')`** : Permet sélectionner le type de visualisation que vous préférez. \n",
    "   - `'bokeh'` (par defaut) : pour des visualisations interactives et dynamiques avec Bokeh\n",
    "   - `'folium'` : Utilisé uniquement pour les cartes fonctionne avec bokeh\n",
    "   - `'seaborn'` : pour des visualisations statistiques avec Seaborn\n",
    "   - `'mplt'` : pour des visualisations classiques avec Matplotlib\n",
    "   "
   ]
  },
  {
   "cell_type": "markdown",
   "id": "831d43df",
   "metadata": {},
   "source": [
    "**Exemple avec Seaborn**"
   ]
  },
  {
   "cell_type": "code",
   "execution_count": null,
   "id": "edba1a5e",
   "metadata": {},
   "outputs": [],
   "source": [
    "pycoa.setvisu(vis='seaborn')"
   ]
  },
  {
   "cell_type": "code",
   "execution_count": null,
   "id": "fca3cee1",
   "metadata": {
    "scrolled": false
   },
   "outputs": [],
   "source": [
    "pycoa.plot()"
   ]
  },
  {
   "cell_type": "code",
   "execution_count": null,
   "id": "d78d9c1a",
   "metadata": {},
   "outputs": [],
   "source": [
    "pycoa.hist()"
   ]
  },
  {
   "cell_type": "code",
   "execution_count": null,
   "id": "33ad4306",
   "metadata": {},
   "outputs": [],
   "source": [
    "pycoa.hist(typeofhist='byvalue')"
   ]
  },
  {
   "cell_type": "code",
   "execution_count": null,
   "id": "138d1821",
   "metadata": {},
   "outputs": [],
   "source": [
    "pycoa.hist(typeofhist='pie')"
   ]
  },
  {
   "cell_type": "code",
   "execution_count": null,
   "id": "6ffbdb79",
   "metadata": {},
   "outputs": [],
   "source": [
    "pycoa.map()"
   ]
  },
  {
   "cell_type": "markdown",
   "id": "e5ea13ba",
   "metadata": {},
   "source": [
    "Cette 'heatmap' nous indique le nombre de décès à l'hopital en France par mois et par années. Très intéressante pour comparer les différentes années et pour voir quand l'épidemie à été la plus forte."
   ]
  },
  {
   "cell_type": "markdown",
   "id": "2205b975",
   "metadata": {},
   "source": [
    "### Options de Personnalisation des Graphiques\n",
    "\n",
    "En plus de choisir le type de visualisation, Pycoa permet également de personnaliser divers aspects des graphiques. Les options de personnalisation incluent :\n",
    "\n",
    "- **`mode`**: affiche les informations sur les courbes survolées\n",
    "   - `'mouse'` (defaut)\n",
    "   - `'hline'` ligne horizontale\n",
    "   - `'vline'` ligne verticale \n",
    "- **`title`**: titre du graphique\n",
    "- **`textcopyright`**: nom accolé au copyright ⓒ pycoa.fr\n",
    "- **`plot_width`**: largeur du graphique (défaut plot_width=500)\n",
    "- **`plot_height`**: hauteur du graphique (défaut plot_height=380)"
   ]
  },
  {
   "cell_type": "code",
   "execution_count": null,
   "id": "e4b0e73b",
   "metadata": {},
   "outputs": [],
   "source": [
    "pycoa.setvisu(vis='bokeh', mode='hline', plot_width=600, plot_height=400, title='Mon graphique', textcopyright = '@myname')\n"
   ]
  },
  {
   "cell_type": "markdown",
   "id": "dd3b0f1e",
   "metadata": {},
   "source": [
    "## &nbsp;&nbsp;&nbsp;G. - Les sorties, travailler sur les données pour des traitements ultérieurs\n"
   ]
  },
  {
   "cell_type": "markdown",
   "id": "b0ed8e5c",
   "metadata": {},
   "source": [
    "**Liste des sorties disponibles :**"
   ]
  },
  {
   "cell_type": "code",
   "execution_count": null,
   "id": "87c2101d",
   "metadata": {},
   "outputs": [],
   "source": [
    "pycoa.listoutput()"
   ]
  },
  {
   "cell_type": "markdown",
   "id": "33ace4a3",
   "metadata": {},
   "source": [
    "**Exemple avec pandas :**"
   ]
  },
  {
   "cell_type": "code",
   "execution_count": null,
   "id": "fe8bddd6",
   "metadata": {},
   "outputs": [],
   "source": [
    "A=pycoa.get(where=['Paris'], what='daily', which='tot_vacc_complet',output='pandas')\n",
    "A.head()"
   ]
  },
  {
   "cell_type": "markdown",
   "id": "2dfc6d0d",
   "metadata": {},
   "source": [
    "### Sauvegarder les données dans un fichier externe\n"
   ]
  },
  {
   "cell_type": "markdown",
   "id": "5403c023",
   "metadata": {},
   "source": [
    "On utilisera pour se faire la fonction saveoutput.\n",
    "Celle-ci prend 3 arguments:\n",
    "\n",
    "- `pandas` : les données à sauvegarder dans un format Python pandas dataframe. Cette variable est nécessaire, il n'y a pas de valeur par défaut.\n",
    "- `saveformat` : le format du fichier à sauvegarder excel (défaut) ou csv.\n",
    "- `savename` : nom du fichier sauvegarder, (par défaut le fichier à le nom pycoaout + '.xlsx/.csv'."
   ]
  },
  {
   "cell_type": "code",
   "execution_count": null,
   "id": "25c7c8af",
   "metadata": {
    "scrolled": true
   },
   "outputs": [],
   "source": [
    "A=pycoa.get(which='tot_vacc_complet',where='Bretagne',output='pandas')\n",
    "pycoa.saveoutput(pandas=A,savename='monfichier',saveformat='csv')"
   ]
  },
  {
   "cell_type": "markdown",
   "id": "c98ccd33",
   "metadata": {},
   "source": [
    "On sauve le pandas dataframe A dans un fichier de format csv avec comme nom monfichier.csv. **Le fichier créé se trouve au niveau du répertoire courant.**"
   ]
  },
  {
   "cell_type": "markdown",
   "id": "48195b2a",
   "metadata": {},
   "source": [
    "# 4. —  Documentation\n",
    "\n",
    "Pour une documentation complète des instructions et des options de Pycoa, consultez le [wiki Pycoa](https://github.com/coa-project/pycoa/wiki/Accueil). Vous y trouverez une multitude de ressources pour vous aider à tirer le meilleur parti du logiciel :\n",
    "\n",
    "* [Récupération des données et traitements](https://github.com/coa-project/pycoa/wiki/Donn%C3%A9es%2Ctraitements) : Découvrez comment récupérer les données épidémiologiques et effectuer divers traitements pour les analyser.\n",
    "* [Graphiques en courbes](https://github.com/coa-project/pycoa/wiki/Courbes) : Apprenez à créer des graphiques en courbes pour visualiser l'évolution temporelle des données.\n",
    "* [Histogrammes, secteurs et cartes](https://github.com/coa-project/pycoa/wiki/Diagrammes%2CCartes) : Explorez les différentes options pour créer des histogrammes, des graphiques en secteurs et des cartes pour mieux comprendre les données.\n",
    "* [Avancé](https://github.com/coa-project/pycoa/wiki/Avance) : Plongez dans des fonctionnalités avancées de Pycoa pour des analyses plus approfondies et des visualisations personnalisées.\n",
    "* [Études de cas](https://github.com/coa-project/pycoa/wiki/Etudes%2Cde%2Ccas) : Découvrez les variables disponibles pour chaque base de données.\n",
    "\n",
    "N'hésitez pas à nous contacter pour toute question ou assistance supplémentaire :\n",
    "\n",
    "Suivez-nous sur Twitter [@pycoa_fr](https://twitter.com/pycoa_fr) pour rester informé des dernières mises à jour et des astuces.\n",
    "\n",
    "Envoyez-nous un e-mail à support@pycoa.fr, nous sommes là pour vous aider et répondre à vos questions."
   ]
  },
  {
   "cell_type": "markdown",
   "id": "fa7e1093",
   "metadata": {},
   "source": [
    "# À vous de jouer ! "
   ]
  },
  {
   "cell_type": "code",
   "execution_count": null,
   "id": "c0e115ac",
   "metadata": {},
   "outputs": [],
   "source": []
  }
 ],
>>>>>>> origin
 "metadata": {
  "kernelspec": {
   "display_name": "Python 3 (ipykernel)",
   "language": "python",
   "name": "python3"
  },
  "language_info": {
   "codemirror_mode": {
    "name": "ipython",
    "version": 3
   },
   "file_extension": ".py",
   "mimetype": "text/x-python",
   "name": "python",
   "nbconvert_exporter": "python",
   "pygments_lexer": "ipython3",
   "version": "3.9.17"
<<<<<<< HEAD
  },
  "name": ""
=======
  }
>>>>>>> origin
 },
 "nbformat": 3,
 "nbformat_minor": 0,
 "worksheets": [
  {
   "cells": [
    {
     "cell_type": "markdown",
     "metadata": {},
     "source": [
      "<img src=\"https://www.pycoa.fr/fig/logo-anime.gif\" alt=\"Pycoa\" width=\"125\">\n",
      "<center>\n",
      "\n",
      "# Pr\u00e9sentation du logiciel Pycoa [\u24d2pycoa.fr](http://pycoa.fr) "
     ]
    },
    {
     "cell_type": "markdown",
     "metadata": {},
     "source": [
      "## Bienvenue dans ce guide d'utilisation de Pycoa !\n",
      "\n",
      "Ce notebook a pour objectif de vous fournir une introduction compl\u00e8te aux fonctionnalit\u00e9s principales de Pycoa, une plateforme logicielle puissante d\u00e9di\u00e9e \u00e0 l'analyse de donn\u00e9es et \u00e0 la visualisation de donn\u00e9es covid. Que vous soyez d\u00e9butant ou utilisateur exp\u00e9riment\u00e9, ce guide vous accompagnera \u00e0 travers les diff\u00e9rentes \u00e9tapes pour ma\u00eetriser Pycoa et exploiter tout son potentiel.\n",
      "\n",
      "PyCoA (Python Covid Analysis) est un framework Python\u2122 qui fournit :\n",
      "\n",
      "- un acc\u00e8s simple aux bases de donn\u00e9es communes Covid-19 ;\n",
      "- des outils pour repr\u00e9senter et analyser les donn\u00e9es Covid-19 tels que des trac\u00e9s de s\u00e9ries chronologiques, des histogrammes et des cartes.\n",
      "\n",
      "Au fil de ce guide, vous d\u00e9couvrirez comment :\n",
      "\n",
      "- Importer vos donn\u00e9es \u00e0 partir des diverses base de donn\u00e9es disponibles.\n",
      "- Exporter vos donn\u00e9es gr\u00e2ce \u00e0 pandas.\n",
      "- Manipuler des donn\u00e9es pour cr\u00e9er votre propre graphique.\n",
      "- Cr\u00e9er une vari\u00e9t\u00e9 de graphiques informatifs et esth\u00e9tiques pour visualiser vos donn\u00e9es sous diff\u00e9rents angles.\n",
      "\n",
      "Que vous souhaitiez explorer Pycoa pour la premi\u00e8re fois ou approfondir vos connaissances existantes, ce guide est con\u00e7u pour vous accompagner \u00e0 chaque \u00e9tape de votre parcours. Nous esp\u00e9rons que vous trouverez ce guide instructif et utile dans votre exploration de Pycoa."
     ]
    },
    {
     "cell_type": "markdown",
     "metadata": {},
     "source": [
      "# 0. \u2014 NoteBook Olympics \n",
      "\n",
      "\u00c0 l'approche des Jeux Olympiques de Paris 2024, nous avons pr\u00e9par\u00e9 un notebook sp\u00e9cial sur les JO avec Pycoa. Explorez les m\u00e9dailles d'or, d'argent et de bronze remport\u00e9es par chaque pays, et visualisez les donn\u00e9es \u00e0 travers des graphiques interactifs, des histogrammes ou encore des cartes. D\u00e9couvrez tout cela et bien plus encore pour vous immerger dans l'univers des JO !\n",
      "\n",
      "[![Binder](https://mybinder.org/badge_logo.svg)](https://mybinder.org/v2/gh/coa-project/pycoa/helpfonction?labpath=coabook%2FNotebook_JO.ipynb)"
     ]
    },
    {
     "cell_type": "markdown",
     "metadata": {},
     "source": [
      "# 1. \u2014 Installation de [Pycoa](http://pycoa.fr)\n",
      "\n",
      "## En ligne\n",
      "\n",
      " ### Binder (recommand\u00e9)\n",
      "Il est possible d'utiliser ce notebook en ligne, sans installation locale \u00e0 l'aide de l'infrastructure [Binder](https://mybinder.org/). Pour cela, cliquer sur l'ic\u00f4ne suivante : \n",
      "\n",
      "\n",
      "[![Binder](https://mybinder.org/badge_logo.svg)](https://mybinder.org/v2/gh/coa-project/pycoa/helpfonction?labpath=coabook%2FMainNotebook.ipynb)\n",
      "\n",
      "Suivant l'occupation des serveurs Binder le d\u00e9ploiement peut prendre entre 1 min et 5 min.\n",
      " ### Google Colab\n",
      "Il est aussi possible d'utiliser Google Colab.\n",
      "Si l'on utilise un jupyter externalis\u00e9, comme google colaboratory, on utilisera \u00e9galement une installation via l'outil pip. On lancera ainsi \u00e0 l'invite python :\n",
      "`pip3 install git+https://github.com/coa-project/pycoa.git`\n",
      "\n",
      "## Localement\n",
      "\n",
      "Pour installer [Pycoa](http://pycoa.fr) sur son propre ordinateur, il faut suivre la proc\u00e9dure d\u00e9crite sur le [wiki de Pycoa](https://github.com/coa-project/pycoa/wiki/Installation). "
     ]
    },
    {
     "cell_type": "markdown",
     "metadata": {},
     "source": [
      "# 2. \u2014 Utilisation de [Pycoa](http://pycoa.fr)\n",
      "\n",
      "## &nbsp;&nbsp;&nbsp;A. - Importation de la librairie\n",
      "\n",
      "Dans le code, il faut d'abord importer la librairie (_package_) dans l'environnement de d\u00e9veloppement.\n"
     ]
    },
    {
     "cell_type": "code",
     "collapsed": false,
     "input": [
      "from coaenv import *"
     ],
     "language": "python",
     "metadata": {},
     "outputs": [],
     "prompt_number": null
    },
    {
     "cell_type": "code",
     "collapsed": false,
     "input": [
      "pycoa.setwhom('mpoxgh',reload=True)"
     ],
     "language": "python",
     "metadata": {},
     "outputs": [],
     "prompt_number": null
    },
    {
     "cell_type": "code",
     "collapsed": false,
     "input": [
      "pycoa.plot(where='Europe',what='daily')"
     ],
     "language": "python",
     "metadata": {},
     "outputs": [],
     "prompt_number": null
    },
    {
     "cell_type": "code",
     "collapsed": false,
     "input": [
      "\n",
      "from datetime import date\n",
      "from datetime import timedelta\n",
      "d = date(2008,1,1)\n",
      "d+2*timedelta(days=9*365)"
     ],
     "language": "python",
     "metadata": {},
     "outputs": [],
     "prompt_number": null
    },
    {
     "cell_type": "code",
     "collapsed": false,
     "input": [
      "pycoa.hist(which='total_cases')"
     ],
     "language": "python",
     "metadata": {},
     "outputs": [],
     "prompt_number": null
    },
    {
     "cell_type": "code",
     "collapsed": false,
     "input": [
      "A=pycoa.get(which='tot_cases',option='sumall')\n",
      "print(A)\n",
      "type(A.permanentdisplay[0])"
     ],
     "language": "python",
     "metadata": {},
     "outputs": [],
     "prompt_number": null
    },
    {
     "cell_type": "code",
     "collapsed": false,
     "input": [
      "import pandas as pd\n",
      "pd.read_html('https://olympics.com/en/paris-2024/medals')"
     ],
     "language": "python",
     "metadata": {},
     "outputs": [],
     "prompt_number": null
    },
    {
     "cell_type": "code",
     "collapsed": false,
     "input": [
      "pycoa.getkeywordinfo(which=\"cur_excess_mortality\")"
     ],
     "language": "python",
     "metadata": {},
     "outputs": [],
     "prompt_number": null
    },
    {
     "cell_type": "code",
     "collapsed": false,
     "input": [
      "pycoa.plot(which='tot_deaths')"
     ],
     "language": "python",
     "metadata": {},
     "outputs": [],
     "prompt_number": null
    },
    {
     "cell_type": "code",
     "collapsed": false,
     "input": [
      "A=pycoa.get(where='Bretagne',option='smooth7')\n",
      "A.loc[A.date==A.date.max()]"
     ],
     "language": "python",
     "metadata": {},
     "outputs": [],
     "prompt_number": null
    },
    {
     "cell_type": "code",
     "collapsed": false,
     "input": [
      "pycoa.listwhere(True)"
     ],
     "language": "python",
     "metadata": {},
     "outputs": [],
     "prompt_number": null
    },
    {
     "cell_type": "code",
     "collapsed": false,
     "input": [
      "A=pycoa.get(where=['Bretagne'],which='tot_T')\n",
      "A.loc[A.date==A.date.max]"
     ],
     "language": "python",
     "metadata": {},
     "outputs": [],
     "prompt_number": null
    },
    {
     "cell_type": "code",
     "collapsed": false,
     "input": [
      "from coaenv import *\n",
      "from coa.geo import GeoCountry as gc\n",
      "\n",
      "import coa.geo as coge\n",
      "#g=coge.GeoManager('name')\n",
      "#g.to_standard(\"WLD\",db = 'owid',interpret_region=True)\n",
      "#import matplotlib.pyplot as plt\n",
      "#usa=gc('Europe')\n",
      "#A=usa.get_subregion_list()#.geometry.plot()\n",
      "fra=coge.GeoCountry('FRA')\n",
      "fra.get_subregions_from_list_of_region_names(['\u00cele-de-France']) # list of subregion\n",
      "fra.get_subregions_from_region(name='\u00cele-de-France')"
     ],
     "language": "python",
     "metadata": {},
     "outputs": [],
     "prompt_number": null
    },
    {
     "cell_type": "code",
     "collapsed": false,
     "input": [
      "pycoa.plot(where='Italy')"
     ],
     "language": "python",
     "metadata": {},
     "outputs": [],
     "prompt_number": null
    },
    {
     "cell_type": "code",
     "collapsed": false,
     "input": [
      "pycoa.listwhich()"
     ],
     "language": "python",
     "metadata": {},
     "outputs": [],
     "prompt_number": null
    },
    {
     "cell_type": "code",
     "collapsed": false,
     "input": [
      "A.loc[A['where']=='France']"
     ],
     "language": "python",
     "metadata": {},
     "outputs": [],
     "prompt_number": null
    },
    {
     "cell_type": "code",
     "collapsed": false,
     "input": [
      "pycoa.getrawdb()\n"
     ],
     "language": "python",
     "metadata": {},
     "outputs": [],
     "prompt_number": null
    },
    {
     "cell_type": "code",
     "collapsed": false,
     "input": [
      "pycoa.setvisu(vis='mplt')"
     ],
     "language": "python",
     "metadata": {},
     "outputs": [],
     "prompt_number": null
    },
    {
     "cell_type": "code",
     "collapsed": false,
     "input": [
      "toto.getcurrentmetadata(\"spfnational\")"
     ],
     "language": "python",
     "metadata": {},
     "outputs": [],
     "prompt_number": null
    },
    {
     "cell_type": "code",
     "collapsed": false,
     "input": [
      "pycoa.listwhom(True)"
     ],
     "language": "python",
     "metadata": {},
     "outputs": [],
     "prompt_number": null
    },
    {
     "cell_type": "code",
     "collapsed": false,
     "input": [
      "pycoa.getrawdb()"
     ],
     "language": "python",
     "metadata": {},
     "outputs": [],
     "prompt_number": null
    },
    {
     "cell_type": "code",
     "collapsed": false,
     "input": [
      "#import matplotlib as plt\n",
      "pycoa.map(which='tot_dc_hosp',)"
     ],
     "language": "python",
     "metadata": {},
     "outputs": [],
     "prompt_number": null
    },
    {
     "cell_type": "code",
     "collapsed": false,
     "input": [
      "pycoa.getrawdb()"
     ],
     "language": "python",
     "metadata": {},
     "outputs": [],
     "prompt_number": null
    },
    {
     "cell_type": "code",
     "collapsed": false,
     "input": [
      "(pycoa.getrawdb()['tot_T']).isnull().all()"
     ],
     "language": "python",
     "metadata": {},
     "outputs": [],
     "prompt_number": null
    },
    {
     "cell_type": "code",
     "collapsed": false,
     "input": [
      "from coa.dbparser import MetaInfo\n",
      "d=MetaInfo().getcurrentmetadata('spf')"
     ],
     "language": "python",
     "metadata": {},
     "outputs": [],
     "prompt_number": null
    },
    {
     "cell_type": "code",
     "collapsed": false,
     "input": [],
     "language": "python",
     "metadata": {},
     "outputs": [],
     "prompt_number": null
    },
    {
     "cell_type": "code",
     "collapsed": false,
     "input": [
      "f=pycoa.figureplot(which='total_deaths',what='daily',where='Europe')\n",
      "type(f)"
     ],
     "language": "python",
     "metadata": {},
     "outputs": [],
     "prompt_number": null
    },
    {
     "cell_type": "code",
     "collapsed": false,
     "input": [
      "from bokeh.plotting import figure, output_file, save\n",
      "output_file(\"menuEU.html\")\n",
      "save(f)"
     ],
     "language": "python",
     "metadata": {},
     "outputs": [],
     "prompt_number": null
    },
    {
     "cell_type": "code",
     "collapsed": false,
     "input": [
      "pycoa.getrawdb()"
     ],
     "language": "python",
     "metadata": {},
     "outputs": [],
     "prompt_number": null
    },
    {
     "cell_type": "code",
     "collapsed": false,
     "input": [
      "pycoa.setvisu(vis='seaborn')"
     ],
     "language": "python",
     "metadata": {},
     "outputs": [],
     "prompt_number": null
    },
    {
     "cell_type": "code",
     "collapsed": false,
     "input": [
      "from coa.geo import GeoManager as gm\n",
      "g2=gm('iso3')\n",
      "g2.get_standard()\n",
      "g2.to_standard('Cyprus',output='list',interpret_region=True) # single country"
     ],
     "language": "python",
     "metadata": {},
     "outputs": [],
     "prompt_number": null
    },
    {
     "cell_type": "code",
     "collapsed": false,
     "input": [],
     "language": "python",
     "metadata": {},
     "outputs": [],
     "prompt_number": null
    },
    {
     "cell_type": "code",
     "collapsed": false,
     "input": [
      "pycoa.setvisu(dateslider=True)"
     ],
     "language": "python",
     "metadata": {},
     "outputs": [],
     "prompt_number": null
    },
    {
     "cell_type": "code",
     "collapsed": false,
     "input": [
      "A=pycoa.get(which='tot_dchosp', where='Paris', output='pandas',option='sumall')\n",
      "B=pycoa.get(which='tot_dchosp', where='Paris', output='pandas')"
     ],
     "language": "python",
     "metadata": {},
     "outputs": [],
     "prompt_number": null
    },
    {
     "cell_type": "code",
     "collapsed": false,
     "input": [
      "print(A)\n",
      "print(B)"
     ],
     "language": "python",
     "metadata": {},
     "outputs": [],
     "prompt_number": null
    },
    {
     "cell_type": "code",
     "collapsed": false,
     "input": [
      "#pycoa.setvisu(title='la tete a toto')\n",
      "pycoa.plot(which='cur_hosp',option='sumall')"
     ],
     "language": "python",
     "metadata": {},
     "outputs": [],
     "prompt_number": null
    },
    {
     "cell_type": "code",
     "collapsed": false,
     "input": [
      "#pycoa.plot(which=['tot_dc','cur_hospitalises'],what='daily')\n",
      "\n",
      "A = pycoa.get(which='tot_dc')\n",
      "B = pycoa.get(which='cur_hospitalises')\n",
      "A['cur_hospitalises'] = B['cur_hospitalises']\n",
      "\n",
      "pycoa.plot(input=A, input_field=['tot_dc', 'cur_hospitalises']) \n",
      "pycoa.setvisu(title='cur_rea and tot_vacc_complet at')"
     ],
     "language": "python",
     "metadata": {},
     "outputs": [],
     "prompt_number": null
    },
    {
     "cell_type": "code",
     "collapsed": false,
     "input": [
      "A=[True,False,False]\n",
      "any(A)"
     ],
     "language": "python",
     "metadata": {},
     "outputs": [],
     "prompt_number": null
    },
    {
     "cell_type": "code",
     "collapsed": false,
     "input": [
      "pycoa.get(which=['cur_reanimation','cur_hospitalises'])"
     ],
     "language": "python",
     "metadata": {},
     "outputs": [],
     "prompt_number": null
    },
    {
     "cell_type": "code",
     "collapsed": false,
     "input": [
      "A='too_toto'\n",
      "A.startswith('too_')"
     ],
     "language": "python",
     "metadata": {},
     "outputs": [],
     "prompt_number": null
    },
    {
     "cell_type": "code",
     "collapsed": false,
     "input": [
      "from coa.geo import GeoCountry as gc\n",
      "fra=gc('FRA')\n",
      "fra.get_country() \n",
      "#list(fra.get_region_list().name_region)# Create the instance of GeoCountry for France\n",
      "fra.get_subregions_from_region(name='Collectivit\u00e9s d\\'outre-mer')"
     ],
     "language": "python",
     "metadata": {
      "scrolled": true
     },
     "outputs": [],
     "prompt_number": null
    },
    {
     "cell_type": "code",
     "collapsed": false,
     "input": [
      "pycoa.setvisu(vis='bokeh')"
     ],
     "language": "python",
     "metadata": {},
     "outputs": [],
     "prompt_number": null
    },
    {
     "cell_type": "markdown",
     "metadata": {},
     "source": [
      "## &nbsp;&nbsp;&nbsp; B. - S\u00e9lection de la base de donn\u00e9es\n",
      "Plusieurs bases de donn\u00e9es li\u00e9es au Covid-19 sont exploitables.\n",
      "\n",
      "La premi\u00e8re des instructions suivantes donne la liste des bases disponibles, avec leur nom, le code pays au format [ISO 3166-1 alpha 3](https://fr.wikipedia.org/wiki/ISO_3166-1#Table_de_codage) (ou ww pour world), le niveau de d\u00e9tail g\u00e9ographique (granularit\u00e9), le pays ou les r\u00e9gions associ\u00e9es."
     ]
    },
    {
     "cell_type": "code",
     "collapsed": false,
     "input": [
      "pycoa.plot(where='France',which=['total_deaths','total_cases'])"
     ],
     "language": "python",
     "metadata": {},
     "outputs": [],
     "prompt_number": null
    },
    {
     "cell_type": "markdown",
     "metadata": {},
     "source": [
      "Pour l'exemple, la seconde instruction permet de s\u00e9l\u00e9ctionner la principale base de donn\u00e9es _fran\u00e7aise_, produite par Sant\u00e9 Publique France (la base de donn\u00e9es s'appelle donc `spf`). \n",
      "Cela peut prendre quelques instants."
     ]
    },
    {
     "cell_type": "code",
     "collapsed": false,
     "input": [
      "pycoa.setwhom('spf', reload=False)"
     ],
     "language": "python",
     "metadata": {
      "scrolled": true
     },
     "outputs": [],
     "prompt_number": null
    },
    {
     "cell_type": "markdown",
     "metadata": {},
     "source": [
      "Sant\u00e9 Publique France diffuse les donn\u00e9es aff\u00e9rentes \u00e0 l'\u00e9pid\u00e9mie de Covid-19 en France. De mani\u00e8re regrettable, et contrairement aux autres bases de donn\u00e9es, le format des donn\u00e9es varie fr\u00e9quemment et sans avertissement. Il arrive donc h\u00e9las que certaines commandes \u00e9chouent, le temps d'apdater [Pycoa](http://pycoa.fr) aux derni\u00e8res modifications."
     ]
    },
    {
     "cell_type": "markdown",
     "metadata": {},
     "source": [
      "**Pour conna\u00eetre la base de donn\u00e9es utilis\u00e9e actuellement on peut utiliser :**"
     ]
    },
    {
     "cell_type": "code",
     "collapsed": false,
     "input": [
      "pycoa.map(which='tot_vacc_complet', where='Bretagne', typeofplot='date')"
     ],
     "language": "python",
     "metadata": {},
     "outputs": [],
     "prompt_number": null
    },
    {
     "cell_type": "markdown",
     "metadata": {},
     "source": [
      "La base une fois charg\u00e9e, une liste d'information nous est donn\u00e9e :\n",
      "\n",
      "- La liste des donn\u00e9es \u00e9pid\u00e9milogiques (`which`) : *['cur_hosp', 'cur_idx_R', 'cur_idx_tx_incid', 'cur_idx_tx_occupation_sae', 'cur_nb_A0', 'cur_nb_A1', 'cur_nb_C0', 'cur_nb_C1', 'cur_nbre_pass_corona', 'cur_rea', 'cur_tx_A1', 'cur_tx_C1', 'cur_tx_pos', 'incid_dchosp', 'incid_hosp', 'incid_rad', 'incid_rea', 'tot_P', 'tot_T', 'tot_dchosp', 'tot_rad', 'tot_vacc1', 'tot_vacc2_rappel', 'tot_vacc_complet', 'tot_vacc_rappel']*\n",
      "- Un exemple de liste relatif \u00e0 la localisation (`where`) : **C\u00f4tes-d'Armor, Eure, Orne, Pyr\u00e9n\u00e9es-Atlantiques, Ain...**\n",
      "- La derni\u00e8re mise \u00e0 jour : **2024-05-14**"
     ]
    },
    {
     "cell_type": "markdown",
     "metadata": {},
     "source": [
      "## &nbsp;&nbsp;&nbsp;C. - Contenu des bases de donn\u00e9es\n",
      "\n",
      "**La liste des _variables epid\u00e9miologiques_ disponibles pour la base de donn\u00e9e s\u00e9lectionn\u00e9e est donn\u00e9e par l'instruction suivante :**"
     ]
    },
    {
     "cell_type": "code",
     "collapsed": false,
     "input": [
      "pycoa.listwhich()"
     ],
     "language": "python",
     "metadata": {
      "scrolled": false
     },
     "outputs": [],
     "prompt_number": null
    },
    {
     "cell_type": "markdown",
     "metadata": {},
     "source": [
      "**La liste des _zones g\u00e9ographiques_ accessibles dans la base de donn\u00e9e s\u00e9lectionn\u00e9e est quant \u00e0 elle donn\u00e9e par l'instruction suivante :**"
     ]
    },
    {
     "cell_type": "code",
     "collapsed": false,
     "input": [
      "pycoa.listwhere() "
     ],
     "language": "python",
     "metadata": {},
     "outputs": [],
     "prompt_number": null
    },
    {
     "cell_type": "markdown",
     "metadata": {},
     "source": [
      "**Diff\u00e9rents mots-cl\u00e9s permettent de r\u00e9cup\u00e9rer des informations sp\u00e9cifiques de la base de donn\u00e9e :**\n",
      "\n",
      "- **`which`**: _variables epid\u00e9miologiques_ d'int\u00e9r\u00eat (donn\u00e9e s\u00e9lectionn\u00e9e)\n",
      "- **`where`**: s\u00e9lection de la (ou les) zone(s) g\u00e9ographique(s) :\n",
      "   - pays, `list` de pays, r\u00e9gion, continent\u2026\n",
      "   - d\u00e9partement, `list` de d\u00e9partements, r\u00e9gions\u2026\n",
      "- **`what`**: dans le cas d'une s\u00e9rie temporelle :\n",
      "   - `'cumul'` dans le cas o\u00f9 on veut voir la somme de tout ce qu'il s'est pass\u00e9\n",
      "   - `'daily'` pour les valeurs journali\u00e8res\n",
      "   - `'weekly'` pour les valeurs hebdomadaires\n",
      "   - `'standart'`(par defaut ici) \n",
      "- **`when`**: fen\u00eatre de dates pour la donn\u00e9e s\u00e9lectionn\u00e9e\n",
      "   - `'vide'` : format pas d\u00e9faut\n",
      "   - `'dd/mm/yyyy:dd/mm/yyyy'`: le d\u00e9but et la fin de la fen\u00eatre temporelle sont pr\u00e9cis\u00e9s\n",
      "   - `''dd/mm/yyyy:` : uniquement le d\u00e9but est pr\u00e9cis\u00e9, la date de fin est fix\u00e9 par la derni\u00e8re valeur de la base de donn\u00e9e\n",
      "   - `':dd/mm/yyyy'` : uniquement la date de fin est pr\u00e9cis\u00e9e, le d\u00e9but est fix\u00e9 par la premi\u00e8re valeur de la base de donn\u00e9e\n",
      "\t\n",
      "- **`option`**: \n",
      "   - `'nonneg'` : lisse les donn\u00e9es pour \u00e9viter les valeurs n\u00e9gatives (corrections a posteriori)\n",
      "   - `'nofillnan'` : par d\u00e9faut les donn\u00e9es cumul\u00e9es qui n'ont pas de valeurs (\"Not a Number\" ou Nan) sont remplac\u00e9es par les valeurs du jour pr\u00e9cedent, `'nofillnan'` supprime ce remplissage\n",
      "   - `'smooth7'` : lisse les donn\u00e9es sur 7 jours pour faire dispara\u00eetre les fluctuations li\u00e9es par exemple aux weekends\n",
      "   - `'sumall'` : somme toutes les valeurs pr\u00e9sentes\n",
      "\n",
      "- **`bypop`** : Permet de normaliser les courbes par le nombre d'habitants. Pour se faire on utilisera bypop. Cette variable peut \u00eatre exprim\u00e9 en puissance de 10 : 'no', '100', '1k', '100', '1M' or 'pop' .\n",
      "\n",
      "   \n",
      "On peut aussi utiliser les instructions suivantes :\n",
      "- `pycoa.listwhat()`  : Liste les diff\u00e9rentes options possibles pour l'attribut what.\n",
      "- `pycoa.listwhere(True)` : Liste les r\u00e9gions.\n",
      "- `pycoa.listoption()`: Liste les options disponibles.\n",
      "- `pycoa.listoutput()`: Liste les formats de sortie disponibles : pandas, geopandas, list, dict, array.\n",
      "- `pycoa.listbypop()` : Liste les options pour normaliser les courbes par le nombre d'habitants.\n"
     ]
    },
    {
     "cell_type": "markdown",
     "metadata": {},
     "source": [
      "## &nbsp;&nbsp;&nbsp; D. - Instructions de Pycoa\n",
      "\n",
      "Pycoa permet \u00e0 la fois d'importer les donn\u00e9es d'une base de donnn\u00e9e publique, mais \u00e9galement de les repr\u00e9senter et de les r\u00e9cup\u00e9rer pour les exporter Les instructions suivantes\n",
      "\n",
      "- **`pycoa.plot`** : pour repr\u00e9senter la donn\u00e9e s\u00e9lectionn\u00e9e en fonction du temps (s\u00e9rie temporelle)\n",
      "\n",
      "  - `typeofplot='date'` (par d\u00e9faut). Le plot est une \u00e9volution temporelle de la variable \u00e9pid\u00e9miologique \u00e9tudi\u00e9e.\n",
      "  - `typeofplot='menulocation'`, si l'on d\u00e9sire comparer uniquement 2 variations temporelles parmi la liste where. Un double menu d\u00e9roulant appara\u00eet permettant de choisir les 2 courbes \u00e0 comparer.\n",
      "  - `typeofplot='yearly'`, repr\u00e9sentation des mois uniquement pour les diff\u00e9rentes ann\u00e9es en jeu, important pour voir les effets saisonniers. Permet de comparer les diff\u00e9rentes ann\u00e9es entre elles.\n",
      "  - `typeofplot='spiral'`, repr\u00e9sentation en spiral, compl\u00e9mentaire de la pr\u00e9c\u00e9dente\n",
      "  \n",
      "  \n",
      "- **`pycoa.map`** : pour une repr\u00e9sentation sous forme de carte.\n",
      "\n",
      "    Il est possible de changer les textures des cartes. Voici la liste des textures (tiles) disponible  :\n",
      "    - `tile='openstreet'`: Utilise les donn\u00e9es de la carte OpenStreetMap, qui sont collect\u00e9es par une communaut\u00e9 mondiale de contributeurs et mises \u00e0 jour en temps r\u00e9el. Cette texture offre une carte de base d\u00e9taill\u00e9e qui couvre le monde entier.\n",
      "    - `tile='esri'` : Utilise les services de cartographie d'Esri, qui fournissent des donn\u00e9es cartographiques riches et d\u00e9taill\u00e9es. Cette texture est id\u00e9ale pour des applications n\u00e9cessitant des cartes pr\u00e9cises et professionnelles.\n",
      "    - `tile='stamen'` : Utilise les tuiles de Stamen Design, une entreprise sp\u00e9cialis\u00e9e dans la cr\u00e9ation de cartes \u00e9l\u00e9gantes et artistiques. Les tuiles Stamen offrent une esth\u00e9tique unique avec diff\u00e9rentes options, comme la carte en noir et blanc (toner), la carte en couleur (terrain) ou la carte en tons pastel (watercolor).\n",
      "    - `tile ='positron'`: Fournit des cartes modernes et \u00e9l\u00e9gantes cr\u00e9\u00e9es par Carto, avec une esth\u00e9tique minimaliste et des couleurs vives. Les cartes Positron sont id\u00e9ales pour les visualisations contemporaines et les applications ax\u00e9es sur le design.\n",
      "\n",
      "\n",
      "\n",
      "- **`pycoa.hist`** : pour les histogrammes, avec pour option :\n",
      "\n",
      "  - `typeofhist='bycountry'` (par d\u00e9faut), pour un histogramme \u00e0 barres horizontales, lieu par lieu\n",
      "  - `typeofhist='byvalue'`, pour un histogramme \u00e0 barres verticales, par valeurs\n",
      "  - `typeofhist='pie'`, pour un \"camembert\"\n",
      "  \n",
      "  \n",
      "- **`pycoa.get`** : pour r\u00e9cup\u00e9rer les donn\u00e9es, en vue d'un traitement ult\u00e9rieur.\n",
      "\n",
      "\n",
      "On peut aussi utiliser les instructions suivantes :\n",
      "- `pycoa.listplot()` : Liste les types de graphiques disponibles.\n",
      "- `pycoa.listhist()` : Liste les types d'histogrammes disponibles.\n",
      "- `pycoa.listtile()` : Liste les textures disponibles pour les cartes."
     ]
    },
    {
     "cell_type": "markdown",
     "metadata": {},
     "source": [
      "# 3. \u2014 Exemples\n",
      "\n",
      "Dans cette section, nous vous pr\u00e9senterons comment effectuer des requ\u00eates basiques avec Pycoa. Il existe trois types principaux de requ\u00eates que vous pouvez effectuer pour explorer et visualiser vos donn\u00e9es : les graphiques dans le temps (plot), les cartes et les histogrammes. \n",
      "\n",
      "Nous allons vous guider \u00e0 travers des exemples pratiques de chaque type de requ\u00eate, en vous montrant comment les construire et interpr\u00e9ter les r\u00e9sultats. Que vous souhaitiez visualiser l'\u00e9volution temporelle des donn\u00e9es, cr\u00e9er des histogrammes pour analyser la r\u00e9partition des valeurs, ou repr\u00e9senter les donn\u00e9es sur une carte g\u00e9ographique, ces exemples vous aideront \u00e0 d\u00e9marrer avec Pycoa.\n",
      "\n",
      "## &nbsp;&nbsp;&nbsp; A. - \u00c9volution temporelle (plot)"
     ]
    },
    {
     "cell_type": "heading",
     "level": 3,
     "metadata": {},
     "source": [
      "1. Date"
     ]
    },
    {
     "cell_type": "code",
     "collapsed": false,
     "input": [
      "pycoa.plot(which='tot_vacc_complet', where='Bretagne', typeofplot='date')"
     ],
     "language": "python",
     "metadata": {
      "scrolled": false
     },
     "outputs": [],
     "prompt_number": null
    },
    {
     "cell_type": "markdown",
     "metadata": {},
     "source": [
      "Cette requ\u00eate va repr\u00e9senter graphiquement l'\u00e9volution du nombre total de personnes enti\u00e8rement vaccin\u00e9es dans la r\u00e9gion de Bretagne. Les donn\u00e9es sont s\u00e9par\u00e9es par d\u00e9partement. Essayer avec ou sans `typeofplot='date'`, vous constaterez que vous tombez sur le m\u00eame graphique."
     ]
    },
    {
     "cell_type": "code",
     "collapsed": false,
     "input": [
      "pycoa.plot(which='tot_vacc_complet', where='Paris', what='daily', option='smooth7')"
     ],
     "language": "python",
     "metadata": {},
     "outputs": [],
     "prompt_number": null
    },
    {
     "cell_type": "markdown",
     "metadata": {},
     "source": [
      "Cette repr\u00e9sentation graphique montre l'\u00e9volution quotidienne du nombre total de personnes enti\u00e8rement vaccin\u00e9es \u00e0 Paris. De plus en utilisant l'option `'smooth7'` les donn\u00e9es sont liss\u00e9es sur une p\u00e9riode de 7 jours pour att\u00e9nuer les variations journali\u00e8res telles que les week-ends."
     ]
    },
    {
     "cell_type": "code",
     "collapsed": false,
     "input": [
      "pycoa.plot(where='\u00cele-de-France', option='sumall', when='01/01/2021:01/01/2023')"
     ],
     "language": "python",
     "metadata": {},
     "outputs": [],
     "prompt_number": null
    },
    {
     "cell_type": "markdown",
     "metadata": {},
     "source": [
      "Cette repr\u00e9sentation graphique montre l'\u00e9volution de la valeur \u00e9pid\u00e9mologique par d\u00e9faut (tot_dchosp). En utilisant `sumall` cela nous permet de regrouper tous les d\u00e9partements d'\u00cele-de-France. Faites un essai avec et sans ! Gr\u00e2ce \u00e0 l'attribut\u00a0`when` seul les donn\u00e9es comprises entre le 01/01/2021 et le 01/01/2023 sont affich\u00e9es."
     ]
    },
    {
     "cell_type": "markdown",
     "metadata": {},
     "source": [
      "### Sommes partielles\n",
      "\n",
      "Il est possible de faire des sommes partielles de donn\u00e9es. Par exemple pour avoir la somme en Bretagne, en \u00cele-de-France et en Hauts-de-Francee on utilisera les doubles crochets comme suit"
     ]
    },
    {
     "cell_type": "code",
     "collapsed": false,
     "input": [
      "pycoa.plot(where=[['Bretagne','\u00cele-de-France','Hauts-de-France']],option='sumall')"
     ],
     "language": "python",
     "metadata": {},
     "outputs": [],
     "prompt_number": null
    },
    {
     "cell_type": "markdown",
     "metadata": {},
     "source": [
      "### Sommes semi partielles\n",
      "\n",
      "Il est \u00e9galement possible de faire des sommes semi partielles de donn\u00e9es. Par exemple pour avoir les sommes en Bretagne, en \u00cele-de-France et en Hauts-de-France on utilisera les doubles crochets comme suit. Quasiment pareil que la requ\u00eate pr\u00e9c\u00e9dente mais on s\u00e9pare les valeurs par r\u00e9gions."
     ]
    },
    {
     "cell_type": "code",
     "collapsed": false,
     "input": [
      "pycoa.plot(where=[['Bretagne'],['\u00cele-de-France'],['Hauts-de-France']],option='sumall')"
     ],
     "language": "python",
     "metadata": {},
     "outputs": [],
     "prompt_number": null
    },
    {
     "cell_type": "markdown",
     "metadata": {},
     "source": [
      "### Bypop\n",
      "\n",
      "On peut vouloir normaliser les courbes par le nombre d'habitants. Pour se faire on utilisera `bypop`\n",
      "."
     ]
    },
    {
     "cell_type": "markdown",
     "metadata": {},
     "source": [
      "Cette variable peut \u00eatre exprim\u00e9 en puissance de 10 : 'no', '100', '1k', '100', '1M' or 'pop' ."
     ]
    },
    {
     "cell_type": "code",
     "collapsed": false,
     "input": [
      "pycoa.plot(where='France',bypop='100k')"
     ],
     "language": "python",
     "metadata": {},
     "outputs": [],
     "prompt_number": null
    },
    {
     "cell_type": "markdown",
     "metadata": {},
     "source": [
      "Ici une normalisation pour 100k habitants a \u00e9t\u00e9 appliqu\u00e9e. Donc on a le taux de d\u00e9c\u00e8s en hopital pour 100k habitants par d\u00e9partements.\n"
     ]
    },
    {
     "cell_type": "heading",
     "level": 3,
     "metadata": {},
     "source": [
      "2. Menulocation"
     ]
    },
    {
     "cell_type": "code",
     "collapsed": false,
     "input": [
      "pycoa.plot(which='cur_rea', typeofplot='menulocation')"
     ],
     "language": "python",
     "metadata": {},
     "outputs": [],
     "prompt_number": null
    },
    {
     "cell_type": "markdown",
     "metadata": {},
     "source": [
      "Nous utilisons `which='cur_rea'` pour repr\u00e9senter le nombre de patients actuellement en r\u00e9animation. L'option `typeofplot='menulocation'`nous permet de comparer deux courbes en s\u00e9lectionnant les r\u00e9gions ou pays sp\u00e9cifiques dans un menu d\u00e9roulant."
     ]
    },
    {
     "cell_type": "heading",
     "level": 3,
     "metadata": {},
     "source": [
      "3. Yearly"
     ]
    },
    {
     "cell_type": "code",
     "collapsed": false,
     "input": [
      "pycoa.plot(where='Nord',what='daily',option=['nonneg','smooth7'],typeofplot='yearly')"
     ],
     "language": "python",
     "metadata": {},
     "outputs": [],
     "prompt_number": null
    },
    {
     "cell_type": "markdown",
     "metadata": {},
     "source": [
      "Cette repr\u00e9sentation graphique pr\u00e9sente l'\u00e9volution quotidienne des d\u00e9c\u00e8s \u00e0 l'hopital dans la r\u00e9gion du Nord. En sp\u00e9cifiant `what='daily'`, nous examinons les valeurs journali\u00e8res, ce qui nous permet de voir les fluctuations quotidiennes. De plus, en utilisant `option=['nonneg','smooth7']`, les donn\u00e9es sont liss\u00e9es pour \u00e9viter les valeurs n\u00e9gatives et att\u00e9nuer les fluctuations \u00e0 court terme. Enfin, en choisissant `typeofplot='yearly'`, nous avons une repr\u00e9sentation des mois pour diff\u00e9rentes ann\u00e9es, ce qui est essentiel pour d\u00e9tecter les effets saisonniers et comparer les tendances d'une ann\u00e9e \u00e0 l'autre."
     ]
    },
    {
     "cell_type": "heading",
     "level": 3,
     "metadata": {},
     "source": [
      "4. Spiral"
     ]
    },
    {
     "cell_type": "code",
     "collapsed": false,
     "input": [
      "pycoa.plot(where='Paris',what='daily',option=['nonneg','smooth7'],typeofplot='spiral', when='01/01/2021:01/01/2023')"
     ],
     "language": "python",
     "metadata": {},
     "outputs": [],
     "prompt_number": null
    },
    {
     "cell_type": "markdown",
     "metadata": {},
     "source": [
      "M\u00eame requ\u00eate que pr\u00e9c\u00e9demment en changeant juste la date. En choisissant `typeofplot='spiral'`, les donn\u00e9es sont repr\u00e9sent\u00e9es en spirale, ce qui offre une perspective diff\u00e9rente et int\u00e9ressante de l'\u00e9volution temporelle des donn\u00e9es."
     ]
    },
    {
     "cell_type": "heading",
     "level": 3,
     "metadata": {},
     "source": [
      "5. Versus"
     ]
    },
    {
     "cell_type": "markdown",
     "metadata": {},
     "source": [
      "Cette repr\u00e9sentation va nous permettre de comparer 2 courbes de variables \u00e9pid\u00e9mologiques diff\u00e9rentes."
     ]
    },
    {
     "cell_type": "code",
     "collapsed": false,
     "input": [
      "A = pycoa.get(which='cur_rea', where='Paris')\n",
      "B = pycoa.get(which='tot_vacc_complet', where='Paris')\n",
      "A['tot_vacc_complet'] = B['tot_vacc_complet']\n",
      "pycoa.plot(input=A, input_field=['cur_rea', 'tot_vacc_complet'], title='cur_rea et tot_vacc_complet \u00e0 Paris')"
     ],
     "language": "python",
     "metadata": {},
     "outputs": [],
     "prompt_number": null
    },
    {
     "cell_type": "heading",
     "level": 2,
     "metadata": {},
     "source": [
      "&nbsp;&nbsp;&nbsp; B. - Cartes"
     ]
    },
    {
     "cell_type": "markdown",
     "metadata": {},
     "source": [
      "Les cartes, tout comme les graphes cart\u00e9siens pr\u00e9c\u00e9dents, sont interactives."
     ]
    },
    {
     "cell_type": "code",
     "collapsed": false,
     "input": [
      "pycoa.map(where=['M\u00e9tropole'],which='tot_dchosp')"
     ],
     "language": "python",
     "metadata": {},
     "outputs": [],
     "prompt_number": null
    },
    {
     "cell_type": "markdown",
     "metadata": {},
     "source": [
      "Cette requ\u00eate g\u00e9n\u00e8re une carte interactive illustrant le nombre total de d\u00e9c\u00e8s \u00e0 l'h\u00f4pital en France m\u00e9tropolitaine. L'affichage permet de visualiser les donn\u00e9es de mani\u00e8re dynamique, offrant ainsi un aper\u00e7u clair et d\u00e9taill\u00e9 de l'impact du COVID-19 \u00e0 travers les diff\u00e9rentes r\u00e9gions."
     ]
    },
    {
     "cell_type": "code",
     "collapsed": false,
     "input": [
      "pycoa.map(where='\u00cele-de-France',which='tot_vacc_complet')"
     ],
     "language": "python",
     "metadata": {},
     "outputs": [],
     "prompt_number": null
    },
    {
     "cell_type": "markdown",
     "metadata": {},
     "source": [
      "Cette requ\u00eate g\u00e9n\u00e8re une carte interactive illustrant le nombre total de vaccin complet en France m\u00e9tropolitaine. L'affichage permet de visualiser les donn\u00e9es de mani\u00e8re dynamique, offrant ainsi un aper\u00e7u clair et d\u00e9taill\u00e9 de l'impact du COVID-19 \u00e0 travers la r\u00e9gion \u00cele-de-France."
     ]
    },
    {
     "cell_type": "heading",
     "level": 3,
     "metadata": {},
     "source": [
      "Maplabel"
     ]
    },
    {
     "cell_type": "markdown",
     "metadata": {},
     "source": [
      "On peut ajouter aux cartes directement des donn\u00e9es \u00e0 afficher avec l'option `maplabel`.\n",
      "- **`maplabel`** :\n",
      "   - `'text'`  affiche des donn\u00e9es au format texte sur la carte\n",
      "   - `'spark'` affiche une image de type sparkline (\u00e9volution temporelle)"
     ]
    },
    {
     "cell_type": "code",
     "collapsed": false,
     "input": [
      "pycoa.map(where='Bretagne', maplabel ='text')"
     ],
     "language": "python",
     "metadata": {},
     "outputs": [],
     "prompt_number": null
    },
    {
     "cell_type": "markdown",
     "metadata": {},
     "source": [
      "## &nbsp;&nbsp;&nbsp; C. - Histogrammes\n"
     ]
    },
    {
     "cell_type": "heading",
     "level": 3,
     "metadata": {},
     "source": [
      "1. Bycountry"
     ]
    },
    {
     "cell_type": "code",
     "collapsed": false,
     "input": [
      "pycoa.hist(where='Normandie', which='tot_vacc_complet')"
     ],
     "language": "python",
     "metadata": {},
     "outputs": [],
     "prompt_number": null
    },
    {
     "cell_type": "markdown",
     "metadata": {},
     "source": [
      "Histogramme repr\u00e9sentant la r\u00e9partition du nombre total de personnes enti\u00e8rement vaccin\u00e9es dans la r\u00e9gion de Normandie en comparant les diff\u00e9rents d\u00e9partements."
     ]
    },
    {
     "cell_type": "heading",
     "level": 3,
     "metadata": {},
     "source": [
      "2. Byvalue"
     ]
    },
    {
     "cell_type": "code",
     "collapsed": false,
     "input": [
      "pycoa.hist(where='Bretagne', which='tot_vacc_complet', typeofhist='byvalue', bins=4)"
     ],
     "language": "python",
     "metadata": {
      "scrolled": false
     },
     "outputs": [],
     "prompt_number": null
    },
    {
     "cell_type": "markdown",
     "metadata": {},
     "source": [
      "Histogramme  repr\u00e9sentant la r\u00e9partition du nombre total de personnes enti\u00e8rement vaccin\u00e9es dans la r\u00e9gion de Bretagne en comparant les diff\u00e9rents d\u00e9partements mais avec barres verticales. L'attribut `bins` permet de choisir le nombre de barres que l'on souhaite afficher."
     ]
    },
    {
     "cell_type": "heading",
     "level": 3,
     "metadata": {},
     "source": [
      "3. Pie"
     ]
    },
    {
     "cell_type": "code",
     "collapsed": false,
     "input": [
      "pycoa.hist(where=['Bretagne', '\u00cele-de-France'] ,which='tot_vacc_complet', typeofhist='pie')"
     ],
     "language": "python",
     "metadata": {},
     "outputs": [],
     "prompt_number": null
    },
    {
     "cell_type": "markdown",
     "metadata": {},
     "source": [
      "Camembert repr\u00e9sentant la r\u00e9partition du nombre total de personnes enti\u00e8rement vaccin\u00e9es dans la r\u00e9gion de Bretagne"
     ]
    },
    {
     "cell_type": "heading",
     "level": 3,
     "metadata": {},
     "source": [
      "dateslider"
     ]
    },
    {
     "cell_type": "markdown",
     "metadata": {},
     "source": [
      "Dans le but d'\u00e9tudier les evolutions temporelles des fonctions `histo` et `map` l'arguments `dateslider=True` (par d\u00e9faut False) peut \u00eatre invoqu\u00e9.\n",
      "Une fois invoqu\u00e9 un curseur apparaitra en haut des graphique permettant de choisir une date ant\u00e9rieure \u00e0 la date du graphique."
     ]
    },
    {
     "cell_type": "code",
     "collapsed": false,
     "input": [
      "pycoa.hist(which='tot_vacc_complet',where='\u00cele-de-France',dateslider=True)"
     ],
     "language": "python",
     "metadata": {},
     "outputs": [],
     "prompt_number": null
    },
    {
     "cell_type": "markdown",
     "metadata": {},
     "source": [
      "## &nbsp;&nbsp;&nbsp;D. - R\u00e9cup\u00e9ration de donn\u00e9es\n",
      "\n",
      "Il est possible de r\u00e9cup\u00e9rer les donn\u00e9es dans un Pandas DataFrame, structure de donn\u00e9es similaire \u00e0 un tableau Excel, g\u00e9r\u00e9 par la biblioth\u00e8sque `pandas`."
     ]
    },
    {
     "cell_type": "code",
     "collapsed": false,
     "input": [
      "mydf= pycoa.get(where='France', which='tot_vacc_complet')\n",
      "display(mydf)"
     ],
     "language": "python",
     "metadata": {},
     "outputs": [],
     "prompt_number": null
    },
    {
     "cell_type": "markdown",
     "metadata": {},
     "source": [
      "Cette requ\u00eate utilise la fonction `pycoa.get` pour r\u00e9cup\u00e9rer les donn\u00e9es de vaccination compl\u00e8te pour la France et les stocker dans une structure de donn\u00e9es appel\u00e9e DataFrame, g\u00e9r\u00e9e par la biblioth\u00e8que pandas. Le DataFrame est similaire \u00e0 un tableau Excel et peut \u00eatre facilement manipul\u00e9 et analys\u00e9 pour extraire des informations utiles. Ensuite, en utilisant `display(mydf)`, nous affichons le DataFrame pour visualiser les donn\u00e9es r\u00e9cup\u00e9r\u00e9es de mani\u00e8re organis\u00e9e et lisible. Ici on peut y voir un aper\u00e7u des premi\u00e8res et derni\u00e8res lignes."
     ]
    },
    {
     "cell_type": "markdown",
     "metadata": {},
     "source": [
      "## &nbsp;&nbsp;&nbsp;E. - Travailler sur une autre base de donn\u00e9es\n",
      "\n",
      "Pour cet exemple, nous utilisons les donn\u00e9es de [OWID](https://ourworldindata.org/coronavirus), certainement la base de donn\u00e9es la plus compl\u00e8te sur le Covid-19. A priori les donn\u00e9es concernant le nombre de cas et de d\u00e9c\u00e8s sont identiques \u00e0 celles affich\u00e9es par la Johns Hopkins University, l'une des premi\u00e8re institutions \u00e0 suivre l'\u00e9pid\u00e9mie [JHU](https://coronavirus.jhu.edu/map.html)."
     ]
    },
    {
     "cell_type": "heading",
     "level": 3,
     "metadata": {},
     "source": [
      "Changement de la base de donn\u00e9es"
     ]
    },
    {
     "cell_type": "code",
     "collapsed": false,
     "input": [
      "pycoa.setwhom('owid')"
     ],
     "language": "python",
     "metadata": {},
     "outputs": [],
     "prompt_number": null
    },
    {
     "cell_type": "markdown",
     "metadata": {},
     "source": [
      "### Repr\u00e9sentation g\u00e9ographique du nombre de d\u00e9c\u00e8s dus au Covid-19\n",
      "\n",
      "Par d\u00e9faut, les donn\u00e9es \u00e9pid\u00e9miologiques charg\u00e9es sont 1er item de la base, ici ``total_deaths'` soit le nombre total de morts. La fonction `pycoa.map` repr\u00e9sente la carte des zones g\u00e9ographiques li\u00e9es \u00e0 la base, ici l'ensemble des pays du monde.\n",
      "\n",
      "L'option `visu='folium'` modifie \u00e0 la marge la carte."
     ]
    },
    {
     "cell_type": "code",
     "collapsed": false,
     "input": [
      "pycoa.map()"
     ],
     "language": "python",
     "metadata": {},
     "outputs": [],
     "prompt_number": null
    },
    {
     "cell_type": "code",
     "collapsed": false,
     "input": [
      "pycoa.map(visu='folium')"
     ],
     "language": "python",
     "metadata": {},
     "outputs": [],
     "prompt_number": null
    },
    {
     "cell_type": "markdown",
     "metadata": {},
     "source": [
      "### Histogramme du nombre de personnes vaccinn\u00e9es pour 100 habitants\n",
      "Il est possible de choisir un sous-ensemble des pays du monde en pr\u00e9cisant le mot cl\u00e9 `where` ; ici on choisit les pays du G20. D'autres options analogues sont possibles, qu'on peut r\u00e9cup\u00e9rer comme pr\u00e9c\u00e9demment expliqu\u00e9 \u00e0 l'aide de la fonction `pycoa.listwhere()`."
     ]
    },
    {
     "cell_type": "code",
     "collapsed": false,
     "input": [
      "pycoa.hist(which='total_people_vaccinated_per_hundred', where='G20')"
     ],
     "language": "python",
     "metadata": {},
     "outputs": [],
     "prompt_number": null
    },
    {
     "cell_type": "markdown",
     "metadata": {},
     "source": [
      "## &nbsp;&nbsp;&nbsp;F. - Travailler avec une autre visualisation et personnalisation des graphiques\n"
     ]
    },
    {
     "cell_type": "markdown",
     "metadata": {},
     "source": [
      "On va tout d'abord utiliser la commande `listvisu()` pour savoir les visualisations disponibles."
     ]
    },
    {
     "cell_type": "code",
     "collapsed": false,
     "input": [
      "pycoa.listvisu()"
     ],
     "language": "python",
     "metadata": {
      "scrolled": true
     },
     "outputs": [],
     "prompt_number": null
    },
    {
     "cell_type": "markdown",
     "metadata": {},
     "source": [
      "### Types de visualisation disponibles dans Pycoa :\n"
     ]
    },
    {
     "cell_type": "markdown",
     "metadata": {},
     "source": [
      "Depuis sa derni\u00e8re mise \u00e0 jour Pycoa offre plusieurs options pour visualiser les donn\u00e9es en utilisant diff\u00e9rentes biblioth\u00e8ques de visualisation. \n",
      "- **`pycoa.setvisu(vis='name_visu')`** : Permet s\u00e9lectionner le type de visualisation que vous pr\u00e9f\u00e9rez. \n",
      "   - `'bokeh'` (par defaut) : pour des visualisations interactives et dynamiques avec Bokeh\n",
      "   - `'folium'` : Utilis\u00e9 uniquement pour les cartes fonctionne avec bokeh\n",
      "   - `'seaborn'` : pour des visualisations statistiques avec Seaborn\n",
      "   - `'mplt'` : pour des visualisations classiques avec Matplotlib\n",
      "   "
     ]
    },
    {
     "cell_type": "markdown",
     "metadata": {},
     "source": [
      "**Exemple avec Seaborn**"
     ]
    },
    {
     "cell_type": "code",
     "collapsed": false,
     "input": [
      "pycoa.setvisu(vis='seaborn')"
     ],
     "language": "python",
     "metadata": {},
     "outputs": [],
     "prompt_number": null
    },
    {
     "cell_type": "code",
     "collapsed": false,
     "input": [
      "pycoa.plot()"
     ],
     "language": "python",
     "metadata": {
      "scrolled": false
     },
     "outputs": [],
     "prompt_number": null
    },
    {
     "cell_type": "code",
     "collapsed": false,
     "input": [
      "pycoa.hist()"
     ],
     "language": "python",
     "metadata": {},
     "outputs": [],
     "prompt_number": null
    },
    {
     "cell_type": "code",
     "collapsed": false,
     "input": [
      "pycoa.hist(typeofhist='byvalue')"
     ],
     "language": "python",
     "metadata": {},
     "outputs": [],
     "prompt_number": null
    },
    {
     "cell_type": "code",
     "collapsed": false,
     "input": [
      "pycoa.hist(typeofhist='pie')"
     ],
     "language": "python",
     "metadata": {},
     "outputs": [],
     "prompt_number": null
    },
    {
     "cell_type": "code",
     "collapsed": false,
     "input": [
      "pycoa.map()"
     ],
     "language": "python",
     "metadata": {},
     "outputs": [],
     "prompt_number": null
    },
    {
     "cell_type": "markdown",
     "metadata": {},
     "source": [
      "Cette 'heatmap' nous indique le nombre de d\u00e9c\u00e8s \u00e0 l'hopital en France par mois et par ann\u00e9es. Tr\u00e8s int\u00e9ressante pour comparer les diff\u00e9rentes ann\u00e9es et pour voir quand l'\u00e9pidemie \u00e0 \u00e9t\u00e9 la plus forte."
     ]
    },
    {
     "cell_type": "markdown",
     "metadata": {},
     "source": [
      "### Options de Personnalisation des Graphiques\n",
      "\n",
      "En plus de choisir le type de visualisation, Pycoa permet \u00e9galement de personnaliser divers aspects des graphiques. Les options de personnalisation incluent :\n",
      "\n",
      "- **`mode`**: affiche les informations sur les courbes survol\u00e9es\n",
      "   - `'mouse'` (defaut)\n",
      "   - `'hline'` ligne horizontale\n",
      "   - `'vline'` ligne verticale \n",
      "- **`title`**: titre du graphique\n",
      "- **`textcopyright`**: nom accol\u00e9 au copyright \u24d2 pycoa.fr\n",
      "- **`plot_width`**: largeur du graphique (d\u00e9faut plot_width=500)\n",
      "- **`plot_height`**: hauteur du graphique (d\u00e9faut plot_height=380)"
     ]
    },
    {
     "cell_type": "code",
     "collapsed": false,
     "input": [
      "pycoa.setvisu(vis='bokeh', mode='hline', plot_width=600, plot_height=400, title='Mon graphique', textcopyright = '@myname')\n"
     ],
     "language": "python",
     "metadata": {},
     "outputs": [],
     "prompt_number": null
    },
    {
     "cell_type": "markdown",
     "metadata": {},
     "source": [
      "## &nbsp;&nbsp;&nbsp;G. - Les sorties, travailler sur les donn\u00e9es pour des traitements ult\u00e9rieurs\n"
     ]
    },
    {
     "cell_type": "markdown",
     "metadata": {},
     "source": [
      "**Liste des sorties disponibles :**"
     ]
    },
    {
     "cell_type": "code",
     "collapsed": false,
     "input": [
      "pycoa.listoutput()"
     ],
     "language": "python",
     "metadata": {},
     "outputs": [],
     "prompt_number": null
    },
    {
     "cell_type": "markdown",
     "metadata": {},
     "source": [
      "**Exemple avec pandas :**"
     ]
    },
    {
     "cell_type": "code",
     "collapsed": false,
     "input": [
      "A=pycoa.get(where=['Paris'], what='daily', which='tot_vacc_complet',output='pandas')\n",
      "A.head()"
     ],
     "language": "python",
     "metadata": {},
     "outputs": [],
     "prompt_number": null
    },
    {
     "cell_type": "markdown",
     "metadata": {},
     "source": [
      "### Sauvegarder les donn\u00e9es dans un fichier externe\n"
     ]
    },
    {
     "cell_type": "markdown",
     "metadata": {},
     "source": [
      "On utilisera pour se faire la fonction saveoutput.\n",
      "Celle-ci prend 3 arguments:\n",
      "\n",
      "- `pandas` : les donn\u00e9es \u00e0 sauvegarder dans un format Python pandas dataframe. Cette variable est n\u00e9cessaire, il n'y a pas de valeur par d\u00e9faut.\n",
      "- `saveformat` : le format du fichier \u00e0 sauvegarder excel (d\u00e9faut) ou csv.\n",
      "- `savename` : nom du fichier sauvegarder, (par d\u00e9faut le fichier \u00e0 le nom pycoaout + '.xlsx/.csv'."
     ]
    },
    {
     "cell_type": "code",
     "collapsed": false,
     "input": [
      "A=pycoa.get(which='tot_vacc_complet',where='Bretagne',output='pandas')\n",
      "pycoa.saveoutput(pandas=A,savename='monfichier',saveformat='csv')"
     ],
     "language": "python",
     "metadata": {
      "scrolled": true
     },
     "outputs": [],
     "prompt_number": null
    },
    {
     "cell_type": "markdown",
     "metadata": {},
     "source": [
      "On sauve le pandas dataframe A dans un fichier de format csv avec comme nom monfichier.csv. **Le fichier cr\u00e9\u00e9 se trouve au niveau du r\u00e9pertoire courant.**"
     ]
    },
    {
     "cell_type": "markdown",
     "metadata": {},
     "source": [
      "# 4. \u2014  Documentation\n",
      "\n",
      "Pour une documentation compl\u00e8te des instructions et des options de Pycoa, consultez le [wiki Pycoa](https://github.com/coa-project/pycoa/wiki/Accueil). Vous y trouverez une multitude de ressources pour vous aider \u00e0 tirer le meilleur parti du logiciel :\n",
      "\n",
      "* [R\u00e9cup\u00e9ration des donn\u00e9es et traitements](https://github.com/coa-project/pycoa/wiki/Donn%C3%A9es%2Ctraitements) : D\u00e9couvrez comment r\u00e9cup\u00e9rer les donn\u00e9es \u00e9pid\u00e9miologiques et effectuer divers traitements pour les analyser.\n",
      "* [Graphiques en courbes](https://github.com/coa-project/pycoa/wiki/Courbes) : Apprenez \u00e0 cr\u00e9er des graphiques en courbes pour visualiser l'\u00e9volution temporelle des donn\u00e9es.\n",
      "* [Histogrammes, secteurs et cartes](https://github.com/coa-project/pycoa/wiki/Diagrammes%2CCartes) : Explorez les diff\u00e9rentes options pour cr\u00e9er des histogrammes, des graphiques en secteurs et des cartes pour mieux comprendre les donn\u00e9es.\n",
      "* [Avanc\u00e9](https://github.com/coa-project/pycoa/wiki/Avance) : Plongez dans des fonctionnalit\u00e9s avanc\u00e9es de Pycoa pour des analyses plus approfondies et des visualisations personnalis\u00e9es.\n",
      "* [\u00c9tudes de cas](https://github.com/coa-project/pycoa/wiki/Etudes%2Cde%2Ccas) : D\u00e9couvrez les variables disponibles pour chaque base de donn\u00e9es.\n",
      "\n",
      "N'h\u00e9sitez pas \u00e0 nous contacter pour toute question ou assistance suppl\u00e9mentaire :\n",
      "\n",
      "Suivez-nous sur Twitter [@pycoa_fr](https://twitter.com/pycoa_fr) pour rester inform\u00e9 des derni\u00e8res mises \u00e0 jour et des astuces.\n",
      "\n",
      "Envoyez-nous un e-mail \u00e0 support@pycoa.fr, nous sommes l\u00e0 pour vous aider et r\u00e9pondre \u00e0 vos questions."
     ]
    },
    {
     "cell_type": "heading",
     "level": 1,
     "metadata": {},
     "source": [
      "\u00c0 vous de jouer ! "
     ]
    },
    {
     "cell_type": "code",
     "collapsed": false,
     "input": [],
     "language": "python",
     "metadata": {},
     "outputs": [],
     "prompt_number": null
    }
   ],
   "metadata": {}
  }
 ]
}