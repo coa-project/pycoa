{
 "cells": [
  {
   "cell_type": "markdown",
   "metadata": {
    "id": "xueZfi-b_sre"
   },
   "source": [
    "<img src=\"https://www.pycoa.fr/fig/logo-anime.gif\" alt=\"Pycoa\" width=\"125\">\n",
    "\n",
    "# Atelier du logiciel PyCoA [ⓒpycoa.fr](http://pycoa.fr) \n",
    "**Colloque Francophone International sur l’Enseignement de la Statistique à Rennes (novembre 2022)**\n",
    "https://cfies2022.sciencesconf.org/"
   ]
  },
  {
   "cell_type": "markdown",
   "metadata": {},
   "source": [
    "### NB: Il s'agit d'une introduction à Pycoa beaucoup d'autres fonctionnalités ne sont pas présentées ici."
   ]
  },
  {
   "cell_type": "markdown",
   "metadata": {},
   "source": [
    "# Ce Notebook peut être utilisé sans installer Pycoa en utilisant l'infrasctructure binder (https://mybinder.org/)⬇️⬇️⬇️⬇️⬇️⬇️"
   ]
  },
  {
   "cell_type": "markdown",
   "metadata": {},
   "source": [
    "# [![Binder](https://mybinder.org/badge_logo.svg)](https://mybinder.org/v2/gh/coa-project/pycoa/HEAD?labpath=coabook%2FPycoaCFIES2022.ipynb)"
   ]
  },
  {
   "cell_type": "markdown",
   "metadata": {},
   "source": [
    "## Suivant \"la charge\" des machines le déploiement peut prendre entre 1 et 5 min ..."
   ]
  },
  {
   "cell_type": "markdown",
   "metadata": {},
   "source": [
    "## Si vous voulez installer Pycoa en local veuillez suivre la procédure décrite ici https://github.com/coa-project/pycoa/wiki/Installation\n"
   ]
  },
  {
   "cell_type": "markdown",
   "metadata": {
    "id": "_hfa1G0M7Lc5"
   },
   "source": [
    "## Importation du package dans l'environement de développement"
   ]
  },
  {
   "cell_type": "code",
   "execution_count": null,
   "metadata": {
    "id": "a7S3ZtTKNkwn"
   },
   "outputs": [],
   "source": [
    "import coaenv as pycoa"
   ]
  },
  {
   "cell_type": "markdown",
   "metadata": {},
   "source": [
    "**Liste de toutes les databases disponibles : noms, iso3(ou ww pour world), Granularité, Pays/régions associées**"
   ]
  },
  {
   "cell_type": "code",
   "execution_count": null,
   "metadata": {},
   "outputs": [],
   "source": [
    "pycoa.listwhom(True)"
   ]
  },
  {
   "cell_type": "markdown",
   "metadata": {},
   "source": [
    "# Données françaises\n",
    "Santé Publique France (`spf`) diffuse les données afférentes à l'épidémie de COVID-19 en France. Malheureusement, contrairement aux autres bases de données, le format des données varie souvent, sans avertissement. Il arrive donc hélas que les commandes échouent, le temps d'apdater PyCoA aux dernières modifications."
   ]
  },
  {
   "cell_type": "code",
   "execution_count": null,
   "metadata": {},
   "outputs": [],
   "source": [
    "pycoa.setwhom('spf')"
   ]
  },
  {
   "cell_type": "markdown",
   "metadata": {},
   "source": [
    "## *Mots-clés*\n",
    "\n",
    "Différents mots-clés sont possibles pour les diverses instructions :\n",
    "\n",
    "*   `which`: donnée sélectionnée dans la base courante\n",
    "*   `what`: information de type `'cumul'`, `'daily'` ou `'weekly'`\n",
    "*   `where`: sélection de la localisation, localisation qui dépend de la base utilisée\n",
    "  *   pays, `list` de pays, région, continent…\n",
    "  *   département, `list` de départements, régions\n",
    "*   `option`: `'nonneg'`, `'nofillnan'`, `'smooth7'`, `'sumall'`\n",
    "*   `when`: fenêtre de date pour la donnée sélectionnée"
   ]
  },
  {
   "cell_type": "markdown",
   "metadata": {},
   "source": [
    "**On retrouve les variables epidémiologiques disponibles pour la DataBase chargée**"
   ]
  },
  {
   "cell_type": "code",
   "execution_count": null,
   "metadata": {},
   "outputs": [],
   "source": [
    "pycoa.listwhich()"
   ]
  },
  {
   "cell_type": "markdown",
   "metadata": {},
   "source": [
    "**On obtient la liste des régions (ou pays suivant la granularité de la base choisie)**"
   ]
  },
  {
   "cell_type": "code",
   "execution_count": null,
   "metadata": {},
   "outputs": [],
   "source": [
    "pycoa.listwhere() "
   ]
  },
  {
   "cell_type": "markdown",
   "metadata": {},
   "source": [
    "## *Instructions de PyCoA*\n",
    "*   `pycoa.plot` : pour les séries temporelles\n",
    "*   `pycoa.map` : pour une représentation sous forme de carte\n",
    "*   `pycoa.hist` : pour les histogrammes, avec pour option :\n",
    "  *   `typeofhist='bycountry'` (par défaut), pour un histogramme à barres horizontales, lieu par lieu\n",
    "  *   `typeofhist='byvalue'`, pour un histogramme à barres verticales, par valeurs\n",
    "  *   `typeofhist='pie'`, pour un camembert\n",
    "*   `pycoa.get` : pour récupérer les données, en vue d'un traitement ultérieur"
   ]
  },
  {
   "cell_type": "markdown",
   "metadata": {},
   "source": [
    "## Évolution temporelles"
   ]
  },
  {
   "cell_type": "code",
   "execution_count": null,
   "metadata": {},
   "outputs": [],
   "source": [
    "pycoa.plot(which='cur_rea',typeofplot='menulocation')"
   ]
  },
  {
   "cell_type": "code",
   "execution_count": null,
   "metadata": {},
   "outputs": [],
   "source": [
    "pycoa.plot(where='Bretagne',which='tot_vacc_complet')"
   ]
  },
  {
   "cell_type": "markdown",
   "metadata": {},
   "source": [
    "### Évolution journalières `what='daily'`"
   ]
  },
  {
   "cell_type": "code",
   "execution_count": null,
   "metadata": {},
   "outputs": [],
   "source": [
    "pycoa.plot(where='Paris',which='tot_vacc_complet',what='daily')"
   ]
  },
  {
   "cell_type": "markdown",
   "metadata": {},
   "source": [
    "### Évolution en utilisant `option='smooth7'`, semaine glissante sur 7 jours "
   ]
  },
  {
   "cell_type": "code",
   "execution_count": null,
   "metadata": {},
   "outputs": [],
   "source": [
    "pycoa.plot(where='Paris',which='tot_vacc_complet',what='daily',option='smooth7')"
   ]
  },
  {
   "cell_type": "markdown",
   "metadata": {},
   "source": [
    "## Histogrammes "
   ]
  },
  {
   "cell_type": "code",
   "execution_count": null,
   "metadata": {},
   "outputs": [],
   "source": [
    "pycoa.hist(where='Ile-de-France',which='tot_vacc_complet')"
   ]
  },
  {
   "cell_type": "markdown",
   "metadata": {},
   "source": [
    "### Diagramme en camembert "
   ]
  },
  {
   "cell_type": "code",
   "execution_count": null,
   "metadata": {},
   "outputs": [],
   "source": [
    "pycoa.hist(where='Bretagne',which='tot_vacc_complet',typeofhist='pie')"
   ]
  },
  {
   "cell_type": "markdown",
   "metadata": {},
   "source": [
    "## Cartes"
   ]
  },
  {
   "cell_type": "code",
   "execution_count": null,
   "metadata": {},
   "outputs": [],
   "source": [
    "pycoa.map(where=['Métropole'],which='tot_dchosp')"
   ]
  },
  {
   "cell_type": "markdown",
   "metadata": {},
   "source": [
    "Cette carte, comme les graphes précédent, est également interactive."
   ]
  },
  {
   "cell_type": "markdown",
   "metadata": {},
   "source": [
    "### Option `sumall`"
   ]
  },
  {
   "cell_type": "code",
   "execution_count": null,
   "metadata": {},
   "outputs": [],
   "source": [
    "pycoa.plot(where='Île-de-France',option='sumall')"
   ]
  },
  {
   "cell_type": "markdown",
   "metadata": {},
   "source": [
    "# Données mondiales\n",
    "Nous allons utiliser les données de [OWID](https://ourworldindata.org/coronavirus), certainement la base de données la plus complète sur le COVID-19.\n",
    "A priori les données concernant le nombre de cas et de décès doivent être identiques à celles affichées par [JHU](https://coronavirus.jhu.edu/map.html)"
   ]
  },
  {
   "cell_type": "markdown",
   "metadata": {},
   "source": [
    "### On charge la base de données"
   ]
  },
  {
   "cell_type": "code",
   "execution_count": null,
   "metadata": {},
   "outputs": [],
   "source": [
    "pycoa.setwhom('owid')"
   ]
  },
  {
   "cell_type": "markdown",
   "metadata": {},
   "source": [
    "## On charge la base de données\n",
    "### On affiche le nombre de décès total dans tous les pays du monde\n",
    "Par défaut, les données de tous les pays sont chargées ainsi que les données épidémiologique du 1er item de la liste sont chargées ici ``total_deaths'`\n"
   ]
  },
  {
   "cell_type": "code",
   "execution_count": null,
   "metadata": {},
   "outputs": [],
   "source": [
    "pycoa.map()"
   ]
  },
  {
   "cell_type": "markdown",
   "metadata": {},
   "source": [
    "### Autre type de carte"
   ]
  },
  {
   "cell_type": "code",
   "execution_count": null,
   "metadata": {},
   "outputs": [],
   "source": [
    "pycoa.map(visu='folium')"
   ]
  },
  {
   "cell_type": "markdown",
   "metadata": {},
   "source": [
    "### Histogramme du nombre de personnes totalement vaccinnées pour 100 habitants dans le pays du G20 `total_people_vaccinated_per_hundred`"
   ]
  },
  {
   "cell_type": "code",
   "execution_count": null,
   "metadata": {},
   "outputs": [],
   "source": [
    "pycoa.hist(where='G20',which='total_people_vaccinated_per_hundred')"
   ]
  },
  {
   "cell_type": "markdown",
   "metadata": {},
   "source": [
    "### Récupérer les données dans Pandas DataFrame Python"
   ]
  },
  {
   "cell_type": "code",
   "execution_count": null,
   "metadata": {},
   "outputs": [],
   "source": [
    "mypandas=pycoa.get(where='European Union',which='total_people_vaccinated_per_hundred')\n",
    "display(mypandas)"
   ]
  },
  {
   "cell_type": "markdown",
   "metadata": {},
   "source": [
    "## À vous de jouer: essayez d'autres bases de données"
   ]
  },
  {
   "cell_type": "markdown",
   "metadata": {},
   "source": [
    "### Pour avoir la liste de toutes les DB"
   ]
  },
  {
   "cell_type": "code",
   "execution_count": null,
   "metadata": {},
   "outputs": [],
   "source": [
    "pycoa.listwhom(True)"
   ]
  },
  {
   "cell_type": "markdown",
   "metadata": {},
   "source": [
    "# Documentation\n",
    "\n",
    "Une documentation plus complète des instructions et options de PyCoA se trouve sur le [wiki PyCoA](https://github.com/coa-project/pycoa/wiki/Accueil). En particulier consultez le menu affiché en bas à droite : \n",
    "* [Récupération des données et traitements](https://github.com/coa-project/pycoa/wiki/Donn%C3%A9es%2Ctraitements)\n",
    "* [Graphiques en courbes](https://github.com/coa-project/pycoa/wiki/Courbes)\n",
    "* [Histogrammes, secteurs et cartes](https://github.com/coa-project/pycoa/wiki/Diagrammes%2CCartes)\n",
    "* [Avancé](https://github.com/coa-project/pycoa/wiki/Avance)\n",
    "* [Études de cas](https://github.com/coa-project/pycoa/wiki/Etudes%2Cde%2Ccas)"
   ]
  },
  {
   "cell_type": "markdown",
   "metadata": {},
   "source": [
    "## Liens\n",
    "* Suivez-nous sur Twitter [@pycoa_fr](https://twitter.com/pycoa_fr)!\n",
    "* Le code https://github.com/coa-project/pycoa\n",
    "* Support support@pycoa.fr"
   ]
  }
 ],
 "metadata": {
  "colab": {
   "collapsed_sections": [],
   "include_colab_link": true,
   "name": "Salon de la Culture et des Jeux Mathématiques 2022",
   "provenance": [],
   "toc_visible": true
  },
  "kernelspec": {
   "display_name": "Python 3 (ipykernel)",
   "language": "python",
   "name": "python3"
  },
  "language_info": {
   "codemirror_mode": {
    "name": "ipython",
    "version": 3
   },
   "file_extension": ".py",
   "mimetype": "text/x-python",
   "name": "python",
   "nbconvert_exporter": "python",
   "pygments_lexer": "ipython3",
   "version": "3.9.6"
  }
 },
 "nbformat": 4,
 "nbformat_minor": 4
}
