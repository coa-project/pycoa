{
 "cells": [
  {
   "cell_type": "markdown",
   "metadata": {
    "id": "xueZfi-b_sre"
   },
   "source": [
    "<img src=\"https://www.pycoa.fr/fig/logo-anime.gif\" alt=\"Pycoa\" width=\"125\">\n",
    "\n",
    "# Démonstration du logiciel PyCoA [ⓒpycoa.fr](http://pycoa.fr) \n",
    "Colloque Francophone International sur l’Enseignement de la Statistique à Rennes (novembre 2022)\n",
    "https://cfies2022.sciencesconf.org/\n"
   ]
  },
  {
   "cell_type": "markdown",
   "metadata": {
    "id": "_hfa1G0M7Lc5"
   },
   "source": [
    "# Importation du package dans l'environement de développement"
   ]
  },
  {
   "cell_type": "markdown",
   "metadata": {},
   "source": [
    "**Import du package pycoa**"
   ]
  },
  {
   "cell_type": "code",
   "execution_count": null,
   "metadata": {
    "id": "a7S3ZtTKNkwn"
   },
   "outputs": [],
   "source": [
    "import coaenv as pycoa"
   ]
  },
  {
   "cell_type": "markdown",
   "metadata": {},
   "source": [
    "**Liste de toutes les database disponibles noms, iso3(ou ww pour world), Granularité, Pays/régions associées**"
   ]
  },
  {
   "cell_type": "code",
   "execution_count": null,
   "metadata": {},
   "outputs": [],
   "source": [
    "pycoa.listwhom(True)"
   ]
  },
  {
   "cell_type": "markdown",
   "metadata": {},
   "source": [
    "## Données françaises\n",
    "\n",
    "Santé Publique France (`spf`) diffuse les données afférentes à l'épidémie de COVID en France. Malheureusement, contrairement aux autres bases de données, le format des données varie souvent, sans avertissement. Il arrive donc hélas que les commandes échouent, le temps d'apdater PyCoA aux dernières modifications.\n",
    "\n",
    "Dans la cellule ci-dessous, **proposez une instruction pour sélectionner la base de donnée `spf`.**"
   ]
  },
  {
   "cell_type": "code",
   "execution_count": null,
   "metadata": {},
   "outputs": [],
   "source": [
    "pycoa.setwhom('spf')"
   ]
  },
  {
   "cell_type": "markdown",
   "metadata": {},
   "source": [
    "## *Mots-clés*\n",
    "\n",
    "Différents mots-clés sont possibles pour les diverses instructions :\n",
    "\n",
    "*   `which`: donnée sélectionnée dans la base courante\n",
    "*   `what`: information de type `'cumul'`, `'daily'` ou `'weekly'`\n",
    "*   `where`: sélection de la localisation, localisation qui dépend de la base utilisée\n",
    "  *   pays, `list` de pays, région, continent…\n",
    "  *   département, `list` de départements, régions\n",
    "*   `option`: `'nonneg'`, `'nofillnan'`, `'smooth7'`, `'sumall'`\n",
    "*   `when`: fenêtre de date pour la donnée sélectionnée"
   ]
  },
  {
   "cell_type": "markdown",
   "metadata": {},
   "source": [
    "**On retrouve les variables epidémilogisques disponibles pour la DataBase chargée**"
   ]
  },
  {
   "cell_type": "code",
   "execution_count": null,
   "metadata": {},
   "outputs": [],
   "source": [
    "pycoa.listwhich()"
   ]
  },
  {
   "cell_type": "markdown",
   "metadata": {},
   "source": [
    "## *Instructions de PyCoA*\n",
    "*   `pycoa.plot` : pour les séries temporelles\n",
    "*   `pycoa.map` : pour une représentation sous forme de carte\n",
    "*   `pycoa.hist` : pour les histogrammes, avec pour option\n",
    "  *   `typeofhist='bycountry'` (par défaut), pour un histogramme à barres horizontales, lieu par lieu\n",
    "  *   `typeofhist='byvalue'`, pour un histogramme à barres verticales, par valeurs\n",
    "  *   `typeofhist='pie'`, pour un camembert\n",
    "*   `pycoa.get` : pour récupérer les données, en vue d'un traitement ultérieur"
   ]
  },
  {
   "cell_type": "markdown",
   "metadata": {},
   "source": [
    "## Evolution temporelles"
   ]
  },
  {
   "cell_type": "code",
   "execution_count": null,
   "metadata": {},
   "outputs": [],
   "source": [
    "pycoa.plot(which='cur_rea',typeofplot='menulocation')"
   ]
  },
  {
   "cell_type": "markdown",
   "metadata": {},
   "source": [
    "Cette carte, comme les graphes précédent, est également interactive. ** Essayez de centrer la carte sur la France **.\n",
    "\n",
    "D'autres instructions existent dans PyCoA."
   ]
  },
  {
   "cell_type": "code",
   "execution_count": null,
   "metadata": {},
   "outputs": [],
   "source": [
    "pycoa.plot(where='Bretagne',which='tot_vacc_complet')"
   ]
  },
  {
   "cell_type": "markdown",
   "metadata": {},
   "source": [
    "## Histogramme "
   ]
  },
  {
   "cell_type": "code",
   "execution_count": null,
   "metadata": {},
   "outputs": [],
   "source": [
    "pycoa.hist(where='Bretagne',which='tot_vacc_complet')"
   ]
  },
  {
   "cell_type": "markdown",
   "metadata": {},
   "source": [
    "### Diagramme en camembert "
   ]
  },
  {
   "cell_type": "code",
   "execution_count": null,
   "metadata": {},
   "outputs": [],
   "source": [
    "pycoa.hist(where='Bretagne',which='tot_vacc_complet',typeofhist='pie')"
   ]
  },
  {
   "cell_type": "markdown",
   "metadata": {},
   "source": [
    "## Cartes"
   ]
  },
  {
   "cell_type": "code",
   "execution_count": null,
   "metadata": {},
   "outputs": [],
   "source": [
    "pycoa.map(where=['Métropole'],which='tot_dchosp')"
   ]
  },
  {
   "cell_type": "markdown",
   "metadata": {},
   "source": [
    "## *Documentation*\n",
    "\n",
    "Une documentation plus complète des instructions et options de PyCoA se trouve sur le [wiki PyCoA](https://github.com/coa-project/pycoa/wiki/Accueil). En particulier consultez le menu affiché en bas à droite : \n",
    "* [Récupération des données et traitements](https://github.com/coa-project/pycoa/wiki/Donn%C3%A9es%2Ctraitements)\n",
    "* [Graphiques en courbes](https://github.com/coa-project/pycoa/wiki/Courbes)\n",
    "* [Histogrammes, secteurs et cartes](https://github.com/coa-project/pycoa/wiki/Diagrammes%2CCartes)\n",
    "* [Avancé](https://github.com/coa-project/pycoa/wiki/Avance)\n",
    "* [Études de cas](https://github.com/coa-project/pycoa/wiki/Etudes%2Cde%2Ccas)"
   ]
  }
 ],
 "metadata": {
  "colab": {
   "collapsed_sections": [],
   "include_colab_link": true,
   "name": "Salon de la Culture et des Jeux Mathématiques 2022",
   "provenance": [],
   "toc_visible": true
  },
  "kernelspec": {
   "display_name": "Python 3 (ipykernel)",
   "language": "python",
   "name": "python3"
  },
  "language_info": {
   "codemirror_mode": {
    "name": "ipython",
    "version": 3
   },
   "file_extension": ".py",
   "mimetype": "text/x-python",
   "name": "python",
   "nbconvert_exporter": "python",
   "pygments_lexer": "ipython3",
   "version": "3.9.6"
  }
 },
 "nbformat": 4,
 "nbformat_minor": 4
}
