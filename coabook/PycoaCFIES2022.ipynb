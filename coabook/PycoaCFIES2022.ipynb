{
 "cells": [
  {
   "cell_type": "markdown",
   "metadata": {
    "id": "xueZfi-b_sre"
   },
   "source": [
    "<img src=\"https://www.pycoa.fr/fig/logo-anime.gif\" alt=\"Pycoa\" width=\"125\">\n",
    "\n",
    "# Atelier logiciel Pycoa [ⓒpycoa.fr](http://pycoa.fr) \n",
    "\n",
    "Ce notebook a été présenté lors de l'atelier numérique du Colloque Francophone International sur l’Enseignement de la Statistique ([CFIES](https://cfies2022.sciencesconf.org/)) à Rennes, le 24 novembre 2022. Il s'agit d'une introduction à [Pycoa](http://pycoa.fr) beaucoup d'autres fonctionnalités ne sont pas présentées ici.\n",
    "\n"
   ]
  },
  {
   "attachments": {
    "image-2.png": {
     "image/png": "[encoded data removed]"
    }
   },
   "cell_type": "markdown",
   "metadata": {
    "tags": []
   },
   "source": [
    "# 1. — Installation de [Pycoa](http://pycoa.fr)\n",
    "\n",
    "## En ligne\n",
    "\n",
    "Il est possible d'utiliser ce notebook en ligne, sans installation locale à l'aide de l'infrastructure [Binder](https://mybinder.org/). Pour cela, cliquer sur l'icône suivante : \n",
    "\n",
    "\n",
    "[![image-2.png](attachment:image-2.png)](https://mybinder.org/v2/gh/coa-project/pycoa/HEAD?labpath=coabook%2FPycoaCFIES2022.ipynb)\n",
    "\n",
    "\n",
    "[![Binder](https://mybinder.org/badge_logo.svg)](https://mybinder.org/v2/gh/coa-project/pycoa/HEAD?labpath=coabook%2FPycoaCFIES2022.ipynb)\n",
    "\n",
    "Suivant l'occupation des serveurs Binder le déploiement peut prendre entre 1 min et 5 min.\n",
    "\n",
    "## Localement\n",
    "\n",
    "Pour installer [Pycoa](http://pycoa.fr) sur son propre ordinateur, il faut suivre la procédure décrite sur le [wiki de Pycoa](https://github.com/coa-project/pycoa/wiki/Installation). \n"
   ]
  },
  {
   "cell_type": "markdown",
   "metadata": {
    "id": "_hfa1G0M7Lc5"
   },
   "source": [
    "# 2. — Utilisation de [Pycoa](http://pycoa.fr)\n",
    "\n",
    "## A. — Importation de la librairie\n",
    "\n",
    "Dans le code, il faut d'abord importer la librairie (_package_) dans l'environnement de développement."
   ]
  },
  {
   "cell_type": "code",
   "execution_count": null,
   "metadata": {
    "id": "a7S3ZtTKNkwn"
   },
   "outputs": [],
   "source": [
    "import coaenv as pycoa"
   ]
  },
  {
   "cell_type": "markdown",
   "metadata": {},
   "source": [
    "## B. — Séléction de la base de données\n",
    "\n",
    "Plusieurs bases de données liées au Covid-19 sont exploitables. \n",
    "\n",
    "1. La première des instructions suivantes donne la liste des bases disponibles, avec leur nom, le code pays au format [ISO 3166-1 alpha 3](https://fr.wikipedia.org/wiki/ISO_3166-1#Table_de_codage) (ou ww pour world), le niveau de détail géographique (granularité), le pays ou les régions associées.\n",
    "\n",
    "2. Pour l'exemple, la seconde instruction permet de séléctionner la principale base de données _française_, produite par Santé Publique France (la base de données s'appelle donc `spf`). "
   ]
  },
  {
   "cell_type": "code",
   "execution_count": null,
   "metadata": {},
   "outputs": [],
   "source": [
    "pycoa.listwhom(True)"
   ]
  },
  {
   "cell_type": "code",
   "execution_count": null,
   "metadata": {},
   "outputs": [],
   "source": [
    "pycoa.setwhom('spf')"
   ]
  },
  {
   "cell_type": "markdown",
   "metadata": {},
   "source": [
    "Santé Publique France diffuse les données afférentes à l'épidémie de Covid-19 en France. De manière regrettable, et contrairement aux autres bases de données, le format des données varie fréquemment et sans avertissement. Il arrive donc hélas que certaines commandes échouent, le temps d'apdater [Pycoa](http://pycoa.fr) aux dernières modifications."
   ]
  },
  {
   "cell_type": "markdown",
   "metadata": {},
   "source": [
    "## C. — Contenu des bases de données\n",
    "\n",
    "La liste des _variables epidémiologiques_ disponibles pour la base de donnée sélectionnée est donnée par l'instruction suivante : "
   ]
  },
  {
   "cell_type": "code",
   "execution_count": null,
   "metadata": {},
   "outputs": [],
   "source": [
    "pycoa.listwhich()"
   ]
  },
  {
   "cell_type": "markdown",
   "metadata": {},
   "source": [
    "La liste des _zones géographiques_ accessibles dans la base de donnée sélectionnée est quant à elle donnée par l'instruction suivante : "
   ]
  },
  {
   "cell_type": "code",
   "execution_count": null,
   "metadata": {},
   "outputs": [],
   "source": [
    "pycoa.listwhere() "
   ]
  },
  {
   "cell_type": "markdown",
   "metadata": {},
   "source": [
    "Différents mots-clés permettent de récupérer des informations spécifiques de la base de donnée : \n",
    "\n",
    "- `which`: _variables epidémiologiques_ d'intérêt (donnée sélectionnée)\n",
    "- `where`: sélection de la (ou les) zone(s) géographique(s) :\n",
    "   - pays, `list` de pays, région, continent…\n",
    "   - département, `list` de départements, régions…\n",
    "- `what`: dans le cas d'une série temporelle :\n",
    "   - `'cumul'` dans le cas où on veut voir la somme de tout ce qu'il s'est passé\n",
    "   - `'daily'` pour les valeurs journalières\n",
    "   - `'weekly'` pour les valeurs hebdomadaires\n",
    "- `when`: fenêtre de dates pour la donnée sélectionnée\n",
    "- `option`: \n",
    "   - `'nonneg'` : lisse les données pour éviter les valeurs négatives (corrections a posteriori)\n",
    "   - `'nofillnan'` : par défaut les données cumulées qui n'ont pas de valeurs (\"Not a Number\" ou Nan) sont remplacées par les valeurs du jour précedent, `'nofillnan'` supprime ce remplissage\n",
    "   - `'smooth7'` : lisse les données sur 7 jours pour faire disparaître les fluctuations liées par exemple aux weekends\n",
    "   - `'sumall'` : somme toutes les valeurs présentes\n"
   ]
  },
  {
   "cell_type": "markdown",
   "metadata": {},
   "source": [
    "## D. — Instructions de Pycoa\n",
    "\n",
    "Pycoa permet à la fois d'importer les données d'une base de donnnée publique, mais également de les représenter et de les récupérer pour les exporter Les instructions suivantes\n",
    "\n",
    "- `pycoa.plot` : pour représenter la donnée sélectionnée en fonction du temps (série temporelle)\n",
    "- `pycoa.map` : pour une représentation sous forme de carte\n",
    "- `pycoa.hist` : pour les histogrammes, avec pour option :\n",
    "  - `typeofhist='bycountry'` (par défaut), pour un histogramme à barres horizontales, lieu par lieu\n",
    "  - `typeofhist='byvalue'`, pour un histogramme à barres verticales, par valeurs\n",
    "  - `typeofhist='pie'`, pour un \"camembert\"\n",
    "- `pycoa.get` : pour récupérer les données, en vue d'un traitement ultérieur."
   ]
  },
  {
   "cell_type": "markdown",
   "metadata": {},
   "source": [
    "# 3. — Exemples\n",
    "\n",
    "## A. — Évolution temporelle"
   ]
  },
  {
   "cell_type": "code",
   "execution_count": null,
   "metadata": {},
   "outputs": [],
   "source": [
    "pycoa.plot(which='cur_rea', typeofplot='menulocation')"
   ]
  },
  {
   "cell_type": "code",
   "execution_count": null,
   "metadata": {},
   "outputs": [],
   "source": [
    "pycoa.plot(which='tot_vacc_complet', where='Bretagne')"
   ]
  },
  {
   "cell_type": "code",
   "execution_count": null,
   "metadata": {},
   "outputs": [],
   "source": [
    "pycoa.plot(which='tot_vacc_complet', where='Paris', what='daily')"
   ]
  },
  {
   "cell_type": "code",
   "execution_count": null,
   "metadata": {},
   "outputs": [],
   "source": [
    "pycoa.plot(which='tot_vacc_complet', where='Paris', what='daily', option='smooth7')"
   ]
  },
  {
   "cell_type": "code",
   "execution_count": null,
   "metadata": {},
   "outputs": [],
   "source": [
    "pycoa.plot(where='Île-de-France', option='sumall')"
   ]
  },
  {
   "cell_type": "markdown",
   "metadata": {},
   "source": [
    "## B. — Cartes\n",
    "\n",
    "Les cartes, tout comme les graphes cartésiens précédents, sont interactives."
   ]
  },
  {
   "cell_type": "code",
   "execution_count": null,
   "metadata": {},
   "outputs": [],
   "source": [
    "pycoa.map(where=['Métropole'],which='tot_dchosp')"
   ]
  },
  {
   "cell_type": "markdown",
   "metadata": {},
   "source": [
    "## C. — Histogrammes"
   ]
  },
  {
   "cell_type": "code",
   "execution_count": null,
   "metadata": {},
   "outputs": [],
   "source": [
    "pycoa.hist(where='Ile-de-France', which='tot_vacc_complet')"
   ]
  },
  {
   "cell_type": "code",
   "execution_count": null,
   "metadata": {},
   "outputs": [],
   "source": [
    "pycoa.hist(where='Bretagne' ,which='tot_vacc_complet', typeofhist='pie')"
   ]
  },
  {
   "cell_type": "markdown",
   "metadata": {},
   "source": [
    "## D. — Récupération de données\n",
    "\n",
    "Il est possible de récupérer les données dans un Pandas DataFrame, structure de données similaire à un tableau Excel, géré par la bibliothèsque `pandas`."
   ]
  },
  {
   "cell_type": "code",
   "execution_count": null,
   "metadata": {},
   "outputs": [],
   "source": [
    "mydf= pycoa.get(where='European Union', which='total_people_vaccinated_per_hundred')\n",
    "display(mydf)"
   ]
  },
  {
   "cell_type": "markdown",
   "metadata": {},
   "source": [
    "## E. — Travailler sur une autre base de données\n",
    "\n",
    "Pour cet exemple, nous utilisons les données de [OWID](https://ourworldindata.org/coronavirus), certainement la base de données la plus complète sur le Covid-19. A priori les données concernant le nombre de cas et de décès sont identiques à celles affichées par la Johns Hopkins University, l'une des première institutions à suivre l'épidémie [JHU](https://coronavirus.jhu.edu/map.html)."
   ]
  },
  {
   "cell_type": "markdown",
   "metadata": {},
   "source": [
    "### Chargement de la base de données"
   ]
  },
  {
   "cell_type": "code",
   "execution_count": null,
   "metadata": {},
   "outputs": [],
   "source": [
    "pycoa.setwhom('owid')"
   ]
  },
  {
   "cell_type": "markdown",
   "metadata": {},
   "source": [
    "### Représentation géographique du nombre de décès dus au Covid-19\n",
    "\n",
    "Par défaut, les données épidémiologiques chargées sont 1er item de la base, ici ``total_deaths'` soit le nombre total de morts. La fonction `pycoa.map` représente la carte des zones géographiques liées à la base, ici l'ensemble des pays du monde.\n",
    "\n",
    "L'option `visu='folium'` modifie à la marge la carte."
   ]
  },
  {
   "cell_type": "code",
   "execution_count": null,
   "metadata": {},
   "outputs": [],
   "source": [
    "pycoa.map()"
   ]
  },
  {
   "cell_type": "code",
   "execution_count": null,
   "metadata": {},
   "outputs": [],
   "source": [
    "pycoa.map(visu='folium')"
   ]
  },
  {
   "cell_type": "markdown",
   "metadata": {},
   "source": [
    "### Histogramme du nombre de personnes vaccinnées pour 100 habitants\n",
    "\n",
    "Il est possible de choisir un sous-ensemble des pays du monde en précisant le mot clé `where` ; ici on choisit les pays du G20. D'autres options analogues sont possibles, qu'on peut récupérer comme précédemment expliqué à l'aide de la fonction `pycoa.listwhere()`."
   ]
  },
  {
   "cell_type": "code",
   "execution_count": null,
   "metadata": {},
   "outputs": [],
   "source": [
    "pycoa.hist(which='total_people_vaccinated_per_hundred', where='G20')"
   ]
  },
  {
   "cell_type": "markdown",
   "metadata": {},
   "source": [
    "# 4. —  Documentation\n",
    "\n",
    "Une documentation plus complète des instructions et options de Pycoa se trouve sur le [wiki Pycoa](https://github.com/coa-project/pycoa/wiki/Accueil). En particulier consultez le menu affiché en bas à droite : \n",
    "* [Récupération des données et traitements](https://github.com/coa-project/pycoa/wiki/Donn%C3%A9es%2Ctraitements)\n",
    "* [Graphiques en courbes](https://github.com/coa-project/pycoa/wiki/Courbes)\n",
    "* [Histogrammes, secteurs et cartes](https://github.com/coa-project/pycoa/wiki/Diagrammes%2CCartes)\n",
    "* [Avancé](https://github.com/coa-project/pycoa/wiki/Avance)\n",
    "* [Études de cas](https://github.com/coa-project/pycoa/wiki/Etudes%2Cde%2Ccas)\n",
    " \n",
    "Les auteurs du logiciel sont disponibles pour vous aider : \n",
    "* suivez-nous sur Twitter [@pycoa_fr](https://twitter.com/pycoa_fr),\n",
    "* ou écrivez-nous à support@pycoa.fr !"
   ]
  },
  {
   "cell_type": "code",
   "execution_count": null,
   "metadata": {},
   "outputs": [],
   "source": []
  }
 ],
 "metadata": {
  "colab": {
   "collapsed_sections": [],
   "include_colab_link": true,
   "name": "Salon de la Culture et des Jeux Mathématiques 2022",
   "provenance": [],
   "toc_visible": true
  },
  "kernelspec": {
   "display_name": "Python 3 (ipykernel)",
   "language": "python",
   "name": "python3"
  },
  "language_info": {
   "codemirror_mode": {
    "name": "ipython",
    "version": 3
   },
   "file_extension": ".py",
   "mimetype": "text/x-python",
   "name": "python",
   "nbconvert_exporter": "python",
   "pygments_lexer": "ipython3",
   "version": "3.9.6"
  }
 },
 "nbformat": 4,
 "nbformat_minor": 4
}
