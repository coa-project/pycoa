{
 "cells": [
  {
   "cell_type": "code",
   "execution_count": null,
   "id": "8b0810c8",
   "metadata": {
    "scrolled": true
   },
   "outputs": [],
   "source": [
    "import coa.front as cf"
   ]
  },
  {
   "cell_type": "code",
   "execution_count": null,
   "id": "68e312ac",
   "metadata": {},
   "outputs": [],
   "source": [
    "cf.getversion()"
   ]
  },
  {
   "cell_type": "code",
   "execution_count": null,
   "id": "23c85767",
   "metadata": {},
   "outputs": [],
   "source": [
    "!cat .git/FETCH_HEAD"
   ]
  },
  {
   "cell_type": "code",
   "execution_count": null,
   "id": "51aa5f28",
   "metadata": {
    "scrolled": false
   },
   "outputs": [],
   "source": [
    "# Test rapide des bases\n",
    "from IPython.display import Markdown\n",
    "import random\n",
    "display(cf.listwhom())\n",
    "n=0\n",
    "for db in cf.listwhom():\n",
    "    n=n+1\n",
    "    #if n<8:\n",
    "    #    continue\n",
    "    if db == 'risklayer':\n",
    "        continue\n",
    "    display(Markdown('# '+db))\n",
    "    if db != cf.getwhom():\n",
    "        cf.setwhom(db)\n",
    "    w=random.choices(cf.listwhere(),k=3)\n",
    "    print(w)\n",
    "    cf.plot(where=w)"
   ]
  },
  {
   "cell_type": "code",
   "execution_count": null,
   "id": "6a665c42",
   "metadata": {},
   "outputs": [],
   "source": [
    "# Test des maps\n",
    "cf.setwhom('jhu')\n",
    "cf.map(visu='bokeh',tile='openstreet')\n",
    "cf.map(visu='bokeh',tile='esri')\n",
    "cf.map(visu='bokeh',tile='positron')\n",
    "cf.map(visu='bokeh',tile='stamen')"
   ]
  },
  {
   "cell_type": "code",
   "execution_count": null,
   "id": "10ce8127",
   "metadata": {},
   "outputs": [],
   "source": [
    "cf.map(visu='folium',tile='openstreet')"
   ]
  },
  {
   "cell_type": "code",
   "execution_count": null,
   "id": "5e2344d5",
   "metadata": {},
   "outputs": [],
   "source": [
    "cf.map(visu='folium',tile='esri')"
   ]
  },
  {
   "cell_type": "code",
   "execution_count": null,
   "id": "58fea3a4",
   "metadata": {},
   "outputs": [],
   "source": [
    "cf.map(visu='folium',tile='positron')"
   ]
  },
  {
   "cell_type": "code",
   "execution_count": null,
   "id": "e21aa938",
   "metadata": {},
   "outputs": [],
   "source": [
    "cf.map(visu='folium',tile='stamen')"
   ]
  },
  {
   "cell_type": "code",
   "execution_count": null,
   "id": "471e4265",
   "metadata": {
    "scrolled": false
   },
   "outputs": [],
   "source": [
    "print('default')\n",
    "cf.plot()\n",
    "cf.map()\n",
    "cf.hist()\n",
    "display(cf.get().head())\n",
    "for whi in cf.listwhich():\n",
    "    for wha in cf.listwhat():\n",
    "        lo=cf.listoption()\n",
    "        lo.append('')\n",
    "        for opt in lo:\n",
    "            for plo in cf.listplot():\n",
    "                print(whi,wha,opt,plo)\n",
    "                if plo in ['spiral','yearly','versus']:\n",
    "                    continue\n",
    "                if plo == 'menulocation' and opt=='sumall':\n",
    "                    continue\n",
    "                cf.plot(which=whi,what=wha,option=opt,typeofplot=plo)\n",
    "            for his in cf.listhist():\n",
    "                print(whi,wha,opt,his)\n",
    "                cf.hist(which=whi,what=wha,option=opt,typeofhist=his)\n",
    "            print(whi,wha,opt,'map bokeh')\n",
    "            cf.map(which=whi,what=wha,option=opt)#,tile=til,visu=vis)"
   ]
  },
  {
   "cell_type": "code",
   "execution_count": null,
   "id": "d88f9cb4",
   "metadata": {},
   "outputs": [],
   "source": [
    "# Aspects complexes à tester\n",
    "cf.plot(where=[['European Union'],['USA'],['Oceania']],option='sumall',typeofplot='menulocation')"
   ]
  },
  {
   "cell_type": "code",
   "execution_count": null,
   "id": "aae56b0c",
   "metadata": {
    "scrolled": false
   },
   "outputs": [],
   "source": [
    "from IPython.display import Markdown\n",
    "display(cf.listwhom())\n",
    "n=0\n",
    "for db in cf.listwhom():\n",
    "    n=n+1\n",
    "    #if n<8:\n",
    "    #    continue\n",
    "    display(Markdown('# '+db))\n",
    "    cf.setwhom(db)\n",
    "    cf.plot()\n",
    "    cf.map()\n",
    "    cf.hist()\n",
    "    display(cf.get())\n",
    "    cf.hist(typeofhist='pie')\n",
    "    cf.hist(typeofhist='byvalue')\n",
    "    for w in cf.listwhich():\n",
    "        cf.plot(which=w)\n",
    "        cf.plot(which=w,option='sumall')"
   ]
  },
  {
   "cell_type": "code",
   "execution_count": null,
   "id": "b07cea90",
   "metadata": {
    "scrolled": true
   },
   "outputs": [],
   "source": []
  }
 ],
 "metadata": {
  "kernelspec": {
   "display_name": "Python 3 (ipykernel)",
   "language": "python",
   "name": "python3"
  },
  "language_info": {
   "codemirror_mode": {
    "name": "ipython",
    "version": 3
   },
   "file_extension": ".py",
   "mimetype": "text/x-python",
   "name": "python",
   "nbconvert_exporter": "python",
   "pygments_lexer": "ipython3",
   "version": "3.7.4"
  }
 },
 "nbformat": 4,
 "nbformat_minor": 5
}
