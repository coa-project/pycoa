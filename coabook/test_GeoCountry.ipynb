{
  "nbformat": 4,
  "nbformat_minor": 0,
  "metadata": {
    "kernelspec": {
      "display_name": "Python 3",
      "language": "python",
      "name": "python3"
    },
    "language_info": {
      "codemirror_mode": {
        "name": "ipython",
        "version": 3
      },
      "file_extension": ".py",
      "mimetype": "text/x-python",
      "name": "python",
      "nbconvert_exporter": "python",
      "pygments_lexer": "ipython3",
      "version": "3.8.5"
    },
    "colab": {
      "name": "test_GeoCountry.ipynb",
      "provenance": [],
      "collapsed_sections": [],
      "include_colab_link": true
    }
  },
  "cells": [
    {
      "cell_type": "markdown",
      "metadata": {
        "id": "view-in-github",
        "colab_type": "text"
      },
      "source": [
        "<a href=\"https://colab.research.google.com/github/coa-project/coabook/blob/master/test_GeoCountry.ipynb\" target=\"_parent\"><img src=\"https://colab.research.google.com/assets/colab-badge.svg\" alt=\"Open In Colab\"/></a>"
      ]
    },
    {
      "cell_type": "markdown",
      "metadata": {
        "id": "vbduyVliLxII"
      },
      "source": [
        "<a href=\"https://nbviewer.jupyter.org/github/coa-project/coabook/blob/master/test_GeoInfo.ipynb\" target=\"_parent\" ><img src=\"https://raw.githubusercontent.com/jupyter/design/master/logos/Badges/nbviewer_badge.svg\" height=\"25\"  alt=\"View in Jupyter nbviewwer\" align=\"middle\" /></a>"
      ]
    },
    {
      "cell_type": "markdown",
      "metadata": {
        "id": "9YWQ49HqBKpL"
      },
      "source": [
        "![logo-bitmap-small.png](data:image/png;base64,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)\n",
        "\n",
        "# Testing coa.geo.GeoCountry\n",
        "[ⓒpycoa.fr](https://pycoa.fr)\n",
        "\n",
        "This notebook is designed for the v2.0 version of pycoa."
      ]
    },
    {
      "cell_type": "markdown",
      "metadata": {
        "id": "KUSRXNOv_yKL"
      },
      "source": [
        "Within the `cocoa.geo`, the `GeoCountry` provide data for specific countries, according to local database needs, such as SPF for France or JHU-USA for US."
      ]
    },
    {
      "cell_type": "markdown",
      "metadata": {
        "id": "j_iJOSWR_yKL"
      },
      "source": [
        "## Making  PyCoA available"
      ]
    },
    {
      "cell_type": "code",
      "metadata": {
        "id": "nB9MdWTLNcLi",
        "colab": {
          "base_uri": "https://localhost:8080/"
        },
        "outputId": "062045c4-b0c2-4ec1-b2fb-156922b99949"
      },
      "source": [
        "!pip install --quiet git+https://github.com/coa-project/pycoa.git@v2.0\n",
        "# !pip install --quiet --user git+https://github.com/coa-project/pycoa.git@v2.0   # One may need to add the --user option at the \"pip install\" command, if it fails due to privilege lack. Under google colab, you must not add this option."
      ],
      "execution_count": 1,
      "outputs": [
        {
          "output_type": "stream",
          "text": [
            "\u001b[K     |████████████████████████████████| 163kB 6.7MB/s \n",
            "\u001b[K     |████████████████████████████████| 61kB 4.8MB/s \n",
            "\u001b[K     |████████████████████████████████| 102kB 5.1MB/s \n",
            "\u001b[K     |████████████████████████████████| 972kB 10.0MB/s \n",
            "\u001b[K     |████████████████████████████████| 10.1MB 23.0MB/s \n",
            "\u001b[K     |████████████████████████████████| 286kB 45.4MB/s \n",
            "\u001b[K     |████████████████████████████████| 245kB 48.6MB/s \n",
            "\u001b[K     |████████████████████████████████| 14.8MB 340kB/s \n",
            "\u001b[K     |████████████████████████████████| 6.5MB 57.3MB/s \n",
            "\u001b[K     |████████████████████████████████| 245kB 33.9MB/s \n",
            "\u001b[?25h  Building wheel for PyCoA (setup.py) ... \u001b[?25l\u001b[?25hdone\n",
            "  Building wheel for datascroller (setup.py) ... \u001b[?25l\u001b[?25hdone\n",
            "  Building wheel for pycountry (setup.py) ... \u001b[?25l\u001b[?25hdone\n",
            "  Building wheel for pandasql (setup.py) ... \u001b[?25l\u001b[?25hdone\n",
            "\u001b[31mERROR: datascience 0.10.6 has requirement coverage==3.7.1, but you'll have coverage 5.4 which is incompatible.\u001b[0m\n",
            "\u001b[31mERROR: datascience 0.10.6 has requirement folium==0.2.1, but you'll have folium 0.12.1 which is incompatible.\u001b[0m\n",
            "\u001b[31mERROR: coveralls 0.5 has requirement coverage<3.999,>=3.6, but you'll have coverage 5.4 which is incompatible.\u001b[0m\n"
          ],
          "name": "stdout"
        }
      ]
    },
    {
      "cell_type": "markdown",
      "metadata": {
        "id": "xoJ-nMtMODj5"
      },
      "source": [
        "If `pycoa` is already installed on your system but is not in your path, you should specfiy it with the next lines (with the correct path); then please uncomment the second line."
      ]
    },
    {
      "cell_type": "code",
      "metadata": {
        "id": "zJrQDA6pOKKF"
      },
      "source": [
        "# import sys    # adapt the path for local install, if necessary. Under google colab, do not change anything\n",
        "# sys.path.insert(1, '../pycoa')   "
      ],
      "execution_count": 2,
      "outputs": []
    },
    {
      "cell_type": "code",
      "metadata": {
        "id": "uJQ_aBjYONuI"
      },
      "source": [
        "# testing the correct install of pycoa\n",
        "import importlib\n",
        "coa_module_info = importlib.util.find_spec(\"coa\")\n",
        "if coa_module_info == None:\n",
        "  raise ModuleNotFoundError(\"The coa module is not found. Please check your install\")\n",
        "\n",
        "import coa\n",
        "if coa.__version__ != 'v2.0':\n",
        "  raise ImportError(\"The pycoa package version is incorrect. Expecting v2.0\")"
      ],
      "execution_count": 3,
      "outputs": []
    },
    {
      "cell_type": "code",
      "metadata": {
        "id": "5BJWf5r5_yKM"
      },
      "source": [
        "from coa.geo import GeoCountry as gc"
      ],
      "execution_count": 4,
      "outputs": []
    },
    {
      "cell_type": "markdown",
      "metadata": {
        "id": "wHzZiDQq_yKN"
      },
      "source": [
        "## Getting some help"
      ]
    },
    {
      "cell_type": "code",
      "metadata": {
        "id": "LJFPPsiu_yKN",
        "colab": {
          "base_uri": "https://localhost:8080/"
        },
        "outputId": "a5a00d66-f619-4d17-83d9-7092dc770637"
      },
      "source": [
        "help(gc)"
      ],
      "execution_count": 5,
      "outputs": [
        {
          "output_type": "stream",
          "text": [
            "Help on class GeoCountry in module coa.geo:\n",
            "\n",
            "class GeoCountry(builtins.object)\n",
            " |  GeoCountry class definition.\n",
            " |  This class provides functions for specific countries and their states / departments / regions,\n",
            " |  and their geo properties (geometry, population if available, etc.)\n",
            " |  \n",
            " |  The list of supported countries is given by get_list_countries() function.\n",
            " |  \n",
            " |  Methods defined here:\n",
            " |  \n",
            " |  __init__(self, country=None, **kwargs)\n",
            " |      __init__ member function.\n",
            " |      Must give as arg the country to deal with, as a valid ISO3 string.\n",
            " |      \n",
            " |      Various args :\n",
            " |       - dense_geometry (boolean). If True , the geometry of subregions and\n",
            " |         region is changed in order to have dense overall geometry.\n",
            " |         Default False.\n",
            " |       - main_area (boolean). If True, only the geometry of the main area of\n",
            " |         the country is taken into account.\n",
            " |  \n",
            " |  add_field(self, **kwargs)\n",
            " |      Return a the data pandas.Dataframe with an additionnal column with property prop.\n",
            " |      \n",
            " |      Arguments :\n",
            " |      input        : pandas.Dataframe object. Mandatory.\n",
            " |      field        : field of properties to add. Should be within the get_list_prop() list. Mandatory.\n",
            " |      input_key    : input geo key of the input pandas dataframe. Default  'where'\n",
            " |      geofield     : internal geo field to make the merge. Default 'code_subregion'\n",
            " |      region_merging : Boolean value. Default False, except if the geofield contains '_region'.\n",
            " |                     If True, the merge between input dans GeoCountry data is done within the\n",
            " |                     region version of the data, not the subregion data which is the default\n",
            " |                     behavious.\n",
            " |      overload   : Allow to overload a field. Boolean value. Default : False\n",
            " |  \n",
            " |  get_country(self)\n",
            " |      Return the current country used.\n",
            " |  \n",
            " |  get_data(self, region_version=False)\n",
            " |      Return the whole geopandas data\n",
            " |  \n",
            " |  get_list_countries(self)\n",
            " |      This function returns back the list of supported countries\n",
            " |  \n",
            " |  get_list_properties(self)\n",
            " |      Return the list of available properties for the current country\n",
            " |  \n",
            " |  get_region_list(self)\n",
            " |      Return the list of available regions with code, name and geometry\n",
            " |  \n",
            " |  get_source(self)\n",
            " |      Return informations about URL sources\n",
            " |  \n",
            " |  get_subregion_list(self)\n",
            " |      Return the list of available subregions with code, name and geometry\n",
            " |  \n",
            " |  get_subregions_from_list_of_region_names(self, l)\n",
            " |      Return the list of subregions according to list of region names given\n",
            " |  \n",
            " |  get_subregions_from_region(self, **kwargs)\n",
            " |      Return the list of subregions within a specified region.\n",
            " |      Should give either the code or the name of the region as strings in kwarg : code=# or name=#\n",
            " |  \n",
            " |  is_init(self)\n",
            " |      Test if the country is initialized. Return True if it is. False if not.\n",
            " |  \n",
            " |  test_is_init(self)\n",
            " |      Test if the country is initialized. If not, raise a CoaDbError.\n",
            " |  \n",
            " |  ----------------------------------------------------------------------\n",
            " |  Data descriptors defined here:\n",
            " |  \n",
            " |  __dict__\n",
            " |      dictionary for instance variables (if defined)\n",
            " |  \n",
            " |  __weakref__\n",
            " |      list of weak references to the object (if defined)\n",
            "\n"
          ],
          "name": "stdout"
        }
      ]
    },
    {
      "cell_type": "markdown",
      "metadata": {
        "id": "1WQL5sXl_yKP"
      },
      "source": [
        "## Usage"
      ]
    },
    {
      "cell_type": "code",
      "metadata": {
        "colab": {
          "base_uri": "https://localhost:8080/"
        },
        "id": "9JFC4wiYr5_u",
        "outputId": "918d4eb9-d415-448c-e2eb-72e9278eb022"
      },
      "source": [
        "gc().get_list_countries() # get supported list of countries"
      ],
      "execution_count": 8,
      "outputs": [
        {
          "output_type": "execute_result",
          "data": {
            "text/plain": [
              "['FRA', 'USA']"
            ]
          },
          "metadata": {
            "tags": []
          },
          "execution_count": 8
        }
      ]
    },
    {
      "cell_type": "code",
      "metadata": {
        "id": "G5_e1c05_yKP"
      },
      "source": [
        "fra=gc('FRA') # Create the instance of GeoCountry for France"
      ],
      "execution_count": 10,
      "outputs": []
    },
    {
      "cell_type": "markdown",
      "metadata": {
        "id": "deE0CxmC_yKP"
      },
      "source": [
        "### Informations for a specific country, example of France"
      ]
    },
    {
      "cell_type": "code",
      "metadata": {
        "id": "JKAIfqhF_yKP",
        "colab": {
          "base_uri": "https://localhost:8080/",
          "height": 34
        },
        "outputId": "1ecdd541-29bf-44f2-f46b-9b47795e92ff"
      },
      "source": [
        "fra.get_country() # to get the current country"
      ],
      "execution_count": 13,
      "outputs": [
        {
          "output_type": "execute_result",
          "data": {
            "application/vnd.google.colaboratory.intrinsic+json": {
              "type": "string"
            },
            "text/plain": [
              "'FRA'"
            ]
          },
          "metadata": {
            "tags": []
          },
          "execution_count": 13
        }
      ]
    },
    {
      "cell_type": "code",
      "metadata": {
        "id": "KCWfSUcG_yKR",
        "colab": {
          "base_uri": "https://localhost:8080/"
        },
        "outputId": "f44bef2e-a7e8-49b6-95af-44cfd3035969"
      },
      "source": [
        "fra.get_source() # for all available fields"
      ],
      "execution_count": 14,
      "outputs": [
        {
          "output_type": "execute_result",
          "data": {
            "text/plain": [
              "{'FRA': {'Basics': 'https://github.com/coa-project/coadata/raw/main/coacache/public.opendatasoft.com_912711563.zip',\n",
              "  'Region Flags': 'https://fr.wikipedia.org/w/index.php?title=R%C3%A9gion_fran%C3%A7aise&oldid=177269957',\n",
              "  'Subregion Flags': 'http://sticker-departement.com/'},\n",
              " 'USA': {'Basics': 'https://alicia.data.socrata.com/api/geospatial/jhnu-yfrj?method=export&format=Original',\n",
              "  'Subregion informations': 'https://en.wikipedia.org/wiki/List_of_states_and_territories_of_the_United_States'}}"
            ]
          },
          "metadata": {
            "tags": []
          },
          "execution_count": 14
        }
      ]
    },
    {
      "cell_type": "code",
      "metadata": {
        "id": "eCxje04y_yKS",
        "colab": {
          "base_uri": "https://localhost:8080/"
        },
        "outputId": "5c23f22c-c4c4-4d79-bf3f-a6a3f090586c"
      },
      "source": [
        "fra.get_list_properties() # list of available properties"
      ],
      "execution_count": 15,
      "outputs": [
        {
          "output_type": "execute_result",
          "data": {
            "text/plain": [
              "['code_chf',\n",
              " 'code_region',\n",
              " 'code_subregion',\n",
              " 'flag_region',\n",
              " 'flag_subregion',\n",
              " 'geometry',\n",
              " 'name_region',\n",
              " 'name_subregion',\n",
              " 'town_subregion']"
            ]
          },
          "metadata": {
            "tags": []
          },
          "execution_count": 15
        }
      ]
    },
    {
      "cell_type": "code",
      "metadata": {
        "colab": {
          "base_uri": "https://localhost:8080/",
          "height": 587
        },
        "id": "ehvP5sB_slaI",
        "outputId": "366e0d86-5f3c-465a-e011-09a9c5181e69"
      },
      "source": [
        "fra.get_region_list() # give region list and some properties as a panda dataframe"
      ],
      "execution_count": 16,
      "outputs": [
        {
          "output_type": "execute_result",
          "data": {
            "text/html": [
              "<div>\n",
              "<style scoped>\n",
              "    .dataframe tbody tr th:only-of-type {\n",
              "        vertical-align: middle;\n",
              "    }\n",
              "\n",
              "    .dataframe tbody tr th {\n",
              "        vertical-align: top;\n",
              "    }\n",
              "\n",
              "    .dataframe thead th {\n",
              "        text-align: right;\n",
              "    }\n",
              "</style>\n",
              "<table border=\"1\" class=\"dataframe\">\n",
              "  <thead>\n",
              "    <tr style=\"text-align: right;\">\n",
              "      <th></th>\n",
              "      <th>code_region</th>\n",
              "      <th>flag_region</th>\n",
              "      <th>name_region</th>\n",
              "      <th>geometry</th>\n",
              "    </tr>\n",
              "  </thead>\n",
              "  <tbody>\n",
              "    <tr>\n",
              "      <th>0</th>\n",
              "      <td>01</td>\n",
              "      <td>http://upload.wikimedia.org/wikipedia/fr/thumb...</td>\n",
              "      <td>Guadeloupe</td>\n",
              "      <td>MULTIPOLYGON (((-61.32312 15.94961, -61.31930 ...</td>\n",
              "    </tr>\n",
              "    <tr>\n",
              "      <th>1</th>\n",
              "      <td>02</td>\n",
              "      <td>http://upload.wikimedia.org/wikipedia/fr/thumb...</td>\n",
              "      <td>Martinique</td>\n",
              "      <td>POLYGON ((-61.20404 14.86191, -61.18519 14.870...</td>\n",
              "    </tr>\n",
              "    <tr>\n",
              "      <th>2</th>\n",
              "      <td>03</td>\n",
              "      <td>http://upload.wikimedia.org/wikipedia/fr/thumb...</td>\n",
              "      <td>Guyane</td>\n",
              "      <td>MULTIPOLYGON (((-52.56490 5.10580, -52.56106 5...</td>\n",
              "    </tr>\n",
              "    <tr>\n",
              "      <th>3</th>\n",
              "      <td>04</td>\n",
              "      <td>http://upload.wikimedia.org/wikipedia/fr/thumb...</td>\n",
              "      <td>La Réunion</td>\n",
              "      <td>POLYGON ((55.25415 -21.10974, 55.23161 -21.091...</td>\n",
              "    </tr>\n",
              "    <tr>\n",
              "      <th>4</th>\n",
              "      <td>06</td>\n",
              "      <td>http://upload.wikimedia.org/wikipedia/fr/thumb...</td>\n",
              "      <td>Mayotte</td>\n",
              "      <td>MULTIPOLYGON (((45.27135 -12.79331, 45.26369 -...</td>\n",
              "    </tr>\n",
              "    <tr>\n",
              "      <th>5</th>\n",
              "      <td>11</td>\n",
              "      <td>http://upload.wikimedia.org/wikipedia/commons/...</td>\n",
              "      <td>Île-de-France</td>\n",
              "      <td>POLYGON ((2.59042 49.07967, 2.59060 49.07992, ...</td>\n",
              "    </tr>\n",
              "    <tr>\n",
              "      <th>6</th>\n",
              "      <td>24</td>\n",
              "      <td>http://upload.wikimedia.org/wikipedia/fr/thumb...</td>\n",
              "      <td>Centre-Val de Loire</td>\n",
              "      <td>POLYGON ((2.86690 47.51709, 2.87496 47.52029, ...</td>\n",
              "    </tr>\n",
              "    <tr>\n",
              "      <th>7</th>\n",
              "      <td>27</td>\n",
              "      <td>http://upload.wikimedia.org/wikipedia/commons/...</td>\n",
              "      <td>Bourgogne-Franche-Comté</td>\n",
              "      <td>POLYGON ((6.94021 47.43368, 6.94054 47.43337, ...</td>\n",
              "    </tr>\n",
              "    <tr>\n",
              "      <th>8</th>\n",
              "      <td>28</td>\n",
              "      <td>http://upload.wikimedia.org/wikipedia/fr/thumb...</td>\n",
              "      <td>Normandie</td>\n",
              "      <td>MULTIPOLYGON (((0.29722 49.42986, 0.34059 49.4...</td>\n",
              "    </tr>\n",
              "    <tr>\n",
              "      <th>9</th>\n",
              "      <td>32</td>\n",
              "      <td>http://upload.wikimedia.org/wikipedia/fr/thumb...</td>\n",
              "      <td>Hauts-de-France</td>\n",
              "      <td>POLYGON ((1.72983 49.56129, 1.71478 49.57640, ...</td>\n",
              "    </tr>\n",
              "    <tr>\n",
              "      <th>10</th>\n",
              "      <td>44</td>\n",
              "      <td>http://upload.wikimedia.org/wikipedia/commons/...</td>\n",
              "      <td>Grand Est</td>\n",
              "      <td>POLYGON ((7.57732 48.12037, 7.57966 48.10234, ...</td>\n",
              "    </tr>\n",
              "    <tr>\n",
              "      <th>11</th>\n",
              "      <td>52</td>\n",
              "      <td>http://upload.wikimedia.org/wikipedia/commons/...</td>\n",
              "      <td>Pays de la Loire</td>\n",
              "      <td>MULTIPOLYGON (((-0.89196 46.97582, -0.90336 46...</td>\n",
              "    </tr>\n",
              "    <tr>\n",
              "      <th>12</th>\n",
              "      <td>53</td>\n",
              "      <td>http://upload.wikimedia.org/wikipedia/fr/thumb...</td>\n",
              "      <td>Bretagne</td>\n",
              "      <td>MULTIPOLYGON (((-3.23544 47.32381, -3.23733 47...</td>\n",
              "    </tr>\n",
              "    <tr>\n",
              "      <th>13</th>\n",
              "      <td>75</td>\n",
              "      <td>http://upload.wikimedia.org/wikipedia/fr/thumb...</td>\n",
              "      <td>Nouvelle-Aquitaine</td>\n",
              "      <td>MULTIPOLYGON (((-0.24283 43.58498, -0.23821 43...</td>\n",
              "    </tr>\n",
              "    <tr>\n",
              "      <th>14</th>\n",
              "      <td>76</td>\n",
              "      <td>http://upload.wikimedia.org/wikipedia/fr/thumb...</td>\n",
              "      <td>Occitanie</td>\n",
              "      <td>MULTIPOLYGON (((3.04350 42.83815, 3.03861 42.7...</td>\n",
              "    </tr>\n",
              "    <tr>\n",
              "      <th>15</th>\n",
              "      <td>84</td>\n",
              "      <td>http://upload.wikimedia.org/wikipedia/fr/thumb...</td>\n",
              "      <td>Auvergne-Rhône-Alpes</td>\n",
              "      <td>POLYGON ((5.80147 44.70678, 5.82411 44.70205, ...</td>\n",
              "    </tr>\n",
              "    <tr>\n",
              "      <th>16</th>\n",
              "      <td>93</td>\n",
              "      <td>http://upload.wikimedia.org/wikipedia/fr/thumb...</td>\n",
              "      <td>Provence-Alpes-Côte d'Azur</td>\n",
              "      <td>MULTIPOLYGON (((6.24407 43.02004, 6.24849 43.0...</td>\n",
              "    </tr>\n",
              "    <tr>\n",
              "      <th>17</th>\n",
              "      <td>94</td>\n",
              "      <td>http://upload.wikimedia.org/wikipedia/fr/thumb...</td>\n",
              "      <td>Corse</td>\n",
              "      <td>MULTIPOLYGON (((9.27103 41.36496, 9.26570 41.3...</td>\n",
              "    </tr>\n",
              "  </tbody>\n",
              "</table>\n",
              "</div>"
            ],
            "text/plain": [
              "   code_region  ...                                           geometry\n",
              "0           01  ...  MULTIPOLYGON (((-61.32312 15.94961, -61.31930 ...\n",
              "1           02  ...  POLYGON ((-61.20404 14.86191, -61.18519 14.870...\n",
              "2           03  ...  MULTIPOLYGON (((-52.56490 5.10580, -52.56106 5...\n",
              "3           04  ...  POLYGON ((55.25415 -21.10974, 55.23161 -21.091...\n",
              "4           06  ...  MULTIPOLYGON (((45.27135 -12.79331, 45.26369 -...\n",
              "5           11  ...  POLYGON ((2.59042 49.07967, 2.59060 49.07992, ...\n",
              "6           24  ...  POLYGON ((2.86690 47.51709, 2.87496 47.52029, ...\n",
              "7           27  ...  POLYGON ((6.94021 47.43368, 6.94054 47.43337, ...\n",
              "8           28  ...  MULTIPOLYGON (((0.29722 49.42986, 0.34059 49.4...\n",
              "9           32  ...  POLYGON ((1.72983 49.56129, 1.71478 49.57640, ...\n",
              "10          44  ...  POLYGON ((7.57732 48.12037, 7.57966 48.10234, ...\n",
              "11          52  ...  MULTIPOLYGON (((-0.89196 46.97582, -0.90336 46...\n",
              "12          53  ...  MULTIPOLYGON (((-3.23544 47.32381, -3.23733 47...\n",
              "13          75  ...  MULTIPOLYGON (((-0.24283 43.58498, -0.23821 43...\n",
              "14          76  ...  MULTIPOLYGON (((3.04350 42.83815, 3.03861 42.7...\n",
              "15          84  ...  POLYGON ((5.80147 44.70678, 5.82411 44.70205, ...\n",
              "16          93  ...  MULTIPOLYGON (((6.24407 43.02004, 6.24849 43.0...\n",
              "17          94  ...  MULTIPOLYGON (((9.27103 41.36496, 9.26570 41.3...\n",
              "\n",
              "[18 rows x 4 columns]"
            ]
          },
          "metadata": {
            "tags": []
          },
          "execution_count": 16
        }
      ]
    },
    {
      "cell_type": "code",
      "metadata": {
        "colab": {
          "base_uri": "https://localhost:8080/",
          "height": 406
        },
        "id": "UTRMjoHDsvSU",
        "outputId": "4aae33cd-a0fc-4d2d-8c98-3bbd5c51d5a2"
      },
      "source": [
        "fra.get_subregion_list() # give subregion list and some properties as a panda dataframe"
      ],
      "execution_count": 17,
      "outputs": [
        {
          "output_type": "execute_result",
          "data": {
            "text/html": [
              "<div>\n",
              "<style scoped>\n",
              "    .dataframe tbody tr th:only-of-type {\n",
              "        vertical-align: middle;\n",
              "    }\n",
              "\n",
              "    .dataframe tbody tr th {\n",
              "        vertical-align: top;\n",
              "    }\n",
              "\n",
              "    .dataframe thead th {\n",
              "        text-align: right;\n",
              "    }\n",
              "</style>\n",
              "<table border=\"1\" class=\"dataframe\">\n",
              "  <thead>\n",
              "    <tr style=\"text-align: right;\">\n",
              "      <th></th>\n",
              "      <th>code_subregion</th>\n",
              "      <th>flag_subregion</th>\n",
              "      <th>name_subregion</th>\n",
              "      <th>town_subregion</th>\n",
              "      <th>geometry</th>\n",
              "    </tr>\n",
              "  </thead>\n",
              "  <tbody>\n",
              "    <tr>\n",
              "      <th>53</th>\n",
              "      <td>01</td>\n",
              "      <td>http://sticker-departement.com/img/dept/sticke...</td>\n",
              "      <td>AIN</td>\n",
              "      <td>BOURG-EN-BRESSE</td>\n",
              "      <td>POLYGON ((4.80255 46.15643, 4.79859 46.16053, ...</td>\n",
              "    </tr>\n",
              "    <tr>\n",
              "      <th>79</th>\n",
              "      <td>02</td>\n",
              "      <td>http://sticker-departement.com/img/dept/sticke...</td>\n",
              "      <td>AISNE</td>\n",
              "      <td>LAON</td>\n",
              "      <td>POLYGON ((3.12039 49.70573, 3.11654 49.71895, ...</td>\n",
              "    </tr>\n",
              "    <tr>\n",
              "      <th>89</th>\n",
              "      <td>03</td>\n",
              "      <td>http://sticker-departement.com/img/dept/sticke...</td>\n",
              "      <td>ALLIER</td>\n",
              "      <td>MOULINS</td>\n",
              "      <td>POLYGON ((2.53665 46.51970, 2.55403 46.52939, ...</td>\n",
              "    </tr>\n",
              "    <tr>\n",
              "      <th>35</th>\n",
              "      <td>04</td>\n",
              "      <td>http://sticker-departement.com/img/dept/sticke...</td>\n",
              "      <td>ALPES-DE-HAUTE-PROVENCE</td>\n",
              "      <td>DIGNE-LES-BAINS</td>\n",
              "      <td>POLYGON ((5.63114 44.15058, 5.65522 44.14756, ...</td>\n",
              "    </tr>\n",
              "    <tr>\n",
              "      <th>9</th>\n",
              "      <td>05</td>\n",
              "      <td>http://sticker-departement.com/img/dept/sticke...</td>\n",
              "      <td>HAUTES-ALPES</td>\n",
              "      <td>GAP</td>\n",
              "      <td>POLYGON ((5.95112 44.75962, 5.95290 44.77114, ...</td>\n",
              "    </tr>\n",
              "    <tr>\n",
              "      <th>...</th>\n",
              "      <td>...</td>\n",
              "      <td>...</td>\n",
              "      <td>...</td>\n",
              "      <td>...</td>\n",
              "      <td>...</td>\n",
              "    </tr>\n",
              "    <tr>\n",
              "      <th>43</th>\n",
              "      <td>971</td>\n",
              "      <td>http://sticker-departement.com/img/dept/sticke...</td>\n",
              "      <td>GUADELOUPE</td>\n",
              "      <td>BASSE-TERRE</td>\n",
              "      <td>MULTIPOLYGON (((-61.63356 15.83977, -61.64799 ...</td>\n",
              "    </tr>\n",
              "    <tr>\n",
              "      <th>58</th>\n",
              "      <td>972</td>\n",
              "      <td>http://sticker-departement.com/img/dept/sticke...</td>\n",
              "      <td>MARTINIQUE</td>\n",
              "      <td>FORT-DE-FRANCE</td>\n",
              "      <td>POLYGON ((-61.20404 14.86191, -61.18519 14.870...</td>\n",
              "    </tr>\n",
              "    <tr>\n",
              "      <th>0</th>\n",
              "      <td>973</td>\n",
              "      <td>http://sticker-departement.com/img/dept/sticke...</td>\n",
              "      <td>GUYANE</td>\n",
              "      <td>CAYENNE</td>\n",
              "      <td>MULTIPOLYGON (((-53.87049 5.74494, -53.86464 5...</td>\n",
              "    </tr>\n",
              "    <tr>\n",
              "      <th>90</th>\n",
              "      <td>974</td>\n",
              "      <td>http://sticker-departement.com/img/dept/sticke...</td>\n",
              "      <td>REUNION</td>\n",
              "      <td>SAINT-DENIS</td>\n",
              "      <td>POLYGON ((55.25415 -21.10974, 55.23161 -21.091...</td>\n",
              "    </tr>\n",
              "    <tr>\n",
              "      <th>93</th>\n",
              "      <td>976</td>\n",
              "      <td>http://sticker-departement.com/img/dept/sticke...</td>\n",
              "      <td>MAYOTTE</td>\n",
              "      <td>DZAOUDZI</td>\n",
              "      <td>MULTIPOLYGON (((45.04101 -12.64686, 45.03392 -...</td>\n",
              "    </tr>\n",
              "  </tbody>\n",
              "</table>\n",
              "<p>101 rows × 5 columns</p>\n",
              "</div>"
            ],
            "text/plain": [
              "   code_subregion  ...                                           geometry\n",
              "53             01  ...  POLYGON ((4.80255 46.15643, 4.79859 46.16053, ...\n",
              "79             02  ...  POLYGON ((3.12039 49.70573, 3.11654 49.71895, ...\n",
              "89             03  ...  POLYGON ((2.53665 46.51970, 2.55403 46.52939, ...\n",
              "35             04  ...  POLYGON ((5.63114 44.15058, 5.65522 44.14756, ...\n",
              "9              05  ...  POLYGON ((5.95112 44.75962, 5.95290 44.77114, ...\n",
              "..            ...  ...                                                ...\n",
              "43            971  ...  MULTIPOLYGON (((-61.63356 15.83977, -61.64799 ...\n",
              "58            972  ...  POLYGON ((-61.20404 14.86191, -61.18519 14.870...\n",
              "0             973  ...  MULTIPOLYGON (((-53.87049 5.74494, -53.86464 5...\n",
              "90            974  ...  POLYGON ((55.25415 -21.10974, 55.23161 -21.091...\n",
              "93            976  ...  MULTIPOLYGON (((45.04101 -12.64686, 45.03392 -...\n",
              "\n",
              "[101 rows x 5 columns]"
            ]
          },
          "metadata": {
            "tags": []
          },
          "execution_count": 17
        }
      ]
    },
    {
      "cell_type": "code",
      "metadata": {
        "colab": {
          "base_uri": "https://localhost:8080/"
        },
        "id": "OAVhMvRrs4KB",
        "outputId": "38005a52-abe6-45e0-ca98-d3b2db525c21"
      },
      "source": [
        "fra.get_subregions_from_region(name='Bretagne') # list of subregion codes for a given region name"
      ],
      "execution_count": 20,
      "outputs": [
        {
          "output_type": "execute_result",
          "data": {
            "text/plain": [
              "['22', '29', '35', '56']"
            ]
          },
          "metadata": {
            "tags": []
          },
          "execution_count": 20
        }
      ]
    },
    {
      "cell_type": "code",
      "metadata": {
        "colab": {
          "base_uri": "https://localhost:8080/"
        },
        "id": "SH7LyV7DtFjn",
        "outputId": "78334379-716c-4834-b817-ebea2affd04b"
      },
      "source": [
        "fra.get_subregions_from_region(code='11') # list of subregion codes for a given region code"
      ],
      "execution_count": 22,
      "outputs": [
        {
          "output_type": "execute_result",
          "data": {
            "text/plain": [
              "['75', '77', '78', '91', '92', '93', '94', '95']"
            ]
          },
          "metadata": {
            "tags": []
          },
          "execution_count": 22
        }
      ]
    },
    {
      "cell_type": "code",
      "metadata": {
        "colab": {
          "base_uri": "https://localhost:8080/"
        },
        "id": "j9kogv5etSg7",
        "outputId": "898b16e9-860a-4462-9ef9-9dc88459d67f"
      },
      "source": [
        "fra.get_subregions_from_list_of_region_names(['Normandie','Hauts-de-France']) # list of subregion codes for a given list of region names"
      ],
      "execution_count": 24,
      "outputs": [
        {
          "output_type": "execute_result",
          "data": {
            "text/plain": [
              "['14', '27', '50', '61', '76', '02', '59', '60', '62', '80']"
            ]
          },
          "metadata": {
            "tags": []
          },
          "execution_count": 24
        }
      ]
    },
    {
      "cell_type": "markdown",
      "metadata": {
        "id": "evV34HjH_yKT"
      },
      "source": [
        "### Example of USA usage"
      ]
    },
    {
      "cell_type": "code",
      "metadata": {
        "id": "5qX3WjJE_yKT"
      },
      "source": [
        "usa=gc('USA')"
      ],
      "execution_count": 26,
      "outputs": []
    },
    {
      "cell_type": "code",
      "metadata": {
        "colab": {
          "base_uri": "https://localhost:8080/",
          "height": 317
        },
        "id": "c9XOlCERt7mA",
        "outputId": "382e7dd1-35e4-46ce-bbf7-1fcdf367d267"
      },
      "source": [
        "usa.get_region_list()"
      ],
      "execution_count": 27,
      "outputs": [
        {
          "output_type": "execute_result",
          "data": {
            "text/html": [
              "<div>\n",
              "<style scoped>\n",
              "    .dataframe tbody tr th:only-of-type {\n",
              "        vertical-align: middle;\n",
              "    }\n",
              "\n",
              "    .dataframe tbody tr th {\n",
              "        vertical-align: top;\n",
              "    }\n",
              "\n",
              "    .dataframe thead th {\n",
              "        text-align: right;\n",
              "    }\n",
              "</style>\n",
              "<table border=\"1\" class=\"dataframe\">\n",
              "  <thead>\n",
              "    <tr style=\"text-align: right;\">\n",
              "      <th></th>\n",
              "      <th>code_region</th>\n",
              "      <th>name_region</th>\n",
              "      <th>geometry</th>\n",
              "    </tr>\n",
              "  </thead>\n",
              "  <tbody>\n",
              "    <tr>\n",
              "      <th>0</th>\n",
              "      <td>East North Central</td>\n",
              "      <td>East North Central</td>\n",
              "      <td>MULTIPOLYGON (((-88.07159 37.51104, -88.08791 ...</td>\n",
              "    </tr>\n",
              "    <tr>\n",
              "      <th>1</th>\n",
              "      <td>East South Central</td>\n",
              "      <td>East South Central</td>\n",
              "      <td>POLYGON ((-88.40142 30.39355, -88.39923 30.352...</td>\n",
              "    </tr>\n",
              "    <tr>\n",
              "      <th>2</th>\n",
              "      <td>Middle Atlantic</td>\n",
              "      <td>Middle Atlantic</td>\n",
              "      <td>MULTIPOLYGON (((-73.29306 40.62638, -73.29114 ...</td>\n",
              "    </tr>\n",
              "    <tr>\n",
              "      <th>3</th>\n",
              "      <td>Mountain</td>\n",
              "      <td>Mountain</td>\n",
              "      <td>POLYGON ((-114.52063 33.02771, -114.55909 33.0...</td>\n",
              "    </tr>\n",
              "    <tr>\n",
              "      <th>4</th>\n",
              "      <td>New England</td>\n",
              "      <td>New England</td>\n",
              "      <td>MULTIPOLYGON (((-70.03172 41.31193, -70.00651 ...</td>\n",
              "    </tr>\n",
              "    <tr>\n",
              "      <th>5</th>\n",
              "      <td>Pacific</td>\n",
              "      <td>Pacific</td>\n",
              "      <td>MULTIPOLYGON (((-155.66619 18.92179, -155.7785...</td>\n",
              "    </tr>\n",
              "    <tr>\n",
              "      <th>6</th>\n",
              "      <td>South Atlantic</td>\n",
              "      <td>South Atlantic</td>\n",
              "      <td>MULTIPOLYGON (((-80.24945 25.35494, -80.35567 ...</td>\n",
              "    </tr>\n",
              "    <tr>\n",
              "      <th>7</th>\n",
              "      <td>West North Central</td>\n",
              "      <td>West North Central</td>\n",
              "      <td>POLYGON ((-89.10503 36.95392, -89.12965 36.866...</td>\n",
              "    </tr>\n",
              "    <tr>\n",
              "      <th>8</th>\n",
              "      <td>West South Central</td>\n",
              "      <td>West South Central</td>\n",
              "      <td>MULTIPOLYGON (((-92.01637 29.59648, -91.90255 ...</td>\n",
              "    </tr>\n",
              "  </tbody>\n",
              "</table>\n",
              "</div>"
            ],
            "text/plain": [
              "          code_region  ...                                           geometry\n",
              "0  East North Central  ...  MULTIPOLYGON (((-88.07159 37.51104, -88.08791 ...\n",
              "1  East South Central  ...  POLYGON ((-88.40142 30.39355, -88.39923 30.352...\n",
              "2     Middle Atlantic  ...  MULTIPOLYGON (((-73.29306 40.62638, -73.29114 ...\n",
              "3            Mountain  ...  POLYGON ((-114.52063 33.02771, -114.55909 33.0...\n",
              "4         New England  ...  MULTIPOLYGON (((-70.03172 41.31193, -70.00651 ...\n",
              "5             Pacific  ...  MULTIPOLYGON (((-155.66619 18.92179, -155.7785...\n",
              "6      South Atlantic  ...  MULTIPOLYGON (((-80.24945 25.35494, -80.35567 ...\n",
              "7  West North Central  ...  POLYGON ((-89.10503 36.95392, -89.12965 36.866...\n",
              "8  West South Central  ...  MULTIPOLYGON (((-92.01637 29.59648, -91.90255 ...\n",
              "\n",
              "[9 rows x 3 columns]"
            ]
          },
          "metadata": {
            "tags": []
          },
          "execution_count": 27
        }
      ]
    },
    {
      "cell_type": "code",
      "metadata": {
        "id": "kE3xJbft_yKU",
        "colab": {
          "base_uri": "https://localhost:8080/",
          "height": 1000
        },
        "outputId": "9d3fc9cf-ac65-4e82-a1a7-a5ec634d057d"
      },
      "source": [
        "usa.get_subregion_list()"
      ],
      "execution_count": 28,
      "outputs": [
        {
          "output_type": "execute_result",
          "data": {
            "text/html": [
              "<div>\n",
              "<style scoped>\n",
              "    .dataframe tbody tr th:only-of-type {\n",
              "        vertical-align: middle;\n",
              "    }\n",
              "\n",
              "    .dataframe tbody tr th {\n",
              "        vertical-align: top;\n",
              "    }\n",
              "\n",
              "    .dataframe thead th {\n",
              "        text-align: right;\n",
              "    }\n",
              "</style>\n",
              "<table border=\"1\" class=\"dataframe\">\n",
              "  <thead>\n",
              "    <tr style=\"text-align: right;\">\n",
              "      <th></th>\n",
              "      <th>area_subregion</th>\n",
              "      <th>code_subregion</th>\n",
              "      <th>flag_subregion</th>\n",
              "      <th>name_subregion</th>\n",
              "      <th>population_subregion</th>\n",
              "      <th>town_subregion</th>\n",
              "      <th>geometry</th>\n",
              "    </tr>\n",
              "  </thead>\n",
              "  <tbody>\n",
              "    <tr>\n",
              "      <th>50</th>\n",
              "      <td>1723337.0</td>\n",
              "      <td>AK</td>\n",
              "      <td>http://upload.wikimedia.org/wikipedia/commons/...</td>\n",
              "      <td>Alaska</td>\n",
              "      <td>731545.0</td>\n",
              "      <td>Juneau</td>\n",
              "      <td>MULTIPOLYGON (((-161.33379 58.73325, -161.3824...</td>\n",
              "    </tr>\n",
              "    <tr>\n",
              "      <th>42</th>\n",
              "      <td>135767.0</td>\n",
              "      <td>AL</td>\n",
              "      <td>http://upload.wikimedia.org/wikipedia/commons/...</td>\n",
              "      <td>Alabama</td>\n",
              "      <td>4903185.0</td>\n",
              "      <td>Montgomery</td>\n",
              "      <td>POLYGON ((-85.07007 31.98070, -85.11515 31.907...</td>\n",
              "    </tr>\n",
              "    <tr>\n",
              "      <th>46</th>\n",
              "      <td>137732.0</td>\n",
              "      <td>AR</td>\n",
              "      <td>http://upload.wikimedia.org/wikipedia/commons/...</td>\n",
              "      <td>Arkansas</td>\n",
              "      <td>3017804.0</td>\n",
              "      <td>Little Rock</td>\n",
              "      <td>POLYGON ((-94.46169 34.19677, -94.45262 34.508...</td>\n",
              "    </tr>\n",
              "    <tr>\n",
              "      <th>36</th>\n",
              "      <td>295234.0</td>\n",
              "      <td>AZ</td>\n",
              "      <td>http://upload.wikimedia.org/wikipedia/commons/...</td>\n",
              "      <td>Arizona</td>\n",
              "      <td>7278717.0</td>\n",
              "      <td>Phoenix</td>\n",
              "      <td>POLYGON ((-114.52063 33.02771, -114.55909 33.0...</td>\n",
              "    </tr>\n",
              "    <tr>\n",
              "      <th>24</th>\n",
              "      <td>423967.0</td>\n",
              "      <td>CA</td>\n",
              "      <td>http://upload.wikimedia.org/wikipedia/commons/...</td>\n",
              "      <td>California</td>\n",
              "      <td>39512223.0</td>\n",
              "      <td>Sacramento</td>\n",
              "      <td>MULTIPOLYGON (((-121.66522 38.16929, -121.7823...</td>\n",
              "    </tr>\n",
              "    <tr>\n",
              "      <th>31</th>\n",
              "      <td>269601.0</td>\n",
              "      <td>CO</td>\n",
              "      <td>http://upload.wikimedia.org/wikipedia/commons/...</td>\n",
              "      <td>Colorado</td>\n",
              "      <td>5758736.0</td>\n",
              "      <td>Denver</td>\n",
              "      <td>POLYGON ((-102.04446 37.64147, -102.04201 37.3...</td>\n",
              "    </tr>\n",
              "    <tr>\n",
              "      <th>18</th>\n",
              "      <td>14357.0</td>\n",
              "      <td>CT</td>\n",
              "      <td>http://upload.wikimedia.org/wikipedia/commons/...</td>\n",
              "      <td>Connecticut</td>\n",
              "      <td>3565278.0</td>\n",
              "      <td>Hartford</td>\n",
              "      <td>POLYGON ((-73.53039 41.52275, -73.51715 41.665...</td>\n",
              "    </tr>\n",
              "    <tr>\n",
              "      <th>27</th>\n",
              "      <td>NaN</td>\n",
              "      <td>DC</td>\n",
              "      <td>NaN</td>\n",
              "      <td>District of Columbia</td>\n",
              "      <td>NaN</td>\n",
              "      <td>NaN</td>\n",
              "      <td>POLYGON ((-77.00793 38.96667, -76.91090 38.890...</td>\n",
              "    </tr>\n",
              "    <tr>\n",
              "      <th>28</th>\n",
              "      <td>6446.0</td>\n",
              "      <td>DE</td>\n",
              "      <td>http://upload.wikimedia.org/wikipedia/commons/...</td>\n",
              "      <td>Delaware</td>\n",
              "      <td>973764.0</td>\n",
              "      <td>Dover</td>\n",
              "      <td>POLYGON ((-75.70707 38.55759, -75.71071 38.649...</td>\n",
              "    </tr>\n",
              "    <tr>\n",
              "      <th>48</th>\n",
              "      <td>170312.0</td>\n",
              "      <td>FL</td>\n",
              "      <td>http://upload.wikimedia.org/wikipedia/commons/...</td>\n",
              "      <td>Florida</td>\n",
              "      <td>21477737.0</td>\n",
              "      <td>Tallahassee</td>\n",
              "      <td>MULTIPOLYGON (((-80.78566 28.78519, -80.76242 ...</td>\n",
              "    </tr>\n",
              "    <tr>\n",
              "      <th>44</th>\n",
              "      <td>153910.0</td>\n",
              "      <td>GA</td>\n",
              "      <td>http://upload.wikimedia.org/wikipedia/commons/...</td>\n",
              "      <td>Georgia</td>\n",
              "      <td>10617423.0</td>\n",
              "      <td>Atlanta</td>\n",
              "      <td>MULTIPOLYGON (((-85.13017 31.77885, -85.13156 ...</td>\n",
              "    </tr>\n",
              "    <tr>\n",
              "      <th>0</th>\n",
              "      <td>28313.0</td>\n",
              "      <td>HI</td>\n",
              "      <td>http://upload.wikimedia.org/wikipedia/commons/...</td>\n",
              "      <td>Hawaii</td>\n",
              "      <td>1415872.0</td>\n",
              "      <td>Honolulu</td>\n",
              "      <td>MULTIPOLYGON (((-160.07380 22.00418, -160.0497...</td>\n",
              "    </tr>\n",
              "    <tr>\n",
              "      <th>13</th>\n",
              "      <td>145746.0</td>\n",
              "      <td>IA</td>\n",
              "      <td>http://upload.wikimedia.org/wikipedia/commons/...</td>\n",
              "      <td>Iowa</td>\n",
              "      <td>3155070.0</td>\n",
              "      <td>Des Moines</td>\n",
              "      <td>POLYGON ((-91.12013 40.70544, -91.12930 40.682...</td>\n",
              "    </tr>\n",
              "    <tr>\n",
              "      <th>8</th>\n",
              "      <td>216443.0</td>\n",
              "      <td>ID</td>\n",
              "      <td>http://upload.wikimedia.org/wikipedia/commons/...</td>\n",
              "      <td>Idaho</td>\n",
              "      <td>1787065.0</td>\n",
              "      <td>Boise</td>\n",
              "      <td>POLYGON ((-117.02630 43.67903, -117.02379 43.7...</td>\n",
              "    </tr>\n",
              "    <tr>\n",
              "      <th>26</th>\n",
              "      <td>149995.0</td>\n",
              "      <td>IL</td>\n",
              "      <td>http://upload.wikimedia.org/wikipedia/commons/...</td>\n",
              "      <td>Illinois</td>\n",
              "      <td>12671821.0</td>\n",
              "      <td>Springfield</td>\n",
              "      <td>POLYGON ((-88.07159 37.51104, -88.08791 37.476...</td>\n",
              "    </tr>\n",
              "    <tr>\n",
              "      <th>21</th>\n",
              "      <td>94326.0</td>\n",
              "      <td>IN</td>\n",
              "      <td>http://upload.wikimedia.org/wikipedia/commons/...</td>\n",
              "      <td>Indiana</td>\n",
              "      <td>6732219.0</td>\n",
              "      <td>Indianapolis</td>\n",
              "      <td>POLYGON ((-86.34161 38.17729, -86.36435 38.193...</td>\n",
              "    </tr>\n",
              "    <tr>\n",
              "      <th>33</th>\n",
              "      <td>213100.0</td>\n",
              "      <td>KS</td>\n",
              "      <td>http://upload.wikimedia.org/wikipedia/commons/...</td>\n",
              "      <td>Kansas</td>\n",
              "      <td>2913314.0</td>\n",
              "      <td>Topeka</td>\n",
              "      <td>POLYGON ((-95.07193 37.00148, -95.40662 37.000...</td>\n",
              "    </tr>\n",
              "    <tr>\n",
              "      <th>32</th>\n",
              "      <td>104656.0</td>\n",
              "      <td>KY</td>\n",
              "      <td>http://upload.wikimedia.org/wikipedia/commons/...</td>\n",
              "      <td>Kentucky</td>\n",
              "      <td>4467673.0</td>\n",
              "      <td>Frankfort</td>\n",
              "      <td>MULTIPOLYGON (((-86.51067 36.65507, -86.77054 ...</td>\n",
              "    </tr>\n",
              "    <tr>\n",
              "      <th>47</th>\n",
              "      <td>135659.0</td>\n",
              "      <td>LA</td>\n",
              "      <td>http://upload.wikimedia.org/wikipedia/commons/...</td>\n",
              "      <td>Louisiana</td>\n",
              "      <td>4648794.0</td>\n",
              "      <td>Baton Rouge</td>\n",
              "      <td>MULTIPOLYGON (((-93.70752 30.23958, -93.69938 ...</td>\n",
              "    </tr>\n",
              "    <tr>\n",
              "      <th>14</th>\n",
              "      <td>27336.0</td>\n",
              "      <td>MA</td>\n",
              "      <td>http://upload.wikimedia.org/wikipedia/commons/...</td>\n",
              "      <td>Massachusetts</td>\n",
              "      <td>6892503.0</td>\n",
              "      <td>Boston</td>\n",
              "      <td>MULTIPOLYGON (((-71.31933 41.77220, -71.33980 ...</td>\n",
              "    </tr>\n",
              "    <tr>\n",
              "      <th>30</th>\n",
              "      <td>32131.0</td>\n",
              "      <td>MD</td>\n",
              "      <td>http://upload.wikimedia.org/wikipedia/commons/...</td>\n",
              "      <td>Maryland</td>\n",
              "      <td>6045680.0</td>\n",
              "      <td>Annapolis</td>\n",
              "      <td>MULTIPOLYGON (((-75.71071 38.64967, -75.70707 ...</td>\n",
              "    </tr>\n",
              "    <tr>\n",
              "      <th>3</th>\n",
              "      <td>91633.0</td>\n",
              "      <td>ME</td>\n",
              "      <td>http://upload.wikimedia.org/wikipedia/commons/...</td>\n",
              "      <td>Maine</td>\n",
              "      <td>1344212.0</td>\n",
              "      <td>Augusta</td>\n",
              "      <td>MULTIPOLYGON (((-69.77728 44.07415, -69.85993 ...</td>\n",
              "    </tr>\n",
              "    <tr>\n",
              "      <th>49</th>\n",
              "      <td>250487.0</td>\n",
              "      <td>MI</td>\n",
              "      <td>http://upload.wikimedia.org/wikipedia/commons/...</td>\n",
              "      <td>Michigan</td>\n",
              "      <td>9986857.0</td>\n",
              "      <td>Lansing</td>\n",
              "      <td>MULTIPOLYGON (((-88.49753 48.17380, -88.62533 ...</td>\n",
              "    </tr>\n",
              "    <tr>\n",
              "      <th>10</th>\n",
              "      <td>225163.0</td>\n",
              "      <td>MN</td>\n",
              "      <td>http://upload.wikimedia.org/wikipedia/commons/...</td>\n",
              "      <td>Minnesota</td>\n",
              "      <td>5639632.0</td>\n",
              "      <td>St. Paul</td>\n",
              "      <td>POLYGON ((-91.73037 43.49957, -92.07753 43.499...</td>\n",
              "    </tr>\n",
              "    <tr>\n",
              "      <th>35</th>\n",
              "      <td>180540.0</td>\n",
              "      <td>MO</td>\n",
              "      <td>http://upload.wikimedia.org/wikipedia/commons/...</td>\n",
              "      <td>Missouri</td>\n",
              "      <td>6137428.0</td>\n",
              "      <td>Jefferson City</td>\n",
              "      <td>POLYGON ((-89.10503 36.95392, -89.12965 36.866...</td>\n",
              "    </tr>\n",
              "    <tr>\n",
              "      <th>43</th>\n",
              "      <td>125438.0</td>\n",
              "      <td>MS</td>\n",
              "      <td>http://upload.wikimedia.org/wikipedia/commons/...</td>\n",
              "      <td>Mississippi</td>\n",
              "      <td>2976149.0</td>\n",
              "      <td>Jackson</td>\n",
              "      <td>POLYGON ((-88.45080 31.43562, -88.43456 31.120...</td>\n",
              "    </tr>\n",
              "    <tr>\n",
              "      <th>2</th>\n",
              "      <td>380831.0</td>\n",
              "      <td>MT</td>\n",
              "      <td>http://upload.wikimedia.org/wikipedia/commons/...</td>\n",
              "      <td>Montana</td>\n",
              "      <td>1068778.0</td>\n",
              "      <td>Helena</td>\n",
              "      <td>POLYGON ((-111.47543 44.70216, -111.48080 44.6...</td>\n",
              "    </tr>\n",
              "    <tr>\n",
              "      <th>38</th>\n",
              "      <td>139391.0</td>\n",
              "      <td>NC</td>\n",
              "      <td>http://upload.wikimedia.org/wikipedia/commons/...</td>\n",
              "      <td>North Carolina</td>\n",
              "      <td>10488084.0</td>\n",
              "      <td>Raleigh</td>\n",
              "      <td>MULTIPOLYGON (((-83.98845 34.98915, -84.11815 ...</td>\n",
              "    </tr>\n",
              "    <tr>\n",
              "      <th>4</th>\n",
              "      <td>183108.0</td>\n",
              "      <td>ND</td>\n",
              "      <td>http://upload.wikimedia.org/wikipedia/commons/...</td>\n",
              "      <td>North Dakota</td>\n",
              "      <td>762062.0</td>\n",
              "      <td>Bismarck</td>\n",
              "      <td>POLYGON ((-98.73044 45.93827, -99.00683 45.939...</td>\n",
              "    </tr>\n",
              "    <tr>\n",
              "      <th>15</th>\n",
              "      <td>200330.0</td>\n",
              "      <td>NE</td>\n",
              "      <td>http://upload.wikimedia.org/wikipedia/commons/...</td>\n",
              "      <td>Nebraska</td>\n",
              "      <td>1934408.0</td>\n",
              "      <td>Lincoln</td>\n",
              "      <td>POLYGON ((-101.40739 40.00100, -102.05154 39.9...</td>\n",
              "    </tr>\n",
              "    <tr>\n",
              "      <th>12</th>\n",
              "      <td>24214.0</td>\n",
              "      <td>NH</td>\n",
              "      <td>http://upload.wikimedia.org/wikipedia/commons/...</td>\n",
              "      <td>New Hampshire</td>\n",
              "      <td>1359711.0</td>\n",
              "      <td>Concord</td>\n",
              "      <td>POLYGON ((-72.27992 42.72047, -72.45577 42.725...</td>\n",
              "    </tr>\n",
              "    <tr>\n",
              "      <th>20</th>\n",
              "      <td>22591.0</td>\n",
              "      <td>NJ</td>\n",
              "      <td>http://upload.wikimedia.org/wikipedia/commons/...</td>\n",
              "      <td>New Jersey</td>\n",
              "      <td>8882190.0</td>\n",
              "      <td>Trenton</td>\n",
              "      <td>POLYGON ((-75.48928 39.71486, -75.47597 39.720...</td>\n",
              "    </tr>\n",
              "    <tr>\n",
              "      <th>41</th>\n",
              "      <td>314917.0</td>\n",
              "      <td>NM</td>\n",
              "      <td>http://upload.wikimedia.org/wikipedia/commons/...</td>\n",
              "      <td>New Mexico</td>\n",
              "      <td>2096829.0</td>\n",
              "      <td>Santa Fe</td>\n",
              "      <td>POLYGON ((-109.04950 32.44204, -109.05135 32.7...</td>\n",
              "    </tr>\n",
              "    <tr>\n",
              "      <th>22</th>\n",
              "      <td>286380.0</td>\n",
              "      <td>NV</td>\n",
              "      <td>http://upload.wikimedia.org/wikipedia/commons/...</td>\n",
              "      <td>Nevada</td>\n",
              "      <td>3080156.0</td>\n",
              "      <td>Carson City</td>\n",
              "      <td>POLYGON ((-119.15245 38.41180, -119.31883 38.5...</td>\n",
              "    </tr>\n",
              "    <tr>\n",
              "      <th>16</th>\n",
              "      <td>141297.0</td>\n",
              "      <td>NY</td>\n",
              "      <td>http://upload.wikimedia.org/wikipedia/commons/...</td>\n",
              "      <td>New York</td>\n",
              "      <td>19453561.0</td>\n",
              "      <td>Albany</td>\n",
              "      <td>MULTIPOLYGON (((-79.76324 42.26733, -79.44402 ...</td>\n",
              "    </tr>\n",
              "    <tr>\n",
              "      <th>25</th>\n",
              "      <td>116098.0</td>\n",
              "      <td>OH</td>\n",
              "      <td>http://upload.wikimedia.org/wikipedia/commons/...</td>\n",
              "      <td>Ohio</td>\n",
              "      <td>11689100.0</td>\n",
              "      <td>Columbus</td>\n",
              "      <td>POLYGON ((-83.27276 38.60926, -83.29004 38.596...</td>\n",
              "    </tr>\n",
              "    <tr>\n",
              "      <th>37</th>\n",
              "      <td>181037.0</td>\n",
              "      <td>OK</td>\n",
              "      <td>http://upload.wikimedia.org/wikipedia/commons/...</td>\n",
              "      <td>Oklahoma</td>\n",
              "      <td>3956971.0</td>\n",
              "      <td>Oklahoma City</td>\n",
              "      <td>POLYGON ((-94.43932 34.92915, -94.44596 34.735...</td>\n",
              "    </tr>\n",
              "    <tr>\n",
              "      <th>11</th>\n",
              "      <td>254799.0</td>\n",
              "      <td>OR</td>\n",
              "      <td>http://upload.wikimedia.org/wikipedia/commons/...</td>\n",
              "      <td>Oregon</td>\n",
              "      <td>4217737.0</td>\n",
              "      <td>Salem</td>\n",
              "      <td>POLYGON ((-121.44151 41.99433, -122.28471 42.0...</td>\n",
              "    </tr>\n",
              "    <tr>\n",
              "      <th>17</th>\n",
              "      <td>119280.0</td>\n",
              "      <td>PA</td>\n",
              "      <td>http://upload.wikimedia.org/wikipedia/commons/...</td>\n",
              "      <td>Pennsylvania</td>\n",
              "      <td>12801989.0</td>\n",
              "      <td>Harrisburg</td>\n",
              "      <td>POLYGON ((-77.47579 39.71962, -78.09595 39.725...</td>\n",
              "    </tr>\n",
              "    <tr>\n",
              "      <th>19</th>\n",
              "      <td>4001.0</td>\n",
              "      <td>RI</td>\n",
              "      <td>http://upload.wikimedia.org/wikipedia/commons/...</td>\n",
              "      <td>Rhode Island</td>\n",
              "      <td>1059361.0</td>\n",
              "      <td>Providence</td>\n",
              "      <td>MULTIPOLYGON (((-71.79019 41.60131, -71.79261 ...</td>\n",
              "    </tr>\n",
              "    <tr>\n",
              "      <th>45</th>\n",
              "      <td>82933.0</td>\n",
              "      <td>SC</td>\n",
              "      <td>http://upload.wikimedia.org/wikipedia/commons/...</td>\n",
              "      <td>South Carolina</td>\n",
              "      <td>5148714.0</td>\n",
              "      <td>Columbia</td>\n",
              "      <td>MULTIPOLYGON (((-81.75959 33.19538, -81.76988 ...</td>\n",
              "    </tr>\n",
              "    <tr>\n",
              "      <th>5</th>\n",
              "      <td>199729.0</td>\n",
              "      <td>SD</td>\n",
              "      <td>http://upload.wikimedia.org/wikipedia/commons/...</td>\n",
              "      <td>South Dakota</td>\n",
              "      <td>884659.0</td>\n",
              "      <td>Pierre</td>\n",
              "      <td>POLYGON ((-102.78838 42.99530, -103.00588 42.9...</td>\n",
              "    </tr>\n",
              "    <tr>\n",
              "      <th>39</th>\n",
              "      <td>109153.0</td>\n",
              "      <td>TN</td>\n",
              "      <td>http://upload.wikimedia.org/wikipedia/commons/...</td>\n",
              "      <td>Tennessee</td>\n",
              "      <td>6829174.0</td>\n",
              "      <td>Nashville</td>\n",
              "      <td>POLYGON ((-83.95461 35.45554, -84.01256 35.407...</td>\n",
              "    </tr>\n",
              "    <tr>\n",
              "      <th>40</th>\n",
              "      <td>695662.0</td>\n",
              "      <td>TX</td>\n",
              "      <td>http://upload.wikimedia.org/wikipedia/commons/...</td>\n",
              "      <td>Texas</td>\n",
              "      <td>28995881.0</td>\n",
              "      <td>Austin</td>\n",
              "      <td>MULTIPOLYGON (((-105.99889 31.39394, -106.2132...</td>\n",
              "    </tr>\n",
              "    <tr>\n",
              "      <th>23</th>\n",
              "      <td>219882.0</td>\n",
              "      <td>UT</td>\n",
              "      <td>http://upload.wikimedia.org/wikipedia/commons/...</td>\n",
              "      <td>Utah</td>\n",
              "      <td>3205958.0</td>\n",
              "      <td>Salt Lake City</td>\n",
              "      <td>POLYGON ((-114.04727 38.13765, -114.04509 38.5...</td>\n",
              "    </tr>\n",
              "    <tr>\n",
              "      <th>34</th>\n",
              "      <td>110787.0</td>\n",
              "      <td>VA</td>\n",
              "      <td>http://upload.wikimedia.org/wikipedia/commons/...</td>\n",
              "      <td>Virginia</td>\n",
              "      <td>8535519.0</td>\n",
              "      <td>Richmond</td>\n",
              "      <td>MULTIPOLYGON (((-79.14406 36.54620, -79.21680 ...</td>\n",
              "    </tr>\n",
              "    <tr>\n",
              "      <th>9</th>\n",
              "      <td>24906.0</td>\n",
              "      <td>VT</td>\n",
              "      <td>http://upload.wikimedia.org/wikipedia/commons/...</td>\n",
              "      <td>Vermont</td>\n",
              "      <td>623989.0</td>\n",
              "      <td>Montpelier</td>\n",
              "      <td>POLYGON ((-73.25806 42.74606, -73.26928 42.747...</td>\n",
              "    </tr>\n",
              "    <tr>\n",
              "      <th>1</th>\n",
              "      <td>184661.0</td>\n",
              "      <td>WA</td>\n",
              "      <td>http://upload.wikimedia.org/wikipedia/commons/...</td>\n",
              "      <td>Washington</td>\n",
              "      <td>7614893.0</td>\n",
              "      <td>Olympia</td>\n",
              "      <td>MULTIPOLYGON (((-122.40202 48.22522, -122.4628...</td>\n",
              "    </tr>\n",
              "    <tr>\n",
              "      <th>7</th>\n",
              "      <td>169635.0</td>\n",
              "      <td>WI</td>\n",
              "      <td>http://upload.wikimedia.org/wikipedia/commons/...</td>\n",
              "      <td>Wisconsin</td>\n",
              "      <td>5822434.0</td>\n",
              "      <td>Madison</td>\n",
              "      <td>MULTIPOLYGON (((-87.74856 44.96162, -87.83999 ...</td>\n",
              "    </tr>\n",
              "    <tr>\n",
              "      <th>29</th>\n",
              "      <td>62756.0</td>\n",
              "      <td>WV</td>\n",
              "      <td>http://upload.wikimedia.org/wikipedia/commons/...</td>\n",
              "      <td>West Virginia</td>\n",
              "      <td>1792147.0</td>\n",
              "      <td>Charleston</td>\n",
              "      <td>POLYGON ((-79.23166 38.48050, -79.27236 38.437...</td>\n",
              "    </tr>\n",
              "    <tr>\n",
              "      <th>6</th>\n",
              "      <td>253335.0</td>\n",
              "      <td>WY</td>\n",
              "      <td>http://upload.wikimedia.org/wikipedia/commons/...</td>\n",
              "      <td>Wyoming</td>\n",
              "      <td>578759.0</td>\n",
              "      <td>Cheyenne</td>\n",
              "      <td>POLYGON ((-104.05362 41.69822, -104.05550 41.5...</td>\n",
              "    </tr>\n",
              "  </tbody>\n",
              "</table>\n",
              "</div>"
            ],
            "text/plain": [
              "    area_subregion  ...                                           geometry\n",
              "50       1723337.0  ...  MULTIPOLYGON (((-161.33379 58.73325, -161.3824...\n",
              "42        135767.0  ...  POLYGON ((-85.07007 31.98070, -85.11515 31.907...\n",
              "46        137732.0  ...  POLYGON ((-94.46169 34.19677, -94.45262 34.508...\n",
              "36        295234.0  ...  POLYGON ((-114.52063 33.02771, -114.55909 33.0...\n",
              "24        423967.0  ...  MULTIPOLYGON (((-121.66522 38.16929, -121.7823...\n",
              "31        269601.0  ...  POLYGON ((-102.04446 37.64147, -102.04201 37.3...\n",
              "18         14357.0  ...  POLYGON ((-73.53039 41.52275, -73.51715 41.665...\n",
              "27             NaN  ...  POLYGON ((-77.00793 38.96667, -76.91090 38.890...\n",
              "28          6446.0  ...  POLYGON ((-75.70707 38.55759, -75.71071 38.649...\n",
              "48        170312.0  ...  MULTIPOLYGON (((-80.78566 28.78519, -80.76242 ...\n",
              "44        153910.0  ...  MULTIPOLYGON (((-85.13017 31.77885, -85.13156 ...\n",
              "0          28313.0  ...  MULTIPOLYGON (((-160.07380 22.00418, -160.0497...\n",
              "13        145746.0  ...  POLYGON ((-91.12013 40.70544, -91.12930 40.682...\n",
              "8         216443.0  ...  POLYGON ((-117.02630 43.67903, -117.02379 43.7...\n",
              "26        149995.0  ...  POLYGON ((-88.07159 37.51104, -88.08791 37.476...\n",
              "21         94326.0  ...  POLYGON ((-86.34161 38.17729, -86.36435 38.193...\n",
              "33        213100.0  ...  POLYGON ((-95.07193 37.00148, -95.40662 37.000...\n",
              "32        104656.0  ...  MULTIPOLYGON (((-86.51067 36.65507, -86.77054 ...\n",
              "47        135659.0  ...  MULTIPOLYGON (((-93.70752 30.23958, -93.69938 ...\n",
              "14         27336.0  ...  MULTIPOLYGON (((-71.31933 41.77220, -71.33980 ...\n",
              "30         32131.0  ...  MULTIPOLYGON (((-75.71071 38.64967, -75.70707 ...\n",
              "3          91633.0  ...  MULTIPOLYGON (((-69.77728 44.07415, -69.85993 ...\n",
              "49        250487.0  ...  MULTIPOLYGON (((-88.49753 48.17380, -88.62533 ...\n",
              "10        225163.0  ...  POLYGON ((-91.73037 43.49957, -92.07753 43.499...\n",
              "35        180540.0  ...  POLYGON ((-89.10503 36.95392, -89.12965 36.866...\n",
              "43        125438.0  ...  POLYGON ((-88.45080 31.43562, -88.43456 31.120...\n",
              "2         380831.0  ...  POLYGON ((-111.47543 44.70216, -111.48080 44.6...\n",
              "38        139391.0  ...  MULTIPOLYGON (((-83.98845 34.98915, -84.11815 ...\n",
              "4         183108.0  ...  POLYGON ((-98.73044 45.93827, -99.00683 45.939...\n",
              "15        200330.0  ...  POLYGON ((-101.40739 40.00100, -102.05154 39.9...\n",
              "12         24214.0  ...  POLYGON ((-72.27992 42.72047, -72.45577 42.725...\n",
              "20         22591.0  ...  POLYGON ((-75.48928 39.71486, -75.47597 39.720...\n",
              "41        314917.0  ...  POLYGON ((-109.04950 32.44204, -109.05135 32.7...\n",
              "22        286380.0  ...  POLYGON ((-119.15245 38.41180, -119.31883 38.5...\n",
              "16        141297.0  ...  MULTIPOLYGON (((-79.76324 42.26733, -79.44402 ...\n",
              "25        116098.0  ...  POLYGON ((-83.27276 38.60926, -83.29004 38.596...\n",
              "37        181037.0  ...  POLYGON ((-94.43932 34.92915, -94.44596 34.735...\n",
              "11        254799.0  ...  POLYGON ((-121.44151 41.99433, -122.28471 42.0...\n",
              "17        119280.0  ...  POLYGON ((-77.47579 39.71962, -78.09595 39.725...\n",
              "19          4001.0  ...  MULTIPOLYGON (((-71.79019 41.60131, -71.79261 ...\n",
              "45         82933.0  ...  MULTIPOLYGON (((-81.75959 33.19538, -81.76988 ...\n",
              "5         199729.0  ...  POLYGON ((-102.78838 42.99530, -103.00588 42.9...\n",
              "39        109153.0  ...  POLYGON ((-83.95461 35.45554, -84.01256 35.407...\n",
              "40        695662.0  ...  MULTIPOLYGON (((-105.99889 31.39394, -106.2132...\n",
              "23        219882.0  ...  POLYGON ((-114.04727 38.13765, -114.04509 38.5...\n",
              "34        110787.0  ...  MULTIPOLYGON (((-79.14406 36.54620, -79.21680 ...\n",
              "9          24906.0  ...  POLYGON ((-73.25806 42.74606, -73.26928 42.747...\n",
              "1         184661.0  ...  MULTIPOLYGON (((-122.40202 48.22522, -122.4628...\n",
              "7         169635.0  ...  MULTIPOLYGON (((-87.74856 44.96162, -87.83999 ...\n",
              "29         62756.0  ...  POLYGON ((-79.23166 38.48050, -79.27236 38.437...\n",
              "6         253335.0  ...  POLYGON ((-104.05362 41.69822, -104.05550 41.5...\n",
              "\n",
              "[51 rows x 7 columns]"
            ]
          },
          "metadata": {
            "tags": []
          },
          "execution_count": 28
        }
      ]
    },
    {
      "cell_type": "code",
      "metadata": {
        "id": "0K9mJrLL_yKV",
        "colab": {
          "base_uri": "https://localhost:8080/"
        },
        "outputId": "9c2bc894-b76d-4527-a818-7a43c392c0f0"
      },
      "source": [
        "usa.get_subregions_from_region(name='Mountain')"
      ],
      "execution_count": 31,
      "outputs": [
        {
          "output_type": "execute_result",
          "data": {
            "text/plain": [
              "['AZ', 'CO', 'ID', 'MT', 'NM', 'NV', 'UT', 'WY']"
            ]
          },
          "metadata": {
            "tags": []
          },
          "execution_count": 31
        }
      ]
    },
    {
      "cell_type": "markdown",
      "metadata": {
        "id": "7CubaUCV_yKX"
      },
      "source": [
        "## Management of errors"
      ]
    },
    {
      "cell_type": "markdown",
      "metadata": {
        "id": "ehMtz218_yKX"
      },
      "source": [
        "As far as possible, errors are managed within the `cocoa.error` framework. `CocoaError` should be raised."
      ]
    },
    {
      "cell_type": "code",
      "metadata": {
        "id": "VMGPqNCK_yKX",
        "colab": {
          "base_uri": "https://localhost:8080/",
          "height": 277
        },
        "outputId": "ca863c11-3aa1-40eb-bad3-6af5489cc6f9"
      },
      "source": [
        "gc('GBR') # unknown country within GeoCountry"
      ],
      "execution_count": 32,
      "outputs": [
        {
          "output_type": "error",
          "ename": "CoaKeyError",
          "evalue": "ignored",
          "traceback": [
            "\u001b[0;31m---------------------------------------------------------------------------\u001b[0m",
            "\u001b[0;31mCoaKeyError\u001b[0m                               Traceback (most recent call last)",
            "\u001b[0;32m<ipython-input-32-788ce0f2a569>\u001b[0m in \u001b[0;36m<module>\u001b[0;34m()\u001b[0m\n\u001b[0;32m----> 1\u001b[0;31m \u001b[0mgc\u001b[0m\u001b[0;34m(\u001b[0m\u001b[0;34m'GBR'\u001b[0m\u001b[0;34m)\u001b[0m \u001b[0;31m# unknown country within GeoCountry\u001b[0m\u001b[0;34m\u001b[0m\u001b[0;34m\u001b[0m\u001b[0m\n\u001b[0m",
            "\u001b[0;32m/usr/local/lib/python3.6/dist-packages/coa/geo.py\u001b[0m in \u001b[0;36m__init__\u001b[0;34m(self, country, **kwargs)\u001b[0m\n\u001b[1;32m    706\u001b[0m \u001b[0;34m\u001b[0m\u001b[0m\n\u001b[1;32m    707\u001b[0m         \u001b[0;32mif\u001b[0m \u001b[0;32mnot\u001b[0m \u001b[0mcountry\u001b[0m \u001b[0;32min\u001b[0m \u001b[0mself\u001b[0m\u001b[0;34m.\u001b[0m\u001b[0mget_list_countries\u001b[0m\u001b[0;34m(\u001b[0m\u001b[0;34m)\u001b[0m\u001b[0;34m:\u001b[0m\u001b[0;34m\u001b[0m\u001b[0;34m\u001b[0m\u001b[0m\n\u001b[0;32m--> 708\u001b[0;31m             \u001b[0;32mraise\u001b[0m \u001b[0mCoaKeyError\u001b[0m\u001b[0;34m(\u001b[0m\u001b[0;34m\"Country \"\u001b[0m\u001b[0;34m+\u001b[0m\u001b[0mstr\u001b[0m\u001b[0;34m(\u001b[0m\u001b[0mcountry\u001b[0m\u001b[0;34m)\u001b[0m\u001b[0;34m+\u001b[0m\u001b[0;34m\" not supported. Please see get_list_countries() and help. \"\u001b[0m\u001b[0;34m)\u001b[0m\u001b[0;34m\u001b[0m\u001b[0;34m\u001b[0m\u001b[0m\n\u001b[0m\u001b[1;32m    709\u001b[0m \u001b[0;34m\u001b[0m\u001b[0m\n\u001b[1;32m    710\u001b[0m         \u001b[0mkwargs_test\u001b[0m\u001b[0;34m(\u001b[0m\u001b[0mkwargs\u001b[0m\u001b[0;34m,\u001b[0m\u001b[0;34m[\u001b[0m\u001b[0;34m'dense_geometry'\u001b[0m\u001b[0;34m,\u001b[0m\u001b[0;34m'main_area'\u001b[0m\u001b[0;34m]\u001b[0m\u001b[0;34m,\u001b[0m\u001b[0;34m'Vad args used in this init of GeoCountry object. See help.'\u001b[0m\u001b[0;34m)\u001b[0m\u001b[0;34m\u001b[0m\u001b[0;34m\u001b[0m\u001b[0m\n",
            "\u001b[0;31mCoaKeyError\u001b[0m: 'Country GBR not supported. Please see get_list_countries() and help. '"
          ]
        }
      ]
    },
    {
      "cell_type": "code",
      "metadata": {
        "id": "PeD4Qzrr_yKX",
        "colab": {
          "base_uri": "https://localhost:8080/",
          "height": 277
        },
        "outputId": "1db58614-4f93-49cd-dadf-5ee44dde00e5"
      },
      "source": [
        "fra.get_subregions_from_region() # no arg"
      ],
      "execution_count": 33,
      "outputs": [
        {
          "output_type": "error",
          "ename": "CoaKeyError",
          "evalue": "ignored",
          "traceback": [
            "\u001b[0;31m---------------------------------------------------------------------------\u001b[0m",
            "\u001b[0;31mCoaKeyError\u001b[0m                               Traceback (most recent call last)",
            "\u001b[0;32m<ipython-input-33-6c92deb15e90>\u001b[0m in \u001b[0;36m<module>\u001b[0;34m()\u001b[0m\n\u001b[0;32m----> 1\u001b[0;31m \u001b[0mfra\u001b[0m\u001b[0;34m.\u001b[0m\u001b[0mget_subregions_from_region\u001b[0m\u001b[0;34m(\u001b[0m\u001b[0;34m)\u001b[0m\u001b[0;34m\u001b[0m\u001b[0;34m\u001b[0m\u001b[0m\n\u001b[0m",
            "\u001b[0;32m/usr/local/lib/python3.6/dist-packages/coa/geo.py\u001b[0m in \u001b[0;36mget_subregions_from_region\u001b[0;34m(self, **kwargs)\u001b[0m\n\u001b[1;32m    906\u001b[0m         \u001b[0mname\u001b[0m\u001b[0;34m=\u001b[0m\u001b[0mkwargs\u001b[0m\u001b[0;34m.\u001b[0m\u001b[0mget\u001b[0m\u001b[0;34m(\u001b[0m\u001b[0;34m\"name\"\u001b[0m\u001b[0;34m,\u001b[0m\u001b[0;32mNone\u001b[0m\u001b[0;34m)\u001b[0m\u001b[0;34m\u001b[0m\u001b[0;34m\u001b[0m\u001b[0m\n\u001b[1;32m    907\u001b[0m         \u001b[0;32mif\u001b[0m \u001b[0;32mnot\u001b[0m \u001b[0;34m(\u001b[0m\u001b[0mcode\u001b[0m \u001b[0;34m==\u001b[0m \u001b[0;32mNone\u001b[0m\u001b[0;34m)\u001b[0m \u001b[0;34m^\u001b[0m \u001b[0;34m(\u001b[0m\u001b[0mname\u001b[0m \u001b[0;34m==\u001b[0m \u001b[0;32mNone\u001b[0m\u001b[0;34m)\u001b[0m\u001b[0;34m:\u001b[0m\u001b[0;34m\u001b[0m\u001b[0;34m\u001b[0m\u001b[0m\n\u001b[0;32m--> 908\u001b[0;31m             \u001b[0;32mraise\u001b[0m \u001b[0mCoaKeyError\u001b[0m\u001b[0;34m(\u001b[0m\u001b[0;34m\"Should give either code or name of region, not both.\"\u001b[0m\u001b[0;34m)\u001b[0m\u001b[0;34m\u001b[0m\u001b[0;34m\u001b[0m\u001b[0m\n\u001b[0m\u001b[1;32m    909\u001b[0m \u001b[0;34m\u001b[0m\u001b[0m\n\u001b[1;32m    910\u001b[0m         \u001b[0;32mif\u001b[0m \u001b[0mname\u001b[0m \u001b[0;34m!=\u001b[0m \u001b[0;32mNone\u001b[0m\u001b[0;34m:\u001b[0m\u001b[0;34m\u001b[0m\u001b[0;34m\u001b[0m\u001b[0m\n",
            "\u001b[0;31mCoaKeyError\u001b[0m: 'Should give either code or name of region, not both.'"
          ]
        }
      ]
    },
    {
      "cell_type": "code",
      "metadata": {
        "colab": {
          "base_uri": "https://localhost:8080/",
          "height": 277
        },
        "id": "NhEt4-aFud2O",
        "outputId": "2a595e91-f5a6-4f34-8806-a9df378dafd4"
      },
      "source": [
        "fra.get_subregions_from_region(name='nowhere') # bad arg"
      ],
      "execution_count": 34,
      "outputs": [
        {
          "output_type": "error",
          "ename": "CoaWhereError",
          "evalue": "ignored",
          "traceback": [
            "\u001b[0;31m---------------------------------------------------------------------------\u001b[0m",
            "\u001b[0;31mCoaWhereError\u001b[0m                             Traceback (most recent call last)",
            "\u001b[0;32m<ipython-input-34-21eb77610b18>\u001b[0m in \u001b[0;36m<module>\u001b[0;34m()\u001b[0m\n\u001b[0;32m----> 1\u001b[0;31m \u001b[0mfra\u001b[0m\u001b[0;34m.\u001b[0m\u001b[0mget_subregions_from_region\u001b[0m\u001b[0;34m(\u001b[0m\u001b[0mname\u001b[0m\u001b[0;34m=\u001b[0m\u001b[0;34m'nowhere'\u001b[0m\u001b[0;34m)\u001b[0m \u001b[0;31m# bad arg\u001b[0m\u001b[0;34m\u001b[0m\u001b[0;34m\u001b[0m\u001b[0m\n\u001b[0m",
            "\u001b[0;32m/usr/local/lib/python3.6/dist-packages/coa/geo.py\u001b[0m in \u001b[0;36mget_subregions_from_region\u001b[0;34m(self, **kwargs)\u001b[0m\n\u001b[1;32m    912\u001b[0m                 \u001b[0;32mraise\u001b[0m \u001b[0mCoaTypeError\u001b[0m\u001b[0;34m(\u001b[0m\u001b[0;34m\"Name should be given as string.\"\u001b[0m\u001b[0;34m)\u001b[0m\u001b[0;34m\u001b[0m\u001b[0;34m\u001b[0m\u001b[0m\n\u001b[1;32m    913\u001b[0m             \u001b[0;32mif\u001b[0m \u001b[0;32mnot\u001b[0m \u001b[0mname\u001b[0m \u001b[0;32min\u001b[0m \u001b[0mself\u001b[0m\u001b[0;34m.\u001b[0m\u001b[0mget_region_list\u001b[0m\u001b[0;34m(\u001b[0m\u001b[0;34m)\u001b[0m\u001b[0;34m[\u001b[0m\u001b[0;34m'name_region'\u001b[0m\u001b[0;34m]\u001b[0m\u001b[0;34m.\u001b[0m\u001b[0mto_list\u001b[0m\u001b[0;34m(\u001b[0m\u001b[0;34m)\u001b[0m\u001b[0;34m:\u001b[0m\u001b[0;34m\u001b[0m\u001b[0;34m\u001b[0m\u001b[0m\n\u001b[0;32m--> 914\u001b[0;31m                 \u001b[0;32mraise\u001b[0m \u001b[0mCoaWhereError\u001b[0m \u001b[0;34m(\u001b[0m\u001b[0;34m\"The region \"\u001b[0m\u001b[0;34m+\u001b[0m\u001b[0mname\u001b[0m\u001b[0;34m+\u001b[0m\u001b[0;34m\" does not exist for country \"\u001b[0m\u001b[0;34m+\u001b[0m\u001b[0mself\u001b[0m\u001b[0;34m.\u001b[0m\u001b[0mget_country\u001b[0m\u001b[0;34m(\u001b[0m\u001b[0;34m)\u001b[0m\u001b[0;34m+\u001b[0m\u001b[0;34m\". See get_region_list().\"\u001b[0m\u001b[0;34m)\u001b[0m\u001b[0;34m\u001b[0m\u001b[0;34m\u001b[0m\u001b[0m\n\u001b[0m\u001b[1;32m    915\u001b[0m             \u001b[0mcut\u001b[0m\u001b[0;34m=\u001b[0m\u001b[0;34m(\u001b[0m\u001b[0mself\u001b[0m\u001b[0;34m.\u001b[0m\u001b[0mget_data\u001b[0m\u001b[0;34m(\u001b[0m\u001b[0;34m)\u001b[0m\u001b[0;34m[\u001b[0m\u001b[0;34m'name_region'\u001b[0m\u001b[0;34m]\u001b[0m\u001b[0;34m==\u001b[0m\u001b[0mname\u001b[0m\u001b[0;34m)\u001b[0m\u001b[0;34m\u001b[0m\u001b[0;34m\u001b[0m\u001b[0m\n\u001b[1;32m    916\u001b[0m \u001b[0;34m\u001b[0m\u001b[0m\n",
            "\u001b[0;31mCoaWhereError\u001b[0m: The region nowhere does not exist for country FRA. See get_region_list()."
          ]
        }
      ]
    }
  ]
}