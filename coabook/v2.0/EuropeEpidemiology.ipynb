{
 "metadata": {
  "kernelspec": {
   "display_name": "Python 3 (ipykernel)",
   "language": "python",
   "name": "python3"
  },
  "language_info": {
   "codemirror_mode": {
    "name": "ipython",
    "version": 3
   },
   "file_extension": ".py",
   "mimetype": "text/x-python",
   "name": "python",
   "nbconvert_exporter": "python",
   "pygments_lexer": "ipython3",
   "version": "3.9.17"
  },
  "name": ""
 },
 "nbformat": 3,
 "nbformat_minor": 0,
 "worksheets": [
  {
   "cells": [
    {
     "cell_type": "code",
     "collapsed": false,
     "input": [
      "import sys\n",
      "sys.path.insert(1, '..')\n",
      "from coa import covid19 as co\n",
      "from coa import display as cd\n",
      "from coa import tools as ct\n",
      "from bokeh.io import show, output_notebook\n",
      "from bokeh.layouts import column,row\n",
      "\n",
      "output_notebook(hide_banner=True)\n",
      "from bokeh.io import show\n",
      "import coa.geo as cg\n",
      "from coa.geo import GeoManager as gm\n",
      "import datetime as dt"
     ],
     "language": "python",
     "metadata": {},
     "outputs": [],
     "prompt_number": null
    },
    {
     "cell_type": "code",
     "collapsed": false,
     "input": [
      "### import coa.geo as cg\n",
      "import importlib\n",
      "importlib.reload(co)\n",
      "importlib.reload(cd)\n",
      "importlib.reload(cg)\n",
      "importlib.reload(ct)\n",
      "#impor=\u00a3t coa.front as cf`\n",
      "ct.set_verbose_mode(1)"
     ],
     "language": "python",
     "metadata": {
      "scrolled": true
     },
     "outputs": [],
     "prompt_number": null
    },
    {
     "cell_type": "code",
     "collapsed": false,
     "input": [
      "#euro=['Italy','Swi','Turquie','Pays de Galles']\n",
      "%time dgs,coco = co.DataBase.factory('jhu')"
     ],
     "language": "python",
     "metadata": {},
     "outputs": [],
     "prompt_number": null
    },
    {
     "cell_type": "code",
     "collapsed": false,
     "input": [
      "A=dgs.get_stats(which='deaths',location=[['European Union'],['Africa'],['Asia']],option='sumall')"
     ],
     "language": "python",
     "metadata": {},
     "outputs": [],
     "prompt_number": null
    },
    {
     "cell_type": "code",
     "collapsed": false,
     "input": [
      "show(coco.pycoa_map(A,option='sumall'))"
     ],
     "language": "python",
     "metadata": {},
     "outputs": [],
     "prompt_number": null
    },
    {
     "cell_type": "code",
     "collapsed": false,
     "input": [
      "show(coco.pycoa_map(A))"
     ],
     "language": "python",
     "metadata": {},
     "outputs": [],
     "prompt_number": null
    },
    {
     "cell_type": "code",
     "collapsed": false,
     "input": [
      "A=dgs.get_stats(which='total_people_vaccinated_per_hundred',location='European Union',option='smooth7')\n",
      "show(coco.pycoa_map(A,what='daily',when='01/06/2021:'))"
     ],
     "language": "python",
     "metadata": {},
     "outputs": [],
     "prompt_number": null
    },
    {
     "cell_type": "code",
     "collapsed": false,
     "input": [
      "A0=dgs.get_stats(which='cases_new',option=['sumall','smooth7'])\n",
      "B0=dgs.get_stats(which='icu_covid',option=['sumall','smooth7'])\n",
      "r=dgs.merger(stats=[A0,B0])\n",
      "show(coco.pycoa_date_plot(r,['icu_covid'],when='01/07/2021:'))"
     ],
     "language": "python",
     "metadata": {},
     "outputs": [],
     "prompt_number": null
    },
    {
     "cell_type": "code",
     "collapsed": false,
     "input": [
      "A0=dgs.get_stats(which='cases_new',option=['sumall','smooth7'])\n",
      "B0=dgs.get_stats(which='icu_covid',option=['sumall','smooth7'])\n",
      "r=dgs.merger(stats=[A0,B0])\n",
      "show(coco.pycoa_date_plot(r,['icu_covid'],when='01/07/2021:'))"
     ],
     "language": "python",
     "metadata": {},
     "outputs": [],
     "prompt_number": null
    },
    {
     "cell_type": "code",
     "collapsed": false,
     "input": [
      "loc=['European Union']\n",
      "A=dgs.get_stats(which='total_cases',location=loc,option=['smooth7','sumall','nonneg'])\n",
      "B=dgs.get_stats(which='cur_icu_patients',location=loc,option=['smooth7','sumall'])\n",
      "C=dgs.get_stats(which='cur_hosp_patients',location=loc,option=['smooth7','sumall'])\n",
      "B['cur_icu_patients']=B['cur_icu_patients'].shift(-12)\n",
      "C['cur_hosp_patients']=C['cur_hosp_patients'].shift(-12)\n",
      "tot=dgs.merger(stats=[A,B,C])\n",
      "tot['clustername']=tot['clustername'].apply(lambda x: 'European Union' if x.startswith('Austria') else x)\n",
      "\n",
      "show(coco.pycoa_date_plot(tot,['daily_total_cases','cur_hosp_patients','cur_icu_patients']))  \n",
      "\n"
     ],
     "language": "python",
     "metadata": {},
     "outputs": [],
     "prompt_number": null
    },
    {
     "cell_type": "code",
     "collapsed": false,
     "input": [
      "A=dgs.get_stats(which='total_people_fully_vaccinated_per_hundred',location=['owid_European Union','owid_Africa','owid_World'],option=['smooth7'])\n",
      "\n",
      "A['clustername']=A['clustername'].apply(lambda x: x.replace('owid_',''))\n",
      "show(coco.pycoa_horizonhisto(A))\n"
     ],
     "language": "python",
     "metadata": {},
     "outputs": [],
     "prompt_number": null
    },
    {
     "cell_type": "code",
     "collapsed": false,
     "input": [
      "A=dgs.get_stats(which='tot_tests',option=['smooth7'])\n",
      "B=dgs.get_stats(which='tot_cases',option=['smooth7'])\n",
      "r=dgs.merger(stats=[A,B])\n",
      "r['pos']=r['tot_cases']/r['tot_tests']"
     ],
     "language": "python",
     "metadata": {},
     "outputs": [],
     "prompt_number": null
    },
    {
     "cell_type": "code",
     "collapsed": false,
     "input": [
      "coco.pycoa_mapfolium(B,'daily',when=':01/06/2021')"
     ],
     "language": "python",
     "metadata": {},
     "outputs": [],
     "prompt_number": null
    },
    {
     "cell_type": "code",
     "collapsed": false,
     "input": [
      "list(dgs.get_mainpandas().location.unique())"
     ],
     "language": "python",
     "metadata": {},
     "outputs": [],
     "prompt_number": null
    },
    {
     "cell_type": "code",
     "collapsed": false,
     "input": [
      "loc=['owid_Africa','owid_Europe','owid_North America','owid_South America','owid_World','owid_Oceania','owid_Asia','owid_European Union']\n",
      "A=dgs.get_stats(which='total_people_fully_vaccinated_per_hundred',location=loc)\n",
      "A['clustername'] = A['clustername'].apply(lambda x:x.replace('owid_','').replace('America','Ame.'))\n",
      "show(coco.pycoa_horizonhisto(A))"
     ],
     "language": "python",
     "metadata": {},
     "outputs": [],
     "prompt_number": null
    },
    {
     "cell_type": "code",
     "collapsed": false,
     "input": [
      "A=dgs.get_stats(which='icu_covid',option=['smooth7'])\n",
      "B=dgs.get_stats(which='bed_icu_covid',option=['smooth7'])\n",
      "C=dgs.merger(stats=[A,B])\n",
      "#B=dgs.get_stats(which='total_tests',option=['smooth7'],location='owid_World')\n",
      "#B['taux positivit\u00e9']=B['daily']/A['daily']\n",
      "#B['daily']=B['daily'].shift(20)\n",
      "\n",
      "show(coco.pycoa_sparkmap(C,'icu_covid',when='01/07/2021:'))"
     ],
     "language": "python",
     "metadata": {},
     "outputs": [],
     "prompt_number": null
    },
    {
     "cell_type": "code",
     "collapsed": false,
     "input": [
      "A=dgs.get_stats(which='dose1_daily',option=['smooth7'])\n",
      "B=dgs.get_stats(which='dose2_daily',option=['smooth7'])\n",
      "re=dgs.merger(stats=[A,B])\n",
      "re['tot']=re['dose1_daily']+re['dose2_daily']"
     ],
     "language": "python",
     "metadata": {},
     "outputs": [],
     "prompt_number": null
    },
    {
     "cell_type": "code",
     "collapsed": false,
     "input": [
      "coco.pycoa_mapfolium(re,'tot',when='01/01/2021:',tile='esri')"
     ],
     "language": "python",
     "metadata": {},
     "outputs": [],
     "prompt_number": null
    },
    {
     "cell_type": "code",
     "collapsed": false,
     "input": [
      "loc=['Italy','Spain','France','GBR']\n",
      "A=dgs.get_stats(which='total_deaths',location=loc,option='smooth7')\n",
      "B=dgs.get_stats(which='total_cases',location=loc,option='smooth7')\n",
      "B['daily']=B['daily'].shift(20)\n",
      "C=dgs.merger(stats=[A,B])\n",
      "\n",
      "\n",
      "C['fatality']=C['daily_total_deaths']/C['daily_total_cases']\n",
      "show(coco.pycoa_date_plot(C,'fatality',when='01/12/2020:'))\n",
      "\n"
     ],
     "language": "python",
     "metadata": {},
     "outputs": [],
     "prompt_number": null
    },
    {
     "cell_type": "code",
     "collapsed": false,
     "input": [
      "A=dgs.get_stats(which='confirmed',)\n",
      "B=dgs.get_stats(which='deaths',location=\"Europe\")\n",
      "C=dgs.get_stats(which='recovered',location=\"Europe\",option='nonneg')\n",
      "#print(C.loc[C.location=='France'])\n",
      "#r=dgs.merger(stats=[A,B,C])\n",
      "r['active']=r['confirmed']-r['deaths']-r['recovered']\n",
      "show(coco.pycoa_date_plot(C,'cumul'))\n",
      "#6418093964 1747\n"
     ],
     "language": "python",
     "metadata": {},
     "outputs": [],
     "prompt_number": null
    },
    {
     "cell_type": "code",
     "collapsed": false,
     "input": [
      "# A=dgs.get_mainpandas()\n",
      "A=dgs.get_stats(which='total_deaths',location=\"owid_World\")\n",
      "loc=([c for c in list(A.location.unique()) if c.startswith('owid_')])\n",
      "#loc.remove('owid_World')\n",
      "print(loc)\n",
      "#A.loc[A.location.str.startswith('owid_')]"
     ],
     "language": "python",
     "metadata": {},
     "outputs": [],
     "prompt_number": null
    },
    {
     "cell_type": "code",
     "collapsed": false,
     "input": [
      "import pandas as pd\n",
      "A=dgs.get_stats(which='total_cases',location=['France','GBR'])\n",
      "FR=A.loc[A.location=='France'][['daily','date']]\n",
      "GB=A.loc[A.location=='United Kingdom']\n",
      "GB=pd.merge(FR,GB,on='date')\n",
      "GB['ratio'] = GB['daily_y']/GB['daily_x']\n",
      "colu=GB.columns\n",
      "colu=['date', 'location', 'total_cases', 'daily_x','daily_y', 'cumul',\n",
      "       'weekly', 'codelocation', 'clustername', 'ratio']\n",
      "\n",
      "GB=GB[colu].fillna(0)\n",
      "#GB[:,'ratio'] = GB['daily']/FR['daily']\n",
      "#B=dgs.get_stats(which='population',location=loc,option=['smooth7','nonneg'])\n",
      "show(coco.pycoa_date_plot(GB,'ratio',when='01/05/2021:'))\n",
      "#show(coco.pycoa_horizonhisto(A,when='01/01/2021:'))\n"
     ],
     "language": "python",
     "metadata": {
      "scrolled": true
     },
     "outputs": [],
     "prompt_number": null
    },
    {
     "cell_type": "code",
     "collapsed": false,
     "input": [
      "A=dgs.get_stats(which='total_cases',location='France',option=['smooth7','nonneg'])\n",
      "B=dgs.get_stats(which='total_vaccinations',location='France',option=['smooth7','nonneg'])\n",
      "m=dgs.merger(stats=[A,B])\n",
      "\n",
      "show(coco.pycoa_plot(m,['daily_total_vaccinations','daily_total_cases'],when='01/01/2021:'))\n",
      "#print(P)\n",
      "#P=dgs.get_stats(which='tot_P',option='smooth7')#,location=['France','ESP','ITA'])\n",
      "#T=dgs.get_stats(which='tot_T',option='smooth7')#,location=['France','ESP','ITA'])\n",
      "#m=dgs.merger(stats=[P,T],what='daily')\n",
      "#m['Positivit\u00e9']=m['daily']/m['daily_1']\n"
     ],
     "language": "python",
     "metadata": {
      "scrolled": true
     },
     "outputs": [],
     "prompt_number": null
    },
    {
     "cell_type": "code",
     "collapsed": false,
     "input": [],
     "language": "python",
     "metadata": {},
     "outputs": [],
     "prompt_number": null
    },
    {
     "cell_type": "code",
     "collapsed": false,
     "input": [
      "f=dgs.get_stats(which='total_cases',option=['nonneg','smooth7',],location=['FRA'])\n",
      "g=dgs.get_stats(which='total_cases',option=['nonneg','smooth7',],location=['GBR'])\n",
      "g['ratio']=f['daily']/g['daily']\n",
      "print(g)\n",
      "show(coco.pycoa_date_plot(g,'ratio',))"
     ],
     "language": "python",
     "metadata": {},
     "outputs": [],
     "prompt_number": null
    },
    {
     "cell_type": "code",
     "collapsed": false,
     "input": [
      "dgs.get_keyword_url('tot_death')"
     ],
     "language": "python",
     "metadata": {},
     "outputs": [],
     "prompt_number": null
    },
    {
     "cell_type": "code",
     "collapsed": false,
     "input": [
      "import pandas as pd\n",
      "import numpy as np\n",
      "A=pd.DataFrame({\"location\":[\"Paris\",\"Milan\",\"Madrid\",\"London\",\"Porto\"],\"values\":[np.nan,3,np.nan,4,np.nan]})\n",
      "print(A)\n",
      "print(A.apply(lambda x:x.bfill()))"
     ],
     "language": "python",
     "metadata": {},
     "outputs": [],
     "prompt_number": null
    },
    {
     "cell_type": "code",
     "collapsed": false,
     "input": [
      "A=dgs.get_stats(which='tot_T',option=['sumall','smooth7'])\n",
      "show(coco.pycoa_date_plot(A,what='daily'))"
     ],
     "language": "python",
     "metadata": {},
     "outputs": [],
     "prompt_number": null
    },
    {
     "cell_type": "code",
     "collapsed": false,
     "input": [
      "loc=['France','Germany','Spain','Italy']\n",
      "A=dgs.get_stats(which='total_people_fully_vaccinated_per_hundred',location=loc)\n",
      "B=dgs.get_stats(which='total_deaths',location=loc,)\n",
      "res=dgs.merger(stats=[A,B])\n",
      "#print(res)\n",
      "show(coco.pycoa_plot(res,['total_people_fully_vaccinated_per_hundred','total_deaths'],title='total deaths vs. fully vaccinated (%)',when='01/01/2021:'))"
     ],
     "language": "python",
     "metadata": {},
     "outputs": [],
     "prompt_number": null
    },
    {
     "cell_type": "code",
     "collapsed": false,
     "input": [
      "\n",
      "\n",
      "import datetime as dt\n",
      "d2=dt.date(2021,4,1)\n",
      "d=dt.timedelta(days=7)\n",
      "import pandas as pd\n",
      "import numpy as np\n",
      "B=A[(A['date']>d2) & (A['daily'] != 0)][['date','daily']]\n",
      "idx = pd.date_range(B.date.min(), B.date.max())\n",
      "B=B.set_index('date')\n",
      "B = B.reindex(idx,fill_value=np.nan)#\n",
      "\n",
      "B=B['daily'].fillna(method = 'ffill').reset_index()\n",
      "B=B.rename(columns={'index':'date','daily':'daily_smooth'})\n",
      "#reindex(idx,fill_value=numpy.nan)\n",
      "B['date']=B['date'].dt.date\n",
      "result=pd.merge(A,B,on='date')\n",
      "print(result)\n",
      "show(coco.pycoa_date_plot(result,'daily_smooth',when='01/04/2021:'))\n",
      "3895795"
     ],
     "language": "python",
     "metadata": {},
     "outputs": [],
     "prompt_number": null
    },
    {
     "cell_type": "code",
     "collapsed": false,
     "input": [
      "%time spf,coco = co.DataBase.factory('spf')"
     ],
     "language": "python",
     "metadata": {},
     "outputs": [],
     "prompt_number": null
    },
    {
     "cell_type": "code",
     "collapsed": false,
     "input": [
      "A=dgs.get_stats(which='cur_reproduction_rate',location='France')\n",
      "A=A.rename(columns={'cur_reproduction_rate':'R_owid'})\n",
      "B=spf.get_stats(which='cur_idx_R',option='sumall')\n",
      "B['location']='France'\n",
      "B['clustername']='France'\n",
      "B=B.rename(columns={'cur_idx_R':'R_spf'})\n",
      "C=dgs.merger(stats=[A,B])\n",
      "show(coco.pycoa_date_plot(C,['R_owid',\"R_spf\"],when='01/06/2020:'))"
     ],
     "language": "python",
     "metadata": {
      "scrolled": true
     },
     "outputs": [],
     "prompt_number": null
    },
    {
     "cell_type": "code",
     "collapsed": false,
     "input": [
      "import datetime as dt\n",
      "A=dgs.get_stats(which='total_deaths_per_million',location=\"G7\")\n",
      "B=dgs.get_stats(which='total_vaccinations_per_hundred',location=\"G7\")\n",
      "C=dgs.get_stats(which='cur_reproduction_rate',location=\"G7\")\n",
      "r=dgs.merger(stats=[A,B,C],what='daily')\n",
      "#r['date']=r['date'].apply(lambda x: x.strftime('%Y-%m-%d'))\n",
      "#r.to_excel(\"output.xlsx\")  \n",
      "#show(coco.pycoa_plot(r,['total_deaths_per_million','daily_cur_reproduction_rate']))"
     ],
     "language": "python",
     "metadata": {},
     "outputs": [],
     "prompt_number": null
    },
    {
     "cell_type": "code",
     "collapsed": false,
     "input": [
      "show(coco.pycoa_(A))"
     ],
     "language": "python",
     "metadata": {},
     "outputs": [],
     "prompt_number": null
    },
    {
     "cell_type": "code",
     "collapsed": false,
     "input": [
      "dgs.export(pandas=r,format='csv')"
     ],
     "language": "python",
     "metadata": {},
     "outputs": [],
     "prompt_number": null
    },
    {
     "cell_type": "code",
     "collapsed": false,
     "input": [
      "#### A=dgs.get_stats(which='cur_reanimation')\n",
      "B=dgs.get_stats(which='total_cas_confirmes')\n",
      "C=dgs.merger(stats=[A,B],what='daily')\n",
      "print(C)\n",
      "#show(coco.pycoa_plot(C,['cur_reanimation','total_cas_confirmes']))"
     ],
     "language": "python",
     "metadata": {},
     "outputs": [],
     "prompt_number": null
    },
    {
     "cell_type": "code",
     "collapsed": false,
     "input": [
      "C=dgs.get_stats(which='cur_idx_Prc_susp_501Y_V2_3',option='fillnan')\n",
      "\n",
      "#print(C.loc[C.location=='ARDECHE'])\n",
      "#show(coco.pycoa_date_plot(C))"
     ],
     "language": "python",
     "metadata": {},
     "outputs": [],
     "prompt_number": null
    },
    {
     "cell_type": "code",
     "collapsed": false,
     "input": [
      "import pandas as pd\n",
      "A=dgs.get_stats(which='tot_dc',option=['sumall','smooth7'])\n",
      "B=dgs.get_stats(which='tot_vacc',option=['sumall','smooth7'])[['tot_vacc','date']]\n",
      "result=pd.merge(A,B,on='date')\n",
      "result=result.rename(columns={'daily':'daily deces hosp'})\n",
      "\n",
      "#from bokeh.io import save,output_file\n",
      "#print(A.loc[A.date==A.date.max()])\n",
      "#output_file(\"vacc2.html\")\n",
      "show(coco.pycoa_plot(result,['tot_vacc','daily deces hosp'],when='01/01/2021:31/05/2021',title=\"deces hospitalier vs vaccination\"))\n",
      "#save(p)\n"
     ],
     "language": "python",
     "metadata": {},
     "outputs": [],
     "prompt_number": null
    },
    {
     "cell_type": "code",
     "collapsed": false,
     "input": [
      "import plotly.express as px\n",
      "import numpy as np\n",
      "\n",
      "from bokeh.models import Button\n",
      "import panel as pn\n",
      "\n",
      "pn.extension('plotly')\n",
      "\n",
      "\n",
      "def press_cb():\n",
      "    print(\"button press\")\n",
      "\n",
      "b = Button(button_type='primary', width=300, label='Press')\n",
      "b.on_click(press_cb)\n",
      "\n",
      "df = px.data.gapminder().query(\"year == 2007\")\n",
      "\n",
      "\n",
      "df[\"world\"] = \"world\" # in order to have a single root node\n",
      "print(df)\n",
      "A['Europe']='Europe'\n",
      "fig = px.treemap(A, path=['Europe', 'location'], values='confirmed',\n",
      "                  color='daily', hover_data=['codelocation'])\n",
      "                  #color_continuous_scale='RdBu',\n",
      "                  #color_continuous_midpoint=np.average(df['lifeExp'], weights=df['pop']))\n",
      "\n",
      "ui = pn.Column(b, fig)\n",
      "ui.servable()"
     ],
     "language": "python",
     "metadata": {},
     "outputs": [],
     "prompt_number": null
    },
    {
     "cell_type": "code",
     "collapsed": false,
     "input": [
      "import pandas as pd\n",
      "# location=['32','40']\n",
      "#loc=['Louisiana','Arkansas','Kentucky','Virginia']\n",
      "A=dgs.get_stats(which='total_vaccinations',option='sumall',location='European Union')\n",
      "B=dgs.get_stats(which='total_deaths',option='sumall',location='European Union').drop(columns=['location','codelocation','clustername'])\n",
      "\n",
      "C=pd.merge(A,B,on=['date'])\n",
      "C['location']='European Union'\n",
      "C['codelocation']='European Union'\n",
      "\n",
      "print(C)\n",
      "#B=dgs.get_mainpandas(l`cation='US')\n",
      "#print(B.loc[B.location=='75`+'])==\n",
      "#show(coco.pycoa_horizonhisto(B))\n",
      "#coco.pycoageo(B)\n",
      "#show(coco.pycoa_map(B,when=':02/03/2021'))\n",
      "show(coco.pycoa_plot(C,['total_vaccinations','total_deaths'],when='01/01/2021:'))\n",
      "##show(coco.pycoa_horizonhisto(B))\n",
      "#show(coco.pycoa_pie(B))\n"
     ],
     "language": "python",
     "metadata": {},
     "outputs": [],
     "prompt_number": null
    },
    {
     "cell_type": "code",
     "collapsed": false,
     "input": [
      "dgs.get_mainpandas()"
     ],
     "language": "python",
     "metadata": {},
     "outputs": [],
     "prompt_number": null
    },
    {
     "cell_type": "code",
     "collapsed": false,
     "input": [
      "dgs.get_mainpandas()"
     ],
     "language": "python",
     "metadata": {},
     "outputs": [],
     "prompt_number": null
    },
    {
     "cell_type": "code",
     "collapsed": false,
     "input": [
      "B=rki.get_stats(which='tot_deaths',option='sumall')\n",
      "show(coco.pycoa_date_plot(B))"
     ],
     "language": "python",
     "metadata": {},
     "outputs": [],
     "prompt_number": null
    },
    {
     "cell_type": "code",
     "collapsed": false,
     "input": [
      "%time ita,coco = co.DataBase.factory('dpc')\n",
      "B=ita.get_stats(which='tot_deaths')\n",
      "show(coco.pycoa_date_plot(B))\n",
      "#2021-05-07"
     ],
     "language": "python",
     "metadata": {
      "scrolled": true
     },
     "outputs": [],
     "prompt_number": null
    },
    {
     "cell_type": "code",
     "collapsed": false,
     "input": [
      "%time owid,coco = co.DataBase.factory('owid')"
     ],
     "language": "python",
     "metadata": {},
     "outputs": [],
     "prompt_number": null
    },
    {
     "cell_type": "code",
     "collapsed": false,
     "input": [
      "A=owid.get_stats(which='total_cases')\n",
      "B=owid.get_stats(which='total_tests')\n",
      "A['Pos']=A['total_cases']/B['total_tests']\n",
      "#print(A)\n",
      "show(coco.pycoa_map(B,'total_tests'))"
     ],
     "language": "python",
     "metadata": {},
     "outputs": [],
     "prompt_number": null
    },
    {
     "cell_type": "code",
     "collapsed": false,
     "input": [
      "location=[['China'],['USA'],['European Union'],['India']]\n",
      "B=owid.get_stats(which='total_deaths_per_million',location=['Cuba','France'])"
     ],
     "language": "python",
     "metadata": {},
     "outputs": [],
     "prompt_number": null
    },
    {
     "cell_type": "code",
     "collapsed": false,
     "input": [
      "show(coco.pycoa_date_plot(B))"
     ],
     "language": "python",
     "metadata": {},
     "outputs": [],
     "prompt_number": null
    },
    {
     "cell_type": "code",
     "collapsed": false,
     "input": [
      "%time rki,coco = co.DataBase.factory('rki')\n",
      "BBBB=rki.get_stats(which='deaths')\n",
      "CCCC=coco.pycoageo(BBBB)"
     ],
     "language": "python",
     "metadata": {},
     "outputs": [],
     "prompt_number": null
    },
    {
     "cell_type": "code",
     "collapsed": false,
     "input": [
      "%time sci,coco = co.DataBase.factory('sciensano')\n",
      "BBBBB=sci.get_stats(which='deaths')\n",
      "CCCCC=coco.pycoageo(BBBBB)"
     ],
     "language": "python",
     "metadata": {},
     "outputs": [],
     "prompt_number": null
    },
    {
     "cell_type": "code",
     "collapsed": false,
     "input": [
      "CCC=CCC.append(C)\n",
      "CCC=CCC.append(CC)\n",
      "CCC=CCC.append(CCCC)"
     ],
     "language": "python",
     "metadata": {},
     "outputs": [],
     "prompt_number": null
    },
    {
     "cell_type": "code",
     "collapsed": false,
     "input": [
      "#print(CC)\n",
      "show(coco.pycoa_map2('tot_deaths',CCC))"
     ],
     "language": "python",
     "metadata": {},
     "outputs": [],
     "prompt_number": null
    },
    {
     "cell_type": "code",
     "collapsed": false,
     "input": [],
     "language": "python",
     "metadata": {},
     "outputs": [],
     "prompt_number": null
    },
    {
     "cell_type": "code",
     "collapsed": false,
     "input": [],
     "language": "python",
     "metadata": {},
     "outputs": [],
     "prompt_number": null
    },
    {
     "cell_type": "code",
     "collapsed": false,
     "input": [
      "A=phe.get_stats(which='tot_deaths')\n",
      "#B=coco.pycoageo(A)\n",
      "#print(B)\n",
      "B.loc[B.name_subregion=='Cornwall and Isles of Scilly']"
     ],
     "language": "python",
     "metadata": {},
     "outputs": [],
     "prompt_number": null
    },
    {
     "cell_type": "code",
     "collapsed": false,
     "input": [
      "show(coco.pycoa_map(A))\n",
      "#for i in A.columns.to_list():\n",
      "#    print(i,A.loc[A.i<0].isnull().sum())"
     ],
     "language": "python",
     "metadata": {},
     "outputs": [],
     "prompt_number": null
    },
    {
     "cell_type": "code",
     "collapsed": false,
     "input": [
      "geo=cg.GeoManager('name')\n",
      "ll=['Afghanistan', 'Africa', 'Albania', 'Algeria', 'Andorra', 'Angola', 'Antigua and Barbuda', 'Argentina', 'Armenia', 'Asia', 'Australia', 'Austria', 'Azerbaijan', 'Bahamas', 'Bahrain', 'Bangladesh', 'Barbados', 'Belarus', 'Belgium', 'Belize', 'Benin', 'Bermuda', 'Bhutan', 'Bolivia', 'Bosnia and Herzegovina', 'Botswana', 'Brazil', 'Brunei', 'Bulgaria', 'Burkina Faso', 'Burundi', 'Cambodia', 'Cameroon', 'Canada', 'Cape Verde', 'Cayman Islands', 'Central African Republic', 'Chad', 'Chile', 'China', 'Colombia', 'Comoros', 'Congo', 'Costa Rica', \"Cote d'Ivoire\", 'Croatia', 'Cuba', 'Cyprus', 'Czechia', 'Democratic Republic of Congo', 'Denmark', 'Djibouti', 'Dominica', 'Dominican Republic', 'Ecuador', 'Egypt', 'El Salvador', 'Equatorial Guinea', 'Eritrea', 'Estonia', 'Eswatini', 'Ethiopia', 'Europe', 'European Union', 'Faeroe Islands', 'Fiji', 'Finland', 'France', 'Gabon', 'Gambia', 'Georgia', 'Germany', 'Ghana', 'Gibraltar', 'Greece', 'Greenland', 'Grenada', 'Guatemala', 'Guernsey', 'Guinea', 'Guinea-Bissau', 'Guyana', 'Haiti', 'Honduras', 'Hong Kong', 'Hungary', 'Iceland', 'India', 'Indonesia', 'Iran', 'Iraq', 'Ireland', 'Isle of Man', 'Israel', 'Italy', 'Jamaica', 'Japan', 'Jersey', 'Jordan', 'Kazakhstan', 'Kenya', 'Kosovo', 'Kuwait', 'Kyrgyzstan', 'Laos', 'Latvia', 'Lebanon', 'Lesotho', 'Liberia', 'Libya', 'Liechtenstein', 'Lithuania', 'Luxembourg', 'Madagascar', 'Malawi', 'Malaysia', 'Maldives', 'Mali', 'Malta', 'Marshall Islands', 'Mauritania', 'Mauritius', 'Mexico', 'Micronesia (country)', 'Moldova', 'Monaco', 'Mongolia', 'Montenegro', 'Morocco', 'Mozambique', 'Myanmar', 'Namibia', 'Nepal', 'Netherlands', 'New Zealand', 'Nicaragua', 'Niger', 'Nigeria', 'North America', 'North Macedonia', 'Northern Cyprus', 'Norway', 'Oceania', 'Oman', 'Pakistan', 'Palestine', 'Panama', 'Papua New Guinea', 'Paraguay', 'Peru', 'Philippines', 'Poland', 'Portugal', 'Qatar', 'Romania', 'Russia', 'Rwanda', 'Saint Helena', 'Saint Kitts and Nevis', 'Saint Lucia', 'Saint Vincent and the Grenadines', 'Samoa', 'San Marino', 'Sao Tome and Principe', 'Saudi Arabia', 'Senegal', 'Serbia', 'Seychelles', 'Sierra Leone', 'Singapore', 'Slovakia', 'Slovenia', 'Solomon Islands', 'Somalia', 'South Africa', 'South America', 'South Korea', 'South Sudan', 'Spain', 'Sri Lanka', 'Sudan', 'Suriname', 'Sweden', 'Switzerland', 'Syria', 'Taiwan', 'Tajikistan', 'Tanzania', 'Thailand', 'Timor', 'Togo', 'Trinidad and Tobago', 'Tunisia', 'Turkey', 'Uganda', 'Ukraine', 'United Arab Emirates', 'United Kingdom', 'United States', 'Uruguay', 'Uzbekistan', 'Vanuatu', 'Vatican', 'Venezuela', 'Vietnam', 'Yemen', 'Zambia', 'Zimbabwe']\n",
      "len(ll)\n",
      "#A='Hong Kong'\n",
      "#geo.set_standard('iso3')\n",
      "B=(geo.to_standard(ll,output='list',db='owid',interpret_region=True))\n",
      "#print(B)"
     ],
     "language": "python",
     "metadata": {},
     "outputs": [],
     "prompt_number": null
    },
    {
     "cell_type": "code",
     "collapsed": false,
     "input": [
      "import importlib\n",
      "importlib.reload(co)\n",
      "importlib.reload(cd)\n",
      "importlib.reload(cg)\n",
      "importlib.reload(ct)\n",
      "ct.set_verbose_mode(1)"
     ],
     "language": "python",
     "metadata": {
      "scrolled": true
     },
     "outputs": [],
     "prompt_number": null
    },
    {
     "cell_type": "code",
     "collapsed": false,
     "input": [
      "%time jhu,coco= co.DataBase.factory('jhu')"
     ],
     "language": "python",
     "metadata": {
      "scrolled": true
     },
     "outputs": [],
     "prompt_number": null
    },
    {
     "cell_type": "code",
     "collapsed": false,
     "input": [
      "A=(jhu.get_stats(which='deaths',location='Europe'))\n",
      "B=(jhu.get_stats(which='confirmed',location='Europe'))\n",
      "A['R']=A['daily']/B['daily']\n",
      "show(coco.pycoa_date_plot(A,'R'))\n"
     ],
     "language": "python",
     "metadata": {},
     "outputs": [],
     "prompt_number": null
    },
    {
     "cell_type": "code",
     "collapsed": false,
     "input": [
      "A=(jhu.get_stats(which='tot_deaths_per100k'))\n",
      "show(coco.pycoa_map(A,cursor_date=True))"
     ],
     "language": "python",
     "metadata": {
      "scrolled": true
     },
     "outputs": [],
     "prompt_number": null
    },
    {
     "cell_type": "code",
     "collapsed": false,
     "input": [
      "# from pivottablejs import pivot_ui\n",
      "A=jhu.get_stats(which='deaths',location='France',option='smooth7')\n",
      "pivot_ui(A)\n",
      "#HTML(\u2018pivottablejs.html\u2019)"
     ],
     "language": "python",
     "metadata": {},
     "outputs": [],
     "prompt_number": null
    },
    {
     "cell_type": "code",
     "collapsed": false,
     "input": [
      "jhu.get_keyword_definition('cur_idx_Prc_susp_IND')"
     ],
     "language": "python",
     "metadata": {},
     "outputs": [],
     "prompt_number": null
    },
    {
     "cell_type": "code",
     "collapsed": false,
     "input": [
      "jhu.get_keyword_definition('cur_idx_Prc_susp_IND')"
     ],
     "language": "python",
     "metadata": {},
     "outputs": [],
     "prompt_number": null
    },
    {
     "cell_type": "code",
     "collapsed": false,
     "input": [
      "import pandas as pd\n",
      "location=['Spain','Germany','France','Italy','India','Brazil']\n",
      "A=jhu.get_stats(which='deaths',location=location,option='smooth7')\n",
      "A['deaths']=A['deaths'].shift(14)\n",
      "#A=A.rename(columns={'daily':'deaths_daily'})\n",
      "A=A[['date','deaths','location']]\n",
      "B=jhu.get_stats(which='confirmed',location=location,option='smooth7')\n",
      "result=pd.merge(A,B,on=['date','location'])\n",
      "\n",
      "\n",
      "p=coco.pycoa_plot(result,['confirmed','deaths'])\n",
      "show(p)"
     ],
     "language": "python",
     "metadata": {},
     "outputs": [],
     "prompt_number": null
    },
    {
     "cell_type": "code",
     "collapsed": false,
     "input": [
      "ind.get_info_keys_words('confirmed')"
     ],
     "language": "python",
     "metadata": {},
     "outputs": [],
     "prompt_number": null
    },
    {
     "cell_type": "code",
     "collapsed": false,
     "input": [
      "%time owid,coco= co.DataBase.factory('owid')"
     ],
     "language": "python",
     "metadata": {},
     "outputs": [],
     "prompt_number": null
    },
    {
     "cell_type": "code",
     "collapsed": false,
     "input": [
      "import pandas as pd\n",
      "#A=owid.get_stats(which='Confirmed',option='sumall')\n",
      "#A=A[['date','Confirmed']]\n",
      "B=owid.get_stats(which='total_deaths_per_million',location=['France','India'],option='smooth7')\n",
      "\n",
      "#result=pd.merge(A,B, on='date')\n",
      "#show(coco.pycoa_date_plot(result,['Confirmed','total_cases']))\n",
      "show(coco.pycoa_date_plot(B,what='daily'))"
     ],
     "language": "python",
     "metadata": {
      "scrolled": true
     },
     "outputs": [],
     "prompt_number": null
    },
    {
     "cell_type": "code",
     "collapsed": false,
     "input": [
      "jhu.get_info_keys_words('cur_hosp_patients')"
     ],
     "language": "python",
     "metadata": {},
     "outputs": [],
     "prompt_number": null
    },
    {
     "cell_type": "code",
     "collapsed": false,
     "input": [
      "import pandas as pd\n",
      "loc='G8'\n",
      "A=jhu.get_stats(which='total_tests')\n",
      "show(coco.pycoa_pie(A))"
     ],
     "language": "python",
     "metadata": {},
     "outputs": [],
     "prompt_number": null
    },
    {
     "cell_type": "code",
     "collapsed": false,
     "input": [
      "#import pandas as pd\n",
      "#pan = pd.read_csv('https://raw.githubusercontent.com/opencovid19-fr/data/master/dist/chiffres-cles.csv',sep = ',')"
     ],
     "language": "python",
     "metadata": {},
     "outputs": [],
     "prompt_number": null
    },
    {
     "cell_type": "code",
     "collapsed": false,
     "input": [
      "%time owid,coco= co.DataBase.factory(\"owid\")\n",
      "#%time owid,coco=co.DataBase.factory(\"owid\")"
     ],
     "language": "python",
     "metadata": {},
     "outputs": [],
     "prompt_number": null
    },
    {
     "cell_type": "code",
     "collapsed": false,
     "input": [
      "A=jhu.get_stats(which='total_deaths',location='Spain')\n",
      "B=jhu.get_stats(which='total_deaths',location='Spain',option='nonneg')\n",
      "A['nonneg']=B['total_deaths']\n",
      "show(coco.pycoa_date_plot(A,['total_deaths','nonneg']))\n",
      "\n"
     ],
     "language": "python",
     "metadata": {},
     "outputs": [],
     "prompt_number": null
    },
    {
     "cell_type": "code",
     "collapsed": false,
     "input": [
      "loc=['France','Spain','United Kingdom','USA','Brazil','Israel']\n",
      "\n",
      "A=owid.get_stats(which='total_vaccinations_per_hundred',location=loc)\n",
      "B=owid.get_stats(which='total_deaths_per_million',location='Europe',option='sumall')\n",
      "\n",
      "#B=owid.get_stats(which='total_vaccinations_per_hundred',location=loc,option='smooth7')\n",
      "\n",
      "#A['EU']=B['total_vaccinations_per_hundred']\n",
      "#A=A.append(B)\n",
      "#print(A)\n",
      "#\n",
      "show(coco.pycoa_date_plot(A))"
     ],
     "language": "python",
     "metadata": {},
     "outputs": [],
     "prompt_number": null
    },
    {
     "cell_type": "code",
     "collapsed": false,
     "input": [
      "location=['germany','France','United Kingdom','Italy']\n",
      "B=jhu.get_stats(which='total_vaccinations_per_hundred',location=location,option='smooth7')\n",
      "\n",
      "C=jhu.get_stats(which='total_vaccinations_per_hundred',location=location,option='smooth7')\n",
      "B['total_vaccinations_per_hundred']=C['total_vaccinations_per_hundred']\n",
      "#show(coco.pycoa_date_plot(B,'daily',when='15/01/2021:'))\n",
      "show(coco.pycoa_plot(B,['total_deaths_per_million','total_vaccinations_per_hundred']))\n",
      "\n",
      "#,coco.pycoa_horizonhisto(B,cursor_date=True)))"
     ],
     "language": "python",
     "metadata": {},
     "outputs": [],
     "prompt_number": null
    },
    {
     "cell_type": "code",
     "collapsed": false,
     "input": [
      "import pandas as pd\n",
      "import numpy as np\n",
      "d = {'posa': ['US','IT','FR'],\n",
      " 'values': [0.2, 0.3, 0.4]}\n",
      "df = pd.DataFrame(d)\n",
      "print(df['values'].apply(np.sin))"
     ],
     "language": "python",
     "metadata": {},
     "outputs": [],
     "prompt_number": null
    },
    {
     "cell_type": "code",
     "collapsed": false,
     "input": [
      "from bokeh.models import ColumnDataSource\n",
      "toto=ColumnDataSource()\n",
      "toto.to_json"
     ],
     "language": "python",
     "metadata": {},
     "outputs": [],
     "prompt_number": null
    },
    {
     "cell_type": "code",
     "collapsed": false,
     "input": [
      "np.cos(3.14)"
     ],
     "language": "python",
     "metadata": {},
     "outputs": [],
     "prompt_number": null
    },
    {
     "cell_type": "code",
     "collapsed": false,
     "input": [
      "\n",
      "            standardfig.quad(source=srcfiltered,\n",
      "                             top='top', bottom='bottom', left='left', right='right', color='colors', line_color='black',\n",
      "                             line_width=1, hover_line_width=2)\n"
     ],
     "language": "python",
     "metadata": {},
     "outputs": [],
     "prompt_number": null
    },
    {
     "cell_type": "code",
     "collapsed": false,
     "input": [
      "import pandas as pd\n",
      "loc=['France','Italy','Spain']\n",
      "A=jhu.get_stats(which='deaths',location=loc)\n",
      "B=owid.get_stats(which='total_cases',location=loc)[['location','date','total_cases']]\n",
      "result=pd.merge(A,B, on=['location','date'])\n",
      "show(coco.pycoa_plot(result,input_field=['deaths','total_cases']))"
     ],
     "language": "python",
     "metadata": {},
     "outputs": [],
     "prompt_number": null
    },
    {
     "cell_type": "code",
     "collapsed": false,
     "input": [
      "16.4*7.65"
     ],
     "language": "python",
     "metadata": {},
     "outputs": [],
     "prompt_number": null
    },
    {
     "cell_type": "code",
     "collapsed": false,
     "input": [
      "from math import pi\n",
      "\n",
      "import pandas as pd\n",
      "import itertools\n",
      "\n",
      "from bokeh.io import output_file, show\n",
      "from bokeh.palettes import Category20c\n",
      "from bokeh.plotting import figure\n",
      "from bokeh.transform import cumsum\n",
      "\n",
      "a=jhu.get_stats(which='confirmed',location='Europe')\n",
      "\n",
      "#data = p['total_cases']\n",
      "val=a.loc[a.date==a.date.max()][['location','confirmed']].reset_index(drop=True).dropna()\n",
      "val['angle'] = val['confirmed']/val['confirmed'].sum() * 2*pi\n",
      "colors=itertools.cycle(Category20c[20])\n",
      "\n",
      "val['color'] = [next(colors) for i in val.location.unique()]\n",
      "\n",
      "p = figure(plot_height=350, title=\"Pie Chart\", toolbar_location=None,\n",
      "           tools=\"hover\", tooltips=\"@location: @cur_hosp\", x_range=(-0.5, 1.0))\n",
      "\n",
      "p.wedge(x=0, y=1, radius=0.4,\n",
      "        start_angle=cumsum('angle', include_zero=True), end_angle=cumsum('angle'),\n",
      "        line_color=\"white\", fill_color='color', legend_field='location', source=val)\n",
      "\n",
      "p.axis.axis_label=None\n",
      "p.axis.visible=False\n",
      "p.grid.grid_line_color = None\n",
      "panels=[]\n",
      "for i in ['title1','title2']:\n",
      "    panel = Panel(child=p,title=i)\n",
      "    panels.append(panel)\n",
      "\n",
      "tabs = Tabs(tabs=panels)\n",
      "#A=owid.get_stats(location=['Greece','France'],which='cur_reproduction_rate')\n",
      "#show(coco.pycoa_date_plot(A,which='daily'))"
     ],
     "language": "python",
     "metadata": {},
     "outputs": [],
     "prompt_number": null
    },
    {
     "cell_type": "code",
     "collapsed": false,
     "input": [
      "tabs."
     ],
     "language": "python",
     "metadata": {},
     "outputs": [],
     "prompt_number": null
    },
    {
     "cell_type": "code",
     "collapsed": false,
     "input": [
      "%time owid,coco= co.DataBase.factory(\"covidtracking\")"
     ],
     "language": "python",
     "metadata": {},
     "outputs": [],
     "prompt_number": null
    },
    {
     "cell_type": "code",
     "collapsed": false,
     "input": [
      "A=owid.get_stats(which='total_cases')\n",
      "show(coco.pycoa_map(A,cursor_date=True,tile='stamen'))"
     ],
     "language": "python",
     "metadata": {},
     "outputs": [],
     "prompt_number": null
    },
    {
     "cell_type": "code",
     "collapsed": false,
     "input": [
      "%time owid,coco= co.DataBase.factory(\"covid19-india\")\n",
      "#print(A.loc[A.location==r'Hong Kong'])"
     ],
     "language": "python",
     "metadata": {
      "scrolled": true
     },
     "outputs": [],
     "prompt_number": null
    },
    {
     "cell_type": "code",
     "collapsed": false,
     "input": [
      "A=owid.get_stats(which='Confirmed')\n",
      "show(coco.bokeh_map(A,'daily'))"
     ],
     "language": "python",
     "metadata": {},
     "outputs": [],
     "prompt_number": null
    },
    {
     "cell_type": "code",
     "collapsed": false,
     "input": [
      "location=['India']\n",
      "A=owid.get_stats(location=location,which='total_deaths',option='smooth7')\n",
      "show(coco.pycoa_date_plot(A,'daily'))\n"
     ],
     "language": "python",
     "metadata": {},
     "outputs": [],
     "prompt_number": null
    },
    {
     "cell_type": "code",
     "collapsed": false,
     "input": [
      "#a1=owid.get_stats(location=['Portugal','France','Greece'],which='total_cases',option=\"sumall\")\n",
      "#a2=owid.get_stats(location='Europe',which='total_cases')\n",
      "#a2=a2.append(a1)\n",
      "#print(a2)\n",
      "A=owid.get_stats(location='world',which='total_vaccinations_per_hundred',option=\"sumall\")\n",
      "loc=['France','Spain','Italy','Great Britain','Germany','Israel']\n",
      "B=owid.get_stats(location=loc,which='total_deaths_per_million',option='smooth7')\n",
      "#m=A.codelocation.apply(lambda x: x if type(x)==int else 'No')\n",
      "print(B)\n",
      "#show(coco.pycoa_date_plot(A))\n",
      "show(coco.pycoa_plot(B,what='daily',when='01/01/2021:'))\n"
     ],
     "language": "python",
     "metadata": {
      "scrolled": true
     },
     "outputs": [],
     "prompt_number": null
    },
    {
     "cell_type": "code",
     "collapsed": false,
     "input": [
      "a=owid.get_stats(location='Europe',which='total_vaccinations')\n",
      "show(coco.pycoa_horizonhisto(a))\n",
      "\n",
      "#b=owid.get_stats(location=['Africa','USA'],which='cur_reproduction_rate',option='sumall')\n",
      "#c=owid.get_stats(location='G77',which='cur_reproduction_rate')\n",
      "#d=b.append(a).append(c)\n",
      "#print(c)\n",
      "#show(coco.bokeh_map(c))\n",
      "#show(coco.pycoa_horizonhisto(a))\n",
      "#show(coco.bokeh_map(C))\n",
      "#coco.map_folium(d)"
     ],
     "language": "python",
     "metadata": {
      "scrolled": true
     },
     "outputs": [],
     "prompt_number": null
    },
    {
     "cell_type": "code",
     "collapsed": false,
     "input": [
      "#f=cg.GeoCountry('FRA')\n",
      "#alldep=list(f.get_subregion_list()['code_subregion'])\n",
      "#allreg=list(f.get_region_list()['name_region'])\n",
      "#allreg=['\u00cele-de-France', 'Centre-Val de Loire', 'Bourgogne-Franche-Comt\u00e9', 'Normandie', 'Hauts-de-France', 'Grand Est', 'Pays de la Loire', 'Bretagne', 'Nouvelle-Aquitaine', 'Occitanie', 'Auvergne-Rh\u00f4ne-Alpes', \"Provence-Alpes-C\u00f4te d'Azur\", 'Corse']\n",
      "\n",
      "#c=pd.DataFrame()\n",
      "yes=False\n",
      "#for i in allreg:\n",
      "#    if yes==False:\n",
      "#        a=owid.get_stats(location=i,which='cur_reanimation',option='sumall')\n",
      "#        yes=True\n",
      "#    else:    \n",
      "#        a=a.append(owid.get_stats(location=i,which='cur_reanimation',option='sumall'))\n",
      "\n",
      "a=owid.get_stats(location=['g77','USA'],which='deaths',option='sumall')\n",
      "#print(coco.standard_input(a))\n",
      "show(coco.bokeh_map())\n",
      "#print(a)\n",
      "#C=[A[i].replace('[','').replace(']','') for i in range(len(A))]\n",
      "#print(C)\n",
      "#print(c.inputlocation.apply(lambda x: x if type(x)==str else x[0]+'...'+x[-1]).unique())\n",
      "#print(a.location.apply(lambda x: x[0] if len(x)< 2 else x[0]+'...'+x[-1]))\n",
      "#print(c)\n",
      "#print(b.inputlocation.to_list(),c.inputlocation.to_list())\n",
      "\n"
     ],
     "language": "python",
     "metadata": {
      "scrolled": true
     },
     "outputs": [],
     "prompt_number": null
    },
    {
     "cell_type": "code",
     "collapsed": false,
     "input": [
      "## cols=c.columns.to_list()\n",
      "c=c[cols[0:1]+cols[2:3]+cols[1:2]+cols[3:]]"
     ],
     "language": "python",
     "metadata": {},
     "outputs": [],
     "prompt_number": null
    },
    {
     "cell_type": "code",
     "collapsed": false,
     "input": [
      "#c\n",
      "show(coco.pycoa_date_plot(c))"
     ],
     "language": "python",
     "metadata": {
      "scrolled": true
     },
     "outputs": [],
     "prompt_number": null
    },
    {
     "cell_type": "code",
     "collapsed": false,
     "input": [
      "# A=owid.get_mainpandas(location='Europe')#,selected_col=['total_deaths','total_cases','total_tests','total_vaccinations'])\n",
      "#print(A)\n",
      "#show(coco.pycoa_heatmap(A))\n",
      "#owid.get_mainpandas(location='FRA').sum()"
     ],
     "language": "python",
     "metadata": {},
     "outputs": [],
     "prompt_number": null
    },
    {
     "cell_type": "code",
     "collapsed": false,
     "input": [
      "#d=owid.get_stats(which='deaths',location='Europe')\n",
      "loc=['France','Portugal','Spain','Italy','Germany','United Kingdom']\n",
      "%time d=owid.get_stats(which='total_deaths',location=loc,option='sumall')\n",
      "#cf.plot(which='cur_rea',what='weekly',option='sumall')\n",
      "#print(coco.standard_input(d))\n",
      "#show(coco.pycoa_date_plot(d))\n",
      "show(coco.pycoa_horizonhisto(d,'daily'))\n",
      "\n",
      "#\n"
     ],
     "language": "python",
     "metadata": {},
     "outputs": [],
     "prompt_number": null
    },
    {
     "cell_type": "code",
     "collapsed": false,
     "input": [
      "owid.get_stats(which='total_deaths',location='World')"
     ],
     "language": "python",
     "metadata": {},
     "outputs": [],
     "prompt_number": null
    },
    {
     "cell_type": "code",
     "collapsed": false,
     "input": [
      "for i in spf.available_keys_words:\n",
      "    A=owid.get_stats(which=i,location='World')[i].to_list()\n",
      "    cas2=spf.get_stats(which=i,location=alldep)\n",
      "    cas2=cas2.groupby(['date']).agg({i:sum})\n",
      "    print(i,cas2[i].to_list()==A)"
     ],
     "language": "python",
     "metadata": {},
     "outputs": [],
     "prompt_number": null
    },
    {
     "cell_type": "code",
     "collapsed": false,
     "input": [
      "tot=owid.get_stats(which='total_vaccinations_per_hundred',location='Europe')\n",
      "print(len(tot.loc[tot.location=='Serbia']))\n",
      "#show(coco.pycoa_horizonhisto(tot,cursor_date=True))"
     ],
     "language": "python",
     "metadata": {},
     "outputs": [],
     "prompt_number": null
    },
    {
     "cell_type": "code",
     "collapsed": false,
     "input": [
      "#%time owid,coco = co.DataBase.factory(\"spf\")\n",
      "#vac=owid.get_stats(location='France',which='total_cases_per_million')\n",
      "\n",
      "loc=['Germany','United Kingdom','France','Italy','Spain','Greece','Israel']\n",
      "tot=owid.get_stats(which='total_deaths',location=loc)\n",
      "tot['sm']=tot['daily'].rolling(7).mean()\n",
      "tot2=owid.get_stats(which='total_cases',location=loc)\n",
      "\n",
      "tot = tot.loc[tot.date > dt.date(2020,11,1)]\n",
      "#tot2 = tot2.loc[tot2.date > dt.date(2020,11,1)]\n",
      "\n",
      "tot['total_cases'] = tot2['total_cases']\n",
      "\n",
      "print(tot)\n",
      "show(coco.pycoa_date_plot(tot,'sm'))\n",
      "\n",
      "#coco.map_folium(od)\n",
      "#%time show(coco.bokeh_map(tot))"
     ],
     "language": "python",
     "metadata": {},
     "outputs": [],
     "prompt_number": null
    },
    {
     "cell_type": "code",
     "collapsed": false,
     "input": [
      "16.67*66"
     ],
     "language": "python",
     "metadata": {},
     "outputs": [],
     "prompt_number": null
    },
    {
     "cell_type": "code",
     "collapsed": false,
     "input": [
      "#%time show(coco.bokeh_map(tot))\n",
      "coco.map_folium(tot,'daily')"
     ],
     "language": "python",
     "metadata": {},
     "outputs": [],
     "prompt_number": null
    },
    {
     "cell_type": "code",
     "collapsed": false,
     "input": [
      "5.7*66"
     ],
     "language": "python",
     "metadata": {},
     "outputs": [],
     "prompt_number": null
    },
    {
     "cell_type": "code",
     "collapsed": false,
     "input": [
      "A=[0,1,2,3]\n",
      "[print(len(A)-k,v) for k,v in enumerate(A)]"
     ],
     "language": "python",
     "metadata": {},
     "outputs": [],
     "prompt_number": null
    },
    {
     "cell_type": "code",
     "collapsed": false,
     "input": [
      "%time show(coco.pycoa_horizonhisto(od,cursor_date=True))"
     ],
     "language": "python",
     "metadata": {},
     "outputs": [],
     "prompt_number": null
    },
    {
     "cell_type": "code",
     "collapsed": false,
     "input": [
      "geo.to_standard(list(uniqloc),output='list',db=self.get_db(),interpret_region=True)\n",
      "geo.to_standard(A,output='list',db=self.get_db(),interpret_region=True))"
     ],
     "language": "python",
     "metadata": {},
     "outputs": [],
     "prompt_number": null
    },
    {
     "cell_type": "code",
     "collapsed": false,
     "input": [
      "#f = cg.GeoCountry(\"FRA\")\n",
      "#ile=list(f.get_data().loc[f.get_data().name_region=='\u00cele-de-France']['code_subregion'])\n",
      "#loc=['Germany','France','Spain','United Kingdom','Germany','Israel','Belgium','Portugal']\n",
      "def all_val_null(s):\n",
      "   # if not s.empty:\n",
      "        a = s.to_numpy()\n",
      "        return ( a == 0).all()\n",
      "#loc= ['Aruba', 'Anguilla', '\u00c5land Islands', 'American Samoa', 'French Southern Territories', 'Saint Barth\u00e9lemy', 'Bermuda', 'Bouvet Island', 'Cocos (Keeling) Islands', 'Cook Islands', 'Christmas Island', 'Cayman Islands', 'Dominica', 'Western Sahara', 'Falkland Islands (Malvinas)', 'Faroe Islands', 'Micronesia, Federated States of', 'Guernsey', 'Gibraltar', 'Guadeloupe', 'Greenland', 'French Guiana', 'Guam', 'Hong Kong', 'Heard Island and McDonald Islands', 'Isle of Man', 'British Indian Ocean Territory', 'Jersey', 'Cambodia', 'Kiribati', 'Saint Kitts and Nevis', \"Lao People's Democratic Republic\", 'Macao', 'Saint Martin (French part)', 'Marshall Islands', 'Northern Mariana Islands', 'Montserrat', 'Martinique', 'Mayotte', 'New Caledonia', 'Norfolk Island', 'Niue', 'Nauru', 'Pitcairn', 'Palau', 'Puerto Rico', \"Korea, Democratic People's Republic of\", 'French Polynesia', 'R\u00e9union', 'South Georgia and the South Sandwich Islands', 'Saint Helena, Ascension and Tristan da Cunha', 'Svalbard and Jan Mayen', 'Solomon Islands', 'Saint Pierre and Miquelon', 'Turks and Caicos Islands', 'Tokelau', 'Turkmenistan', 'Timor-Leste', 'Tonga', 'Tuvalu', 'United States Minor Outlying Islands', 'Holy See (Vatican City State)', 'Saint Vincent and the Grenadines', 'Virgin Islands, British', 'Virgin Islands, U.S.', 'Vanuatu', 'Wallis and Futuna', 'Samoa']                \n",
      "deaths=owid.get_stats(which='total_deaths',location='France')\n",
      "cases=owid.get_stats(which='total_cases',location='France')\n",
      "deaths['cases']=cases['total_cases']\n",
      "loc=od.location.unique()\n",
      "print(deaths)\n",
      "#print([i for i in loc if all_val_null(od.loc[od.location == i]['deaths'])])\n",
      "#show(coco.pycoa_date_plot(od))\n",
      "#(od.loc[od.location =='Saint Vincent and the Grenadines'])\n",
      "#print(all_val_null(od.loc[od.location =='Saint Vincent and the Grenadines']))\n",
      "#show(coco.pycoa_horizonhisto(od,cursor_date=True))\n",
      "#%time show(coco.pycoa_histo(od,cursor_date=True))"
     ],
     "language": "python",
     "metadata": {},
     "outputs": [],
     "prompt_number": null
    },
    {
     "cell_type": "code",
     "collapsed": false,
     "input": [
      "loc=od['location'].unique().tolist()\n",
      "\n",
      "def dic_shorten_loc(A):\n",
      "    a={}\n",
      "    if type(A) == str:\n",
      "        A=[A]\n",
      "   \n",
      "    for i in A:\n",
      "        if i.find(',') != -1:\n",
      "           a[i]=i.split(',')[0]\n",
      "        else:\n",
      "           tmp=i.replace('(','').replace(')','')\n",
      "           tmp=tmp[0:4]+'...'+tmp[-3:]\n",
      "           a[i]=tmp\n",
      "    return a    \n",
      "B='Bolivarian Republic of'\n",
      "#print(list(dic_shorten_loc(loc).values()))"
     ],
     "language": "python",
     "metadata": {},
     "outputs": [],
     "prompt_number": null
    },
    {
     "cell_type": "heading",
     "level": 1,
     "metadata": {},
     "source": [
      "%time coco.map_folium(od)"
     ]
    },
    {
     "cell_type": "code",
     "collapsed": false,
     "input": [
      "%time jhu,coco = co.DataBase.factory(\"jhu\")\n",
      "%time d=jhu.get_stats(which='deaths',location='European Union')\n",
      "#print(d)\n",
      "show(coco.pycoa_date_plot(d))\n"
     ],
     "language": "python",
     "metadata": {},
     "outputs": [],
     "prompt_number": null
    },
    {
     "cell_type": "code",
     "collapsed": false,
     "input": [
      "show(coco.bokeh_map(d))\n",
      "coco.map_folium(d)"
     ],
     "language": "python",
     "metadata": {},
     "outputs": [],
     "prompt_number": null
    },
    {
     "cell_type": "code",
     "collapsed": false,
     "input": [
      "jhu.get_source()"
     ],
     "language": "python",
     "metadata": {},
     "outputs": [],
     "prompt_number": null
    },
    {
     "cell_type": "code",
     "collapsed": false,
     "input": [
      "import pandas as pd\n",
      "#%time jhu,coco = co.DataBase.factory(\"spf\")\n",
      "f=cg.GeoCountry('FRA')\n",
      "#print(f.get_subregion_list())\n",
      "f.get_subregions_from_region(name_subregion='\u00cele-de-France')\n",
      "#alldep=list(f.get_subregion_list()['code_subregion'])\n",
      "#allreg=list(f.get_region_list()['name_region'])\n",
      "#print(allreg)\n",
      "#f=cg.GeoCountry('FRA')\n",
      "#alldep=list(f.get_subregion_list()['code_subregion'])\n",
      "#%time d=jhu.get_stats(location=alldep,which='cur_hosp')\n",
      "\n",
      "#coco.map_folium(d)\n",
      "#coco.map_folium2(d)\n",
      "#show(coco.map_bokeh2(d))\n",
      "#\n",
      "#coco.map_folium(d,plot_height=400,plot_width=600,tile='STAMEN_TERRAIN')"
     ],
     "language": "python",
     "metadata": {
      "scrolled": true
     },
     "outputs": [],
     "prompt_number": null
    },
    {
     "cell_type": "code",
     "collapsed": false,
     "input": [
      "show(coco.pycoa_histo(d))"
     ],
     "language": "python",
     "metadata": {},
     "outputs": [],
     "prompt_number": null
    },
    {
     "cell_type": "code",
     "collapsed": false,
     "input": [
      "import datetime as dt\n",
      "d1=dt.date(2020,12,12)\n",
      "d2=dt.date(2020,10,12)\n",
      "coco.get_geodata(d)\n",
      "#show(coco.pycoa_date_plot(d,location='75'))"
     ],
     "language": "python",
     "metadata": {},
     "outputs": [],
     "prompt_number": null
    },
    {
     "cell_type": "code",
     "collapsed": false,
     "input": [
      "import importlib\n",
      "importlib.reload(co)\n",
      "importlib.reload(cd)\n",
      "importlib.reload(cg)\n",
      "%time owid,coco = co.DataBase.factory(\"owid\")\n",
      "d=owid.get_stats(location='Europe',which='total_deaths')"
     ],
     "language": "python",
     "metadata": {},
     "outputs": [],
     "prompt_number": null
    },
    {
     "cell_type": "code",
     "collapsed": false,
     "input": [
      "coco.map_folium(d)\n",
      "#show(coco.bokeh_map(d))"
     ],
     "language": "python",
     "metadata": {},
     "outputs": [],
     "prompt_number": null
    },
    {
     "cell_type": "code",
     "collapsed": false,
     "input": [
      "%time jhu,coco = co.DataBase.factory(\"jhu\")\n",
      "ge=gm()\n",
      "ge.set_standard('name')\n",
      "loc=ge.to_standard('Americas',interpret_region=True)\n",
      "\n",
      "%time d=jhu.get_stats(location=loc,which='deaths')\n",
      "show(coco.bokeh_map(d,plot_height=400,plot_width=600,tile='STAMEN_TERRAIN'))\n",
      "#coco.map_folium(d)\n"
     ],
     "language": "python",
     "metadata": {
      "scrolled": true
     },
     "outputs": [],
     "prompt_number": null
    },
    {
     "cell_type": "code",
     "collapsed": false,
     "input": [
      "import pandas as pd\n",
      "%time jhu,coco = co.DataBase.factory(\"jhu-usa\")\n",
      "f=cg.GeoCountry('USA')\n",
      "alldep=list(f.get_subregion_list()['code_subregion'])\n",
      "%time d=jhu.get_stats(location=alldep,which='deaths',)\n",
      "show(coco.bokeh_map(d,plot_height=600,plot_width=800))\n"
     ],
     "language": "python",
     "metadata": {},
     "outputs": [],
     "prompt_number": null
    },
    {
     "cell_type": "code",
     "collapsed": false,
     "input": [
      "import pandas as pd\n",
      "%time jhu,coco = co.DataBase.factory(\"spf\")\n",
      "f=cg.GeoCountry('FRA')\n",
      "alldep=list(f.get_subregion_list()['code_subregion'])\n",
      "%time d=jhu.get_stats(location=alldep,which='R')\n",
      "print(d)\n",
      "#show(coco.bokeh_map(d,plot_height=600,plot_width=800))\n"
     ],
     "language": "python",
     "metadata": {},
     "outputs": [],
     "prompt_number": null
    },
    {
     "cell_type": "code",
     "collapsed": false,
     "input": [
      "%time jhu,coco = co.DataBase.factory(\"owid\")\n",
      "\n",
      "ge=gm()\n",
      "ge.set_standard('name')\n",
      "loc=ge.to_standard('world',interpret_region=True)\n",
      "import datetime\n",
      "%time o=jhu.get_stats(location=loc,which='total_vaccinations')\n",
      "#print(o)\n",
      "#type(o.date[0])\n",
      "\n",
      "show(coco.bokeh_map(o,cursor_date=True))\n",
      "#show(coco.pycoa_date_plot(o,'daily'))"
     ],
     "language": "python",
     "metadata": {},
     "outputs": [],
     "prompt_number": null
    },
    {
     "cell_type": "code",
     "collapsed": false,
     "input": [
      "f=cg.GeoCountry('USA')\n",
      "alldep=list(f.get_subregion_list()['code_subregion'])\n",
      "%time d=jhu.get_stats(location=alldep,which='total_deaths')\n",
      "coco.map_folium(d)"
     ],
     "language": "python",
     "metadata": {},
     "outputs": [],
     "prompt_number": null
    },
    {
     "cell_type": "code",
     "collapsed": false,
     "input": [
      "import importlib\n",
      "importlib.reload(co)\n",
      "importlib.reload(cd)\n",
      "importlib.reload(cg)\n",
      "%time jhu,coco = co.DataBase.factory(\"owid\")\n",
      "ge=gm()\n",
      "ge.set_standard('name')\n",
      "loc=ge.to_standard('North America',interpret_region=True)\n",
      "\n",
      "ll=[ 'Anguilla', 'Argentina', 'Antigua and Barbuda', 'Bonaire, Sint Eustatius and Saba', 'Bahamas', 'Saint Barth\u00e9lemy', 'Belize', 'Bermuda', 'Bolivia, Plurinational State of', 'Brazil', 'Barbados', 'Bouvet Island', 'Canada', 'Chile', 'Colombia', 'Costa Rica', 'Cuba', 'Cura\u00e7ao', 'Cayman Islands', 'Dominica', 'Dominican Republic', 'Ecuador', 'Falkland Islands (Malvinas)', 'Guadeloupe']\n",
      "o=jhu.get_stats(location='Europe',which='total_deaths')\n",
      "o=o.fillna(0)\n",
      "#show(coco.pycoa_date_plot(o))\n",
      "loc=['United Kingdom','France','Spain','Italy','Germany']\n",
      "\n",
      "%time o=owid.get_stats(location=loc,which='total_cases')\n",
      "print(o.loc[o.date=='2020-12-21']['weekly'].dropna().empty)\n",
      "\n",
      "show(coco.pycoa_histo(o,what='weekly',when='23/11/2020:'))\n",
      "\n",
      "#o=o.loc[o.date>'2020-10-01']\n",
      "#show(coco.pycoa_date_plot(o))\n",
      "\n",
      "#coco.map_folium(o,input_field='deaths')\n",
      "#show(coco.bokeh_map(o,input_field='deaths'))\n",
      "\n",
      "#o.loc[o.location=='Antigua and Barbuda']\n",
      "#print(o)\n",
      "#show(coco.pycoa_histo(o))\n",
      "\n",
      "#%time o=jhu.get_stats(location='75',which='hosp')\n",
      "#print(o)"
     ],
     "language": "python",
     "metadata": {
      "scrolled": true
     },
     "outputs": [],
     "prompt_number": null
    },
    {
     "cell_type": "code",
     "collapsed": false,
     "input": [
      "ge=gm()\n",
      "ge.set_standard('name')\n",
      "loc=ge.to_standard('Europe',interpret_region=True)\n",
      "%time o=owid.get_stats(location=loc,which='total_cases')\n",
      "\n",
      "#o=o.loc[o.date>'2020-10-01']\n",
      "show(coco.pycoa_date_plot(o))"
     ],
     "language": "python",
     "metadata": {},
     "outputs": [],
     "prompt_number": null
    },
    {
     "cell_type": "code",
     "collapsed": false,
     "input": [
      "loc=['United Kingdom','France','Spain','Italy','Germany']\n",
      "\n",
      "%time o=owid.get_stats(location=loc,which='total_cases')\n",
      "print(o.loc[o.date=='2020-12-21']['weekly'].dropna().empty)\n",
      "\n",
      "show(coco.pycoa_histo(o,what='weekly',when='23/11/2020:'))\n",
      "\n",
      "#o=o.loc[o.date>'2020-10-01']\n",
      "#show(coco.pycoa_date_plot(o))"
     ],
     "language": "python",
     "metadata": {},
     "outputs": [],
     "prompt_number": null
    },
    {
     "cell_type": "code",
     "collapsed": false,
     "input": [
      "import coa.front as cf\n",
      "cf.hist(what='weekly',when='11/12/2020:24/12/2020')"
     ],
     "language": "python",
     "metadata": {},
     "outputs": [],
     "prompt_number": null
    },
    {
     "cell_type": "code",
     "collapsed": false,
     "input": [
      "cf.plot(where='europe',which='deaths',option=['fillnanf','fillnan0'])"
     ],
     "language": "python",
     "metadata": {},
     "outputs": [],
     "prompt_number": null
    },
    {
     "cell_type": "code",
     "collapsed": false,
     "input": [
      "import datetime\n",
      "print(datetime.date.today().strftime('%d/%m/%Y'))"
     ],
     "language": "python",
     "metadata": {},
     "outputs": [],
     "prompt_number": null
    },
    {
     "cell_type": "code",
     "collapsed": false,
     "input": [
      "cf.plot(input=o,input_field='diff')"
     ],
     "language": "python",
     "metadata": {},
     "outputs": [],
     "prompt_number": null
    },
    {
     "cell_type": "code",
     "collapsed": false,
     "input": [
      "from bokeh.plotting import figure\n",
      "fig=figure()\n",
      "fig.legend.label_text_font_size=2"
     ],
     "language": "python",
     "metadata": {},
     "outputs": [],
     "prompt_number": null
    },
    {
     "cell_type": "code",
     "collapsed": false,
     "input": [
      "from bokeh.plotting import figure\n",
      "fig=figure()\n",
      "fig.legend.label_text_font_size=2"
     ],
     "language": "python",
     "metadata": {},
     "outputs": [],
     "prompt_number": null
    },
    {
     "cell_type": "code",
     "collapsed": false,
     "input": [
      "o=owid.get_stats(location=['United Kingdom','France'],which='new_deaths')\n",
      "show(coco.pycoa_date_plot(o,what='weekly'))"
     ],
     "language": "python",
     "metadata": {},
     "outputs": [],
     "prompt_number": null
    },
    {
     "cell_type": "code",
     "collapsed": false,
     "input": [
      "ge=gm()\n",
      "ge.set_standard('name')\n",
      "loc=ge.to_standard('Europe',interpret_region=True)\n",
      "\n",
      "def get_cumul(which):\n",
      "    o=owid.get_stats(location=loc,which=which)\n",
      "    cum=(o.groupby('date').agg({which:'sum'})).rolling(7).mean().reset_index()\n",
      "    return cum\n",
      "    #cum=cum.loc[o.date>'2020-10-01']\n",
      "\n",
      "show(coco.pycoa_date_plot(get_cumul('new_deaths')))"
     ],
     "language": "python",
     "metadata": {
      "scrolled": true
     },
     "outputs": [],
     "prompt_number": null
    },
    {
     "cell_type": "code",
     "collapsed": false,
     "input": [
      "%time jhu,coco = co.DataBase.factory(\"jhu\")"
     ],
     "language": "python",
     "metadata": {},
     "outputs": [],
     "prompt_number": null
    },
    {
     "cell_type": "code",
     "collapsed": false,
     "input": [
      "%time j=jhu.get_stats(location=loc,which='deaths')\n",
      "show(coco.pycoa_date_plot(j,what='diff',when=':01/10/2020'))"
     ],
     "language": "python",
     "metadata": {},
     "outputs": [],
     "prompt_number": null
    },
    {
     "cell_type": "code",
     "collapsed": false,
     "input": [
      "import importlib\n",
      "importlib.reload(co)\n",
      "importlib.reload(cd)\n",
      "#%time owid = co.Dat\n",
      "%time owid = co.DataBase.factory(\"owid\")\n",
      "loc=['United Kingdom','France','Spain','Italy','Germany']\n",
      "owid,coco = co.DataBase.factory(\"owid\")"
     ],
     "language": "python",
     "metadata": {},
     "outputs": [],
     "prompt_number": null
    },
    {
     "cell_type": "code",
     "collapsed": false,
     "input": [
      "d=owid.get_stats(location=loc,which='total_deaths')\n",
      "print(d)\n",
      "coco.map_folium(d,what='diff')"
     ],
     "language": "python",
     "metadata": {},
     "outputs": [],
     "prompt_number": null
    },
    {
     "cell_type": "code",
     "collapsed": false,
     "input": [
      "importlib.reload(co)\n",
      "importlib.reload(cd)\n",
      "%time jhu,coco = co.DataBase.factory(\"jhu-usa\")\n",
      "#coco = jhu.get_display()"
     ],
     "language": "python",
     "metadata": {},
     "outputs": [],
     "prompt_number": null
    },
    {
     "cell_type": "code",
     "collapsed": false,
     "input": [
      "f=cg.GeoCountry('USA')\n",
      "alldep=list(f.get_subregion_list()['code_subregion'])\n",
      "print(len(alldep))\n",
      "%time d=jhu.get_stats(location=alldep,which='deaths')\n",
      "%time show(coco.bokeh_map(d))"
     ],
     "language": "python",
     "metadata": {},
     "outputs": [],
     "prompt_number": null
    },
    {
     "cell_type": "code",
     "collapsed": false,
     "input": [
      "%time owid,coco = co.DataBase.factory(\"owid\")"
     ],
     "language": "python",
     "metadata": {},
     "outputs": [],
     "prompt_number": null
    },
    {
     "cell_type": "code",
     "collapsed": false,
     "input": [
      "loc=['Spain','Italy','France']\n",
      "tot_tests=owid.get_stats(location=loc,which='new_tests')\n",
      "tot_cases=owid.get_stats(location=loc,which='new_cases')\n",
      "tot_cases['ratio']=(tot_cases['new_cases']/tot_tests['new_tests']).rolling(7).mean()\n",
      "show(coco.pycoa_date_plot(tot_cases,'ratio'))"
     ],
     "language": "python",
     "metadata": {},
     "outputs": [],
     "prompt_number": null
    },
    {
     "cell_type": "code",
     "collapsed": false,
     "input": [
      "loc=['Spain','Italy','France']\n",
      "d=jhu.get_stats(location=loc,which='deaths')\n",
      "d"
     ],
     "language": "python",
     "metadata": {},
     "outputs": [],
     "prompt_number": null
    },
    {
     "cell_type": "code",
     "collapsed": false,
     "input": [
      "figure(tools=['save','box_zoom,reset'])"
     ],
     "language": "python",
     "metadata": {},
     "outputs": [],
     "prompt_number": null
    },
    {
     "cell_type": "code",
     "collapsed": false,
     "input": [
      "import folium\n",
      "world_map = folium.Map(location=[56.130, -106.35], zoom_start=4, tiles='Stamen Toner')\n",
      "world_map.get_root"
     ],
     "language": "python",
     "metadata": {},
     "outputs": [],
     "prompt_number": null
    },
    {
     "cell_type": "code",
     "collapsed": false,
     "input": [
      "d=jhu.get_stats(location=loc,which='deaths')\n",
      "#show(coco.pycoa_date_plot(d,what='cumul'))"
     ],
     "language": "python",
     "metadata": {},
     "outputs": [],
     "prompt_number": null
    },
    {
     "cell_type": "code",
     "collapsed": false,
     "input": [
      "loc=['France','US']#['Portugal','France','Spain']\n",
      "d=jhu.get_stats(location=loc,which='deaths')\n",
      "#show(coco.pycoa_histo(d,what='cumul',bins=10))"
     ],
     "language": "python",
     "metadata": {},
     "outputs": [],
     "prompt_number": null
    },
    {
     "cell_type": "code",
     "collapsed": false,
     "input": [
      "#show(coco.pycoa_date_plot(d,what='cumul'))"
     ],
     "language": "python",
     "metadata": {},
     "outputs": [],
     "prompt_number": null
    },
    {
     "cell_type": "heading",
     "level": 4,
     "metadata": {},
     "source": [
      "coco.map_folium(d,what='diff')"
     ]
    },
    {
     "cell_type": "code",
     "collapsed": false,
     "input": [
      "import importlib\n",
      "importlib.reload(co)\n",
      "importlib.reload(cd)\n",
      "%time jhu = co.DataBase(\"jhu\")\n",
      "coco = cd.CocoDisplay()\n",
      "\n",
      "confirmed_jhu_ne=jhu.get_stats(which='deaths',location=['Spain','Italy','France'])\n",
      "#confirmed_jhu=jhu.get_stats(which='deaths',location='Spain',option='nonneg')\n",
      "#confirmed_jhu_ne['nonneg'] = confirmed_jhu['deaths']\n",
      "\n",
      "fig=coco.scrolling_menu(confirmed_jhu_ne,what='diff')\n",
      "#fig=coco.apycoa_date_plot(confirmed_jhu_ne,['deaths','nonneg'])\n",
      "#show(fig)"
     ],
     "language": "python",
     "metadata": {},
     "outputs": [],
     "prompt_number": null
    },
    {
     "cell_type": "code",
     "collapsed": false,
     "input": [],
     "language": "python",
     "metadata": {},
     "outputs": [],
     "prompt_number": null
    }
   ],
   "metadata": {}
  }
 ]
}