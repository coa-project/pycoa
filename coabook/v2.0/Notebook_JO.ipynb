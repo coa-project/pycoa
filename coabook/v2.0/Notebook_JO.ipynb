{
 "metadata": {
  "kernelspec": {
   "display_name": "Python 3 (ipykernel)",
   "language": "python",
   "name": "python3"
  },
  "language_info": {
   "codemirror_mode": {
    "name": "ipython",
    "version": 3
   },
   "file_extension": ".py",
   "mimetype": "text/x-python",
   "name": "python",
   "nbconvert_exporter": "python",
   "pygments_lexer": "ipython3",
   "version": "3.9.7"
  },
  "name": ""
 },
 "nbformat": 3,
 "nbformat_minor": 0,
 "worksheets": [
  {
   "cells": [
    {
     "cell_type": "markdown",
     "metadata": {},
     "source": [
      "<center>\n",
      "<img src=\"https://gazettesports.fr/wp-content/uploads/2020/07/jeux-olympiques.png\" alt=\"JO\" width=\"50%\">\n",
      "<center>\n"
     ]
    },
    {
     "cell_type": "markdown",
     "metadata": {},
     "source": [
      "<center>\n",
      "    <h1 style=\"font-size:48px;\"=>NoteBook for Olympics</h1>\n",
      "<center>\n",
      "<hr>"
     ]
    },
    {
     "cell_type": "markdown",
     "metadata": {},
     "source": [
      "\u00c0 l'approche des Jeux Olympiques de Paris 2024, nous sommes ravis de vous pr\u00e9senter notre notebook interactif sur Pycoa ! D\u00e9couvrez et explorez les performances des diff\u00e9rents pays aux JO \u00e0 travers des visualisations de donn\u00e9es captivantes. Avec Pycoa, vous pouvez analyser le nombre de m\u00e9dailles d'or, d'argent et de bronze remport\u00e9es par chaque nation, et visualiser ces donn\u00e9es sous forme de graphiques et d'histogrammes. Plongez dans les statistiques olympiques et pr\u00e9parez-vous \u00e0 en apprendre davantage sur les Jeux Olympiques avec notre outil puissant et facile \u00e0 utiliser."
     ]
    },
    {
     "cell_type": "markdown",
     "metadata": {},
     "source": [
      "Avant de commencer avec ce notebook sur les Jeux Olympiques, nous vous recommandons de consulter notre notebook principal pour avoir une meilleure compr\u00e9hension du fonctionnement de Pycoa. Vous pouvez y acc\u00e9der en cliquant sur ce logo : <br><br>\n",
      "[![Binder](https://mybinder.org/badge_logo.svg)](https://mybinder.org/v2/gh/coa-project/pycoa/helpfonction?labpath=coabook%2FMainNotebook.ipynb)\n",
      "<br>"
     ]
    },
    {
     "cell_type": "markdown",
     "metadata": {},
     "source": [
      "On commence par importer Pycoa ainsi que la base de donn\u00e9es `olympics`:"
     ]
    },
    {
     "cell_type": "code",
     "collapsed": false,
     "input": [
      "from coaenv import *\n",
      "pycoa.setwhom('olympics', reload=True)"
     ],
     "language": "python",
     "metadata": {
      "scrolled": true
     },
     "outputs": [],
     "prompt_number": null
    },
    {
     "cell_type": "markdown",
     "metadata": {},
     "source": [
      "Pour acc\u00e9der \u00e0 la liste des attributs disponibles, utilisez `pycoa.listwhich()`, et pour obtenir la liste des localisations, utilisez `pycoa.listwhere()`."
     ]
    },
    {
     "cell_type": "code",
     "collapsed": false,
     "input": [
      "pycoa.listwhich()"
     ],
     "language": "python",
     "metadata": {},
     "outputs": [],
     "prompt_number": null
    },
    {
     "cell_type": "code",
     "collapsed": false,
     "input": [
      "pycoa.listwhere()"
     ],
     "language": "python",
     "metadata": {},
     "outputs": [],
     "prompt_number": null
    },
    {
     "cell_type": "heading",
     "level": 2,
     "metadata": {},
     "source": [
      "&nbsp; 1. Plot"
     ]
    },
    {
     "cell_type": "code",
     "collapsed": false,
     "input": [
      "pycoa.plot()"
     ],
     "language": "python",
     "metadata": {
      "scrolled": false
     },
     "outputs": [],
     "prompt_number": null
    },
    {
     "cell_type": "markdown",
     "metadata": {},
     "source": [
      "Cette requ\u00eate va repr\u00e9senter graphiquement le nombre total de m\u00e9dailles d'Or remport\u00e9es par chaque pays aux Jeux Olympiques. Pratique pour comparer les performances des pays au fil des diff\u00e9rentes \u00e9ditions des JO. Vous verrez comment chaque pays a \u00e9volu\u00e9 au cours du temps."
     ]
    },
    {
     "cell_type": "markdown",
     "metadata": {},
     "source": [
      "## Comparaison des performances \n"
     ]
    },
    {
     "cell_type": "markdown",
     "metadata": {},
     "source": [
      "Avec Pycoa, vous pouvez facilement comparer les performances de diff\u00e9rents pays aux Jeux Olympiques. Par exemple, vous pouvez comparer le nombre de m\u00e9dailles remport\u00e9es par la France et l'Angleterre. Cette fonctionnalit\u00e9 vous permet d'analyser les r\u00e9sultats olympiques de mani\u00e8re d\u00e9taill\u00e9e et de visualiser les donn\u00e9es de mani\u00e8re interactive."
     ]
    },
    {
     "cell_type": "code",
     "collapsed": false,
     "input": [
      "pycoa.plot(which= 'tot_Gold', where=['France','United Kingdom'])"
     ],
     "language": "python",
     "metadata": {
      "scrolled": false
     },
     "outputs": [],
     "prompt_number": null
    },
    {
     "cell_type": "markdown",
     "metadata": {},
     "source": [
      "Sur ce graphique on compare le total de m\u00e9dailles d'or remport\u00e9es par chacune des \u00e9quipes."
     ]
    },
    {
     "cell_type": "code",
     "collapsed": false,
     "input": [
      "pycoa.plot(which= 'tot_Gold', where=['France','United Kingdom'], what='daily')"
     ],
     "language": "python",
     "metadata": {
      "scrolled": false
     },
     "outputs": [],
     "prompt_number": null
    },
    {
     "cell_type": "markdown",
     "metadata": {},
     "source": [
      "Sur ce graphique on compare la performance des deux \u00e9quipes \u00e0 chaque \u00e9dition des JO."
     ]
    },
    {
     "cell_type": "heading",
     "level": 2,
     "metadata": {},
     "source": [
      "&nbsp;2. Histogramme"
     ]
    },
    {
     "cell_type": "code",
     "collapsed": false,
     "input": [
      "pycoa.hist(which='tot_Silver')"
     ],
     "language": "python",
     "metadata": {
      "scrolled": false
     },
     "outputs": [],
     "prompt_number": null
    },
    {
     "cell_type": "markdown",
     "metadata": {},
     "source": [
      "Cette requ\u00eate va afficher un histogramme des 24 pays \u00e0 avoir remport\u00e9 le plus de m\u00e9daille d'argent. On peut voir quel pays accumule le plus de m\u00e9daille d'argent au cours de l'histoire."
     ]
    },
    {
     "cell_type": "code",
     "collapsed": false,
     "input": [
      "pycoa.hist(which='tot_Silver', typeofhist='pie')"
     ],
     "language": "python",
     "metadata": {
      "scrolled": false
     },
     "outputs": [],
     "prompt_number": null
    },
    {
     "cell_type": "markdown",
     "metadata": {},
     "source": [
      "Cette requ\u00eate va afficher un diagramme circulaire (camembert) repr\u00e9sentant la r\u00e9partition des m\u00e9dailles d'argent remport\u00e9es par chaque pays."
     ]
    },
    {
     "cell_type": "heading",
     "level": 2,
     "metadata": {},
     "source": [
      "&nbsp; 3. Map"
     ]
    },
    {
     "cell_type": "code",
     "collapsed": false,
     "input": [
      "pycoa.map(where='World')"
     ],
     "language": "python",
     "metadata": {},
     "outputs": [],
     "prompt_number": null
    },
    {
     "cell_type": "code",
     "collapsed": false,
     "input": [
      "pycoa.map(where='Europe')"
     ],
     "language": "python",
     "metadata": {},
     "outputs": [],
     "prompt_number": null
    },
    {
     "cell_type": "markdown",
     "metadata": {},
     "source": [
      "Cette requ\u00eate va g\u00e9n\u00e9rer une carte interactive montrant les m\u00e9dailles d'or remport\u00e9es par chaque pays en Europe. Vous pouvez explorer les donn\u00e9es de chaque pays pour voir leur performance aux JO."
     ]
    },
    {
     "cell_type": "markdown",
     "metadata": {},
     "source": [
      "**N'h\u00e9sitez pas \u00e0 changer de visualisation**"
     ]
    },
    {
     "cell_type": "code",
     "collapsed": false,
     "input": [
      "pycoa.setvisu(vis='mplt')"
     ],
     "language": "python",
     "metadata": {},
     "outputs": [],
     "prompt_number": null
    },
    {
     "cell_type": "code",
     "collapsed": false,
     "input": [
      "pycoa.plot(where='Europe')"
     ],
     "language": "python",
     "metadata": {},
     "outputs": [],
     "prompt_number": null
    },
    {
     "cell_type": "code",
     "collapsed": false,
     "input": [
      "pycoa.hist(where='Europe')"
     ],
     "language": "python",
     "metadata": {},
     "outputs": [],
     "prompt_number": null
    },
    {
     "cell_type": "code",
     "collapsed": false,
     "input": [
      "pycoa.setvisu(vis='seaborn')"
     ],
     "language": "python",
     "metadata": {},
     "outputs": [],
     "prompt_number": null
    },
    {
     "cell_type": "code",
     "collapsed": false,
     "input": [
      "pycoa.hist(typeofhist='byvalue')"
     ],
     "language": "python",
     "metadata": {},
     "outputs": [],
     "prompt_number": null
    },
    {
     "cell_type": "heading",
     "level": 1,
     "metadata": {},
     "source": [
      "\u00c0 vous de jouer ! "
     ]
    },
    {
     "cell_type": "markdown",
     "metadata": {},
     "source": [
      "Vous pourriez par exemple faire une requ\u00eate pour voir l'\u00e9volution temporelles des m\u00e9dailles de `Bronze` en `France` avec `pycoa.plot()` :\n"
     ]
    },
    {
     "cell_type": "code",
     "collapsed": false,
     "input": [],
     "language": "python",
     "metadata": {},
     "outputs": [],
     "prompt_number": null
    }
   ],
   "metadata": {}
  }
 ]
}