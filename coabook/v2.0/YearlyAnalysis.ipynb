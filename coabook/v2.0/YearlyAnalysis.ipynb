{
 "metadata": {
  "kernelspec": {
   "display_name": "Python 3 (ipykernel)",
   "language": "python",
   "name": "python3"
  },
  "language_info": {
   "codemirror_mode": {
    "name": "ipython",
    "version": 3
   },
   "file_extension": ".py",
   "mimetype": "text/x-python",
   "name": "python",
   "nbconvert_exporter": "python",
   "pygments_lexer": "ipython3",
   "version": "3.9.6"
  },
  "name": ""
 },
 "nbformat": 3,
 "nbformat_minor": 0,
 "worksheets": [
  {
   "cells": [
    {
     "cell_type": "code",
     "collapsed": false,
     "input": [
      "from bokeh.models import NumeralTickFormatter\n",
      "import coaenv as cf\n",
      "from bokeh.io import show\n",
      "import pandas as pd\n",
      "from bokeh.models import NumeralTickFormatter\n",
      "#fig.tabs[0].child.yaxis.formatter=NumeralTickFormatter(format=\"00\") \n",
      "#fig.below[2].formatter.use_scientific=False #=NumeralTickFormatter(format=\"0.00\")\n",
      "#fig.children[1].below[2].formatter.use_scientific=False"
     ],
     "language": "python",
     "metadata": {},
     "outputs": [],
     "prompt_number": 1
    },
    {
     "cell_type": "code",
     "collapsed": false,
     "input": [
      "cf.setwhom('owid')"
     ],
     "language": "python",
     "metadata": {},
     "outputs": [],
     "prompt_number": 2
    },
    {
     "cell_type": "code",
     "collapsed": false,
     "input": [
      "cf.plot(which=\"total_deaths\",where='France',what='daily',typeofplot='yearly')"
     ],
     "language": "python",
     "metadata": {},
     "outputs": [],
     "prompt_number": 18
    },
    {
     "cell_type": "code",
     "collapsed": false,
     "input": [
      "A=cf.get(which=\"total_deaths\",where='France')"
     ],
     "language": "python",
     "metadata": {},
     "outputs": [],
     "prompt_number": 6
    },
    {
     "cell_type": "code",
     "collapsed": false,
     "input": [
      "tot_2020=A[pd.to_datetime(A['date']).dt.year==2020]['total_deaths'].tail(1).values[0]\n",
      "tot_2021=A[pd.to_datetime(A['date']).dt.year==2021]['total_deaths'].tail(1).values[0]-tot_2020\n",
      "tot_2022=A[pd.to_datetime(A['date']).dt.year==2022]['total_deaths'].tail(1).values[0]-tot_2021-tot_2020"
     ],
     "language": "python",
     "metadata": {},
     "outputs": [],
     "prompt_number": 14
    },
    {
     "cell_type": "code",
     "collapsed": false,
     "input": [
      "\n",
      "print(sum(A[pd.to_datetime(A['date']).dt.year==2020]['daily']),\n",
      "sum(A[pd.to_datetime(A['date']).dt.year==2021]['daily']),\n",
      "sum(A[pd.to_datetime(A['date']).dt.year==2022]['daily']))\n"
     ],
     "language": "python",
     "metadata": {},
     "outputs": [],
     "prompt_number": 19
    },
    {
     "cell_type": "code",
     "collapsed": false,
     "input": [],
     "language": "python",
     "metadata": {},
     "outputs": [],
     "prompt_number": null
    }
   ],
   "metadata": {}
  }
 ]
}