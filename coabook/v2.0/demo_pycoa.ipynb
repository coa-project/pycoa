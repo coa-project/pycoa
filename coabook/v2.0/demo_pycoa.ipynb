{
 "metadata": {
  "colab": {
   "collapsed_sections": [],
   "include_colab_link": true,
   "name": "demo_pycoa",
   "provenance": []
  },
  "kernelspec": {
   "display_name": "Python 3",
   "name": "python3"
  },
  "name": ""
 },
 "nbformat": 3,
 "nbformat_minor": 0,
 "worksheets": [
  {
   "cells": [
    {
     "cell_type": "markdown",
     "metadata": {
      "colab_type": "text",
      "id": "view-in-github"
     },
     "source": [
      "<a href=\"https://colab.research.google.com/github/coa-project/coabook/blob/master/demo_pycoa.ipynb\" target=\"_parent\"><img src=\"https://colab.research.google.com/assets/colab-badge.svg\" alt=\"Open In Colab\"/></a>"
     ]
    },
    {
     "cell_type": "markdown",
     "metadata": {
      "id": "vbduyVliLxII"
     },
     "source": [
      "<a href=\"https://nbviewer.jupyter.org/github/coa-project/coabook/blob/master/demo_pycoa.ipynb\" target=\"_parent\" ><img src=\"https://raw.githubusercontent.com/jupyter/design/master/logos/Badges/nbviewer_badge.svg\" height=\"25\"  alt=\"View in Jupyter nbviewwer\" align=\"middle\" /></a>"
     ]
    },
    {
     "cell_type": "markdown",
     "metadata": {
      "id": "9YWQ49HqBKpL"
     },
     "source": [
      "![logo-bitmap-small.png](data:image/png;base64,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)\n",
      "\n",
      "# Simple demonstration notebook of PyCoA framework\n",
      "[\u24d2pycoa.fr](https://pycoa.fr)\n",
      "\n",
      "This notebook is designed for the v2.0 (or later) version of pycoa."
     ]
    },
    {
     "cell_type": "markdown",
     "metadata": {
      "id": "f4S-hqyuB-ks"
     },
     "source": [
      "## Getting PyCoA installed\n",
      "\n",
      "If you're under Google Colab, or if `pycoa` in not installed, you have to run the `pip install` command bellow. You may experience version errors about `datasience`, `coveralls` and `pytest`, but this should be ok."
     ]
    },
    {
     "cell_type": "code",
     "collapsed": false,
     "input": [
      "!pip install --quiet git+https://github.com/coa-project/pycoa.git # getting the latest official production version\n",
      "# !pip install --quiet --user git+https://github.com/coa-project/pycoa.git   # One may need to add the --user option at the \"pip install\" command, if it fails due to privilege lack. Under google colab, you must not add this option."
     ],
     "language": "python",
     "metadata": {
      "colab": {
       "base_uri": "https://localhost:8080/"
      },
      "id": "nB9MdWTLNcLi",
      "outputId": "46bc3cd8-f982-45e7-e4ca-33dd6c9a4993"
     },
     "outputs": [],
     "prompt_number": 1
    },
    {
     "cell_type": "markdown",
     "metadata": {
      "id": "xoJ-nMtMODj5"
     },
     "source": [
      "If `pycoa` is already installed on your system but is not in your path, you should specfiy it with the next lines (with the correct path); then please uncomment the second line."
     ]
    },
    {
     "cell_type": "code",
     "collapsed": false,
     "input": [
      "import sys    # adapt the path for local install, if necessary. Under google colab, do not change anything\n",
      "# sys.path.insert(1, '../pycoa')   "
     ],
     "language": "python",
     "metadata": {
      "id": "zJrQDA6pOKKF"
     },
     "outputs": [],
     "prompt_number": 2
    },
    {
     "cell_type": "heading",
     "level": 2,
     "metadata": {
      "id": "Vn72LtjSO6Pz"
     },
     "source": [
      "Importing the front module "
     ]
    },
    {
     "cell_type": "code",
     "collapsed": false,
     "input": [
      "import coa.front as cf\n",
      "# default database for front is JHU"
     ],
     "language": "python",
     "metadata": {
      "colab": {
       "base_uri": "https://localhost:8080/"
      },
      "id": "a7S3ZtTKNkwn",
      "outputId": "d8551022-a7c4-4db0-c99e-d2a97a9ec767"
     },
     "outputs": [],
     "prompt_number": 3
    },
    {
     "cell_type": "code",
     "collapsed": false,
     "input": [
      "cf.getversion() # should be >= v2.0"
     ],
     "language": "python",
     "metadata": {
      "colab": {
       "base_uri": "https://localhost:8080/",
       "height": 34
      },
      "id": "rU4U_ZmXUnyC",
      "outputId": "94d84ff6-5d7f-47c2-f4ea-2cf1eaaec7a8"
     },
     "outputs": [],
     "prompt_number": 4
    },
    {
     "cell_type": "heading",
     "level": 2,
     "metadata": {
      "id": "VUcCzRuDO_L2"
     },
     "source": [
      "Using the `front` module to produce simple plot, map, histo"
     ]
    },
    {
     "cell_type": "code",
     "collapsed": false,
     "input": [
      "cf.plot(option='sumall') # default is which='deaths', what='cumul', and for all countries"
     ],
     "language": "python",
     "metadata": {
      "colab": {
       "base_uri": "https://localhost:8080/",
       "height": 426
      },
      "id": "i9hHT4GEN61B",
      "outputId": "ff663e2f-8073-4e1a-f8ac-f0db9360f07d"
     },
     "outputs": [],
     "prompt_number": 5
    },
    {
     "cell_type": "code",
     "collapsed": false,
     "input": [
      "cf.plot(where='g20') # managing region"
     ],
     "language": "python",
     "metadata": {
      "colab": {
       "base_uri": "https://localhost:8080/",
       "height": 426
      },
      "id": "3Upjqagdjb-U",
      "outputId": "b37b9ce4-a420-4aaa-c6a8-d4706c3739b9"
     },
     "outputs": [],
     "prompt_number": 6
    },
    {
     "cell_type": "code",
     "collapsed": false,
     "input": [
      "cf.map(where='oecd',what='daily',when='01/02/2021',which='confirmed')"
     ],
     "language": "python",
     "metadata": {
      "colab": {
       "base_uri": "https://localhost:8080/",
       "height": 396
      },
      "id": "DViW9GasjnsN",
      "outputId": "0f1d29ed-a068-4730-f407-33c0c5196597"
     },
     "outputs": [],
     "prompt_number": 7
    },
    {
     "cell_type": "code",
     "collapsed": false,
     "input": [
      "cf.setwhom('owid') # changing database\n",
      "cf.hist(which='total_vaccinations') # default is for all countries"
     ],
     "language": "python",
     "metadata": {
      "colab": {
       "base_uri": "https://localhost:8080/",
       "height": 530
      },
      "id": "nCVT65KGjsqu",
      "outputId": "cea0286c-53b2-4406-f37d-0172b81ecdc2"
     },
     "outputs": [],
     "prompt_number": 8
    },
    {
     "cell_type": "code",
     "collapsed": false,
     "input": [
      "cf.setwhom('spf') # Sant\u00e9 Publique France database\n",
      "cf.map(which='tot_vacc',tile='esri') # Vaccinations, map view optional tile "
     ],
     "language": "python",
     "metadata": {
      "colab": {
       "base_uri": "https://localhost:8080/",
       "height": 516
      },
      "id": "hfj0ocF0jvwD",
      "outputId": "b29a8e24-6f63-41aa-e88e-72c756a00054"
     },
     "outputs": [],
     "prompt_number": 9
    },
    {
     "cell_type": "code",
     "collapsed": false,
     "input": [
      "cf.setwhom('jhu-usa') # JHU USA database\n",
      "cf.map(visu='folium') # deaths, map view with folium visualization output"
     ],
     "language": "python",
     "metadata": {
      "colab": {
       "base_uri": "https://localhost:8080/",
       "height": 536
      },
      "id": "XL0wmJA1j00V",
      "outputId": "ede79360-b40a-4c3b-dc8e-0e09f9506a2e"
     },
     "outputs": [],
     "prompt_number": 10
    },
    {
     "cell_type": "heading",
     "level": 1,
     "metadata": {
      "id": "HCcnzdkplZ65"
     },
     "source": [
      "Two other outputs : histo by value and `pandas` output"
     ]
    },
    {
     "cell_type": "code",
     "collapsed": false,
     "input": [
      "cf.setwhom('jhu')\n",
      "cf.hist(where='middle africa', which='confirmed',what='cumul',typeofhist='byvalue')"
     ],
     "language": "python",
     "metadata": {
      "colab": {
       "base_uri": "https://localhost:8080/",
       "height": 510
      },
      "id": "oL_V2WZHYCOB",
      "outputId": "389258be-0c94-4038-dc55-30ce4b82b7ab"
     },
     "outputs": [],
     "prompt_number": 11
    },
    {
     "cell_type": "code",
     "collapsed": false,
     "input": [
      "z=cf.get(where=['usa'], what='daily', which='recovered',output='pandas')\n",
      "display(z)"
     ],
     "language": "python",
     "metadata": {
      "colab": {
       "base_uri": "https://localhost:8080/",
       "height": 406
      },
      "id": "Qn0o5LYYGpb2",
      "outputId": "64ef6a6b-9c18-4bab-906a-bf54843f4c1a"
     },
     "outputs": [],
     "prompt_number": 12
    },
    {
     "cell_type": "heading",
     "level": 1,
     "metadata": {
      "id": "PwbhOAKQVPcD"
     },
     "source": [
      "Other databases ?"
     ]
    },
    {
     "cell_type": "code",
     "collapsed": false,
     "input": [
      "cf.listwhom()"
     ],
     "language": "python",
     "metadata": {
      "colab": {
       "base_uri": "https://localhost:8080/"
      },
      "id": "65ZeGciNVUTJ",
      "outputId": "bacaf299-9b5e-4e19-a8ef-9a0d367672e5"
     },
     "outputs": [],
     "prompt_number": 13
    },
    {
     "cell_type": "code",
     "collapsed": false,
     "input": [
      "cf.setwhom('dpc')\n",
      "cf.map()"
     ],
     "language": "python",
     "metadata": {
      "colab": {
       "base_uri": "https://localhost:8080/",
       "height": 480
      },
      "id": "8iAHCVaUVX-H",
      "outputId": "7369af5c-ebce-47a3-c113-e17630246868"
     },
     "outputs": [],
     "prompt_number": 14
    },
    {
     "cell_type": "code",
     "collapsed": false,
     "input": [
      "cf.setwhom('covid19india')\n",
      "cf.map(which='Tested')"
     ],
     "language": "python",
     "metadata": {
      "colab": {
       "base_uri": "https://localhost:8080/",
       "height": 480
      },
      "id": "4n29cjz4Vdrw",
      "outputId": "aad26137-bfc6-4e07-f08d-a4d371ee9303"
     },
     "outputs": [],
     "prompt_number": 15
    },
    {
     "cell_type": "heading",
     "level": 2,
     "metadata": {
      "id": "uoU9ML15PHIm"
     },
     "source": [
      "Getting some help on `coa.front`"
     ]
    },
    {
     "cell_type": "code",
     "collapsed": false,
     "input": [
      "help(cf)"
     ],
     "language": "python",
     "metadata": {
      "colab": {
       "base_uri": "https://localhost:8080/"
      },
      "id": "qPb8HSoHLB2A",
      "outputId": "c262df4b-0bce-4230-dbdb-b1a750f10849"
     },
     "outputs": [],
     "prompt_number": 16
    },
    {
     "cell_type": "code",
     "collapsed": false,
     "input": [],
     "language": "python",
     "metadata": {
      "id": "JVX2hYS3loWO"
     },
     "outputs": [],
     "prompt_number": null
    }
   ],
   "metadata": {}
  }
 ]
}