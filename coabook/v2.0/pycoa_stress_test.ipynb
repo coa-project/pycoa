{
 "metadata": {
  "kernelspec": {
   "display_name": "Python 3 (ipykernel)",
   "language": "python",
   "name": "python3"
  },
  "language_info": {
   "codemirror_mode": {
    "name": "ipython",
    "version": 3
   },
   "file_extension": ".py",
   "mimetype": "text/x-python",
   "name": "python",
   "nbconvert_exporter": "python",
   "pygments_lexer": "ipython3",
   "version": "3.9.6"
  },
  "name": ""
 },
 "nbformat": 3,
 "nbformat_minor": 0,
 "worksheets": [
  {
   "cells": [
    {
     "cell_type": "code",
     "collapsed": false,
     "input": [
      "import coaenv as cf"
     ],
     "language": "python",
     "metadata": {
      "scrolled": true
     },
     "outputs": [],
     "prompt_number": null
    },
    {
     "cell_type": "code",
     "collapsed": false,
     "input": [
      "cf.getversion()"
     ],
     "language": "python",
     "metadata": {},
     "outputs": [],
     "prompt_number": null
    },
    {
     "cell_type": "code",
     "collapsed": false,
     "input": [
      "!cat .git/FETCH_HEAD"
     ],
     "language": "python",
     "metadata": {},
     "outputs": [],
     "prompt_number": null
    },
    {
     "cell_type": "code",
     "collapsed": false,
     "input": [
      "# Test rapide des bases\n",
      "from IPython.display import Markdown\n",
      "import random\n",
      "display(cf.listwhom())\n",
      "n=0\n",
      "for db in cf.listwhom():\n",
      "    n=n+1\n",
      "    #if n<8:\n",
      "    #    continue\n",
      "    if db == 'risklayer':\n",
      "        continue\n",
      "    display(Markdown('# '+db))\n",
      "    if db != cf.getwhom():\n",
      "        cf.setwhom(db)\n",
      "    w=random.choices(cf.listwhere(),k=3)\n",
      "    print(w)\n",
      "    cf.plot(where=w)"
     ],
     "language": "python",
     "metadata": {
      "scrolled": false
     },
     "outputs": [],
     "prompt_number": null
    },
    {
     "cell_type": "code",
     "collapsed": false,
     "input": [
      "# Test des maps\n",
      "cf.setwhom('jhu')\n",
      "cf.map(visu='bokeh',tile='openstreet')\n",
      "cf.map(visu='bokeh',tile='esri')\n",
      "cf.map(visu='bokeh',tile='positron')\n",
      "cf.map(visu='bokeh',tile='stamen')"
     ],
     "language": "python",
     "metadata": {},
     "outputs": [],
     "prompt_number": null
    },
    {
     "cell_type": "code",
     "collapsed": false,
     "input": [
      "cf.map(visu='folium',tile='openstreet')"
     ],
     "language": "python",
     "metadata": {},
     "outputs": [],
     "prompt_number": null
    },
    {
     "cell_type": "code",
     "collapsed": false,
     "input": [
      "cf.map(visu='folium',tile='esri')"
     ],
     "language": "python",
     "metadata": {},
     "outputs": [],
     "prompt_number": null
    },
    {
     "cell_type": "code",
     "collapsed": false,
     "input": [
      "cf.map(visu='folium',tile='positron')"
     ],
     "language": "python",
     "metadata": {},
     "outputs": [],
     "prompt_number": null
    },
    {
     "cell_type": "code",
     "collapsed": false,
     "input": [
      "cf.map(visu='folium',tile='stamen')"
     ],
     "language": "python",
     "metadata": {},
     "outputs": [],
     "prompt_number": null
    },
    {
     "cell_type": "code",
     "collapsed": false,
     "input": [
      "print('default')\n",
      "cf.plot()\n",
      "cf.map()\n",
      "cf.hist()\n",
      "display(cf.get().head())\n",
      "for whi in cf.listwhich():\n",
      "    for wha in cf.listwhat():\n",
      "        lo=cf.listoption()\n",
      "        lo.append('')\n",
      "        for opt in lo:\n",
      "            for plo in cf.listplot():\n",
      "                print(whi,wha,opt,plo)\n",
      "                if plo in ['spiral','yearly','versus']:\n",
      "                    continue\n",
      "                if plo == 'menulocation' and opt=='sumall':\n",
      "                    continue\n",
      "                cf.plot(which=whi,what=wha,option=opt,typeofplot=plo)\n",
      "            for his in cf.listhist():\n",
      "                print(whi,wha,opt,his)\n",
      "                cf.hist(which=whi,what=wha,option=opt,typeofhist=his)\n",
      "            print(whi,wha,opt,'map bokeh')\n",
      "            cf.map(which=whi,what=wha,option=opt)#,tile=til,visu=vis)"
     ],
     "language": "python",
     "metadata": {
      "scrolled": false
     },
     "outputs": [],
     "prompt_number": null
    },
    {
     "cell_type": "code",
     "collapsed": false,
     "input": [
      "# Aspects complexes \u00e0 tester\n",
      "cf.plot(where=[['European Union'],['USA'],['Oceania']],option='sumall',typeofplot='menulocation')"
     ],
     "language": "python",
     "metadata": {},
     "outputs": [],
     "prompt_number": null
    },
    {
     "cell_type": "code",
     "collapsed": false,
     "input": [
      "from IPython.display import Markdown\n",
      "display(cf.listwhom())\n",
      "n=0\n",
      "for db in cf.listwhom():\n",
      "    n=n+1\n",
      "    #if n<8:\n",
      "    #    continue\n",
      "    display(Markdown('# '+db))\n",
      "    cf.setwhom(db)\n",
      "    cf.plot()\n",
      "    cf.map()\n",
      "    cf.hist()\n",
      "    display(cf.get())\n",
      "    cf.hist(typeofhist='pie')\n",
      "    cf.hist(typeofhist='byvalue')\n",
      "    for w in cf.listwhich():\n",
      "        cf.plot(which=w)\n",
      "        cf.plot(which=w,option='sumall')"
     ],
     "language": "python",
     "metadata": {
      "scrolled": false
     },
     "outputs": [],
     "prompt_number": null
    },
    {
     "cell_type": "code",
     "collapsed": false,
     "input": [],
     "language": "python",
     "metadata": {
      "scrolled": true
     },
     "outputs": [],
     "prompt_number": null
    }
   ],
   "metadata": {}
  }
 ]
}