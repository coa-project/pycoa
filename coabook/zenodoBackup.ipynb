{
 "cells": [
  {
   "cell_type": "markdown",
   "id": "df10411d-a2f1-41bc-831f-905c66654d3d",
   "metadata": {},
   "source": [
    "[![Binder](https://mybinder.org/badge_logo.svg)](https://mybinder.org/v2/gh/coa-project/pycoa/zenodo-backup)"
   ]
  },
  {
   "cell_type": "markdown",
   "id": "83ba1ce1-c23c-4a6e-90b7-5c99a3c77a9c",
   "metadata": {},
   "source": [
    "# Testing zenodo backup  "
   ]
  },
  {
   "cell_type": "markdown",
   "id": "2b20f9dc-1f21-4ea8-a8c7-3587fd5c5a25",
   "metadata": {},
   "source": [
    "Load libraries"
   ]
  },
  {
   "cell_type": "code",
   "execution_count": 1,
   "id": "ad16632f-581c-4e5e-b26b-24c79a88d5df",
   "metadata": {
    "tags": []
   },
   "outputs": [],
   "source": [
    "import sys\n",
    "import subprocess\n",
    "import importlib\n",
    "import requests"
   ]
  },
  {
   "cell_type": "markdown",
   "id": "86cbaec9-2b86-4a50-9a40-8775d3c598bb",
   "metadata": {},
   "source": [
    "Install from source \n",
    "> Configured for a binder environment [![Binder](https://mybinder.org/badge_logo.svg)](https://mybinder.org/v2/gh/coa-project/pycoa/zenodo-backup)"
   ]
  },
  {
   "cell_type": "code",
   "execution_count": 2,
   "id": "778c7b9b-b83c-4731-b34b-2d6ea63cf556",
   "metadata": {
    "collapsed": true,
    "jupyter": {
     "outputs_hidden": true
    },
    "tags": []
   },
   "outputs": [
    {
     "name": "stdout",
     "output_type": "stream",
     "text": [
      "Obtaining file:///home/jovyan\n",
      "  Preparing metadata (setup.py): started\n",
      "  Preparing metadata (setup.py): finished with status 'done'\n",
      "Requirement already satisfied: bokeh==2.4.0 in /srv/conda/envs/notebook/lib/python3.9/site-packages (from PyCoA==2.22.1) (2.4.0)\n",
      "Requirement already satisfied: branca in /srv/conda/envs/notebook/lib/python3.9/site-packages (from PyCoA==2.22.1) (0.7.0)\n",
      "Requirement already satisfied: bs4 in /srv/conda/envs/notebook/lib/python3.9/site-packages (from PyCoA==2.22.1) (0.0.1)\n",
      "Requirement already satisfied: datascroller in /srv/conda/envs/notebook/lib/python3.9/site-packages (from PyCoA==2.22.1) (1.4.1)\n",
      "Requirement already satisfied: datetime in /srv/conda/envs/notebook/lib/python3.9/site-packages (from PyCoA==2.22.1) (5.3)\n",
      "Requirement already satisfied: folium~=0.12.1 in /srv/conda/envs/notebook/lib/python3.9/site-packages (from PyCoA==2.22.1) (0.12.1.post1)\n",
      "Requirement already satisfied: geopandas==0.10.2 in /srv/conda/envs/notebook/lib/python3.9/site-packages (from PyCoA==2.22.1) (0.10.2)\n",
      "Requirement already satisfied: matplotlib in /srv/conda/envs/notebook/lib/python3.9/site-packages (from PyCoA==2.22.1) (3.8.2)\n",
      "Requirement already satisfied: numpy in /srv/conda/envs/notebook/lib/python3.9/site-packages (from PyCoA==2.22.1) (1.26.2)\n",
      "Requirement already satisfied: pandas==1.4.2 in /srv/conda/envs/notebook/lib/python3.9/site-packages (from PyCoA==2.22.1) (1.4.2)\n",
      "Requirement already satisfied: pycountry in /srv/conda/envs/notebook/lib/python3.9/site-packages (from PyCoA==2.22.1) (22.3.5)\n",
      "Requirement already satisfied: pycountry_convert in /srv/conda/envs/notebook/lib/python3.9/site-packages (from PyCoA==2.22.1) (0.7.2)\n",
      "Requirement already satisfied: requests in /srv/conda/envs/notebook/lib/python3.9/site-packages (from PyCoA==2.22.1) (2.31.0)\n",
      "Requirement already satisfied: scipy in /srv/conda/envs/notebook/lib/python3.9/site-packages (from PyCoA==2.22.1) (1.11.4)\n",
      "Requirement already satisfied: shapely in /srv/conda/envs/notebook/lib/python3.9/site-packages (from PyCoA==2.22.1) (1.8.2)\n",
      "Requirement already satisfied: pytest>=5.0 in /srv/conda/envs/notebook/lib/python3.9/site-packages (from PyCoA==2.22.1) (7.4.3)\n",
      "Requirement already satisfied: pandas-flavor in /srv/conda/envs/notebook/lib/python3.9/site-packages (from PyCoA==2.22.1) (0.6.0)\n",
      "Requirement already satisfied: openpyxl in /srv/conda/envs/notebook/lib/python3.9/site-packages (from PyCoA==2.22.1) (3.1.2)\n",
      "Requirement already satisfied: unidecode in /srv/conda/envs/notebook/lib/python3.9/site-packages (from PyCoA==2.22.1) (1.3.7)\n",
      "Requirement already satisfied: lxml in /srv/conda/envs/notebook/lib/python3.9/site-packages (from PyCoA==2.22.1) (4.9.3)\n",
      "Requirement already satisfied: Jinja2>=2.9 in /srv/conda/envs/notebook/lib/python3.9/site-packages (from bokeh==2.4.0->PyCoA==2.22.1) (3.1.2)\n",
      "Requirement already satisfied: packaging>=16.8 in /srv/conda/envs/notebook/lib/python3.9/site-packages (from bokeh==2.4.0->PyCoA==2.22.1) (23.2)\n",
      "Requirement already satisfied: pillow>=7.1.0 in /srv/conda/envs/notebook/lib/python3.9/site-packages (from bokeh==2.4.0->PyCoA==2.22.1) (10.1.0)\n",
      "Requirement already satisfied: PyYAML>=3.10 in /srv/conda/envs/notebook/lib/python3.9/site-packages (from bokeh==2.4.0->PyCoA==2.22.1) (6.0.1)\n",
      "Requirement already satisfied: tornado>=5.1 in /srv/conda/envs/notebook/lib/python3.9/site-packages (from bokeh==2.4.0->PyCoA==2.22.1) (6.3.3)\n",
      "Requirement already satisfied: typing-extensions>=3.10.0 in /srv/conda/envs/notebook/lib/python3.9/site-packages (from bokeh==2.4.0->PyCoA==2.22.1) (4.8.0)\n",
      "Requirement already satisfied: fiona>=1.8 in /srv/conda/envs/notebook/lib/python3.9/site-packages (from geopandas==0.10.2->PyCoA==2.22.1) (1.9.5)\n",
      "Requirement already satisfied: pyproj>=2.2.0 in /srv/conda/envs/notebook/lib/python3.9/site-packages (from geopandas==0.10.2->PyCoA==2.22.1) (3.6.1)\n",
      "Requirement already satisfied: python-dateutil>=2.8.1 in /srv/conda/envs/notebook/lib/python3.9/site-packages (from pandas==1.4.2->PyCoA==2.22.1) (2.8.2)\n",
      "Requirement already satisfied: pytz>=2020.1 in /srv/conda/envs/notebook/lib/python3.9/site-packages (from pandas==1.4.2->PyCoA==2.22.1) (2023.3.post1)\n",
      "Requirement already satisfied: iniconfig in /srv/conda/envs/notebook/lib/python3.9/site-packages (from pytest>=5.0->PyCoA==2.22.1) (2.0.0)\n",
      "Requirement already satisfied: pluggy<2.0,>=0.12 in /srv/conda/envs/notebook/lib/python3.9/site-packages (from pytest>=5.0->PyCoA==2.22.1) (1.3.0)\n",
      "Requirement already satisfied: exceptiongroup>=1.0.0rc8 in /srv/conda/envs/notebook/lib/python3.9/site-packages (from pytest>=5.0->PyCoA==2.22.1) (1.1.3)\n",
      "Requirement already satisfied: tomli>=1.0.0 in /srv/conda/envs/notebook/lib/python3.9/site-packages (from pytest>=5.0->PyCoA==2.22.1) (2.0.1)\n",
      "Requirement already satisfied: beautifulsoup4 in /srv/conda/envs/notebook/lib/python3.9/site-packages (from bs4->PyCoA==2.22.1) (4.12.2)\n",
      "Requirement already satisfied: pandasql in /srv/conda/envs/notebook/lib/python3.9/site-packages (from datascroller->PyCoA==2.22.1) (0.7.3)\n",
      "Requirement already satisfied: pyarrow in /srv/conda/envs/notebook/lib/python3.9/site-packages (from datascroller->PyCoA==2.22.1) (14.0.1)\n",
      "Requirement already satisfied: zope.interface in /srv/conda/envs/notebook/lib/python3.9/site-packages (from datetime->PyCoA==2.22.1) (6.1)\n",
      "Requirement already satisfied: contourpy>=1.0.1 in /srv/conda/envs/notebook/lib/python3.9/site-packages (from matplotlib->PyCoA==2.22.1) (1.2.0)\n",
      "Requirement already satisfied: cycler>=0.10 in /srv/conda/envs/notebook/lib/python3.9/site-packages (from matplotlib->PyCoA==2.22.1) (0.12.1)\n",
      "Requirement already satisfied: fonttools>=4.22.0 in /srv/conda/envs/notebook/lib/python3.9/site-packages (from matplotlib->PyCoA==2.22.1) (4.45.1)\n",
      "Requirement already satisfied: kiwisolver>=1.3.1 in /srv/conda/envs/notebook/lib/python3.9/site-packages (from matplotlib->PyCoA==2.22.1) (1.4.5)\n",
      "Requirement already satisfied: pyparsing>=2.3.1 in /srv/conda/envs/notebook/lib/python3.9/site-packages (from matplotlib->PyCoA==2.22.1) (3.1.1)\n",
      "Requirement already satisfied: importlib-resources>=3.2.0 in /srv/conda/envs/notebook/lib/python3.9/site-packages (from matplotlib->PyCoA==2.22.1) (6.1.0)\n",
      "Requirement already satisfied: et-xmlfile in /srv/conda/envs/notebook/lib/python3.9/site-packages (from openpyxl->PyCoA==2.22.1) (1.1.0)\n",
      "Requirement already satisfied: xarray in /srv/conda/envs/notebook/lib/python3.9/site-packages (from pandas-flavor->PyCoA==2.22.1) (2023.11.0)\n",
      "Requirement already satisfied: setuptools in /srv/conda/envs/notebook/lib/python3.9/site-packages (from pycountry->PyCoA==2.22.1) (68.2.2)\n",
      "Requirement already satisfied: pprintpp>=0.3.0 in /srv/conda/envs/notebook/lib/python3.9/site-packages (from pycountry_convert->PyCoA==2.22.1) (0.4.0)\n",
      "Requirement already satisfied: pytest-mock>=1.6.3 in /srv/conda/envs/notebook/lib/python3.9/site-packages (from pycountry_convert->PyCoA==2.22.1) (3.12.0)\n",
      "Requirement already satisfied: pytest-cov>=2.5.1 in /srv/conda/envs/notebook/lib/python3.9/site-packages (from pycountry_convert->PyCoA==2.22.1) (4.1.0)\n",
      "Requirement already satisfied: repoze.lru>=0.7 in /srv/conda/envs/notebook/lib/python3.9/site-packages (from pycountry_convert->PyCoA==2.22.1) (0.7)\n",
      "Requirement already satisfied: wheel>=0.30.0 in /srv/conda/envs/notebook/lib/python3.9/site-packages (from pycountry_convert->PyCoA==2.22.1) (0.41.2)\n",
      "Requirement already satisfied: charset-normalizer<4,>=2 in /srv/conda/envs/notebook/lib/python3.9/site-packages (from requests->PyCoA==2.22.1) (3.3.0)\n",
      "Requirement already satisfied: idna<4,>=2.5 in /srv/conda/envs/notebook/lib/python3.9/site-packages (from requests->PyCoA==2.22.1) (3.4)\n",
      "Requirement already satisfied: urllib3<3,>=1.21.1 in /srv/conda/envs/notebook/lib/python3.9/site-packages (from requests->PyCoA==2.22.1) (2.0.6)\n",
      "Requirement already satisfied: certifi>=2017.4.17 in /srv/conda/envs/notebook/lib/python3.9/site-packages (from requests->PyCoA==2.22.1) (2023.7.22)\n",
      "Requirement already satisfied: attrs>=19.2.0 in /srv/conda/envs/notebook/lib/python3.9/site-packages (from fiona>=1.8->geopandas==0.10.2->PyCoA==2.22.1) (23.1.0)\n",
      "Requirement already satisfied: click~=8.0 in /srv/conda/envs/notebook/lib/python3.9/site-packages (from fiona>=1.8->geopandas==0.10.2->PyCoA==2.22.1) (8.1.7)\n",
      "Requirement already satisfied: click-plugins>=1.0 in /srv/conda/envs/notebook/lib/python3.9/site-packages (from fiona>=1.8->geopandas==0.10.2->PyCoA==2.22.1) (1.1.1)\n",
      "Requirement already satisfied: cligj>=0.5 in /srv/conda/envs/notebook/lib/python3.9/site-packages (from fiona>=1.8->geopandas==0.10.2->PyCoA==2.22.1) (0.7.2)\n",
      "Requirement already satisfied: six in /srv/conda/envs/notebook/lib/python3.9/site-packages (from fiona>=1.8->geopandas==0.10.2->PyCoA==2.22.1) (1.16.0)\n",
      "Requirement already satisfied: importlib-metadata in /srv/conda/envs/notebook/lib/python3.9/site-packages (from fiona>=1.8->geopandas==0.10.2->PyCoA==2.22.1) (6.8.0)\n",
      "Requirement already satisfied: zipp>=3.1.0 in /srv/conda/envs/notebook/lib/python3.9/site-packages (from importlib-resources>=3.2.0->matplotlib->PyCoA==2.22.1) (3.17.0)\n",
      "Requirement already satisfied: MarkupSafe>=2.0 in /srv/conda/envs/notebook/lib/python3.9/site-packages (from Jinja2>=2.9->bokeh==2.4.0->PyCoA==2.22.1) (2.1.3)\n",
      "Requirement already satisfied: coverage>=5.2.1 in /srv/conda/envs/notebook/lib/python3.9/site-packages (from coverage[toml]>=5.2.1->pytest-cov>=2.5.1->pycountry_convert->PyCoA==2.22.1) (7.3.2)\n",
      "Requirement already satisfied: soupsieve>1.2 in /srv/conda/envs/notebook/lib/python3.9/site-packages (from beautifulsoup4->bs4->PyCoA==2.22.1) (2.5)\n",
      "Requirement already satisfied: sqlalchemy in /srv/conda/envs/notebook/lib/python3.9/site-packages (from pandasql->datascroller->PyCoA==2.22.1) (2.0.22)\n",
      "Requirement already satisfied: greenlet!=0.4.17 in /srv/conda/envs/notebook/lib/python3.9/site-packages (from sqlalchemy->pandasql->datascroller->PyCoA==2.22.1) (3.0.0)\n",
      "Installing collected packages: PyCoA\n",
      "  Attempting uninstall: PyCoA\n",
      "    Found existing installation: PyCoA 2.22.1\n",
      "    Uninstalling PyCoA-2.22.1:\n",
      "      Successfully uninstalled PyCoA-2.22.1\n",
      "  Running setup.py develop for PyCoA\n",
      "Successfully installed PyCoA-2.22.1\n"
     ]
    },
    {
     "data": {
      "application/javascript": "\n(function(root) {\n  function now() {\n    return new Date();\n  }\n\n  const force = true;\n\n  if (typeof root._bokeh_onload_callbacks === \"undefined\" || force === true) {\n    root._bokeh_onload_callbacks = [];\n    root._bokeh_is_loading = undefined;\n  }\n\n  const JS_MIME_TYPE = 'application/javascript';\n  const HTML_MIME_TYPE = 'text/html';\n  const EXEC_MIME_TYPE = 'application/vnd.bokehjs_exec.v0+json';\n  const CLASS_NAME = 'output_bokeh rendered_html';\n\n  /**\n   * Render data to the DOM node\n   */\n  function render(props, node) {\n    const script = document.createElement(\"script\");\n    node.appendChild(script);\n  }\n\n  /**\n   * Handle when an output is cleared or removed\n   */\n  function handleClearOutput(event, handle) {\n    const cell = handle.cell;\n\n    const id = cell.output_area._bokeh_element_id;\n    const server_id = cell.output_area._bokeh_server_id;\n    // Clean up Bokeh references\n    if (id != null && id in Bokeh.index) {\n      Bokeh.index[id].model.document.clear();\n      delete Bokeh.index[id];\n    }\n\n    if (server_id !== undefined) {\n      // Clean up Bokeh references\n      const cmd_clean = \"from bokeh.io.state import curstate; print(curstate().uuid_to_server['\" + server_id + \"'].get_sessions()[0].document.roots[0]._id)\";\n      cell.notebook.kernel.execute(cmd_clean, {\n        iopub: {\n          output: function(msg) {\n            const id = msg.content.text.trim();\n            if (id in Bokeh.index) {\n              Bokeh.index[id].model.document.clear();\n              delete Bokeh.index[id];\n            }\n          }\n        }\n      });\n      // Destroy server and session\n      const cmd_destroy = \"import bokeh.io.notebook as ion; ion.destroy_server('\" + server_id + \"')\";\n      cell.notebook.kernel.execute(cmd_destroy);\n    }\n  }\n\n  /**\n   * Handle when a new output is added\n   */\n  function handleAddOutput(event, handle) {\n    const output_area = handle.output_area;\n    const output = handle.output;\n\n    // limit handleAddOutput to display_data with EXEC_MIME_TYPE content only\n    if ((output.output_type != \"display_data\") || (!Object.prototype.hasOwnProperty.call(output.data, EXEC_MIME_TYPE))) {\n      return\n    }\n\n    const toinsert = output_area.element.find(\".\" + CLASS_NAME.split(' ')[0]);\n\n    if (output.metadata[EXEC_MIME_TYPE][\"id\"] !== undefined) {\n      toinsert[toinsert.length - 1].firstChild.textContent = output.data[JS_MIME_TYPE];\n      // store reference to embed id on output_area\n      output_area._bokeh_element_id = output.metadata[EXEC_MIME_TYPE][\"id\"];\n    }\n    if (output.metadata[EXEC_MIME_TYPE][\"server_id\"] !== undefined) {\n      const bk_div = document.createElement(\"div\");\n      bk_div.innerHTML = output.data[HTML_MIME_TYPE];\n      const script_attrs = bk_div.children[0].attributes;\n      for (let i = 0; i < script_attrs.length; i++) {\n        toinsert[toinsert.length - 1].firstChild.setAttribute(script_attrs[i].name, script_attrs[i].value);\n        toinsert[toinsert.length - 1].firstChild.textContent = bk_div.children[0].textContent\n      }\n      // store reference to server id on output_area\n      output_area._bokeh_server_id = output.metadata[EXEC_MIME_TYPE][\"server_id\"];\n    }\n  }\n\n  function register_renderer(events, OutputArea) {\n\n    function append_mime(data, metadata, element) {\n      // create a DOM node to render to\n      const toinsert = this.create_output_subarea(\n        metadata,\n        CLASS_NAME,\n        EXEC_MIME_TYPE\n      );\n      this.keyboard_manager.register_events(toinsert);\n      // Render to node\n      const props = {data: data, metadata: metadata[EXEC_MIME_TYPE]};\n      render(props, toinsert[toinsert.length - 1]);\n      element.append(toinsert);\n      return toinsert\n    }\n\n    /* Handle when an output is cleared or removed */\n    events.on('clear_output.CodeCell', handleClearOutput);\n    events.on('delete.Cell', handleClearOutput);\n\n    /* Handle when a new output is added */\n    events.on('output_added.OutputArea', handleAddOutput);\n\n    /**\n     * Register the mime type and append_mime function with output_area\n     */\n    OutputArea.prototype.register_mime_type(EXEC_MIME_TYPE, append_mime, {\n      /* Is output safe? */\n      safe: true,\n      /* Index of renderer in `output_area.display_order` */\n      index: 0\n    });\n  }\n\n  // register the mime type if in Jupyter Notebook environment and previously unregistered\n  if (root.Jupyter !== undefined) {\n    const events = require('base/js/events');\n    const OutputArea = require('notebook/js/outputarea').OutputArea;\n\n    if (OutputArea.prototype.mime_types().indexOf(EXEC_MIME_TYPE) == -1) {\n      register_renderer(events, OutputArea);\n    }\n  }\n\n  \n  if (typeof (root._bokeh_timeout) === \"undefined\" || force === true) {\n    root._bokeh_timeout = Date.now() + 5000;\n    root._bokeh_failed_load = false;\n  }\n\n  const NB_LOAD_WARNING = {'data': {'text/html':\n     \"<div style='background-color: #fdd'>\\n\"+\n     \"<p>\\n\"+\n     \"BokehJS does not appear to have successfully loaded. If loading BokehJS from CDN, this \\n\"+\n     \"may be due to a slow or bad network connection. Possible fixes:\\n\"+\n     \"</p>\\n\"+\n     \"<ul>\\n\"+\n     \"<li>re-rerun `output_notebook()` to attempt to load from CDN again, or</li>\\n\"+\n     \"<li>use INLINE resources instead, as so:</li>\\n\"+\n     \"</ul>\\n\"+\n     \"<code>\\n\"+\n     \"from bokeh.resources import INLINE\\n\"+\n     \"output_notebook(resources=INLINE)\\n\"+\n     \"</code>\\n\"+\n     \"</div>\"}};\n\n  function display_loaded() {\n    const el = document.getElementById(null);\n    if (el != null) {\n      el.textContent = \"BokehJS is loading...\";\n    }\n    if (root.Bokeh !== undefined) {\n      if (el != null) {\n        el.textContent = \"BokehJS \" + root.Bokeh.version + \" successfully loaded.\";\n      }\n    } else if (Date.now() < root._bokeh_timeout) {\n      setTimeout(display_loaded, 100)\n    }\n  }\n\n\n  function run_callbacks() {\n    try {\n      root._bokeh_onload_callbacks.forEach(function(callback) {\n        if (callback != null)\n          callback();\n      });\n    } finally {\n      delete root._bokeh_onload_callbacks\n    }\n    console.debug(\"Bokeh: all callbacks have finished\");\n  }\n\n  function load_libs(css_urls, js_urls, callback) {\n    if (css_urls == null) css_urls = [];\n    if (js_urls == null) js_urls = [];\n\n    root._bokeh_onload_callbacks.push(callback);\n    if (root._bokeh_is_loading > 0) {\n      console.debug(\"Bokeh: BokehJS is being loaded, scheduling callback at\", now());\n      return null;\n    }\n    if (js_urls == null || js_urls.length === 0) {\n      run_callbacks();\n      return null;\n    }\n    console.debug(\"Bokeh: BokehJS not loaded, scheduling load and callback at\", now());\n    root._bokeh_is_loading = css_urls.length + js_urls.length;\n\n    function on_load() {\n      root._bokeh_is_loading--;\n      if (root._bokeh_is_loading === 0) {\n        console.debug(\"Bokeh: all BokehJS libraries/stylesheets loaded\");\n        run_callbacks()\n      }\n    }\n\n    function on_error(url) {\n      console.error(\"failed to load \" + url);\n    }\n\n    for (let i = 0; i < css_urls.length; i++) {\n      const url = css_urls[i];\n      const element = document.createElement(\"link\");\n      element.onload = on_load;\n      element.onerror = on_error.bind(null, url);\n      element.rel = \"stylesheet\";\n      element.type = \"text/css\";\n      element.href = url;\n      console.debug(\"Bokeh: injecting link tag for BokehJS stylesheet: \", url);\n      document.body.appendChild(element);\n    }\n\n    for (let i = 0; i < js_urls.length; i++) {\n      const url = js_urls[i];\n      const element = document.createElement('script');\n      element.onload = on_load;\n      element.onerror = on_error.bind(null, url);\n      element.async = false;\n      element.src = url;\n      console.debug(\"Bokeh: injecting script tag for BokehJS library: \", url);\n      document.head.appendChild(element);\n    }\n  };\n\n  function inject_raw_css(css) {\n    const element = document.createElement(\"style\");\n    element.appendChild(document.createTextNode(css));\n    document.body.appendChild(element);\n  }\n\n  \n  const js_urls = [\"https://cdn.bokeh.org/bokeh/release/bokeh-2.4.0.min.js\", \"https://cdn.bokeh.org/bokeh/release/bokeh-gl-2.4.0.min.js\", \"https://cdn.bokeh.org/bokeh/release/bokeh-widgets-2.4.0.min.js\", \"https://cdn.bokeh.org/bokeh/release/bokeh-tables-2.4.0.min.js\", \"https://cdn.bokeh.org/bokeh/release/bokeh-mathjax-2.4.0.min.js\"];\n  const css_urls = [];\n  \n\n  const inline_js = [\n    function(Bokeh) {\n      Bokeh.set_log_level(\"info\");\n    },\n    function(Bokeh) {\n    \n    \n    }\n  ];\n\n  function run_inline_js() {\n    \n    if (root.Bokeh !== undefined || force === true) {\n      \n    for (let i = 0; i < inline_js.length; i++) {\n      inline_js[i].call(root, root.Bokeh);\n    }\n    } else if (Date.now() < root._bokeh_timeout) {\n      setTimeout(run_inline_js, 100);\n    } else if (!root._bokeh_failed_load) {\n      console.log(\"Bokeh: BokehJS failed to load within specified timeout.\");\n      root._bokeh_failed_load = true;\n    } else if (force !== true) {\n      const cell = $(document.getElementById(null)).parents('.cell').data().cell;\n      cell.output_area.append_execute_result(NB_LOAD_WARNING)\n    }\n\n  }\n\n  if (root._bokeh_is_loading === 0) {\n    console.debug(\"Bokeh: BokehJS loaded, going straight to plotting\");\n    run_inline_js();\n  } else {\n    load_libs(css_urls, js_urls, function() {\n      console.debug(\"Bokeh: BokehJS plotting callback run at\", now());\n      run_inline_js();\n    });\n  }\n}(window));",
      "application/vnd.bokehjs_load.v0+json": ""
     },
     "metadata": {},
     "output_type": "display_data"
    }
   ],
   "source": [
    "subprocess.check_call(['pip3', 'install', '-e', '/home/jovyan'])\n",
    "sys.path.insert(1, 'pycoa')\n",
    "import coa.front as pycoa"
   ]
  },
  {
   "cell_type": "markdown",
   "id": "135e4561-40e3-4d34-bc24-5c021210a855",
   "metadata": {},
   "source": [
    "load database"
   ]
  },
  {
   "cell_type": "code",
   "execution_count": null,
   "id": "ce67a231-6f47-493f-8707-251b4f648690",
   "metadata": {
    "tags": []
   },
   "outputs": [
    {
     "name": "stdout",
     "output_type": "stream",
     "text": [
      "GBR, Public Health England data ...\n"
     ]
    }
   ],
   "source": [
    "pycoa.setwhom(\"phe\")"
   ]
  }
 ],
 "metadata": {
  "kernelspec": {
   "display_name": "Python 3 (ipykernel)",
   "language": "python",
   "name": "python3"
  },
  "language_info": {
   "codemirror_mode": {
    "name": "ipython",
    "version": 3
   },
   "file_extension": ".py",
   "mimetype": "text/x-python",
   "name": "python",
   "nbconvert_exporter": "python",
   "pygments_lexer": "ipython3",
   "version": "3.9.18"
  }
 },
 "nbformat": 4,
 "nbformat_minor": 5
}
