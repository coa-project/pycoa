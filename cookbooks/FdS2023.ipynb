{
 "metadata": {
  "colab": {
   "include_colab_link": true,
   "provenance": [],
   "toc_visible": true
  },
  "kernelspec": {
   "display_name": "Python 3 (ipykernel)",
   "language": "python",
   "name": "python3"
  },
  "language_info": {
   "codemirror_mode": {
    "name": "ipython",
    "version": 3
   },
   "file_extension": ".py",
   "mimetype": "text/x-python",
   "name": "python",
   "nbconvert_exporter": "python",
   "pygments_lexer": "ipython3",
   "version": "3.9.17"
  },
  "name": ""
 },
 "nbformat": 3,
 "nbformat_minor": 0,
 "worksheets": [
  {
   "cells": [
    {
     "cell_type": "markdown",
     "metadata": {
      "colab_type": "text",
      "id": "view-in-github"
     },
     "source": [
      "<a href=\"https://colab.research.google.com/github/coa-project/pycoa/blob/ReadingDataModification/coabook/SalonDesMaths2023.ipynb\" target=\"_parent\"><img src=\"https://colab.research.google.com/assets/colab-badge.svg\" alt=\"Open In Colab\"/></a>"
     ]
    },
    {
     "cell_type": "markdown",
     "metadata": {
      "id": "xueZfi-b_sre"
     },
     "source": [
      "<img src=\"https://www.pycoa.fr/fig/logo-anime.gif\" alt=\"Pycoa\" width=\"125\">\n",
      "\n",
      "# D\u00e9monstration du logiciel PyCoA [\u24d2pycoa.fr](http://pycoa.fr)\n",
      "\n",
      "F\u00eate de la science octobre 2023 @ Sorbonne Universti\u00e9 \n",
      "https://www.fetedelascience.fr/\n",
      "\n",
      "Ce cahier (*notebook*) Jupyter de d\u00e9monstration est destin\u00e9 aux \u00e9l\u00e8ves, enseignant\u00b7es de lyc\u00e9e & grand public"
     ]
    },
    {
     "cell_type": "heading",
     "level": 1,
     "metadata": {
      "id": "_hfa1G0M7Lc5"
     },
     "source": [
      "Importation du package dans l'environement de d\u00e9veloppement"
     ]
    },
    {
     "cell_type": "markdown",
     "metadata": {
      "id": "DuqlhKNT0J-o"
     },
     "source": [
      "Les commandes ci-apr\u00e8s s'assurent de la bonne installation et configuration de PyCoA : \n",
      "* dans le cas d'une installation locale\n",
      "* pour l'utilisation dans Colab\n",
      "* pour l'utilisation dans Binder\n",
      "\n",
      "**Ex\u00e9cutez ces lignes sans trop vous poser de questions\u2026**"
     ]
    },
    {
     "cell_type": "code",
     "collapsed": false,
     "input": [
      "import sys\n",
      "import subprocess\n",
      "import importlib\n",
      "coa_module_info = importlib.util.find_spec(\"coaenv\")\n",
      "if coa_module_info != None:\n",
      "  import coaenv as pycoa\n",
      "else:\n",
      "  #dans le cas o\u00f9 on utilise colab de Google  \n",
      "  subprocess.check_call(['pip3', 'install', '--quiet', 'git+https://github.com/coa-project/pycoa.git'])\n",
      "  sys.path.insert(1, 'pycoa')\n",
      "  !pip install pandas==1.4.2\n",
      "  !pip install bokeh==2.4.0\n",
      "  import coa.front as pycoa"
     ],
     "language": "python",
     "metadata": {
      "id": "a7S3ZtTKNkwn"
     },
     "outputs": [],
     "prompt_number": null
    },
    {
     "cell_type": "markdown",
     "metadata": {
      "id": "Ja7n3KAh0J-p"
     },
     "source": [
      "# Pour commencer\n",
      "\n",
      "## Une premi\u00e8re instruction"
     ]
    },
    {
     "cell_type": "markdown",
     "metadata": {
      "id": "Z12lNyVW0J-p"
     },
     "source": [
      "Si aucune base de donn\u00e9es \u00e9pid\u00e9miologique n'est selectionn\u00e9e avec `pycoa.setwhom`,  la base `OWID` pour Our World in Data est charg\u00e9e par d\u00e9faut. OWID propose un tableau de bord sur internet (*dashboard*) pour visualiser les donn\u00e9es : https://ourworldindata.org/coronavirus. \n",
      "\n",
      "PyCoA a \u00e9t\u00e9 con\u00e7u pour \u00e9tenndre les possibilit\u00e9s de ces *dashboard*. D'une part il permet de r\u00e9cup\u00e9rer directement les donn\u00e9es \u00e9pid\u00e9miologiques  ; d'autre par il permet les repr\u00e9senter comme on le souhaite.\n"
     ]
    },
    {
     "cell_type": "code",
     "collapsed": false,
     "input": [
      "pycoa.plot()"
     ],
     "language": "python",
     "metadata": {
      "id": "wAzNPUnx0J-q"
     },
     "outputs": [],
     "prompt_number": null
    },
    {
     "cell_type": "markdown",
     "metadata": {
      "id": "4GVKiX6L0J-q"
     },
     "source": [
      "L'instruction `pycoa.plot`, trace l'\u00e9volution temporelle de certaines donn\u00e9es, ici le nombre total de d\u00e9c\u00e8s dus au Covid dans le monde. \n",
      "Le graphe obtenu, qui utilise la librairie [Bokeh](https://bokeh.org/), est interactif : \n",
      "- que se passe-t-il lorsque le **curseur passe sur la courbe ?**\n",
      "- \u00e0 quoi servent **les 5 ic\u00f4nes en haut \u00e0 droite ?**\n",
      "- il y a deux onglets *linear* et *log* : **\u00e0 quoi servent-ils ?**"
     ]
    },
    {
     "cell_type": "markdown",
     "metadata": {
      "id": "Nx8oViWL0J-q"
     },
     "source": [
      "On n'a pas besoin de pr\u00e9ciser que c'est le nombre total de d\u00e9c\u00e8s (`total_deaths`) qu'on veut tracer ici, c'est choisi par d\u00e9faut. En revanche on veut la somme de tous les pays, et non (par exemple) le nombre pour chaque pays : on utilise donc le mot-cl\u00e9 `sumall` comme option.\n"
     ]
    },
    {
     "cell_type": "code",
     "collapsed": false,
     "input": [
      "pycoa.plot(option='sumall')"
     ],
     "language": "python",
     "metadata": {},
     "outputs": [],
     "prompt_number": null
    },
    {
     "cell_type": "markdown",
     "metadata": {},
     "source": [
      "Les mots-cl\u00e9s `kwargs` (au sens **Python**) permette de pr\u00e9ciser ce qu'on veut tracer."
     ]
    },
    {
     "cell_type": "markdown",
     "metadata": {
      "id": "H06z7ugA0J-q"
     },
     "source": [
      "## *Mots-cl\u00e9s*\n",
      "\n",
      "Diff\u00e9rents mots-cl\u00e9s sont possibles pour les diverses instructions :\n",
      "\n",
      "*   `which`: donn\u00e9e s\u00e9lectionn\u00e9e dans la base courante\n",
      "*   `what`: information de type `'cumul'`, `'daily'` ou `'weekly'`\n",
      "*   `where`: s\u00e9lection de la localisation, localisation qui d\u00e9pend de la base utilis\u00e9e\n",
      "  *   pays, `list` de pays, r\u00e9gion, continent\u2026\n",
      "  *   d\u00e9partement, `list` de d\u00e9partements, r\u00e9gions\n",
      "*   `option`: `'nonneg'`, `'nofillnan'`, `'smooth7'`, `'sumall'`\n",
      "*   `when`: fen\u00eatre de date pour la donn\u00e9e s\u00e9lectionn\u00e9e"
     ]
    },
    {
     "cell_type": "markdown",
     "metadata": {
      "id": "eb91ASrV0J-q"
     },
     "source": [
      "## Un deuxi\u00e8me exemple\n",
      "\n",
      "**Que pensez-vous que l'instruction suivante fasse ?**"
     ]
    },
    {
     "cell_type": "code",
     "collapsed": false,
     "input": [
      "pycoa.plot(where='European Union')"
     ],
     "language": "python",
     "metadata": {
      "id": "zFDh5W5x0J-r"
     },
     "outputs": [],
     "prompt_number": null
    },
    {
     "cell_type": "markdown",
     "metadata": {
      "id": "visBWw_R0J-r"
     },
     "source": [
      "En utilisant les capacit\u00e9s interactives du graphe, **comparez l'\u00e9volution temporelle des dif\u00e9rents pays au d\u00e9but de l'\u00e9pid\u00e9mie.**\n",
      "\n",
      "**Peut-on voir la nature initialement exponentielle de l'\u00e9pid\u00e9mie ?**"
     ]
    },
    {
     "cell_type": "markdown",
     "metadata": {
      "id": "tRXSHppM0J-r"
     },
     "source": [
      "## Une premi\u00e8re carte\n",
      "\n",
      "Outre des s\u00e9ries temportelles, PyCoA permet de repr\u00e9senter des donn\u00e9es spatiales, plus sp\u00e9cifiquement des cartes..."
     ]
    },
    {
     "cell_type": "code",
     "collapsed": false,
     "input": [
      "pycoa.map(where='European Union', what='daily', when='01/06/2023', which='total_cases')"
     ],
     "language": "python",
     "metadata": {
      "id": "USDORXDP0J-r"
     },
     "outputs": [],
     "prompt_number": null
    },
    {
     "cell_type": "markdown",
     "metadata": {
      "id": "kH3GExF50J-r"
     },
     "source": [
      "Cette carte, comme les graphes pr\u00e9c\u00e9dent, est \u00e9galement interactive. ** Essayez de centrer la carte sur la France **.\n",
      "\n",
      "D'autres instructions existent dans PyCoA."
     ]
    },
    {
     "cell_type": "markdown",
     "metadata": {},
     "source": [
      "... ou des histogrammes"
     ]
    },
    {
     "cell_type": "code",
     "collapsed": false,
     "input": [
      "pycoa.hist(where='European Union', what='daily', when='01/06/2023', which='total_cases')"
     ],
     "language": "python",
     "metadata": {
      "id": "KYh7JAJnTU5P"
     },
     "outputs": [],
     "prompt_number": null
    },
    {
     "cell_type": "markdown",
     "metadata": {},
     "source": [
      "ou encore des diagrammes circulaire"
     ]
    },
    {
     "cell_type": "code",
     "collapsed": false,
     "input": [
      "pycoa.hist(where='European Union', what='daily', when='01/06/2023', which='total_cases', typeofhist=\"pie\")"
     ],
     "language": "python",
     "metadata": {
      "id": "S0AXRDjITaon"
     },
     "outputs": [],
     "prompt_number": null
    },
    {
     "cell_type": "markdown",
     "metadata": {
      "id": "gcrFlprV0J-r"
     },
     "source": [
      "## *Instructions de PyCoA*\n",
      "*   `pycoa.plot` : pour les s\u00e9ries temporelles\n",
      "*   `pycoa.map` : pour une repr\u00e9sentation sous forme de carte\n",
      "*   `pycoa.hist` : pour les histogrammes, avec pour option\n",
      "  *   `typeofhist='bycountry'` (par d\u00e9faut), pour un histogramme \u00e0 barres horizontales, lieu par lieu\n",
      "  *   `typeofhist='byvalue'`, pour un histogramme \u00e0 barres verticales, par valeurs\n",
      "  *   `typeofhist='pie'`, pour un camembert\n",
      "*   `pycoa.get` : pour r\u00e9cup\u00e9rer les donn\u00e9es, en vue d'un traitement ult\u00e9rieur"
     ]
    },
    {
     "cell_type": "markdown",
     "metadata": {
      "id": "z-v-Jnss0J-r"
     },
     "source": [
      "## *Documentation*\n",
      "\n",
      "Une documentation plus compl\u00e8te des instructions et options de PyCoA se trouve sur le [wiki PyCoA](https://github.com/coa-project/pycoa/wiki/Accueil). En particulier consultez le menu affich\u00e9 en bas \u00e0 droite : \n",
      "* [R\u00e9cup\u00e9ration des donn\u00e9es et traitements](https://github.com/coa-project/pycoa/wiki/Donn%C3%A9es%2Ctraitements)\n",
      "* [Graphiques en courbes](https://github.com/coa-project/pycoa/wiki/Courbes)\n",
      "* [Histogrammes, secteurs et cartes](https://github.com/coa-project/pycoa/wiki/Diagrammes%2CCartes)\n",
      "* [Avanc\u00e9](https://github.com/coa-project/pycoa/wiki/Avance)\n",
      "* [\u00c9tudes de cas](https://github.com/coa-project/pycoa/wiki/Etudes%2Cde%2Ccas)"
     ]
    },
    {
     "cell_type": "markdown",
     "metadata": {
      "id": "hgF-8lmE0J-s"
     },
     "source": [
      "# Pour continuer\n",
      "\n",
      "## D'autres bases de donn\u00e9es\n",
      "\n",
      "Il est possible d'utiliser d'autres bases de donn\u00e9es. 18 bases de donn\u00e9es sont accessibles. 17 concernent le COVID."
     ]
    },
    {
     "cell_type": "code",
     "collapsed": false,
     "input": [
      "pycoa.listwhom(True)"
     ],
     "language": "python",
     "metadata": {
      "id": "coXG9UTU3_mk"
     },
     "outputs": [],
     "prompt_number": null
    },
    {
     "cell_type": "markdown",
     "metadata": {
      "id": "MwOdai3k3_ml"
     },
     "source": [
      "Pour s\u00e9lectionner une base de donn\u00e9e sp\u00e9cifique, on utilse l'instruction `pycoa.setwhom`, comme dans l'exemple suivant."
     ]
    },
    {
     "cell_type": "code",
     "collapsed": false,
     "input": [
      "##pycoa.setwhom('NOM DE LA BASE DE DONNEES')"
     ],
     "language": "python",
     "metadata": {
      "id": "pXHEIaa20J-s"
     },
     "outputs": [],
     "prompt_number": null
    },
    {
     "cell_type": "markdown",
     "metadata": {
      "id": "CxYcgH030J-t"
     },
     "source": [
      "## Donn\u00e9es fran\u00e7aises\n",
      "\n",
      "Sant\u00e9 Publique France (`spf`) diffuse les donn\u00e9es aff\u00e9rentes \u00e0 l'\u00e9pid\u00e9mie de COVID en France. Malheureusement, contrairement aux autres bases de donn\u00e9es, le format des donn\u00e9es varie souvent, sans avertissement. Il arrive donc h\u00e9las que les commandes \u00e9chouent, le temps d'apdater PyCoA aux derni\u00e8res modifications.\n",
      "\n",
      "Dans la cellule ci-dessous, **proposez une instruction pour s\u00e9lectionner la base de donn\u00e9e `spf`.**"
     ]
    },
    {
     "cell_type": "code",
     "collapsed": false,
     "input": [
      "pycoa.setwhom('spf')"
     ],
     "language": "python",
     "metadata": {
      "id": "oDwRnTbB0J-t"
     },
     "outputs": [],
     "prompt_number": null
    },
    {
     "cell_type": "markdown",
     "metadata": {
      "id": "XMaVys-q0J-t"
     },
     "source": [
      "L'instruction suivante trace la carte du taux de vaccination pour la M\u00e9tropole."
     ]
    },
    {
     "cell_type": "code",
     "collapsed": false,
     "input": [
      "pycoa.map(where='M\u00e9tropole',which='tot_vacc_complet', bypop='100') # Vaccinations, map view optional tile, with population normalization "
     ],
     "language": "python",
     "metadata": {
      "id": "AGlTgXA60J-t"
     },
     "outputs": [],
     "prompt_number": null
    },
    {
     "cell_type": "code",
     "collapsed": false,
     "input": [
      "pycoa.plot(where='Provence-Alpes-C\u00f4te-d\\'Azur',what='daily',which='tot_dchosp')"
     ],
     "language": "python",
     "metadata": {},
     "outputs": [],
     "prompt_number": null
    },
    {
     "cell_type": "markdown",
     "metadata": {},
     "source": [
      "Si on veut plusieurs regions on utilise une liste avec des `[]`"
     ]
    },
    {
     "cell_type": "code",
     "collapsed": false,
     "input": [
      "pycoa.hist(where=['\u00cele-de-France','Bretagne',\"Provence-Alpes-C\u00f4te d'Azur\"],which='tot_vacc_complet')"
     ],
     "language": "python",
     "metadata": {},
     "outputs": [],
     "prompt_number": null
    },
    {
     "cell_type": "code",
     "collapsed": false,
     "input": [
      "pycoa.plot(where=['\u00cele-de-France','Bretagne',\"Provence-Alpes-C\u00f4te d'Azur\"],which='tot_vacc_complet')"
     ],
     "language": "python",
     "metadata": {},
     "outputs": [],
     "prompt_number": null
    },
    {
     "cell_type": "heading",
     "level": 2,
     "metadata": {
      "id": "2h9gSj7p0J-t"
     },
     "source": [
      "Donn\u00e9es am\u00e9ricaines"
     ]
    },
    {
     "cell_type": "markdown",
     "metadata": {
      "id": "j3mNGqKw0J-t"
     },
     "source": [
      "**Pr\u00e9voir ce que font l'ensemble des deux instructions suivantes.** (avant de les ex\u00e9cuter)\n"
     ]
    },
    {
     "cell_type": "code",
     "collapsed": false,
     "input": [
      "pycoa.setwhom('jhu-usa')"
     ],
     "language": "python",
     "metadata": {
      "id": "dFLWfvoI0J-u"
     },
     "outputs": [],
     "prompt_number": null
    },
    {
     "cell_type": "code",
     "collapsed": false,
     "input": [
      "pycoa.map()"
     ],
     "language": "python",
     "metadata": {},
     "outputs": [],
     "prompt_number": null
    },
    {
     "cell_type": "heading",
     "level": 1,
     "metadata": {
      "id": "AobLkvBk0J-u"
     },
     "source": [
      "Pour aller encore plus loin, sur la base d'exemples"
     ]
    },
    {
     "cell_type": "code",
     "collapsed": false,
     "input": [
      "pycoa.listwhich()"
     ],
     "language": "python",
     "metadata": {
      "id": "kDG2y1pNXxSW"
     },
     "outputs": [],
     "prompt_number": null
    },
    {
     "cell_type": "code",
     "collapsed": false,
     "input": [
      "pycoa.listwhat()"
     ],
     "language": "python",
     "metadata": {},
     "outputs": [],
     "prompt_number": null
    },
    {
     "cell_type": "code",
     "collapsed": false,
     "input": [
      "pycoa.listoption()"
     ],
     "language": "python",
     "metadata": {},
     "outputs": [],
     "prompt_number": null
    },
    {
     "cell_type": "code",
     "collapsed": false,
     "input": [
      "pycoa.setwhom('spf')"
     ],
     "language": "python",
     "metadata": {
      "id": "ybd6vpJNosUg"
     },
     "outputs": [],
     "prompt_number": null
    },
    {
     "cell_type": "code",
     "collapsed": false,
     "input": [
      "pycoa.hist(where='ile de france',which='cur_rea')"
     ],
     "language": "python",
     "metadata": {
      "id": "ZLlDSHEp0J-v"
     },
     "outputs": [],
     "prompt_number": null
    },
    {
     "cell_type": "code",
     "collapsed": false,
     "input": [
      "pycoa.map(where='M\u00e9tropole',what='daily',which='tot_dchosp')"
     ],
     "language": "python",
     "metadata": {
      "id": "Mex3OQI-YJ-2"
     },
     "outputs": [],
     "prompt_number": null
    },
    {
     "cell_type": "code",
     "collapsed": false,
     "input": [
      "pycoa.plot(where='Provence-Alpes-C\u00f4te-d\\'Azur',what='daily',which='tot_dchosp',option='smooth7') # moyennage sur 7 jours glissants"
     ],
     "language": "python",
     "metadata": {
      "id": "NgzTaICjvvD0"
     },
     "outputs": [],
     "prompt_number": null
    },
    {
     "cell_type": "code",
     "collapsed": false,
     "input": [
      "# Utilisation de la notation \u00e0 double crochets\n",
      "pycoa.hist(where=[['\u00cele-de-France'],['Bretagne'],[\"Provence-Alpes-C\u00f4te d'Azur\"]],what='standard',which='tot_vacc_complet',option='sumall')\n",
      "pycoa.plot(where=[['\u00cele-de-France'],['Bretagne'],[\"Provence-Alpes-C\u00f4te d'Azur\"]],what='standard',which='tot_vacc_complet',option='sumall')"
     ],
     "language": "python",
     "metadata": {},
     "outputs": [],
     "prompt_number": null
    },
    {
     "cell_type": "markdown",
     "metadata": {
      "id": "7cFUUJBzcxq_"
     },
     "source": [
      "Avec notre package de gestion de la geographie, on peut faire par exemple : "
     ]
    },
    {
     "cell_type": "code",
     "collapsed": false,
     "input": [
      "pycoa.setwhom('jhu')"
     ],
     "language": "python",
     "metadata": {
      "id": "GYw6yqvAcwmI"
     },
     "outputs": [],
     "prompt_number": null
    },
    {
     "cell_type": "code",
     "collapsed": false,
     "input": [
      "pycoa.plot(where='G20',what='daily',which='tot_deaths')"
     ],
     "language": "python",
     "metadata": {},
     "outputs": [],
     "prompt_number": null
    },
    {
     "cell_type": "markdown",
     "metadata": {
      "id": "KjCgQFLbdeeZ"
     },
     "source": [
      "Il est possible d'utiliser l'option `sumall` pour l'Afrique compl\u00e8te entre le 01/05/2020 et le 27/01/2021."
     ]
    },
    {
     "cell_type": "code",
     "collapsed": false,
     "input": [
      "pycoa.plot(where='Africa',what='daily',which='tot_deaths',option=\"sumall\",when='01/05/2020:27/01/2021')"
     ],
     "language": "python",
     "metadata": {
      "id": "g44MPW3taxX9"
     },
     "outputs": [],
     "prompt_number": null
    },
    {
     "cell_type": "markdown",
     "metadata": {
      "id": "hQWpM38aeEkE"
     },
     "source": [
      "Si on se concentre sur la France et l'Espagne\u2026"
     ]
    },
    {
     "cell_type": "code",
     "collapsed": false,
     "input": [
      "pycoa.plot(where=['France','Spain'],what='daily',which='tot_deaths')"
     ],
     "language": "python",
     "metadata": {
      "id": "6pKXTyT5ZIdh"
     },
     "outputs": [],
     "prompt_number": null
    },
    {
     "cell_type": "code",
     "collapsed": false,
     "input": [
      "pycoa.plot(where=['France','Spain'],what='standard',which='tot_deaths')"
     ],
     "language": "python",
     "metadata": {
      "id": "R0fmFePxemAE"
     },
     "outputs": [],
     "prompt_number": null
    },
    {
     "cell_type": "code",
     "collapsed": false,
     "input": [
      "pycoa.plot(where=['France','Spain'],what='standard',which='tot_deaths',option='nonneg')"
     ],
     "language": "python",
     "metadata": {
      "id": "cUAtb_eHeuZA"
     },
     "outputs": [],
     "prompt_number": null
    },
    {
     "cell_type": "code",
     "collapsed": false,
     "input": [
      "# Owid database\n",
      "pycoa.setwhom('owid')"
     ],
     "language": "python",
     "metadata": {
      "id": "SoYpafDye7Ry"
     },
     "outputs": [],
     "prompt_number": null
    },
    {
     "cell_type": "code",
     "collapsed": false,
     "input": [
      "pycoa.hist(where='Europe',which='total_vaccinations',typeofhist='pie')"
     ],
     "language": "python",
     "metadata": {
      "id": "Bhy7bn1De_K2"
     },
     "outputs": [],
     "prompt_number": null
    },
    {
     "cell_type": "code",
     "collapsed": false,
     "input": [
      "pycoa.map(where='G7',what='standard',which='total_vaccinations')"
     ],
     "language": "python",
     "metadata": {
      "id": "Mm21lYqhfN-P"
     },
     "outputs": [],
     "prompt_number": null
    },
    {
     "cell_type": "code",
     "collapsed": false,
     "input": [
      "pycoa.map(where='G7',what='standard',which='total_vaccinations',tile='esri')"
     ],
     "language": "python",
     "metadata": {
      "id": "4k2YC1LYgr5d"
     },
     "outputs": [],
     "prompt_number": null
    },
    {
     "cell_type": "heading",
     "level": 2,
     "metadata": {
      "id": "53hYSJDe0J-x"
     },
     "source": [
      "\u00c0 vous de jouer maintenant !\u2026"
     ]
    },
    {
     "cell_type": "code",
     "collapsed": false,
     "input": [],
     "language": "python",
     "metadata": {},
     "outputs": [],
     "prompt_number": null
    },
    {
     "cell_type": "markdown",
     "metadata": {
      "id": "9gjbXh5q_MDF"
     },
     "source": [
      "----"
     ]
    },
    {
     "cell_type": "markdown",
     "metadata": {
      "id": "ZpxXUqRC_PLe"
     },
     "source": [
      "# Code du poster\n",
      "\n",
      "Ci-dessous le code qui permet de produire les figures du poster pour le 23e  salon des math\u00e9matiques."
     ]
    },
    {
     "cell_type": "code",
     "collapsed": false,
     "input": [
      "import coa.front as pycoa  # default database is JHU\n",
      "\n",
      "pycoa.setwhom('jhu')\n",
      "pycoa.plot(option='sumall') # default is 'deaths', for all countries\n",
      "pycoa.plot(where='g20') # managing region\n",
      "pycoa.map(where='oecd',what='daily',when='01/05/2023',which='tot_confirmed')\n",
      "\n",
      "pycoa.setwhom('owid') # changing database to OWID\n",
      "pycoa.hist(which='total_vaccinations') # default is for all countries\n",
      "pycoa.hist(which='cur_icu_patients',typeofhist='pie',where='european union')\n",
      "pycoa.hist(which='total_people_fully_vaccinated_per_hundred',typeofhist='byvalue',where='asia')\n",
      "pycoa.plot(where='usa',which='total_people_fully_vaccinated',what='weekly',typeofplot='spiral')\n",
      "\n",
      "pycoa.setwhom('insee')\n",
      "pycoa.plot(typeofplot='yearly', what='daily', when=\"01/01/2019:31/12/2022\", option=['smooth7','sumall'], title='Deces quotidiens totaux en France')"
     ],
     "language": "python",
     "metadata": {
      "id": "m1HTAuGkAPxH"
     },
     "outputs": [],
     "prompt_number": null
    },
    {
     "cell_type": "markdown",
     "metadata": {
      "id": "f7m7yqqCGXym"
     },
     "source": []
    }
   ],
   "metadata": {}
  }
 ]
}