{
 "cells": [
  {
   "cell_type": "markdown",
   "id": "574b5528",
   "metadata": {},
   "source": [
    "<img src=\"https://pyvoa.org/wp-content/uploads/2024/07/logo-pyvoa-1030x325.png\" alt=\"PYVOA\" width=\"125\">\n",
    "<center>\n",
    "\n",
    "# About the Geo module of the Pyvoa project (http://pyvoa.org) project\n",
    "v20241213 - Tristan - beau@in2p3.fr"
   ]
  },
  {
   "cell_type": "markdown",
   "id": "cc0f96aa",
   "metadata": {},
   "source": [
    "# Install of pycoa\n",
    "## Online\n",
    "### Binder (recommanded)\n",
    "In order to use the [Binder](https://mybinder.org/) infrastructure, click below :\n",
    "\n",
    "[![Binder](https://mybinder.org/badge_logo.svg)](https://mybinder.org/v2/gh/coa-project/pycoa/helpfonction?labpath=cookbook%2FGeoByExamples.ipynb)\n",
    "\n",
    "Then please wait from 1 to 10 miutes…\n",
    " ### Google Colab\n",
    "You may use the Google Colab infrastructure too.\n",
    "Then launch :\n",
    "\n",
    "`pip3 install git+https://github.com/coa-project/pycoa.git`\n",
    "\n",
    "## Locally\n",
    "To install [Pycoa](http://pycoa.fr) sur son propre ordinateur, il faut suivre la procédure décrite sur le [wiki de Pycoa](https://github.com/coa-project/pycoa/wiki/Installation). "
   ]
  },
  {
   "cell_type": "markdown",
   "id": "26ffe595",
   "metadata": {},
   "source": [
    "# Init of pycoa/geo"
   ]
  },
  {
   "cell_type": "code",
   "execution_count": null,
   "id": "abd41e54-a890-4237-b67f-2f6779c83138",
   "metadata": {},
   "outputs": [],
   "source": [
    "import sys\n",
    "sys.path.append('../')\n",
    "import src.geo as g\n",
    "import src.tools as t\n",
    "t.set_verbose_mode(2)"
   ]
  },
  {
   "cell_type": "markdown",
   "id": "e8fd9a29-5edd-4abe-b315-b65011185f72",
   "metadata": {},
   "source": [
    "# GeoCountry by examples"
   ]
  },
  {
   "cell_type": "code",
   "execution_count": null,
   "id": "7cd7caf8-27bf-4e1a-9251-3b660c917842",
   "metadata": {},
   "outputs": [],
   "source": [
    "from src.geo import GeoCountry as gc # importing"
   ]
  },
  {
   "cell_type": "code",
   "execution_count": null,
   "id": "a9b1a736-0a9c-456d-bf35-bb34caa05097",
   "metadata": {},
   "outputs": [],
   "source": [
    "gc().get_list_countries() # get supported list of countries"
   ]
  },
  {
   "cell_type": "code",
   "execution_count": null,
   "id": "b1eb387c-b1fb-4c49-a448-4ecf93496bd2",
   "metadata": {},
   "outputs": [],
   "source": [
    "fra=gc('FRA') # Create the instance of GeoCountry for France"
   ]
  },
  {
   "cell_type": "code",
   "execution_count": null,
   "id": "82016c2c-d09a-4529-a1b9-588b73b3753c",
   "metadata": {},
   "outputs": [],
   "source": [
    "fra.get_country() # to get the current country"
   ]
  },
  {
   "cell_type": "code",
   "execution_count": null,
   "id": "3c141a16-ae75-4f0c-acfa-f3fb4a647b5f",
   "metadata": {},
   "outputs": [],
   "source": [
    "fra.get_source() # for all available fields"
   ]
  },
  {
   "cell_type": "code",
   "execution_count": null,
   "id": "d50cb9a6-2ee7-434b-bf44-4681ec40a8dc",
   "metadata": {},
   "outputs": [],
   "source": [
    "fra.get_list_properties() # list of available properties"
   ]
  },
  {
   "cell_type": "code",
   "execution_count": null,
   "id": "92926a3f-dd3c-487f-89a8-423e8090136f",
   "metadata": {},
   "outputs": [],
   "source": [
    "fra.get_region_list() # give region list and some properties as a panda dataframe"
   ]
  },
  {
   "cell_type": "code",
   "execution_count": null,
   "id": "0f61bcbc-d449-4ced-b80d-f1b59295b723",
   "metadata": {},
   "outputs": [],
   "source": [
    "fra.get_subregion_list() # give subregion list and some properties as a panda dataframe"
   ]
  },
  {
   "cell_type": "code",
   "execution_count": null,
   "id": "683e6eb3-29a4-4a76-92ba-244957987505",
   "metadata": {},
   "outputs": [],
   "source": [
    "fra.get_subregions_from_region(name='Bretagne') # list of subregion codes for a given region name"
   ]
  },
  {
   "cell_type": "code",
   "execution_count": null,
   "id": "22849622-0e29-4c9c-bf31-30a19ca46117",
   "metadata": {},
   "outputs": [],
   "source": [
    "fra.get_subregions_from_region(code='11') # list of subregion codes for a given region code"
   ]
  },
  {
   "cell_type": "code",
   "execution_count": null,
   "id": "a4826e7d-657e-41c4-8513-97753134f15e",
   "metadata": {},
   "outputs": [],
   "source": [
    "fra.get_subregions_from_list_of_region_names(['Normandie','Hauts-de-France']) # list of subregion codes for a given list of region names"
   ]
  },
  {
   "cell_type": "code",
   "execution_count": null,
   "id": "bd993fda-8e26-4203-a58c-735b1b93209b",
   "metadata": {},
   "outputs": [],
   "source": [
    "fra.get_data() # get all data informations in geopanda"
   ]
  },
  {
   "cell_type": "code",
   "execution_count": null,
   "id": "6ad8e21b-0636-4160-bf01-b7b75a92296b",
   "metadata": {},
   "outputs": [],
   "source": [
    "fra.get_data().plot()"
   ]
  },
  {
   "cell_type": "markdown",
   "id": "1fbc6b63-ea8d-4dac-8596-290804bec539",
   "metadata": {},
   "source": [
    "# GeoInfo by examples"
   ]
  },
  {
   "cell_type": "code",
   "execution_count": null,
   "id": "37b1eaf5-018d-4833-b249-9ffabcc6005b",
   "metadata": {},
   "outputs": [],
   "source": [
    "from src.geo import GeoInfo as gi"
   ]
  },
  {
   "cell_type": "code",
   "execution_count": null,
   "id": "9f5729e9-42f9-4d75-8d96-274a33663067",
   "metadata": {},
   "outputs": [],
   "source": [
    "g=gi() # Create the instance of GeoManager \n",
    "g.get_list_field() # Currently known fields from countries"
   ]
  },
  {
   "cell_type": "code",
   "execution_count": null,
   "id": "924f86c8-ed8b-4041-8071-79ad9dc816e3",
   "metadata": {},
   "outputs": [],
   "source": [
    "g.get_source() # for all available fields"
   ]
  },
  {
   "cell_type": "code",
   "execution_count": null,
   "id": "57d8e4a2-01a2-4f50-b3c7-71ef2e6f955b",
   "metadata": {},
   "outputs": [],
   "source": [
    "g.get_source('geometry') # for a specific field"
   ]
  },
  {
   "cell_type": "markdown",
   "id": "52638188-ca54-4a75-ae02-406469d73630",
   "metadata": {},
   "source": [
    "## Adding info to a Pandas DataFrame"
   ]
  },
  {
   "cell_type": "code",
   "execution_count": null,
   "id": "45ab99a6-9df2-4af5-9690-26ac86ba1f45",
   "metadata": {},
   "outputs": [],
   "source": [
    "import pandas as pd\n",
    "country=['France','Italy','Germany','Tunisia','Egypt']\n",
    "value=[1,2,3,4,5]\n",
    "pf=pd.DataFrame({'where':country,'value':value})\n",
    "display(pf)"
   ]
  },
  {
   "cell_type": "code",
   "execution_count": null,
   "id": "365210f4-b6ea-4730-b648-2c0c7938e5de",
   "metadata": {},
   "outputs": [],
   "source": [
    "g.add_field(input=pf,field='population') # adding one field"
   ]
  },
  {
   "cell_type": "code",
   "execution_count": null,
   "id": "4019a0f1-6425-46bc-a576-2617e23dc830",
   "metadata": {},
   "outputs": [],
   "source": [
    "g.add_field(input=pf,field=['capital','region_name_list','population','region_code_list']) # adding list of fields"
   ]
  },
  {
   "cell_type": "code",
   "execution_count": null,
   "id": "972d5c6e-d8ff-46b2-ac4f-1b348038d06b",
   "metadata": {},
   "outputs": [],
   "source": [
    "pf2=pf.copy() \n",
    "pf2['capital']=['a','b','c','d','e']\n",
    "display(pf2)\n",
    "g.add_field(input=pf2,field='capital',overload=True) # overload an existing field"
   ]
  },
  {
   "cell_type": "code",
   "execution_count": null,
   "id": "ac53a335-10b8-493e-84a4-5fa66387358b",
   "metadata": {},
   "outputs": [],
   "source": [
    "pf2=pf2.rename(columns={'where':'here'})\n",
    "display(pf2)\n",
    "g.add_field(input=pf2,field='area',geofield='here')"
   ]
  },
  {
   "cell_type": "markdown",
   "id": "9d072219-3fae-431a-ad08-2577dc9d9a37",
   "metadata": {},
   "source": [
    "# GeoManager by examples"
   ]
  },
  {
   "cell_type": "code",
   "execution_count": null,
   "id": "23c857c8-aa6a-42b3-8abc-d3669ab03703",
   "metadata": {},
   "outputs": [],
   "source": [
    "from src.geo import GeoManager as gm"
   ]
  },
  {
   "cell_type": "code",
   "execution_count": null,
   "id": "0088163f-b8d8-4776-abaa-738aea977a67",
   "metadata": {},
   "outputs": [],
   "source": [
    "g=gm() # Create the instance of GeoManager \n",
    "g.get_list_db() # list of databases for which there is a translation support. First one is default."
   ]
  },
  {
   "cell_type": "code",
   "execution_count": null,
   "id": "6fa1a0f3-6bd3-4430-b528-b51c53908857",
   "metadata": {},
   "outputs": [],
   "source": [
    "g.get_list_output() "
   ]
  },
  {
   "cell_type": "code",
   "execution_count": null,
   "id": "f0caa3d3-a657-4c65-83ab-13038b5fe421",
   "metadata": {},
   "outputs": [],
   "source": [
    "g.get_list_standard() # get the list of supported standards. First one is default"
   ]
  },
  {
   "cell_type": "code",
   "execution_count": null,
   "id": "65ae55d7-e2da-4f91-9eec-c825c04a6705",
   "metadata": {},
   "outputs": [],
   "source": [
    "g.get_standard() # get the current output standard"
   ]
  },
  {
   "cell_type": "markdown",
   "id": "161d87dd-6649-4b8c-8937-8724bbb9d24b",
   "metadata": {},
   "source": [
    "## Changing the default output standard"
   ]
  },
  {
   "cell_type": "code",
   "execution_count": null,
   "id": "bdfdc32f-2cb6-46a1-afc8-1a93727ad81b",
   "metadata": {},
   "outputs": [],
   "source": [
    "g.set_standard('name')"
   ]
  },
  {
   "cell_type": "code",
   "execution_count": null,
   "id": "d03ba02a-3e5c-49f0-8612-f17d1000fa42",
   "metadata": {},
   "outputs": [],
   "source": [
    "g2=gm('iso3')\n",
    "g2.get_standard()"
   ]
  },
  {
   "cell_type": "markdown",
   "id": "3c5da02b-36e6-46da-bbf0-33ec132037a1",
   "metadata": {},
   "source": [
    "## Converting countries to standardized names"
   ]
  },
  {
   "cell_type": "code",
   "execution_count": null,
   "id": "f278175a-03bd-4a90-93d5-965ab456a8f0",
   "metadata": {},
   "outputs": [],
   "source": [
    "g.to_standard('england') # single country"
   ]
  },
  {
   "cell_type": "code",
   "execution_count": null,
   "id": "a0339dde-3cbe-4703-8b51-24408115a462",
   "metadata": {},
   "outputs": [],
   "source": [
    "g.to_standard(['esp','it','Berlin']) # list of countries"
   ]
  },
  {
   "cell_type": "code",
   "execution_count": null,
   "id": "bc8d9d0e-20af-4d3c-9d93-afb2209fd910",
   "metadata": {},
   "outputs": [],
   "source": [
    "# Region interpretation and error catching mecanism \n",
    "from src.error import * \n",
    "try:\n",
    "    z=g.to_standard('European Union') # the name does not exist as a country\n",
    "except CoaError:\n",
    "    print('The input name is unknown, try to interpret as a region')\n",
    "    z=g.to_standard('European Union',interpret_region=True) # but exists as a region\n",
    "print(z)"
   ]
  },
  {
   "cell_type": "code",
   "execution_count": null,
   "id": "e0b033c7-4084-48f5-b2c4-09b9074d8338",
   "metadata": {},
   "outputs": [],
   "source": [
    "g.to_standard(['usa','South America','russia'],interpret_region=True) # mix between region and countries"
   ]
  },
  {
   "cell_type": "code",
   "execution_count": null,
   "id": "194abccf-f074-415d-b68c-a3aef405d174",
   "metadata": {},
   "outputs": [],
   "source": [
    "g.to_standard('french') # difficult interpretation, getting first item, a warning appears"
   ]
  },
  {
   "cell_type": "markdown",
   "id": "ab8c6a46-4be4-49cd-b6fb-6419bf51302d",
   "metadata": {},
   "source": [
    "## Conversion for specific databases"
   ]
  },
  {
   "cell_type": "code",
   "execution_count": null,
   "id": "e95b6929-1f2b-42e3-bd68-ec80ac7fc9a0",
   "metadata": {},
   "outputs": [],
   "source": [
    "try:\n",
    "    z=g.to_standard('Congo (Kinshasa)')\n",
    "except CoaError:\n",
    "    print('Try to interpret within the JHU database country name usage')\n",
    "    z=g.to_standard('Congo (Kinshasa)',db='jhu')\n",
    "z"
   ]
  },
  {
   "cell_type": "markdown",
   "id": "c4db40fe-e198-4258-bce6-4b6aa987413c",
   "metadata": {},
   "source": [
    "## Other outputs"
   ]
  },
  {
   "cell_type": "code",
   "execution_count": null,
   "id": "7aeb51e9-daf8-407e-8a0c-087f20d9e9b9",
   "metadata": {},
   "outputs": [],
   "source": [
    "g.to_standard(['fr','spain','england'],output='dict')"
   ]
  },
  {
   "cell_type": "code",
   "execution_count": null,
   "id": "cbda0398-873c-4a43-9b68-203d027b0c8e",
   "metadata": {},
   "outputs": [],
   "source": [
    "g.to_standard(['fr','spain','england'],output='pandas')"
   ]
  },
  {
   "cell_type": "markdown",
   "id": "174a6e94-f10f-4486-b12c-3ce3d582e83a",
   "metadata": {},
   "source": [
    "# GeoRegion by examples"
   ]
  },
  {
   "cell_type": "code",
   "execution_count": null,
   "id": "a88b25e4-926a-4eb6-bfc9-bf00db34d71a",
   "metadata": {},
   "outputs": [],
   "source": [
    "from src.geo import GeoRegion as gr\n",
    "g=gr() # Create the instance of GeoManager "
   ]
  },
  {
   "cell_type": "code",
   "execution_count": null,
   "id": "e61bcad0-bfcf-4e0e-80b7-10cbcecf7bb3",
   "metadata": {},
   "outputs": [],
   "source": [
    "g.get_region_list() # The list of known regions"
   ]
  },
  {
   "cell_type": "code",
   "execution_count": null,
   "id": "44576977-8f2b-40e9-9b14-dcddec61073a",
   "metadata": {},
   "outputs": [],
   "source": [
    "g.get_source()"
   ]
  },
  {
   "cell_type": "code",
   "execution_count": null,
   "id": "edad03ee-6aa0-4ee2-adc5-a1f07103359d",
   "metadata": {},
   "outputs": [],
   "source": [
    "g.get_countries_from_region('South America') # Getting countries from a given region"
   ]
  },
  {
   "cell_type": "code",
   "execution_count": null,
   "id": "db068420-f034-49ea-8155-d2ba8b065943",
   "metadata": {},
   "outputs": [],
   "source": [
    "g.get_pandas() # Getting the whole pandas from the used database"
   ]
  },
  {
   "cell_type": "code",
   "execution_count": null,
   "id": "d1e8fed9-c62e-496c-bbb5-8ade84d9f3e4",
   "metadata": {},
   "outputs": [],
   "source": []
  }
 ],
 "metadata": {
  "kernelspec": {
   "display_name": "Python 3 (ipykernel)",
   "language": "python",
   "name": "python3"
  },
  "language_info": {
   "codemirror_mode": {
    "name": "ipython",
    "version": 3
   },
   "file_extension": ".py",
   "mimetype": "text/x-python",
   "name": "python",
   "nbconvert_exporter": "python",
   "pygments_lexer": "ipython3",
   "version": "3.12.3"
  }
 },
 "nbformat": 4,
 "nbformat_minor": 5
}
