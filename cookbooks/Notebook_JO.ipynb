{
 "cells": [
  {
   "cell_type": "markdown",
   "id": "ce42de16",
   "metadata": {},
   "source": [
    "<center>\n",
    "<img src=\"https://gazettesports.fr/wp-content/uploads/2020/07/jeux-olympiques.png\" alt=\"JO\" width=\"50%\">\n",
    "<center>\n"
   ]
  },
  {
   "cell_type": "markdown",
   "id": "48c5539f",
   "metadata": {},
   "source": [
    "<center>\n",
    "    <h1 style=\"font-size:48px;\"=>NoteBook for Olympics</h1>\n",
    "<center>\n",
    "<hr>"
   ]
  },
  {
   "cell_type": "markdown",
   "id": "e73a8eda",
   "metadata": {},
   "source": [
    "À l'approche des Jeux Olympiques de Paris 2024, nous sommes ravis de vous présenter notre notebook interactif sur Pycoa ! Découvrez et explorez les performances des différents pays aux JO à travers des visualisations de données captivantes. Avec Pycoa, vous pouvez analyser le nombre de médailles d'or, d'argent et de bronze remportées par chaque nation, et visualiser ces données sous forme de graphiques et d'histogrammes. Plongez dans les statistiques olympiques et préparez-vous à en apprendre davantage sur les Jeux Olympiques avec notre outil puissant et facile à utiliser."
   ]
  },
  {
   "cell_type": "markdown",
   "id": "1de2cd5b",
   "metadata": {},
   "source": [
    "Avant de commencer avec ce notebook sur les Jeux Olympiques, nous vous recommandons de consulter notre notebook principal pour avoir une meilleure compréhension du fonctionnement de Pycoa. Vous pouvez y accéder en cliquant sur ce logo : <br><br>\n",
    "[![Binder](https://mybinder.org/badge_logo.svg)](https://mybinder.org/v2/gh/coa-project/pycoa/helpfonction?labpath=coabook%2FMainNotebook.ipynb)\n",
    "<br>"
   ]
  },
  {
   "cell_type": "markdown",
   "id": "0796e539",
   "metadata": {},
   "source": [
    "On commence par importer Pycoa ainsi que la base de données `olympics`:"
   ]
  },
  {
   "cell_type": "code",
   "execution_count": null,
   "id": "2c53bb70",
   "metadata": {
    "scrolled": true
   },
   "outputs": [],
   "source": [
    "from coaenv import *\n",
    "pycoa.setwhom('olympics', reload=True)"
   ]
  },
  {
   "cell_type": "markdown",
   "id": "354f9133",
   "metadata": {},
   "source": [
    "Pour accéder à la liste des attributs disponibles, utilisez `pycoa.listwhich()`, et pour obtenir la liste des localisations, utilisez `pycoa.listwhere()`."
   ]
  },
  {
   "cell_type": "code",
   "execution_count": null,
   "id": "82cbd7ee",
   "metadata": {},
   "outputs": [],
   "source": [
    "pycoa.listwhich()"
   ]
  },
  {
   "cell_type": "code",
   "execution_count": null,
   "id": "a4f659d7",
   "metadata": {},
   "outputs": [],
   "source": [
    "pycoa.listwhere()"
   ]
  },
  {
   "cell_type": "markdown",
   "id": "b6de14fd",
   "metadata": {},
   "source": [
    "## &nbsp; 1. Plot"
   ]
  },
  {
   "cell_type": "code",
   "execution_count": null,
   "id": "65ad6f2e",
   "metadata": {
    "scrolled": false
   },
   "outputs": [],
   "source": [
    "pycoa.plot()"
   ]
  },
  {
   "cell_type": "markdown",
   "id": "1a17e4c8",
   "metadata": {},
   "source": [
    "Cette requête va représenter graphiquement le nombre total de médailles d'Or remportées par chaque pays aux Jeux Olympiques. Pratique pour comparer les performances des pays au fil des différentes éditions des JO. Vous verrez comment chaque pays a évolué au cours du temps."
   ]
  },
  {
   "cell_type": "markdown",
   "id": "e2e0a23e",
   "metadata": {},
   "source": [
    "## Comparaison des performances \n"
   ]
  },
  {
   "cell_type": "markdown",
   "id": "4de58e7e",
   "metadata": {},
   "source": [
    "Avec Pycoa, vous pouvez facilement comparer les performances de différents pays aux Jeux Olympiques. Par exemple, vous pouvez comparer le nombre de médailles remportées par la France et l'Angleterre. Cette fonctionnalité vous permet d'analyser les résultats olympiques de manière détaillée et de visualiser les données de manière interactive."
   ]
  },
  {
   "cell_type": "code",
   "execution_count": null,
   "id": "5ef390e9",
   "metadata": {
    "scrolled": false
   },
   "outputs": [],
   "source": [
    "pycoa.plot(which= 'tot_Gold', where=['France','United Kingdom'])"
   ]
  },
  {
   "cell_type": "markdown",
   "id": "0d97618e",
   "metadata": {},
   "source": [
    "Sur ce graphique on compare le total de médailles d'or remportées par chacune des équipes."
   ]
  },
  {
   "cell_type": "code",
   "execution_count": null,
   "id": "8ab533a8",
   "metadata": {
    "scrolled": false
   },
   "outputs": [],
   "source": [
    "pycoa.plot(which= 'tot_Gold', where=['France','United Kingdom'], what='daily')"
   ]
  },
  {
   "cell_type": "markdown",
   "id": "24c65219",
   "metadata": {},
   "source": [
    "Sur ce graphique on compare la performance des deux équipes à chaque édition des JO."
   ]
  },
  {
   "cell_type": "markdown",
   "id": "9d5c2677",
   "metadata": {},
   "source": [
    "## &nbsp;2. Histogramme"
   ]
  },
  {
   "cell_type": "code",
   "execution_count": null,
   "id": "5f655bda",
   "metadata": {
    "scrolled": false
   },
   "outputs": [],
   "source": [
    "pycoa.hist(which='tot_Silver')"
   ]
  },
  {
   "cell_type": "markdown",
   "id": "7bdfa165",
   "metadata": {},
   "source": [
    "Cette requête va afficher un histogramme des 24 pays à avoir remporté le plus de médaille d'argent. On peut voir quel pays accumule le plus de médaille d'argent au cours de l'histoire."
   ]
  },
  {
   "cell_type": "code",
   "execution_count": null,
   "id": "5731d6a4",
   "metadata": {
    "scrolled": false
   },
   "outputs": [],
   "source": [
    "pycoa.hist(which='tot_Silver', typeofhist='pie')"
   ]
  },
  {
   "cell_type": "markdown",
   "id": "caf5b664",
   "metadata": {},
   "source": [
    "Cette requête va afficher un diagramme circulaire (camembert) représentant la répartition des médailles d'argent remportées par chaque pays."
   ]
  },
  {
   "cell_type": "markdown",
   "id": "27c69c0e",
   "metadata": {},
   "source": [
    "## &nbsp; 3. Map"
   ]
  },
  {
   "cell_type": "code",
   "execution_count": null,
   "id": "42d2d985",
   "metadata": {},
   "outputs": [],
   "source": [
    "pycoa.map(where='World')"
   ]
  },
  {
   "cell_type": "code",
   "execution_count": null,
   "id": "6c675967",
   "metadata": {},
   "outputs": [],
   "source": [
    "pycoa.map(where='Europe')"
   ]
  },
  {
   "cell_type": "markdown",
   "id": "aea94aa8",
   "metadata": {},
   "source": [
    "Cette requête va générer une carte interactive montrant les médailles d'or remportées par chaque pays en Europe. Vous pouvez explorer les données de chaque pays pour voir leur performance aux JO."
   ]
  },
  {
   "cell_type": "markdown",
   "id": "80f7956d",
   "metadata": {},
   "source": [
    "**N'hésitez pas à changer de visualisation**"
   ]
  },
  {
   "cell_type": "code",
   "execution_count": null,
   "id": "733aade7",
   "metadata": {},
   "outputs": [],
   "source": [
    "pycoa.setvisu(vis='mplt')"
   ]
  },
  {
   "cell_type": "code",
   "execution_count": null,
   "id": "326dcfb7",
   "metadata": {},
   "outputs": [],
   "source": [
    "pycoa.plot(where='Europe')"
   ]
  },
  {
   "cell_type": "code",
   "execution_count": null,
   "id": "d2c25c79",
   "metadata": {},
   "outputs": [],
   "source": [
    "pycoa.hist(where='Europe')"
   ]
  },
  {
   "cell_type": "code",
   "execution_count": null,
   "id": "af4d20d3",
   "metadata": {},
   "outputs": [],
   "source": [
    "pycoa.setvisu(vis='seaborn')"
   ]
  },
  {
   "cell_type": "code",
   "execution_count": null,
   "id": "64517b2f",
   "metadata": {},
   "outputs": [],
   "source": [
    "pycoa.hist(typeofhist='byvalue')"
   ]
  },
  {
   "cell_type": "markdown",
   "id": "faa40536",
   "metadata": {},
   "source": [
    "# À vous de jouer ! "
   ]
  },
  {
   "cell_type": "markdown",
   "id": "155a7336",
   "metadata": {},
   "source": [
    "Vous pourriez par exemple faire une requête pour voir l'évolution temporelles des médailles de `Bronze` en `France` avec `pycoa.plot()` :\n"
   ]
  },
  {
   "cell_type": "code",
   "execution_count": null,
   "id": "bc4b7ae2",
   "metadata": {},
   "outputs": [],
   "source": []
  }
 ],
 "metadata": {
  "kernelspec": {
   "display_name": "Python 3 (ipykernel)",
   "language": "python",
   "name": "python3"
  },
  "language_info": {
   "codemirror_mode": {
    "name": "ipython",
    "version": 3
   },
   "file_extension": ".py",
   "mimetype": "text/x-python",
   "name": "python",
   "nbconvert_exporter": "python",
   "pygments_lexer": "ipython3",
   "version": "3.9.7"
  }
 },
 "nbformat": 4,
 "nbformat_minor": 5
}
