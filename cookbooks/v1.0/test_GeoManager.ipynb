{
  "nbformat": 4,
  "nbformat_minor": 0,
  "metadata": {
    "kernelspec": {
      "display_name": "Python 3",
      "language": "python",
      "name": "python3"
    },
    "language_info": {
      "codemirror_mode": {
        "name": "ipython",
        "version": 3
      },
      "file_extension": ".py",
      "mimetype": "text/x-python",
      "name": "python",
      "nbconvert_exporter": "python",
      "pygments_lexer": "ipython3",
      "version": "3.8.5"
    },
    "colab": {
      "name": "test_GeoManager.ipynb",
      "provenance": [],
      "collapsed_sections": [],
      "include_colab_link": true
    }
  },
  "cells": [
    {
      "cell_type": "markdown",
      "metadata": {
        "id": "view-in-github",
        "colab_type": "text"
      },
      "source": [
        "<a href=\"https://colab.research.google.com/github/coa-project/coabook/blob/master/test_GeoManager.ipynb\" target=\"_parent\"><img src=\"https://colab.research.google.com/assets/colab-badge.svg\" alt=\"Open In Colab\"/></a>"
      ]
    },
    {
      "cell_type": "markdown",
      "metadata": {
        "id": "vbduyVliLxII"
      },
      "source": [
        "<a href=\"https://nbviewer.jupyter.org/github/coa-project/coabook/blob/master/test_GeoManager.ipynb\" target=\"_parent\" ><img src=\"https://raw.githubusercontent.com/jupyter/design/master/logos/Badges/nbviewer_badge.svg\" height=\"25\"  alt=\"View in Jupyter nbviewwer\" align=\"middle\" /></a>"
      ]
    },
    {
      "cell_type": "markdown",
      "metadata": {
        "id": "9YWQ49HqBKpL"
      },
      "source": [
        "![logo-bitmap-small.png](data:image/png;base64,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)\n",
        "\n",
        "# Testing pycoa.geo.GeoManager\n",
        "[ⓒpycoa.fr](https://pycoa.fr)\n",
        "\n",
        "This notebook is designed for the v1.0 version of pycoa."
      ]
    },
    {
      "cell_type": "markdown",
      "metadata": {
        "id": "uWl0-Uuu_2RL"
      },
      "source": [
        "Within the coa.geo, the GeoManager provides method to manage the name translation and standardization, needed to join various databases."
      ]
    },
    {
      "cell_type": "markdown",
      "metadata": {
        "id": "j_iJOSWR_yKL"
      },
      "source": [
        "## Making  PyCoA available"
      ]
    },
    {
      "cell_type": "code",
      "metadata": {
        "id": "nB9MdWTLNcLi",
        "colab": {
          "base_uri": "https://localhost:8080/"
        },
        "outputId": "4bf68c4f-8a6e-4f2c-9fc0-3209a420b4a8"
      },
      "source": [
        "!pip install --quiet git+https://github.com/coa-project/pycoa.git@v1.0\n",
        "# !pip install --quiet --user git+https://github.com/coa-project/pycoa.git   # One may need to add the --user option at the \"pip install\" command, if it fails due to privilege lack. Under google colab, you must not add this option."
      ],
      "execution_count": null,
      "outputs": [
        {
          "output_type": "stream",
          "text": [
            "\u001b[K     |████████████████████████████████| 61kB 4.2MB/s \n",
            "\u001b[K     |████████████████████████████████| 972kB 11.8MB/s \n",
            "\u001b[K     |████████████████████████████████| 10.1MB 17.7MB/s \n",
            "\u001b[K     |████████████████████████████████| 6.5MB 37.6MB/s \n",
            "\u001b[K     |████████████████████████████████| 245kB 41.4MB/s \n",
            "\u001b[K     |████████████████████████████████| 14.8MB 195kB/s \n",
            "\u001b[K     |████████████████████████████████| 235kB 47.3MB/s \n",
            "\u001b[?25h  Building wheel for PyCoA (setup.py) ... \u001b[?25l\u001b[?25hdone\n",
            "  Building wheel for pycountry (setup.py) ... \u001b[?25l\u001b[?25hdone\n",
            "\u001b[31mERROR: datascience 0.10.6 has requirement coverage==3.7.1, but you'll have coverage 5.3 which is incompatible.\u001b[0m\n",
            "\u001b[31mERROR: datascience 0.10.6 has requirement folium==0.2.1, but you'll have folium 0.8.3 which is incompatible.\u001b[0m\n",
            "\u001b[31mERROR: coveralls 0.5 has requirement coverage<3.999,>=3.6, but you'll have coverage 5.3 which is incompatible.\u001b[0m\n",
            "\u001b[31mERROR: pytest-cov 2.10.1 has requirement pytest>=4.6, but you'll have pytest 3.6.4 which is incompatible.\u001b[0m\n",
            "\u001b[31mERROR: pytest-mock 3.3.1 has requirement pytest>=5.0, but you'll have pytest 3.6.4 which is incompatible.\u001b[0m\n"
          ],
          "name": "stdout"
        }
      ]
    },
    {
      "cell_type": "markdown",
      "metadata": {
        "id": "xoJ-nMtMODj5"
      },
      "source": [
        "If `pycoa` is already installed on your system but is not in your path, you should specfiy it with the next lines (with the correct path); then please uncomment the second line."
      ]
    },
    {
      "cell_type": "code",
      "metadata": {
        "id": "zJrQDA6pOKKF"
      },
      "source": [
        "# import sys    # adapt the path for local install, if necessary. Under google colab, do not change anything\n",
        "# sys.path.insert(1, '../pycoa')   "
      ],
      "execution_count": null,
      "outputs": []
    },
    {
      "cell_type": "code",
      "metadata": {
        "id": "uJQ_aBjYONuI"
      },
      "source": [
        "# testing the correct install of pycoa\n",
        "import importlib\n",
        "coa_module_info = importlib.util.find_spec(\"coa\")\n",
        "if coa_module_info == None:\n",
        "  raise ModuleNotFoundError(\"The coa module is not found. Please check your install\")\n",
        "\n",
        "import coa\n",
        "if coa.__version__ != 'v1.0':\n",
        "  raise ImportError(\"The pycoa package version is incorrect. Expecting v1.0\")"
      ],
      "execution_count": null,
      "outputs": []
    },
    {
      "cell_type": "code",
      "metadata": {
        "id": "M3IBYkK2_2RM"
      },
      "source": [
        "from coa.geo import GeoManager as gm"
      ],
      "execution_count": null,
      "outputs": []
    },
    {
      "cell_type": "markdown",
      "metadata": {
        "id": "9ACQUMIL_2RM"
      },
      "source": [
        "## Getting some help"
      ]
    },
    {
      "cell_type": "code",
      "metadata": {
        "id": "q9wqz9b6_2RM",
        "outputId": "c5040fc2-b3e7-4665-9a61-b859732255e7"
      },
      "source": [
        "help(gm)"
      ],
      "execution_count": null,
      "outputs": [
        {
          "output_type": "stream",
          "text": [
            "Help on class GeoManager in module coa.geo:\n",
            "\n",
            "class GeoManager(builtins.object)\n",
            " |  GeoManager(standard='iso2')\n",
            " |  \n",
            " |  GeoManager class definition. No inheritance from any other class.\n",
            " |  \n",
            " |  It should raise only CoaError and derived exceptions in case\n",
            " |  of errors (see pycoa.error)\n",
            " |  \n",
            " |  Methods defined here:\n",
            " |  \n",
            " |  __init__(self, standard='iso2')\n",
            " |      __init__ member function, with default definition of\n",
            " |      the used standard. To get the current default standard,\n",
            " |      see get_list_standard()[0].\n",
            " |  \n",
            " |  first_db_translation(self, w, db)\n",
            " |      This function helps to translate from country name to\n",
            " |      standard for specific databases. It's the first step\n",
            " |      before final translation.\n",
            " |      \n",
            " |      One can easily add some database support adding some new rules\n",
            " |      for specific databases\n",
            " |  \n",
            " |  get_list_db(self)\n",
            " |      return supported list of database name for translation of\n",
            " |      country names to standard.\n",
            " |  \n",
            " |  get_list_output(self)\n",
            " |      return supported list of output type. First one is default\n",
            " |      for the class\n",
            " |  \n",
            " |  get_list_standard(self)\n",
            " |      return the list of supported standard name of countries.\n",
            " |      First one is default for the class\n",
            " |  \n",
            " |  get_standard(self)\n",
            " |      return current standard use within the GeoManager class\n",
            " |  \n",
            " |  set_standard(self, standard)\n",
            " |      set the working standard type within the GeoManager class.\n",
            " |      The standard should meet the get_list_standard() requirement\n",
            " |  \n",
            " |  to_standard(self, w, **kwargs)\n",
            " |      Given a list of string of locations (countries), returns a\n",
            " |      normalised list according to the used standard (defined\n",
            " |      via the setStandard() or __init__ function. Current default is iso2.\n",
            " |      \n",
            " |      Arguments\n",
            " |      -----------------\n",
            " |      first arg        --  w, list of string of locations (or single string)\n",
            " |                           to convert to standard one\n",
            " |      \n",
            " |      output           -- 'list' (default), 'dict' or 'pandas'\n",
            " |      db               -- database name to help conversion.\n",
            " |                          Default : None, meaning best effort to convert.\n",
            " |                          Known database : jhu, wordometer\n",
            " |      interpret_region -- Boolean, default=False. If yes, the output should\n",
            " |                          be only 'list'.\n",
            " |  \n",
            " |  ----------------------------------------------------------------------\n",
            " |  Data descriptors defined here:\n",
            " |  \n",
            " |  __dict__\n",
            " |      dictionary for instance variables (if defined)\n",
            " |  \n",
            " |  __weakref__\n",
            " |      list of weak references to the object (if defined)\n",
            "\n"
          ],
          "name": "stdout"
        }
      ]
    },
    {
      "cell_type": "markdown",
      "metadata": {
        "id": "Kql208sv_2RM"
      },
      "source": [
        "## Usage"
      ]
    },
    {
      "cell_type": "code",
      "metadata": {
        "id": "6lw78VyX_2RM"
      },
      "source": [
        "g=gm() # Create the instance of GeoManager "
      ],
      "execution_count": null,
      "outputs": []
    },
    {
      "cell_type": "markdown",
      "metadata": {
        "id": "MzUHWmQv_2RM"
      },
      "source": [
        "### Suppported options"
      ]
    },
    {
      "cell_type": "code",
      "metadata": {
        "id": "Qeg3McYp_2RM",
        "outputId": "1b8af367-0a15-4d84-fefe-f0e3dbc81f70"
      },
      "source": [
        "g.get_list_db() # list of databases for which there is a translation support. First one is default."
      ],
      "execution_count": null,
      "outputs": [
        {
          "output_type": "execute_result",
          "data": {
            "text/plain": [
              "[None, 'jhu', 'worldometers', 'owid']"
            ]
          },
          "metadata": {
            "tags": []
          },
          "execution_count": 6
        }
      ]
    },
    {
      "cell_type": "code",
      "metadata": {
        "id": "HNvebDiK_2RM",
        "outputId": "ab459958-9f7a-448d-ead7-1e73b9caeb6f"
      },
      "source": [
        "g.get_list_output() "
      ],
      "execution_count": null,
      "outputs": [
        {
          "output_type": "execute_result",
          "data": {
            "text/plain": [
              "['list', 'dict', 'pandas']"
            ]
          },
          "metadata": {
            "tags": []
          },
          "execution_count": 7
        }
      ]
    },
    {
      "cell_type": "code",
      "metadata": {
        "id": "KMbWH3gm_2RM",
        "outputId": "52f4e3c4-ab90-448d-d2a8-738261d0c266"
      },
      "source": [
        "g.get_list_standard() # get the list of supported standards. First one is default"
      ],
      "execution_count": null,
      "outputs": [
        {
          "output_type": "execute_result",
          "data": {
            "text/plain": [
              "['iso2', 'iso3', 'name', 'num']"
            ]
          },
          "metadata": {
            "tags": []
          },
          "execution_count": 8
        }
      ]
    },
    {
      "cell_type": "code",
      "metadata": {
        "id": "j8-rcfid_2RM",
        "outputId": "c7a60d86-b347-412d-909e-811208a31eb4"
      },
      "source": [
        "g.get_standard() # get the current output standard"
      ],
      "execution_count": null,
      "outputs": [
        {
          "output_type": "execute_result",
          "data": {
            "text/plain": [
              "'iso2'"
            ]
          },
          "metadata": {
            "tags": []
          },
          "execution_count": 9
        }
      ]
    },
    {
      "cell_type": "markdown",
      "metadata": {
        "id": "JNXx_0Fb_2RN"
      },
      "source": [
        "### Changing the default output standard"
      ]
    },
    {
      "cell_type": "code",
      "metadata": {
        "id": "9bivjhPU_2RN",
        "outputId": "b26db6e2-e2a6-4171-885e-3abd622ed7bf"
      },
      "source": [
        "g.set_standard('name')"
      ],
      "execution_count": null,
      "outputs": [
        {
          "output_type": "execute_result",
          "data": {
            "text/plain": [
              "'name'"
            ]
          },
          "metadata": {
            "tags": []
          },
          "execution_count": 10
        }
      ]
    },
    {
      "cell_type": "code",
      "metadata": {
        "id": "Aepmaxgh_2RN",
        "outputId": "5ba286ad-3088-4c95-83af-56eafe266ff5"
      },
      "source": [
        "g2=gm('iso3')\n",
        "g2.get_standard()"
      ],
      "execution_count": null,
      "outputs": [
        {
          "output_type": "execute_result",
          "data": {
            "text/plain": [
              "'iso3'"
            ]
          },
          "metadata": {
            "tags": []
          },
          "execution_count": 11
        }
      ]
    },
    {
      "cell_type": "markdown",
      "metadata": {
        "id": "0Y4F3RtT_2RN"
      },
      "source": [
        "### Converting countries to standardized names"
      ]
    },
    {
      "cell_type": "code",
      "metadata": {
        "id": "LJBhiXrE_2RN",
        "outputId": "50c61254-f01f-419b-a0a5-8ae904c296a5"
      },
      "source": [
        "g.to_standard('england') # single country"
      ],
      "execution_count": null,
      "outputs": [
        {
          "output_type": "execute_result",
          "data": {
            "text/plain": [
              "['United Kingdom']"
            ]
          },
          "metadata": {
            "tags": []
          },
          "execution_count": 12
        }
      ]
    },
    {
      "cell_type": "code",
      "metadata": {
        "id": "R2dDaf5n_2RN",
        "outputId": "a67c5157-22cc-45f3-c655-fbcf5826b6a0"
      },
      "source": [
        "g.to_standard(['esp','it']) # list of countries"
      ],
      "execution_count": null,
      "outputs": [
        {
          "output_type": "execute_result",
          "data": {
            "text/plain": [
              "['Spain', 'Italy']"
            ]
          },
          "metadata": {
            "tags": []
          },
          "execution_count": 13
        }
      ]
    },
    {
      "cell_type": "code",
      "metadata": {
        "id": "H4AaqSid_2RN",
        "outputId": "02f52a88-696a-468a-dba6-22e48de9f5f1"
      },
      "source": [
        "from coa.error import * \n",
        "try:\n",
        "    z=g.to_standard('European Union') # the name does not exist as a country\n",
        "except CoaError:\n",
        "    print('The input name is unknown, try to interpret as a region')\n",
        "    z=g.to_standard('European Union',interpret_region=True)\n",
        "print(z)"
      ],
      "execution_count": null,
      "outputs": [
        {
          "output_type": "stream",
          "text": [
            "The input name is unknown, try to interpret as a region\n",
            "['Austria', 'Belgium', 'Bulgaria', 'Cyprus', 'Czechia', 'Germany', 'Denmark', 'Spain', 'Estonia', 'Finland', 'France', 'Greece', 'Croatia', 'Hungary', 'Ireland', 'Italy', 'Lithuania', 'Luxembourg', 'Latvia', 'Malta', 'Netherlands', 'Poland', 'Portugal', 'Romania', 'Slovakia', 'Slovenia', 'Sweden']\n"
          ],
          "name": "stdout"
        }
      ]
    },
    {
      "cell_type": "code",
      "metadata": {
        "id": "vb0D_0ks_2RN",
        "outputId": "e0c546fc-9c0b-4dc1-8695-fc2f18fcdd2f"
      },
      "source": [
        "g.to_standard(['usa','South America','russia'],interpret_region=True) # mix between region and countries"
      ],
      "execution_count": null,
      "outputs": [
        {
          "output_type": "execute_result",
          "data": {
            "text/plain": [
              "['United States',\n",
              " 'Argentina',\n",
              " 'Bolivia, Plurinational State of',\n",
              " 'Brazil',\n",
              " 'Bouvet Island',\n",
              " 'Chile',\n",
              " 'Colombia',\n",
              " 'Ecuador',\n",
              " 'Falkland Islands (Malvinas)',\n",
              " 'French Guiana',\n",
              " 'Guyana',\n",
              " 'Peru',\n",
              " 'Paraguay',\n",
              " 'South Georgia and the South Sandwich Islands',\n",
              " 'Suriname',\n",
              " 'Uruguay',\n",
              " 'Venezuela, Bolivarian Republic of',\n",
              " 'Russian Federation']"
            ]
          },
          "metadata": {
            "tags": []
          },
          "execution_count": 17
        }
      ]
    },
    {
      "cell_type": "code",
      "metadata": {
        "id": "sIUDEwuI_2RO",
        "outputId": "e8bbc594-24e0-42d4-bcfd-25498bf1035b"
      },
      "source": [
        "g.to_standard('french') # difficult interpretation, getting first item, a warning appears"
      ],
      "execution_count": null,
      "outputs": [
        {
          "output_type": "stream",
          "text": [
            "../pycoa/coa/geo.py:175: UserWarning: Caution. More than one country match the key \"French\" : ['France, ', 'French Guiana, ', 'French Polynesia, ', 'French Southern Territories, ', 'Saint Martin (French part), '], using first one.\n",
            "\n",
            "  warnings.warn('Caution. More than one country match the key \"'+\\\n"
          ],
          "name": "stderr"
        },
        {
          "output_type": "execute_result",
          "data": {
            "text/plain": [
              "['France']"
            ]
          },
          "metadata": {
            "tags": []
          },
          "execution_count": 18
        }
      ]
    },
    {
      "cell_type": "markdown",
      "metadata": {
        "id": "qYhrEl8F_2RP"
      },
      "source": [
        "### Conversion for specific databases"
      ]
    },
    {
      "cell_type": "code",
      "metadata": {
        "id": "vfvBKDxt_2RP",
        "outputId": "b7b4e62d-bd87-444f-a3be-50fb6b2b78e4"
      },
      "source": [
        "try:\n",
        "    z=g.to_standard('Congo (Kinshasa)')\n",
        "except CoaError:\n",
        "    print('Try to interpret within the JHU database country name usage')\n",
        "    z=g.to_standard('Congo (Kinshasa)',db='jhu')\n",
        "z"
      ],
      "execution_count": null,
      "outputs": [
        {
          "output_type": "stream",
          "text": [
            "Try to interpret within the JHU database country name usage\n"
          ],
          "name": "stdout"
        },
        {
          "output_type": "execute_result",
          "data": {
            "text/plain": [
              "['Congo, The Democratic Republic of the']"
            ]
          },
          "metadata": {
            "tags": []
          },
          "execution_count": 20
        }
      ]
    },
    {
      "cell_type": "markdown",
      "metadata": {
        "id": "1IBH3zvG_2RP"
      },
      "source": [
        "### Other outputs"
      ]
    },
    {
      "cell_type": "code",
      "metadata": {
        "id": "aYF-3XBI_2RP",
        "outputId": "d650c7eb-0bfa-4638-e853-0115d990e744"
      },
      "source": [
        "g.to_standard(['fr','spain','england'],output='dict')"
      ],
      "execution_count": null,
      "outputs": [
        {
          "output_type": "execute_result",
          "data": {
            "text/plain": [
              "{'Fr': 'France', 'Spain': 'Spain', 'England': 'United Kingdom'}"
            ]
          },
          "metadata": {
            "tags": []
          },
          "execution_count": 21
        }
      ]
    },
    {
      "cell_type": "code",
      "metadata": {
        "id": "NDOIW7yB_2RP",
        "outputId": "bf0488ea-a052-4edb-ea14-496395b6f9ae"
      },
      "source": [
        "g.to_standard(['fr','spain','england'],output='pandas')"
      ],
      "execution_count": null,
      "outputs": [
        {
          "output_type": "execute_result",
          "data": {
            "text/html": [
              "<div>\n",
              "<style scoped>\n",
              "    .dataframe tbody tr th:only-of-type {\n",
              "        vertical-align: middle;\n",
              "    }\n",
              "\n",
              "    .dataframe tbody tr th {\n",
              "        vertical-align: top;\n",
              "    }\n",
              "\n",
              "    .dataframe thead th {\n",
              "        text-align: right;\n",
              "    }\n",
              "</style>\n",
              "<table border=\"1\" class=\"dataframe\">\n",
              "  <thead>\n",
              "    <tr style=\"text-align: right;\">\n",
              "      <th></th>\n",
              "      <th>inputname</th>\n",
              "      <th>name</th>\n",
              "    </tr>\n",
              "  </thead>\n",
              "  <tbody>\n",
              "    <tr>\n",
              "      <th>0</th>\n",
              "      <td>Fr</td>\n",
              "      <td>France</td>\n",
              "    </tr>\n",
              "    <tr>\n",
              "      <th>1</th>\n",
              "      <td>Spain</td>\n",
              "      <td>Spain</td>\n",
              "    </tr>\n",
              "    <tr>\n",
              "      <th>2</th>\n",
              "      <td>England</td>\n",
              "      <td>United Kingdom</td>\n",
              "    </tr>\n",
              "  </tbody>\n",
              "</table>\n",
              "</div>"
            ],
            "text/plain": [
              "  inputname            name\n",
              "0        Fr          France\n",
              "1     Spain           Spain\n",
              "2   England  United Kingdom"
            ]
          },
          "metadata": {
            "tags": []
          },
          "execution_count": 22
        }
      ]
    },
    {
      "cell_type": "markdown",
      "metadata": {
        "id": "mzGoNVYc_2RP"
      },
      "source": [
        "## Management of errors"
      ]
    },
    {
      "cell_type": "markdown",
      "metadata": {
        "id": "RJr2Qx1T_2RP"
      },
      "source": [
        "As far as possible, errors are managed within the `cocoa.error` framework. `CocoaError` should be raised."
      ]
    },
    {
      "cell_type": "code",
      "metadata": {
        "id": "AXwA-5h3_2RP",
        "outputId": "73e4c3a9-4070-451b-ca3f-7243f83989b9"
      },
      "source": [
        "g.set_standard('oups') # the standard is not in the standard list "
      ],
      "execution_count": null,
      "outputs": [
        {
          "output_type": "error",
          "ename": "CoaKeyError",
          "evalue": "'GeoManager.set_standard error, \"oups not managed. Please see get_list_standard() function'",
          "traceback": [
            "\u001b[0;31m---------------------------------------------------------------------------\u001b[0m",
            "\u001b[0;31mCoaKeyError\u001b[0m                               Traceback (most recent call last)",
            "\u001b[0;32m<ipython-input-23-55a54eace16a>\u001b[0m in \u001b[0;36m<module>\u001b[0;34m\u001b[0m\n\u001b[0;32m----> 1\u001b[0;31m \u001b[0mg\u001b[0m\u001b[0;34m.\u001b[0m\u001b[0mset_standard\u001b[0m\u001b[0;34m(\u001b[0m\u001b[0;34m'oups'\u001b[0m\u001b[0;34m)\u001b[0m \u001b[0;31m# the standard is not in the standard list\u001b[0m\u001b[0;34m\u001b[0m\u001b[0;34m\u001b[0m\u001b[0m\n\u001b[0m",
            "\u001b[0;32m~/Dropbox/Git/pycoa/coa/geo.py\u001b[0m in \u001b[0;36mset_standard\u001b[0;34m(self, standard)\u001b[0m\n\u001b[1;32m     93\u001b[0m                 ' must be a string')\n\u001b[1;32m     94\u001b[0m         \u001b[0;32mif\u001b[0m \u001b[0mstandard\u001b[0m \u001b[0;32mnot\u001b[0m \u001b[0;32min\u001b[0m \u001b[0mself\u001b[0m\u001b[0;34m.\u001b[0m\u001b[0mget_list_standard\u001b[0m\u001b[0;34m(\u001b[0m\u001b[0;34m)\u001b[0m\u001b[0;34m:\u001b[0m\u001b[0;34m\u001b[0m\u001b[0;34m\u001b[0m\u001b[0m\n\u001b[0;32m---> 95\u001b[0;31m             raise CoaKeyError('GeoManager.set_standard error, \"'+\\\n\u001b[0m\u001b[1;32m     96\u001b[0m                                     \u001b[0mstandard\u001b[0m\u001b[0;34m+\u001b[0m\u001b[0;34m' not managed. Please see '\u001b[0m\u001b[0;31m\\\u001b[0m\u001b[0;34m\u001b[0m\u001b[0;34m\u001b[0m\u001b[0m\n\u001b[1;32m     97\u001b[0m                                     'get_list_standard() function')\n",
            "\u001b[0;31mCoaKeyError\u001b[0m: 'GeoManager.set_standard error, \"oups not managed. Please see get_list_standard() function'"
          ]
        }
      ]
    },
    {
      "cell_type": "code",
      "metadata": {
        "id": "JxgQ88HT_2RP",
        "outputId": "0f8209d8-8cf0-42af-95b5-4babeed28581"
      },
      "source": [
        "g3=gm('hi!') # idem"
      ],
      "execution_count": null,
      "outputs": [
        {
          "output_type": "error",
          "ename": "CoaKeyError",
          "evalue": "'GeoManager.set_standard error, \"hi! not managed. Please see get_list_standard() function'",
          "traceback": [
            "\u001b[0;31m---------------------------------------------------------------------------\u001b[0m",
            "\u001b[0;31mCoaKeyError\u001b[0m                               Traceback (most recent call last)",
            "\u001b[0;32m<ipython-input-24-cb78b4c897a2>\u001b[0m in \u001b[0;36m<module>\u001b[0;34m\u001b[0m\n\u001b[0;32m----> 1\u001b[0;31m \u001b[0mg3\u001b[0m\u001b[0;34m=\u001b[0m\u001b[0mgm\u001b[0m\u001b[0;34m(\u001b[0m\u001b[0;34m'hi!'\u001b[0m\u001b[0;34m)\u001b[0m \u001b[0;31m# idem\u001b[0m\u001b[0;34m\u001b[0m\u001b[0;34m\u001b[0m\u001b[0m\n\u001b[0m",
            "\u001b[0;32m~/Dropbox/Git/pycoa/coa/geo.py\u001b[0m in \u001b[0;36m__init__\u001b[0;34m(self, standard)\u001b[0m\n\u001b[1;32m     59\u001b[0m         \"\"\"\n\u001b[1;32m     60\u001b[0m         \u001b[0mverb\u001b[0m\u001b[0;34m(\u001b[0m\u001b[0;34m\"Init of GeoManager()\"\u001b[0m\u001b[0;34m)\u001b[0m\u001b[0;34m\u001b[0m\u001b[0;34m\u001b[0m\u001b[0m\n\u001b[0;32m---> 61\u001b[0;31m         \u001b[0mself\u001b[0m\u001b[0;34m.\u001b[0m\u001b[0mset_standard\u001b[0m\u001b[0;34m(\u001b[0m\u001b[0mstandard\u001b[0m\u001b[0;34m)\u001b[0m\u001b[0;34m\u001b[0m\u001b[0;34m\u001b[0m\u001b[0m\n\u001b[0m\u001b[1;32m     62\u001b[0m         \u001b[0mself\u001b[0m\u001b[0;34m.\u001b[0m\u001b[0m_gr\u001b[0m\u001b[0;34m=\u001b[0m\u001b[0mGeoRegion\u001b[0m\u001b[0;34m(\u001b[0m\u001b[0;34m)\u001b[0m\u001b[0;34m\u001b[0m\u001b[0;34m\u001b[0m\u001b[0m\n\u001b[1;32m     63\u001b[0m \u001b[0;34m\u001b[0m\u001b[0m\n",
            "\u001b[0;32m~/Dropbox/Git/pycoa/coa/geo.py\u001b[0m in \u001b[0;36mset_standard\u001b[0;34m(self, standard)\u001b[0m\n\u001b[1;32m     93\u001b[0m                 ' must be a string')\n\u001b[1;32m     94\u001b[0m         \u001b[0;32mif\u001b[0m \u001b[0mstandard\u001b[0m \u001b[0;32mnot\u001b[0m \u001b[0;32min\u001b[0m \u001b[0mself\u001b[0m\u001b[0;34m.\u001b[0m\u001b[0mget_list_standard\u001b[0m\u001b[0;34m(\u001b[0m\u001b[0;34m)\u001b[0m\u001b[0;34m:\u001b[0m\u001b[0;34m\u001b[0m\u001b[0;34m\u001b[0m\u001b[0m\n\u001b[0;32m---> 95\u001b[0;31m             raise CoaKeyError('GeoManager.set_standard error, \"'+\\\n\u001b[0m\u001b[1;32m     96\u001b[0m                                     \u001b[0mstandard\u001b[0m\u001b[0;34m+\u001b[0m\u001b[0;34m' not managed. Please see '\u001b[0m\u001b[0;31m\\\u001b[0m\u001b[0;34m\u001b[0m\u001b[0;34m\u001b[0m\u001b[0m\n\u001b[1;32m     97\u001b[0m                                     'get_list_standard() function')\n",
            "\u001b[0;31mCoaKeyError\u001b[0m: 'GeoManager.set_standard error, \"hi! not managed. Please see get_list_standard() function'"
          ]
        }
      ]
    },
    {
      "cell_type": "code",
      "metadata": {
        "id": "zNOdY9Oo_2RP",
        "outputId": "3f6b49f7-0475-4f63-9d2d-ccab69fbf83d"
      },
      "source": [
        "g.to_standard('Congo (Kinshasa)',db='another base') # unknown base"
      ],
      "execution_count": null,
      "outputs": [
        {
          "output_type": "error",
          "ename": "CoaDbError",
          "evalue": "Unknown database \"another base\" for translation to standardized location names. See get_list_db() or help.",
          "traceback": [
            "\u001b[0;31m---------------------------------------------------------------------------\u001b[0m",
            "\u001b[0;31mCoaDbError\u001b[0m                                Traceback (most recent call last)",
            "\u001b[0;32m<ipython-input-25-39775babb578>\u001b[0m in \u001b[0;36m<module>\u001b[0;34m\u001b[0m\n\u001b[0;32m----> 1\u001b[0;31m \u001b[0mg\u001b[0m\u001b[0;34m.\u001b[0m\u001b[0mto_standard\u001b[0m\u001b[0;34m(\u001b[0m\u001b[0;34m'Congo (Kinshasa)'\u001b[0m\u001b[0;34m,\u001b[0m\u001b[0mdb\u001b[0m\u001b[0;34m=\u001b[0m\u001b[0;34m'another base'\u001b[0m\u001b[0;34m)\u001b[0m \u001b[0;31m# unknown base\u001b[0m\u001b[0;34m\u001b[0m\u001b[0;34m\u001b[0m\u001b[0m\n\u001b[0m",
            "\u001b[0;32m~/Dropbox/Git/pycoa/coa/geo.py\u001b[0m in \u001b[0;36mto_standard\u001b[0;34m(self, w, **kwargs)\u001b[0m\n\u001b[1;32m    126\u001b[0m         \u001b[0mdb\u001b[0m\u001b[0;34m=\u001b[0m\u001b[0mkwargs\u001b[0m\u001b[0;34m.\u001b[0m\u001b[0mget\u001b[0m\u001b[0;34m(\u001b[0m\u001b[0;34m'db'\u001b[0m\u001b[0;34m,\u001b[0m\u001b[0mself\u001b[0m\u001b[0;34m.\u001b[0m\u001b[0mget_list_db\u001b[0m\u001b[0;34m(\u001b[0m\u001b[0;34m)\u001b[0m\u001b[0;34m[\u001b[0m\u001b[0;36m0\u001b[0m\u001b[0;34m]\u001b[0m\u001b[0;34m)\u001b[0m\u001b[0;34m\u001b[0m\u001b[0;34m\u001b[0m\u001b[0m\n\u001b[1;32m    127\u001b[0m         \u001b[0;32mif\u001b[0m \u001b[0mdb\u001b[0m \u001b[0;32mnot\u001b[0m \u001b[0;32min\u001b[0m \u001b[0mself\u001b[0m\u001b[0;34m.\u001b[0m\u001b[0mget_list_db\u001b[0m\u001b[0;34m(\u001b[0m\u001b[0;34m)\u001b[0m\u001b[0;34m:\u001b[0m\u001b[0;34m\u001b[0m\u001b[0;34m\u001b[0m\u001b[0m\n\u001b[0;32m--> 128\u001b[0;31m             raise CoaDbError('Unknown database \"'+db+'\" for translation to '\n\u001b[0m\u001b[1;32m    129\u001b[0m                 'standardized location names. See get_list_db() or help.')\n\u001b[1;32m    130\u001b[0m \u001b[0;34m\u001b[0m\u001b[0m\n",
            "\u001b[0;31mCoaDbError\u001b[0m: Unknown database \"another base\" for translation to standardized location names. See get_list_db() or help."
          ]
        }
      ]
    },
    {
      "cell_type": "code",
      "metadata": {
        "id": "55ToRKvK_2RP",
        "outputId": "b3125f51-93d1-451b-91e3-2533883602b3"
      },
      "source": [
        "g.to_standard('aus',output='another output') # bad output type"
      ],
      "execution_count": null,
      "outputs": [
        {
          "output_type": "error",
          "ename": "CoaKeyError",
          "evalue": "'Incorrect output type. See get_list_output() or help.'",
          "traceback": [
            "\u001b[0;31m---------------------------------------------------------------------------\u001b[0m",
            "\u001b[0;31mCoaKeyError\u001b[0m                               Traceback (most recent call last)",
            "\u001b[0;32m<ipython-input-26-75657fc6e3ef>\u001b[0m in \u001b[0;36m<module>\u001b[0;34m\u001b[0m\n\u001b[0;32m----> 1\u001b[0;31m \u001b[0mg\u001b[0m\u001b[0;34m.\u001b[0m\u001b[0mto_standard\u001b[0m\u001b[0;34m(\u001b[0m\u001b[0;34m'aus'\u001b[0m\u001b[0;34m,\u001b[0m\u001b[0moutput\u001b[0m\u001b[0;34m=\u001b[0m\u001b[0;34m'another output'\u001b[0m\u001b[0;34m)\u001b[0m \u001b[0;31m# bad output type\u001b[0m\u001b[0;34m\u001b[0m\u001b[0;34m\u001b[0m\u001b[0m\n\u001b[0m",
            "\u001b[0;32m~/Dropbox/Git/pycoa/coa/geo.py\u001b[0m in \u001b[0;36mto_standard\u001b[0;34m(self, w, **kwargs)\u001b[0m\n\u001b[1;32m    121\u001b[0m         \u001b[0moutput\u001b[0m\u001b[0;34m=\u001b[0m\u001b[0mkwargs\u001b[0m\u001b[0;34m.\u001b[0m\u001b[0mget\u001b[0m\u001b[0;34m(\u001b[0m\u001b[0;34m'output'\u001b[0m\u001b[0;34m,\u001b[0m\u001b[0mself\u001b[0m\u001b[0;34m.\u001b[0m\u001b[0mget_list_output\u001b[0m\u001b[0;34m(\u001b[0m\u001b[0;34m)\u001b[0m\u001b[0;34m[\u001b[0m\u001b[0;36m0\u001b[0m\u001b[0;34m]\u001b[0m\u001b[0;34m)\u001b[0m\u001b[0;34m\u001b[0m\u001b[0;34m\u001b[0m\u001b[0m\n\u001b[1;32m    122\u001b[0m         \u001b[0;32mif\u001b[0m \u001b[0moutput\u001b[0m \u001b[0;32mnot\u001b[0m \u001b[0;32min\u001b[0m \u001b[0mself\u001b[0m\u001b[0;34m.\u001b[0m\u001b[0mget_list_output\u001b[0m\u001b[0;34m(\u001b[0m\u001b[0;34m)\u001b[0m\u001b[0;34m:\u001b[0m\u001b[0;34m\u001b[0m\u001b[0;34m\u001b[0m\u001b[0m\n\u001b[0;32m--> 123\u001b[0;31m             raise CoaKeyError('Incorrect output type. See get_list_output()'\n\u001b[0m\u001b[1;32m    124\u001b[0m                 ' or help.')\n\u001b[1;32m    125\u001b[0m \u001b[0;34m\u001b[0m\u001b[0m\n",
            "\u001b[0;31mCoaKeyError\u001b[0m: 'Incorrect output type. See get_list_output() or help.'"
          ]
        }
      ]
    },
    {
      "cell_type": "code",
      "metadata": {
        "id": "zUuK8d3b_2RP",
        "outputId": "955ac3a3-2d0c-4aa3-f9e1-25e87a7f3911"
      },
      "source": [
        "g.to_standard('Europe',interpret_region=1) # bad type (boolean required) for interpret_region option"
      ],
      "execution_count": null,
      "outputs": [
        {
          "output_type": "error",
          "ename": "CoaTypeError",
          "evalue": "The interpret_region argument is a boolean, not a <class 'int'>",
          "traceback": [
            "\u001b[0;31m---------------------------------------------------------------------------\u001b[0m",
            "\u001b[0;31mCoaTypeError\u001b[0m                              Traceback (most recent call last)",
            "\u001b[0;32m<ipython-input-27-236321a486ee>\u001b[0m in \u001b[0;36m<module>\u001b[0;34m\u001b[0m\n\u001b[0;32m----> 1\u001b[0;31m \u001b[0mg\u001b[0m\u001b[0;34m.\u001b[0m\u001b[0mto_standard\u001b[0m\u001b[0;34m(\u001b[0m\u001b[0;34m'Europe'\u001b[0m\u001b[0;34m,\u001b[0m\u001b[0minterpret_region\u001b[0m\u001b[0;34m=\u001b[0m\u001b[0;36m1\u001b[0m\u001b[0;34m)\u001b[0m \u001b[0;31m# bad type (boolean required) for interpret_region option\u001b[0m\u001b[0;34m\u001b[0m\u001b[0;34m\u001b[0m\u001b[0m\n\u001b[0m",
            "\u001b[0;32m~/Dropbox/Git/pycoa/coa/geo.py\u001b[0m in \u001b[0;36mto_standard\u001b[0;34m(self, w, **kwargs)\u001b[0m\n\u001b[1;32m    131\u001b[0m         \u001b[0minterpret_region\u001b[0m\u001b[0;34m=\u001b[0m\u001b[0mkwargs\u001b[0m\u001b[0;34m.\u001b[0m\u001b[0mget\u001b[0m\u001b[0;34m(\u001b[0m\u001b[0;34m'interpret_region'\u001b[0m\u001b[0;34m,\u001b[0m\u001b[0;32mFalse\u001b[0m\u001b[0;34m)\u001b[0m\u001b[0;34m\u001b[0m\u001b[0;34m\u001b[0m\u001b[0m\n\u001b[1;32m    132\u001b[0m         \u001b[0;32mif\u001b[0m \u001b[0;32mnot\u001b[0m \u001b[0misinstance\u001b[0m\u001b[0;34m(\u001b[0m\u001b[0minterpret_region\u001b[0m\u001b[0;34m,\u001b[0m\u001b[0mbool\u001b[0m\u001b[0;34m)\u001b[0m\u001b[0;34m:\u001b[0m\u001b[0;34m\u001b[0m\u001b[0;34m\u001b[0m\u001b[0m\n\u001b[0;32m--> 133\u001b[0;31m             raise CoaTypeError('The interpret_region argument is a boolean, '\n\u001b[0m\u001b[1;32m    134\u001b[0m                 'not a '+str(type(interpret_region)))\n\u001b[1;32m    135\u001b[0m \u001b[0;34m\u001b[0m\u001b[0m\n",
            "\u001b[0;31mCoaTypeError\u001b[0m: The interpret_region argument is a boolean, not a <class 'int'>"
          ]
        }
      ]
    },
    {
      "cell_type": "code",
      "metadata": {
        "id": "bPykDNhm_2RP",
        "outputId": "71fb095a-3e34-402c-b7be-545f6e8840aa"
      },
      "source": [
        "g.to_standard('elsewhere') # unknown country"
      ],
      "execution_count": null,
      "outputs": [
        {
          "output_type": "error",
          "ename": "CoaLookupError",
          "evalue": "No country match the key \"Elsewhere\". Error.",
          "traceback": [
            "\u001b[0;31m---------------------------------------------------------------------------\u001b[0m",
            "\u001b[0;31mLookupError\u001b[0m                               Traceback (most recent call last)",
            "\u001b[0;32m~/Dropbox/Git/pycoa/coa/geo.py\u001b[0m in \u001b[0;36mto_standard\u001b[0;34m(self, w, **kwargs)\u001b[0m\n\u001b[1;32m    169\u001b[0m                     \u001b[0;32mtry\u001b[0m\u001b[0;34m:\u001b[0m\u001b[0;34m\u001b[0m\u001b[0;34m\u001b[0m\u001b[0m\n\u001b[0;32m--> 170\u001b[0;31m                         \u001b[0mn0\u001b[0m\u001b[0;34m=\u001b[0m\u001b[0mpc\u001b[0m\u001b[0;34m.\u001b[0m\u001b[0mcountries\u001b[0m\u001b[0;34m.\u001b[0m\u001b[0mlookup\u001b[0m\u001b[0;34m(\u001b[0m\u001b[0mc\u001b[0m\u001b[0;34m)\u001b[0m\u001b[0;34m\u001b[0m\u001b[0;34m\u001b[0m\u001b[0m\n\u001b[0m\u001b[1;32m    171\u001b[0m                     \u001b[0;32mexcept\u001b[0m \u001b[0mLookupError\u001b[0m\u001b[0;34m:\u001b[0m\u001b[0;34m\u001b[0m\u001b[0;34m\u001b[0m\u001b[0m\n",
            "\u001b[0;32m~/.local/lib/python3.8/site-packages/pycountry/db.py\u001b[0m in \u001b[0;36mload_if_needed\u001b[0;34m(self, *args, **kw)\u001b[0m\n\u001b[1;32m     44\u001b[0m                 \u001b[0mself\u001b[0m\u001b[0;34m.\u001b[0m\u001b[0m_load\u001b[0m\u001b[0;34m(\u001b[0m\u001b[0;34m)\u001b[0m\u001b[0;34m\u001b[0m\u001b[0;34m\u001b[0m\u001b[0m\n\u001b[0;32m---> 45\u001b[0;31m         \u001b[0;32mreturn\u001b[0m \u001b[0mf\u001b[0m\u001b[0;34m(\u001b[0m\u001b[0mself\u001b[0m\u001b[0;34m,\u001b[0m \u001b[0;34m*\u001b[0m\u001b[0margs\u001b[0m\u001b[0;34m,\u001b[0m \u001b[0;34m**\u001b[0m\u001b[0mkw\u001b[0m\u001b[0;34m)\u001b[0m\u001b[0;34m\u001b[0m\u001b[0;34m\u001b[0m\u001b[0m\n\u001b[0m\u001b[1;32m     46\u001b[0m     \u001b[0;32mreturn\u001b[0m \u001b[0mload_if_needed\u001b[0m\u001b[0;34m\u001b[0m\u001b[0;34m\u001b[0m\u001b[0m\n",
            "\u001b[0;32m~/.local/lib/python3.8/site-packages/pycountry/db.py\u001b[0m in \u001b[0;36mlookup\u001b[0;34m(self, value)\u001b[0m\n\u001b[1;32m    136\u001b[0m                     \u001b[0;32mreturn\u001b[0m \u001b[0mcandidate\u001b[0m\u001b[0;34m\u001b[0m\u001b[0;34m\u001b[0m\u001b[0m\n\u001b[0;32m--> 137\u001b[0;31m         \u001b[0;32mraise\u001b[0m \u001b[0mLookupError\u001b[0m\u001b[0;34m(\u001b[0m\u001b[0;34m'Could not find a record for %r'\u001b[0m \u001b[0;34m%\u001b[0m \u001b[0mvalue\u001b[0m\u001b[0;34m)\u001b[0m\u001b[0;34m\u001b[0m\u001b[0;34m\u001b[0m\u001b[0m\n\u001b[0m",
            "\u001b[0;31mLookupError\u001b[0m: Could not find a record for 'elsewhere'",
            "\nDuring handling of the above exception, another exception occurred:\n",
            "\u001b[0;31mLookupError\u001b[0m                               Traceback (most recent call last)",
            "\u001b[0;32m~/Dropbox/Git/pycoa/coa/geo.py\u001b[0m in \u001b[0;36mto_standard\u001b[0;34m(self, w, **kwargs)\u001b[0m\n\u001b[1;32m    172\u001b[0m                         \u001b[0;32mtry\u001b[0m\u001b[0;34m:\u001b[0m\u001b[0;34m\u001b[0m\u001b[0;34m\u001b[0m\u001b[0m\n\u001b[0;32m--> 173\u001b[0;31m                             \u001b[0mnf\u001b[0m\u001b[0;34m=\u001b[0m\u001b[0mpc\u001b[0m\u001b[0;34m.\u001b[0m\u001b[0mcountries\u001b[0m\u001b[0;34m.\u001b[0m\u001b[0msearch_fuzzy\u001b[0m\u001b[0;34m(\u001b[0m\u001b[0mc\u001b[0m\u001b[0;34m)\u001b[0m\u001b[0;34m\u001b[0m\u001b[0;34m\u001b[0m\u001b[0m\n\u001b[0m\u001b[1;32m    174\u001b[0m                             \u001b[0;32mif\u001b[0m \u001b[0mlen\u001b[0m\u001b[0;34m(\u001b[0m\u001b[0mnf\u001b[0m\u001b[0;34m)\u001b[0m\u001b[0;34m>\u001b[0m\u001b[0;36m1\u001b[0m\u001b[0;34m:\u001b[0m\u001b[0;34m\u001b[0m\u001b[0;34m\u001b[0m\u001b[0m\n",
            "\u001b[0;32m~/.local/lib/python3.8/site-packages/pycountry/__init__.py\u001b[0m in \u001b[0;36msearch_fuzzy\u001b[0;34m(self, query)\u001b[0m\n\u001b[1;32m     87\u001b[0m         \u001b[0;32mif\u001b[0m \u001b[0;32mnot\u001b[0m \u001b[0mresults\u001b[0m\u001b[0;34m:\u001b[0m\u001b[0;34m\u001b[0m\u001b[0;34m\u001b[0m\u001b[0m\n\u001b[0;32m---> 88\u001b[0;31m             \u001b[0;32mraise\u001b[0m \u001b[0mLookupError\u001b[0m\u001b[0;34m(\u001b[0m\u001b[0mquery\u001b[0m\u001b[0;34m)\u001b[0m\u001b[0;34m\u001b[0m\u001b[0;34m\u001b[0m\u001b[0m\n\u001b[0m\u001b[1;32m     89\u001b[0m \u001b[0;34m\u001b[0m\u001b[0m\n",
            "\u001b[0;31mLookupError\u001b[0m: elsewhere",
            "\nDuring handling of the above exception, another exception occurred:\n",
            "\u001b[0;31mCoaLookupError\u001b[0m                            Traceback (most recent call last)",
            "\u001b[0;32m<ipython-input-28-487287483e0e>\u001b[0m in \u001b[0;36m<module>\u001b[0;34m\u001b[0m\n\u001b[0;32m----> 1\u001b[0;31m \u001b[0mg\u001b[0m\u001b[0;34m.\u001b[0m\u001b[0mto_standard\u001b[0m\u001b[0;34m(\u001b[0m\u001b[0;34m'elsewhere'\u001b[0m\u001b[0;34m)\u001b[0m \u001b[0;31m# unknown country\u001b[0m\u001b[0;34m\u001b[0m\u001b[0;34m\u001b[0m\u001b[0m\n\u001b[0m",
            "\u001b[0;32m~/Dropbox/Git/pycoa/coa/geo.py\u001b[0m in \u001b[0;36mto_standard\u001b[0;34m(self, w, **kwargs)\u001b[0m\n\u001b[1;32m    178\u001b[0m                             \u001b[0mn0\u001b[0m\u001b[0;34m=\u001b[0m\u001b[0mnf\u001b[0m\u001b[0;34m[\u001b[0m\u001b[0;36m0\u001b[0m\u001b[0;34m]\u001b[0m\u001b[0;34m\u001b[0m\u001b[0;34m\u001b[0m\u001b[0m\n\u001b[1;32m    179\u001b[0m                         \u001b[0;32mexcept\u001b[0m \u001b[0mLookupError\u001b[0m\u001b[0;34m:\u001b[0m\u001b[0;34m\u001b[0m\u001b[0;34m\u001b[0m\u001b[0m\n\u001b[0;32m--> 180\u001b[0;31m                             \u001b[0;32mraise\u001b[0m \u001b[0mCoaLookupError\u001b[0m\u001b[0;34m(\u001b[0m\u001b[0;34m'No country match the key \"'\u001b[0m\u001b[0;34m+\u001b[0m\u001b[0mc\u001b[0m\u001b[0;34m+\u001b[0m\u001b[0;34m'\". Error.'\u001b[0m\u001b[0;34m)\u001b[0m\u001b[0;34m\u001b[0m\u001b[0;34m\u001b[0m\u001b[0m\n\u001b[0m\u001b[1;32m    181\u001b[0m                         \u001b[0;32mexcept\u001b[0m \u001b[0mException\u001b[0m \u001b[0;32mas\u001b[0m \u001b[0me1\u001b[0m\u001b[0;34m:\u001b[0m\u001b[0;34m\u001b[0m\u001b[0;34m\u001b[0m\u001b[0m\n\u001b[1;32m    182\u001b[0m                             \u001b[0;32mraise\u001b[0m \u001b[0mCoaNotManagedError\u001b[0m\u001b[0;34m(\u001b[0m\u001b[0;34m'Not managed error '\u001b[0m\u001b[0;34m+\u001b[0m\u001b[0mtype\u001b[0m\u001b[0;34m(\u001b[0m\u001b[0me1\u001b[0m\u001b[0;34m)\u001b[0m\u001b[0;34m)\u001b[0m\u001b[0;34m\u001b[0m\u001b[0;34m\u001b[0m\u001b[0m\n",
            "\u001b[0;31mCoaLookupError\u001b[0m: No country match the key \"Elsewhere\". Error."
          ]
        }
      ]
    },
    {
      "cell_type": "code",
      "metadata": {
        "id": "htIniQYk_2RP",
        "outputId": "898288ff-2f58-41fa-d6a2-d56b7a876bd9"
      },
      "source": [
        "g.to_standard('European Union',output='dict',interpret_region=True) # cannont create dict or pandas output with interpret_region=True"
      ],
      "execution_count": null,
      "outputs": [
        {
          "output_type": "error",
          "ename": "CoaKeyError",
          "evalue": "'The interpret_region True argument is incompatible with non list output option.'",
          "traceback": [
            "\u001b[0;31m---------------------------------------------------------------------------\u001b[0m",
            "\u001b[0;31mCoaKeyError\u001b[0m                               Traceback (most recent call last)",
            "\u001b[0;32m<ipython-input-29-bbd30d86d8f7>\u001b[0m in \u001b[0;36m<module>\u001b[0;34m\u001b[0m\n\u001b[0;32m----> 1\u001b[0;31m \u001b[0mg\u001b[0m\u001b[0;34m.\u001b[0m\u001b[0mto_standard\u001b[0m\u001b[0;34m(\u001b[0m\u001b[0;34m'European Union'\u001b[0m\u001b[0;34m,\u001b[0m\u001b[0moutput\u001b[0m\u001b[0;34m=\u001b[0m\u001b[0;34m'dict'\u001b[0m\u001b[0;34m,\u001b[0m\u001b[0minterpret_region\u001b[0m\u001b[0;34m=\u001b[0m\u001b[0;32mTrue\u001b[0m\u001b[0;34m)\u001b[0m \u001b[0;31m# cannont create dict or pandas output with interpret_region=True\u001b[0m\u001b[0;34m\u001b[0m\u001b[0;34m\u001b[0m\u001b[0m\n\u001b[0m",
            "\u001b[0;32m~/Dropbox/Git/pycoa/coa/geo.py\u001b[0m in \u001b[0;36mto_standard\u001b[0;34m(self, w, **kwargs)\u001b[0m\n\u001b[1;32m    135\u001b[0m \u001b[0;34m\u001b[0m\u001b[0m\n\u001b[1;32m    136\u001b[0m         \u001b[0;32mif\u001b[0m \u001b[0minterpret_region\u001b[0m\u001b[0;34m==\u001b[0m\u001b[0;32mTrue\u001b[0m \u001b[0;32mand\u001b[0m \u001b[0moutput\u001b[0m\u001b[0;34m!=\u001b[0m\u001b[0;34m'list'\u001b[0m\u001b[0;34m:\u001b[0m\u001b[0;34m\u001b[0m\u001b[0;34m\u001b[0m\u001b[0m\n\u001b[0;32m--> 137\u001b[0;31m             raise CoaKeyError('The interpret_region True argument is incompatible '\n\u001b[0m\u001b[1;32m    138\u001b[0m                 'with non list output option.')\n\u001b[1;32m    139\u001b[0m \u001b[0;34m\u001b[0m\u001b[0m\n",
            "\u001b[0;31mCoaKeyError\u001b[0m: 'The interpret_region True argument is incompatible with non list output option.'"
          ]
        }
      ]
    },
    {
      "cell_type": "code",
      "metadata": {
        "id": "S-3Z5yka_2RQ"
      },
      "source": [
        ""
      ],
      "execution_count": null,
      "outputs": []
    },
    {
      "cell_type": "code",
      "metadata": {
        "id": "sDaFiPUp_2RQ"
      },
      "source": [
        ""
      ],
      "execution_count": null,
      "outputs": []
    }
  ]
}