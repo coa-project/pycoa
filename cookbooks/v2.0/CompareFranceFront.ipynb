{
 "metadata": {
  "kernelspec": {
   "display_name": "Python 3 (ipykernel)",
   "language": "python",
   "name": "python3"
  },
  "language_info": {
   "codemirror_mode": {
    "name": "ipython",
    "version": 3
   },
   "file_extension": ".py",
   "mimetype": "text/x-python",
   "name": "python",
   "nbconvert_exporter": "python",
   "pygments_lexer": "ipython3",
   "version": "3.9.6"
  },
  "name": ""
 },
 "nbformat": 3,
 "nbformat_minor": 0,
 "worksheets": [
  {
   "cells": [
    {
     "cell_type": "code",
     "collapsed": false,
     "input": [
      "# Compare Cases, ICU & deaths\n",
      "# ICU 14 days shifted\n",
      "# deaths 21 days shifted\n",
      "# see post https://twitter.com/denise_dewald/status/1480153282106601477"
     ],
     "language": "python",
     "metadata": {},
     "outputs": [],
     "prompt_number": 25
    },
    {
     "cell_type": "code",
     "collapsed": false,
     "input": [
      "import coaenv as cf"
     ],
     "language": "python",
     "metadata": {},
     "outputs": [],
     "prompt_number": 1
    },
    {
     "cell_type": "code",
     "collapsed": false,
     "input": [
      "cf.setwhom('spf')"
     ],
     "language": "python",
     "metadata": {},
     "outputs": [],
     "prompt_number": 2
    },
    {
     "cell_type": "code",
     "collapsed": false,
     "input": [
      "def compare(loc):\n",
      "    A=cf.get(which='tot_P',where=loc,option=['sumall','smooth7'])\n",
      "    A['daily']=A['daily']/A['daily'].max()\n",
      "\n",
      "    B=cf.get(which='cur_rea',where=loc,option=['sumall','smooth7'])\n",
      "    B['cur_rea']=B['cur_rea']/B['cur_rea'].max()\n",
      "    BB=B.copy()\n",
      "    mask = ~(BB.columns.isin(['where','date']))\n",
      "    cols_to_shift = BB.columns[mask]\n",
      "    BB[cols_to_shift] = BB[cols_to_shift].shift(-14)\n",
      "\n",
      "    C=cf.get(which='tot_dc',where=loc,option=['sumall','smooth7'])\n",
      "    C['daily']=C['daily']/C['daily'].max()\n",
      "\n",
      "    mask = ~(C.columns.isin(['where','date']))\n",
      "    cols_to_shift = C.columns[mask]\n",
      "    C[cols_to_shift] = C[cols_to_shift].shift(-21)\n",
      "    \n",
      "    C=cf.merger(coapandas=[A,BB,C])\n",
      "    C=C.rename(columns={'tot_P_daily':'Covid cases','tot_dc_daily':'deaths 21 days later','cur_rea':'icu 14 days later'})\n",
      "    return C\n"
     ],
     "language": "python",
     "metadata": {},
     "outputs": [],
     "prompt_number": 30
    },
    {
     "cell_type": "code",
     "collapsed": false,
     "input": [
      "C=compare('\u00cele-de-France')\n",
      "cf.plot(input=C,input_field=['Covid cases','deaths 21 days later','icu 14 days later'],when='01/09/2020:')"
     ],
     "language": "python",
     "metadata": {},
     "outputs": [],
     "prompt_number": 31
    },
    {
     "cell_type": "code",
     "collapsed": false,
     "input": [
      "reg=[['\u00cele-de-France'],['Centre-Val de Loire'], ['Bourgogne-Franche-Comt\u00e9'], ['Normandie'], ['Hauts-de-France'], ['Grand Est'], ['Pays de la Loire'], ['Bretagne'], ['Nouvelle-Aquitaine'], ['Occitanie'], ['Auvergne-Rh\u00f4ne-Alpes'], [\"Provence-Alpes-C\u00f4te d'Azur\"], ['Corse']]\n",
      "\n",
      "for i in reg:\n",
      "    C=compare(i)\n",
      "    cf.plot(input=C,input_field=['Covid cases','deaths 21 days later','icu 14 days later'],when='01/09/2020:')"
     ],
     "language": "python",
     "metadata": {},
     "outputs": [],
     "prompt_number": 32
    },
    {
     "cell_type": "code",
     "collapsed": false,
     "input": [],
     "language": "python",
     "metadata": {},
     "outputs": [],
     "prompt_number": null
    }
   ],
   "metadata": {}
  }
 ]
}