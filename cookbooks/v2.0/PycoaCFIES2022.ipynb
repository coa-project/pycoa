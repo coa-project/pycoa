{
 "metadata": {
  "colab": {
   "collapsed_sections": [],
   "include_colab_link": true,
   "name": "Salon de la Culture et des Jeux Math\u00e9matiques 2022",
   "provenance": [],
   "toc_visible": true
  },
  "kernelspec": {
   "display_name": "Python 3 (ipykernel)",
   "language": "python",
   "name": "python3"
  },
  "language_info": {
   "codemirror_mode": {
    "name": "ipython",
    "version": 3
   },
   "file_extension": ".py",
   "mimetype": "text/x-python",
   "name": "python",
   "nbconvert_exporter": "python",
   "pygments_lexer": "ipython3",
   "version": "3.9.6"
  },
  "name": ""
 },
 "nbformat": 3,
 "nbformat_minor": 0,
 "worksheets": [
  {
   "cells": [
    {
     "cell_type": "markdown",
     "metadata": {
      "id": "xueZfi-b_sre"
     },
     "source": [
      "<img src=\"https://www.pycoa.fr/fig/logo-anime.gif\" alt=\"Pycoa\" width=\"125\">\n",
      "\n",
      "# Atelier logiciel Pycoa [\u24d2pycoa.fr](http://pycoa.fr) \n",
      "\n",
      "Ce notebook a \u00e9t\u00e9 pr\u00e9sent\u00e9 lors de l'atelier num\u00e9rique du Colloque Francophone International sur l\u2019Enseignement de la Statistique ([CFIES](https://cfies2022.sciencesconf.org/)) \u00e0 Rennes, le 24 novembre 2022. Il s'agit d'une introduction \u00e0 [Pycoa](http://pycoa.fr) beaucoup d'autres fonctionnalit\u00e9s ne sont pas pr\u00e9sent\u00e9es ici.\n",
      "\n"
     ]
    },
    {
     "cell_type": "markdown",
     "metadata": {
      "tags": []
     },
     "source": [
      "# 1. \u2014 Installation de [Pycoa](http://pycoa.fr)\n",
      "\n",
      "## En ligne\n",
      "\n",
      "Il est possible d'utiliser ce notebook en ligne, sans installation locale \u00e0 l'aide de l'infrastructure [Binder](https://mybinder.org/). Pour cela, cliquer sur l'ic\u00f4ne suivante : \n",
      "\n",
      "\n",
      "[![image-2.png](attachment:image-2.png)](https://mybinder.org/v2/gh/coa-project/pycoa/HEAD?labpath=coabook%2FPycoaCFIES2022.ipynb)\n",
      "\n",
      "\n",
      "[![Binder](https://mybinder.org/badge_logo.svg)](https://mybinder.org/v2/gh/coa-project/pycoa/HEAD?labpath=coabook%2FPycoaCFIES2022.ipynb)\n",
      "\n",
      "Suivant l'occupation des serveurs Binder le d\u00e9ploiement peut prendre entre 1 min et 5 min.\n",
      "\n",
      "## Localement\n",
      "\n",
      "Pour installer [Pycoa](http://pycoa.fr) sur son propre ordinateur, il faut suivre la proc\u00e9dure d\u00e9crite sur le [wiki de Pycoa](https://github.com/coa-project/pycoa/wiki/Installation). \n"
     ]
    },
    {
     "cell_type": "markdown",
     "metadata": {
      "id": "_hfa1G0M7Lc5"
     },
     "source": [
      "# 2. \u2014\u00a0Utilisation de [Pycoa](http://pycoa.fr)\n",
      "\n",
      "## A. \u2014 Importation de la librairie\n",
      "\n",
      "Dans le code, il faut d'abord importer la librairie (_package_) dans l'environnement de d\u00e9veloppement."
     ]
    },
    {
     "cell_type": "code",
     "collapsed": false,
     "input": [
      "import coaenv as pycoa"
     ],
     "language": "python",
     "metadata": {
      "id": "a7S3ZtTKNkwn"
     },
     "outputs": [],
     "prompt_number": null
    },
    {
     "cell_type": "markdown",
     "metadata": {},
     "source": [
      "## B. \u2014 S\u00e9l\u00e9ction de la base de donn\u00e9es\n",
      "\n",
      "Plusieurs bases de donn\u00e9es li\u00e9es au Covid-19 sont exploitables. \n",
      "\n",
      "1. La premi\u00e8re des instructions suivantes donne la liste des bases disponibles, avec leur nom, le code pays au format [ISO 3166-1 alpha 3](https://fr.wikipedia.org/wiki/ISO_3166-1#Table_de_codage) (ou ww pour world), le niveau de d\u00e9tail g\u00e9ographique (granularit\u00e9), le pays ou les r\u00e9gions associ\u00e9es.\n",
      "\n",
      "2. Pour l'exemple, la seconde instruction permet de s\u00e9l\u00e9ctionner la principale base de donn\u00e9es _fran\u00e7aise_, produite par Sant\u00e9 Publique France (la base de donn\u00e9es s'appelle donc `spf`). "
     ]
    },
    {
     "cell_type": "code",
     "collapsed": false,
     "input": [
      "pycoa.listwhom(True)"
     ],
     "language": "python",
     "metadata": {},
     "outputs": [],
     "prompt_number": null
    },
    {
     "cell_type": "code",
     "collapsed": false,
     "input": [
      "pycoa.setwhom(\"spf\")"
     ],
     "language": "python",
     "metadata": {},
     "outputs": [],
     "prompt_number": null
    },
    {
     "cell_type": "markdown",
     "metadata": {},
     "source": [
      "Sant\u00e9 Publique France diffuse les donn\u00e9es aff\u00e9rentes \u00e0 l'\u00e9pid\u00e9mie de Covid-19 en France. De mani\u00e8re regrettable, et contrairement aux autres bases de donn\u00e9es, le format des donn\u00e9es varie fr\u00e9quemment et sans avertissement. Il arrive donc h\u00e9las que certaines commandes \u00e9chouent, le temps d'apdater [Pycoa](http://pycoa.fr) aux derni\u00e8res modifications."
     ]
    },
    {
     "cell_type": "markdown",
     "metadata": {},
     "source": [
      "## C. \u2014 Contenu des bases de donn\u00e9es\n",
      "\n",
      "La liste des _variables epid\u00e9miologiques_ disponibles pour la base de donn\u00e9e s\u00e9lectionn\u00e9e est donn\u00e9e par l'instruction suivante : "
     ]
    },
    {
     "cell_type": "code",
     "collapsed": false,
     "input": [
      "pycoa.listwhich()"
     ],
     "language": "python",
     "metadata": {},
     "outputs": [],
     "prompt_number": null
    },
    {
     "cell_type": "markdown",
     "metadata": {},
     "source": [
      "La liste des _zones g\u00e9ographiques_ accessibles dans la base de donn\u00e9e s\u00e9lectionn\u00e9e est quant \u00e0 elle donn\u00e9e par l'instruction suivante : "
     ]
    },
    {
     "cell_type": "code",
     "collapsed": false,
     "input": [
      "pycoa.listwhere() "
     ],
     "language": "python",
     "metadata": {},
     "outputs": [],
     "prompt_number": null
    },
    {
     "cell_type": "markdown",
     "metadata": {},
     "source": [
      "Diff\u00e9rents mots-cl\u00e9s permettent de r\u00e9cup\u00e9rer des informations sp\u00e9cifiques de la base de donn\u00e9e : \n",
      "\n",
      "- `which`: _variables epid\u00e9miologiques_ d'int\u00e9r\u00eat (donn\u00e9e s\u00e9lectionn\u00e9e)\n",
      "- `where`: s\u00e9lection de la (ou les) zone(s) g\u00e9ographique(s) :\n",
      "   - pays, `list` de pays, r\u00e9gion, continent\u2026\n",
      "   - d\u00e9partement, `list` de d\u00e9partements, r\u00e9gions\u2026\n",
      "- `what`: dans le cas d'une s\u00e9rie temporelle :\n",
      "   - `'cumul'` dans le cas o\u00f9 on veut voir la somme de tout ce qu'il s'est pass\u00e9\n",
      "   - `'daily'` pour les valeurs journali\u00e8res\n",
      "   - `'weekly'` pour les valeurs hebdomadaires\n",
      "- `when`: fen\u00eatre de dates pour la donn\u00e9e s\u00e9lectionn\u00e9e\n",
      "- `option`: \n",
      "   - `'nonneg'` : lisse les donn\u00e9es pour \u00e9viter les valeurs n\u00e9gatives (corrections a posteriori)\n",
      "   - `'nofillnan'` : par d\u00e9faut les donn\u00e9es cumul\u00e9es qui n'ont pas de valeurs (\"Not a Number\" ou Nan) sont remplac\u00e9es par les valeurs du jour pr\u00e9cedent, `'nofillnan'` supprime ce remplissage\n",
      "   - `'smooth7'` : lisse les donn\u00e9es sur 7 jours pour faire dispara\u00eetre les fluctuations li\u00e9es par exemple aux weekends\n",
      "   - `'sumall'` : somme toutes les valeurs pr\u00e9sentes\n"
     ]
    },
    {
     "cell_type": "markdown",
     "metadata": {},
     "source": [
      "## D. \u2014 Instructions de Pycoa\n",
      "\n",
      "Pycoa permet \u00e0 la fois d'importer les donn\u00e9es d'une base de donnn\u00e9e publique, mais \u00e9galement de les repr\u00e9senter et de les r\u00e9cup\u00e9rer pour les exporter Les instructions suivantes\n",
      "\n",
      "- `pycoa.plot` : pour repr\u00e9senter la donn\u00e9e s\u00e9lectionn\u00e9e en fonction du temps (s\u00e9rie temporelle)\n",
      "- `pycoa.map` : pour une repr\u00e9sentation sous forme de carte\n",
      "- `pycoa.hist` : pour les histogrammes, avec pour option :\n",
      "  - `typeofhist='bycountry'` (par d\u00e9faut), pour un histogramme \u00e0 barres horizontales, lieu par lieu\n",
      "  - `typeofhist='byvalue'`, pour un histogramme \u00e0 barres verticales, par valeurs\n",
      "  - `typeofhist='pie'`, pour un \"camembert\"\n",
      "- `pycoa.get` : pour r\u00e9cup\u00e9rer les donn\u00e9es, en vue d'un traitement ult\u00e9rieur."
     ]
    },
    {
     "cell_type": "markdown",
     "metadata": {},
     "source": [
      "# 3. \u2014 Exemples\n",
      "\n",
      "## A. \u2014 \u00c9volution temporelle"
     ]
    },
    {
     "cell_type": "code",
     "collapsed": false,
     "input": [
      "pycoa.plot(which='cur_rea', typeofplot='menulocation')"
     ],
     "language": "python",
     "metadata": {},
     "outputs": [],
     "prompt_number": null
    },
    {
     "cell_type": "code",
     "collapsed": false,
     "input": [
      "pycoa.plot(which='tot_vacc_complet', where='Bretagne')"
     ],
     "language": "python",
     "metadata": {},
     "outputs": [],
     "prompt_number": null
    },
    {
     "cell_type": "code",
     "collapsed": false,
     "input": [
      "pycoa.plot(which='tot_vacc_complet', where='Paris', what='daily')"
     ],
     "language": "python",
     "metadata": {},
     "outputs": [],
     "prompt_number": null
    },
    {
     "cell_type": "code",
     "collapsed": false,
     "input": [
      "pycoa.plot(which='tot_vacc_complet', where='Paris', what='daily', option='smooth7')"
     ],
     "language": "python",
     "metadata": {},
     "outputs": [],
     "prompt_number": null
    },
    {
     "cell_type": "code",
     "collapsed": false,
     "input": [
      "pycoa.plot(where='\u00cele-de-France', option='sumall')"
     ],
     "language": "python",
     "metadata": {},
     "outputs": [],
     "prompt_number": null
    },
    {
     "cell_type": "markdown",
     "metadata": {},
     "source": [
      "## B. \u2014\u00a0Cartes\n",
      "\n",
      "Les cartes, tout comme les graphes cart\u00e9siens pr\u00e9c\u00e9dents, sont interactives."
     ]
    },
    {
     "cell_type": "code",
     "collapsed": false,
     "input": [
      "pycoa.map(where=['M\u00e9tropole'],which='tot_dchosp')"
     ],
     "language": "python",
     "metadata": {},
     "outputs": [],
     "prompt_number": null
    },
    {
     "cell_type": "heading",
     "level": 2,
     "metadata": {},
     "source": [
      "C. \u2014 Histogrammes"
     ]
    },
    {
     "cell_type": "code",
     "collapsed": false,
     "input": [
      "pycoa.hist(where='Ile-de-France', which='tot_vacc_complet')"
     ],
     "language": "python",
     "metadata": {},
     "outputs": [],
     "prompt_number": null
    },
    {
     "cell_type": "code",
     "collapsed": false,
     "input": [
      "pycoa.hist(where='Bretagne' ,which='tot_vacc_complet', typeofhist='pie')"
     ],
     "language": "python",
     "metadata": {},
     "outputs": [],
     "prompt_number": null
    },
    {
     "cell_type": "markdown",
     "metadata": {},
     "source": [
      "## D. \u2014 R\u00e9cup\u00e9ration de donn\u00e9es\n",
      "\n",
      "Il est possible de r\u00e9cup\u00e9rer les donn\u00e9es dans un Pandas DataFrame, structure de donn\u00e9es similaire \u00e0 un tableau Excel, g\u00e9r\u00e9 par la biblioth\u00e8sque `pandas`."
     ]
    },
    {
     "cell_type": "code",
     "collapsed": false,
     "input": [
      "mydf= pycoa.get(where='European Union', which='total_people_vaccinated_per_hundred')\n",
      "display(mydf)"
     ],
     "language": "python",
     "metadata": {},
     "outputs": [],
     "prompt_number": null
    },
    {
     "cell_type": "markdown",
     "metadata": {},
     "source": [
      "## E. \u2014 Travailler sur une autre base de donn\u00e9es\n",
      "\n",
      "Pour cet exemple, nous utilisons les donn\u00e9es de [OWID](https://ourworldindata.org/coronavirus), certainement la base de donn\u00e9es la plus compl\u00e8te sur le Covid-19. A priori les donn\u00e9es concernant le nombre de cas et de d\u00e9c\u00e8s sont identiques \u00e0 celles affich\u00e9es par la Johns Hopkins University, l'une des premi\u00e8re institutions \u00e0 suivre l'\u00e9pid\u00e9mie [JHU](https://coronavirus.jhu.edu/map.html)."
     ]
    },
    {
     "cell_type": "heading",
     "level": 3,
     "metadata": {},
     "source": [
      "Chargement de la base de donn\u00e9es"
     ]
    },
    {
     "cell_type": "code",
     "collapsed": false,
     "input": [
      "pycoa.setwhom('owid')"
     ],
     "language": "python",
     "metadata": {},
     "outputs": [],
     "prompt_number": null
    },
    {
     "cell_type": "markdown",
     "metadata": {},
     "source": [
      "### Repr\u00e9sentation g\u00e9ographique du nombre de d\u00e9c\u00e8s dus au Covid-19\n",
      "\n",
      "Par d\u00e9faut, les donn\u00e9es \u00e9pid\u00e9miologiques charg\u00e9es sont 1er item de la base, ici ``total_deaths'` soit le nombre total de morts. La fonction `pycoa.map` repr\u00e9sente la carte des zones g\u00e9ographiques li\u00e9es \u00e0 la base, ici l'ensemble des pays du monde.\n",
      "\n",
      "L'option `visu='folium'` modifie \u00e0 la marge la carte."
     ]
    },
    {
     "cell_type": "code",
     "collapsed": false,
     "input": [
      "pycoa.map()"
     ],
     "language": "python",
     "metadata": {},
     "outputs": [],
     "prompt_number": null
    },
    {
     "cell_type": "code",
     "collapsed": false,
     "input": [
      "pycoa.map(visu='folium')"
     ],
     "language": "python",
     "metadata": {},
     "outputs": [],
     "prompt_number": null
    },
    {
     "cell_type": "markdown",
     "metadata": {},
     "source": [
      "### Histogramme du nombre de personnes vaccinn\u00e9es pour 100 habitants\n",
      "\n",
      "Il est possible de choisir un sous-ensemble des pays du monde en pr\u00e9cisant le mot cl\u00e9 `where` ; ici on choisit les pays du G20. D'autres options analogues sont possibles, qu'on peut r\u00e9cup\u00e9rer comme pr\u00e9c\u00e9demment expliqu\u00e9 \u00e0 l'aide de la fonction `pycoa.listwhere()`."
     ]
    },
    {
     "cell_type": "code",
     "collapsed": false,
     "input": [
      "pycoa.hist(which='total_people_vaccinated_per_hundred', where='G20')"
     ],
     "language": "python",
     "metadata": {},
     "outputs": [],
     "prompt_number": null
    },
    {
     "cell_type": "markdown",
     "metadata": {},
     "source": [
      "# 4. \u2014  Documentation\n",
      "\n",
      "Une documentation plus compl\u00e8te des instructions et options de Pycoa se trouve sur le [wiki Pycoa](https://github.com/coa-project/pycoa/wiki/Accueil). En particulier consultez le menu affich\u00e9 en bas \u00e0 droite : \n",
      "* [R\u00e9cup\u00e9ration des donn\u00e9es et traitements](https://github.com/coa-project/pycoa/wiki/Donn%C3%A9es%2Ctraitements)\n",
      "* [Graphiques en courbes](https://github.com/coa-project/pycoa/wiki/Courbes)\n",
      "* [Histogrammes, secteurs et cartes](https://github.com/coa-project/pycoa/wiki/Diagrammes%2CCartes)\n",
      "* [Avanc\u00e9](https://github.com/coa-project/pycoa/wiki/Avance)\n",
      "* [\u00c9tudes de cas](https://github.com/coa-project/pycoa/wiki/Etudes%2Cde%2Ccas)\n",
      " \n",
      "Les auteurs du logiciel sont disponibles pour vous aider : \n",
      "* suivez-nous sur Twitter [@pycoa_fr](https://twitter.com/pycoa_fr),\n",
      "* ou \u00e9crivez-nous \u00e0 support@pycoa.fr !"
     ]
    },
    {
     "cell_type": "code",
     "collapsed": false,
     "input": [],
     "language": "python",
     "metadata": {},
     "outputs": [],
     "prompt_number": null
    }
   ],
   "metadata": {}
  }
 ]
}