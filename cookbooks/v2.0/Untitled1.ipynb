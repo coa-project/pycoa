{
 "metadata": {
  "kernelspec": {
   "display_name": "Python 3 (ipykernel)",
   "language": "python",
   "name": "python3"
  },
  "language_info": {
   "codemirror_mode": {
    "name": "ipython",
    "version": 3
   },
   "file_extension": ".py",
   "mimetype": "text/x-python",
   "name": "python",
   "nbconvert_exporter": "python",
   "pygments_lexer": "ipython3",
   "version": "3.9.17"
  },
  "name": ""
 },
 "nbformat": 3,
 "nbformat_minor": 0,
 "worksheets": [
  {
   "cells": [
    {
     "cell_type": "code",
     "collapsed": false,
     "input": [
      "import os.path\n",
      "import json\n",
      "import pandas as pd\n",
      "\n",
      "file='../json/spfnational.json'"
     ],
     "language": "python",
     "metadata": {},
     "outputs": [],
     "prompt_number": 2
    },
    {
     "cell_type": "code",
     "collapsed": false,
     "input": [
      "def parsejson(file):\n",
      "    filename=os.path.basename(file)\n",
      "    check_file = os.path.isfile(file)\n",
      "    if check_file:\n",
      "        try:\n",
      "            with open(file, 'r') as file:\n",
      "                data = json.load(file)\n",
      "            return data\n",
      "        except ValueError as e:\n",
      "            print('Invalid json file ' + os.path.basename(filename) +': %s' % e)\n",
      "            return None # or: raise\n",
      "    else:\n",
      "        print(file +  ' do not exist')"
     ],
     "language": "python",
     "metadata": {},
     "outputs": [],
     "prompt_number": 3
    },
    {
     "cell_type": "code",
     "collapsed": false,
     "input": [
      "from coa.geo import GeoManager as gm\n",
      "#g=gm()\n",
      "#g.set_standard('name')\n",
      "g = coge.GeoManager('iso3')\n",
      "l=g.to_standard(['France'],interpret_region=True,output='list')\n",
      "print(g.get_standard())"
     ],
     "language": "python",
     "metadata": {},
     "outputs": [],
     "prompt_number": 52
    },
    {
     "cell_type": "code",
     "collapsed": false,
     "input": [
      "from coaenv import *\n",
      "import coa.geo as coge\n",
      "\n",
      "g = coge.GeoManager('iso3')\n",
      "namecode  = g.to_standard('Europe',output='dict',db = 'owid')\n",
      "print(namecode)"
     ],
     "language": "python",
     "metadata": {},
     "outputs": [],
     "prompt_number": 31
    },
    {
     "cell_type": "code",
     "collapsed": false,
     "input": [
      "A=\"[iso_code,continent,location,date,total_cases,new_cases,new_cases_smoothed,total_deaths,new_deaths,new_deaths_smoothed,total_cases_per_million,new_cases_per_million,new_cases_smoothed_per_million,total_deaths_per_million,new_deaths_per_million,new_deaths_smoothed_per_million,reproduction_rate,icu_patients,icu_patients_per_million,hosp_patients,hosp_patients_per_million,weekly_icu_admissions,weekly_icu_admissions_per_million,weekly_hosp_admissions,weekly_hosp_admissions_per_million,total_tests,new_tests,total_tests_per_thousand,new_tests_per_thousand,new_tests_smoothed,new_tests_smoothed_per_thousand,positive_rate,tests_per_case,tests_units,total_vaccinations,people_vaccinated,people_fully_vaccinated,total_boosters,new_vaccinations,new_vaccinations_smoothed,total_vaccinations_per_hundred,people_vaccinated_per_hundred,people_fully_vaccinated_per_hundred,total_boosters_per_hundred,new_vaccinations_smoothed_per_million,new_people_vaccinated_smoothed,new_people_vaccinated_smoothed_per_hundred,stringency_index,population_density,median_age,aged_65_older,aged_70_older,gdp_per_capita,extreme_poverty,cardiovasc_death_rate,diabetes_prevalence,female_smokers,male_smokers,handwashing_facilities,hospital_beds_per_thousand,life_expectancy,human_development_index,population,excess_mortality_cumulative_absolute,excess_mortality_cumulative,excess_mortality,excess_mortality_cumulative_per_million]\"\n",
      "import re\n",
      "\n",
      "owid = re.findall(r'[\\w]+', A)\n",
      "pycoa=['total_cases_per_million', 'people_fully_vaccinated', 'weekly_hosp_admissions', 'total_deaths', 'icu_patients', 'total_tests_per_thousand', 'iso_code', 'total_cases', 'total_boosters', 'people_vaccinated', 'date', 'total_vaccinations', 'total_deaths_per_million', 'total_vaccinations_per_hundred', 'positive_rate', 'hosp_patients', 'excess_mortality_cumulative_per_million', 'excess_mortality', 'reproduction_rate', 'total_tests', 'gdp_per_capita', 'people_vaccinated_per_hundred']\n",
      "for i in pycoa:\n",
      "    if i not in owid:\n",
      "        print(i+' not here')\n"
     ],
     "language": "python",
     "metadata": {},
     "outputs": [],
     "prompt_number": 24
    },
    {
     "cell_type": "code",
     "collapsed": false,
     "input": [
      "t=parsejson(file)\n",
      "for i in t['datasets']:\n",
      "     for j in i['columns']:\n",
      "            print(j['name'])\n",
      "#    p = pd.DataFrame(i['columns']).fillna(method='ffill')\n",
      "#    if 'replace' in list(i.keys()):\n",
      "#        for j in i['replace']: \n",
      "#            print(j.keys(),j.values())\n",
      "#    #print(list(i['selections']))"
     ],
     "language": "python",
     "metadata": {},
     "outputs": [],
     "prompt_number": 12
    },
    {
     "cell_type": "code",
     "collapsed": false,
     "input": [
      "t=parsejson(file)\n",
      "p=pd.DataFrame.from_dict(t['columns']).fillna(method='ffill')\n",
      "uurl = p['url'].unique()\n",
      "for i in uurl:\n",
      "    pdselection = p.loc[p.url == i]\n",
      "    #rename = pdselection[['name','alias']]\n",
      "    print(pdselection.set_index('name')['alias'].to_dict())\n",
      "\n",
      "#pd.DataFrame.from_dict(t['columns'])['alias'].to_list()"
     ],
     "language": "python",
     "metadata": {},
     "outputs": [],
     "prompt_number": 54
    },
    {
     "cell_type": "code",
     "collapsed": false,
     "input": [
      "from os import listdir\n",
      "#from os.path import isfile, join\n",
      "mypath=\"../json/\"\n",
      "onlyfiles = [f for f in listdir(mypath) if isfile(join(mypath, f))]\n",
      "print([i.replace('.json','') for i in onlyfiles])"
     ],
     "language": "python",
     "metadata": {},
     "outputs": [],
     "prompt_number": 15
    },
    {
     "cell_type": "code",
     "collapsed": false,
     "input": [
      "A=pd.DataFrame.from_dict(t['columns'])\n",
      "A"
     ],
     "language": "python",
     "metadata": {},
     "outputs": [],
     "prompt_number": 5
    },
    {
     "cell_type": "code",
     "collapsed": false,
     "input": [
      "A.fillna(method='ffill')"
     ],
     "language": "python",
     "metadata": {},
     "outputs": [],
     "prompt_number": 6
    },
    {
     "cell_type": "code",
     "collapsed": false,
     "input": [
      "if os.path.isfile(PATH) and os.access(PATH, os.R_OK):\n",
      "        # checks if file exists\n",
      "        print (\"File exists and is readable\")\n",
      "    else:"
     ],
     "language": "python",
     "metadata": {},
     "outputs": [],
     "prompt_number": 10
    },
    {
     "cell_type": "code",
     "collapsed": false,
     "input": [],
     "language": "python",
     "metadata": {},
     "outputs": [],
     "prompt_number": 5
    },
    {
     "cell_type": "code",
     "collapsed": false,
     "input": [
      "print(\"  Granularity:\", data[\"GeoInfo\"][\"granularity\"])"
     ],
     "language": "python",
     "metadata": {},
     "outputs": [],
     "prompt_number": 14
    },
    {
     "cell_type": "code",
     "collapsed": false,
     "input": [],
     "language": "python",
     "metadata": {},
     "outputs": [],
     "prompt_number": null
    }
   ],
   "metadata": {}
  }
 ]
}