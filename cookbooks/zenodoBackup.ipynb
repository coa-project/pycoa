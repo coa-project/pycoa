{
 "metadata": {
  "kernelspec": {
   "display_name": "Python 3 (ipykernel)",
   "language": "python",
   "name": "python3"
  },
  "language_info": {
   "codemirror_mode": {
    "name": "ipython",
    "version": 3
   },
   "file_extension": ".py",
   "mimetype": "text/x-python",
   "name": "python",
   "nbconvert_exporter": "python",
   "pygments_lexer": "ipython3",
   "version": "3.9.18"
  },
  "name": ""
 },
 "nbformat": 3,
 "nbformat_minor": 0,
 "worksheets": [
  {
   "cells": [
    {
     "cell_type": "markdown",
     "metadata": {},
     "source": [
      "[![Binder](https://mybinder.org/badge_logo.svg)](https://mybinder.org/v2/gh/coa-project/pycoa/zenodo-backup)"
     ]
    },
    {
     "cell_type": "heading",
     "level": 1,
     "metadata": {},
     "source": [
      "Testing zenodo backup  "
     ]
    },
    {
     "cell_type": "markdown",
     "metadata": {},
     "source": [
      "Load libraries"
     ]
    },
    {
     "cell_type": "code",
     "collapsed": false,
     "input": [
      "import sys\n",
      "import subprocess\n",
      "import importlib\n",
      "import requests"
     ],
     "language": "python",
     "metadata": {
      "tags": []
     },
     "outputs": [],
     "prompt_number": 1
    },
    {
     "cell_type": "markdown",
     "metadata": {},
     "source": [
      "Install from source \n",
      "> Configured for a binder environment [![Binder](https://mybinder.org/badge_logo.svg)](https://mybinder.org/v2/gh/coa-project/pycoa/zenodo-backup)"
     ]
    },
    {
     "cell_type": "code",
     "collapsed": true,
     "input": [
      "subprocess.check_call(['pip3', 'install', '-e', '/home/jovyan'])\n",
      "sys.path.insert(1, 'pycoa')\n",
      "import coa.front as pycoa"
     ],
     "language": "python",
     "metadata": {
      "jupyter": {
       "outputs_hidden": true
      },
      "tags": []
     },
     "outputs": [],
     "prompt_number": 2
    },
    {
     "cell_type": "markdown",
     "metadata": {},
     "source": [
      "load database"
     ]
    },
    {
     "cell_type": "code",
     "collapsed": false,
     "input": [
      "pycoa.setwhom(\"phe\")"
     ],
     "language": "python",
     "metadata": {
      "tags": []
     },
     "outputs": [],
     "prompt_number": null
    }
   ],
   "metadata": {}
  }
 ]
}