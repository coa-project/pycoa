{
 "metadata": {
  "colab": {
   "collapsed_sections": [],
   "include_colab_link": true,
   "name": "Salon de la Culture et des Jeux Math\u00e9matiques 2022",
   "provenance": [],
   "toc_visible": true
  },
  "kernelspec": {
   "display_name": "Python 3",
   "language": "python",
   "name": "python3"
  },
  "language_info": {
   "codemirror_mode": {
    "name": "ipython",
    "version": 3
   },
   "file_extension": ".py",
   "mimetype": "text/x-python",
   "name": "python",
   "nbconvert_exporter": "python",
   "pygments_lexer": "ipython3",
   "version": "3.8.10"
  },
  "name": ""
 },
 "nbformat": 3,
 "nbformat_minor": 0,
 "worksheets": [
  {
   "cells": [
    {
     "cell_type": "markdown",
     "metadata": {
      "colab_type": "text",
      "id": "view-in-github"
     },
     "source": [
      "<a href=\"https://colab.research.google.com/github/coa-project/pycoa/blob/dev/coabook/FdS2022a.ipynb\" target=\"_parent\"><img src=\"https://colab.research.google.com/assets/colab-badge.svg\" alt=\"Open In Colab\"/></a>"
     ]
    },
    {
     "cell_type": "markdown",
     "metadata": {},
     "source": [
      "<a href=\"https://mybinder.org/v2/gh/coa-project/pycoa/dev?labpath=coabook/FdS2022a.ipynb\" target=\"_parent\"><img src=\"https://camo.githubusercontent.com/581c077bdbc6ca6899c86d0acc6145ae85e9d80e6f805a1071793dbe48917982/68747470733a2f2f6d7962696e6465722e6f72672f62616467655f6c6f676f2e737667\" alt=\"Open In Binder\"/></a>"
     ]
    },
    {
     "cell_type": "markdown",
     "metadata": {
      "id": "yrk1vvuwxiUu"
     },
     "source": [
      "<a href=\"https://nbviewer.org/github/coa-project/pycoa/blob/dev/coabook/FdS2022a.ipynb\" target=\"_parent\" ><img src=\"https://raw.githubusercontent.com/jupyter/design/master/logos/Badges/nbviewer_badge.svg\" height=\"25\"  alt=\"View in Jupyter nbviewwer\" align=\"middle\" /></a>"
     ]
    },
    {
     "cell_type": "markdown",
     "metadata": {
      "id": "xueZfi-b_sre"
     },
     "source": [
      "<img src=\"https://www.pycoa.fr/fig/logo-anime.gif\" alt=\"Pycoa\" width=\"125\">\n",
      "\n",
      "# D\u00e9monstration du logiciel PyCoA (27 juin 2022)\n",
      "[\u24d2pycoa.fr](http://pycoa.fr)\n",
      "\n",
      "Ce cahier (*notebook*) Jupyter de d\u00e9monstration est destin\u00e9 aux \u00e9l\u00e8ves et enseignant\u00b7es de lyc\u00e9e.\n",
      "\n",
      "Il est stock\u00e9 sur GitHub et t\u00e9l\u00e9chargeable \u00e0 l'adresse\n",
      "http://bit.ly/pycoaFdS22a. Il fonctionne avec la version `dev` juin 2022 de PyCoa."
     ]
    },
    {
     "cell_type": "heading",
     "level": 1,
     "metadata": {
      "id": "_hfa1G0M7Lc5"
     },
     "source": [
      "Importation du package dans l'environement de d\u00e9veloppement"
     ]
    },
    {
     "cell_type": "markdown",
     "metadata": {},
     "source": [
      "Les commandes ci-apr\u00e8s s'assurent de la bonne installation et configuration de PyCoA : \n",
      "* dans le cas d'une installation locale\n",
      "* pour l'utilisation dans Colab\n",
      "* pour l'utilisation dans Binder\n",
      "\n",
      "**Ex\u00e9cutez ces lignes sans trop vous poser de questions\u2026**"
     ]
    },
    {
     "cell_type": "code",
     "collapsed": false,
     "input": [
      "import sys\n",
      "import subprocess\n",
      "import importlib\n",
      "coa_module_info = importlib.util.find_spec(\"coaenv\")\n",
      "if coa_module_info != None:\n",
      "  import coaenv as pycoa\n",
      "else:\n",
      "  #dans le cas o\u00f9 on utilise colab de Google  \n",
      "  subprocess.check_call(['pip3', 'install', '--quiet', 'git+https://github.com/coa-project/pycoa.git@dev'])\n",
      "  sys.path.insert(1, 'pycoa')\n",
      "  import coa.front as pycoa"
     ],
     "language": "python",
     "metadata": {
      "id": "a7S3ZtTKNkwn"
     },
     "outputs": [],
     "prompt_number": null
    },
    {
     "cell_type": "markdown",
     "metadata": {},
     "source": [
      "Si tout se passe bien, on doit voir affich\u00e9es les lignes suivantes : \n",
      "```\n",
      "JHU aka Johns Hopkins database selected ...\n",
      "Few information concernant the selected database :  jhu\n",
      "Available key-words, which \u2208 ['tot_deaths', 'tot_confirmed']\n",
      "Example of location :  Georgia, Israel, Venezuela, Bolivarian Republic of, Libya, New Zealand  ...\n",
      "Last date data  2022-06-25\n",
      "````\n",
      "\n",
      "Cela signifie que le logiciel PyCoA a bien \u00e9t\u00e9 install\u00e9. Une base de donn\u00e9es \u00e9pid\u00e9miologique a \u00e9t\u00e9 charg\u00e9e par d\u00e9fait : `JHU`. La John Hopkins University (JHU) est une des premi\u00e8res institution \u00e0 avoir agr\u00e9g\u00e9 les donn\u00e9es \u00e9pid\u00e9miologiques des pays, et propos\u00e9 un tableau de bord sur internet (*dashboard*) pour visualiser les donn\u00e9es : https://coronavirus.jhu.edu/map.html. \n",
      "\n",
      "PyCoA a \u00e9t\u00e9 con\u00e7u pour \u00e9tenndre les possibilit\u00e9s de ces *dashboard*. D'une part il permet de r\u00e9cup\u00e9rer directement les donn\u00e9es \u00e9pid\u00e9miologiques  ; d'autre par il permet les repr\u00e9senter comme on le souhaite.\n"
     ]
    },
    {
     "cell_type": "markdown",
     "metadata": {},
     "source": [
      "# Pour commencer\n",
      "\n",
      "## Une premi\u00e8re instruction"
     ]
    },
    {
     "cell_type": "code",
     "collapsed": false,
     "input": [
      "pycoa.plot(option='sumall')"
     ],
     "language": "python",
     "metadata": {},
     "outputs": [],
     "prompt_number": null
    },
    {
     "cell_type": "markdown",
     "metadata": {},
     "source": [
      "Cette instruction `pycoa.plot`, trace l'\u00e9volution temporelle de certaines donn\u00e9es, ici le nombre total de d\u00e9c\u00e8s dus au Covid dans le monde. Le graphe obtenu, qui utilise la librairie [Bokeh](https://bokeh.org/), est interactif : \n",
      "- que se passe-t-il lorsque le **curseur passe sur la courbe ?**\n",
      "- \u00e0 quoi servent **les 5 ic\u00f4nes en haut \u00e0 droite ?** ;\n",
      "- il y a deux onglets *linear* et *log* : **\u00e0 quoi servent-ils ?**"
     ]
    },
    {
     "cell_type": "markdown",
     "metadata": {},
     "source": [
      "On n'a pas besoin de pr\u00e9ciser que c'est le nombre total de d\u00e9c\u00e8s (`tot_deaths`) qu'on veut tracer ici, c'est choisi par d\u00e9faut. En revanche on pr\u00e9cise bien qu'on veut la somme de tous les pays, et non (par exemple) le nombre pour chaque pays : on utilise donc le mot-cl\u00e9 `sumall`.\n",
      "\n",
      "Les mots-cl\u00e9s (`kwargs`) permette de pr\u00e9ciser ce qu'on veut tracer."
     ]
    },
    {
     "cell_type": "markdown",
     "metadata": {},
     "source": [
      "## *Mots-cl\u00e9s*\n",
      "\n",
      "Diff\u00e9rents mots-cl\u00e9s sont possibles pour les diverses instructions :\n",
      "\n",
      "*   `which`: donn\u00e9e s\u00e9lectionn\u00e9e dans la base courante\n",
      "*   `what`: information de type `'cumul'`, `'daily'` ou `'weekly'`\n",
      "*   `where`: s\u00e9lection de la localisation, localisation qui d\u00e9pend de la base utilis\u00e9e\n",
      "  *   pays, `list` de pays, r\u00e9gion, continent\u2026\n",
      "  *   d\u00e9partement, `list` de d\u00e9partements, r\u00e9gions\n",
      "*   `option`: `'nonneg'`, `'nofillnan'`, `'smooth7'`, `'sumall'`\n",
      "*   `when`: fen\u00eatre de date pour la donn\u00e9e s\u00e9lectionn\u00e9e"
     ]
    },
    {
     "cell_type": "markdown",
     "metadata": {},
     "source": [
      "## Un deuxi\u00e8me exemple\n",
      "\n",
      "**Que pensez-vous que l'instruction suivante fasse ?**"
     ]
    },
    {
     "cell_type": "code",
     "collapsed": false,
     "input": [
      "pycoa.plot(where='g20')"
     ],
     "language": "python",
     "metadata": {},
     "outputs": [],
     "prompt_number": null
    },
    {
     "cell_type": "markdown",
     "metadata": {},
     "source": [
      "En utilisant les capacit\u00e9s interactives du graphe, **comparez l'\u00e9volution temporelle des dif\u00e9rents pays au d\u00e9but de l'\u00e9pid\u00e9mie.**\n",
      "\n",
      "**Peut-on voir la nature initialement exponentielle de l'\u00e9pid\u00e9mie ?**"
     ]
    },
    {
     "cell_type": "markdown",
     "metadata": {},
     "source": [
      "## Une premi\u00e8re carte\n",
      "\n",
      "Outre des s\u00e9ries temportelles, PyCoA permet de repr\u00e9senter des donn\u00e9es spatiales, plus sp\u00e9cifiquement des cartes."
     ]
    },
    {
     "cell_type": "code",
     "collapsed": false,
     "input": [
      "pycoa.map(where='oecd', what='daily', when='01/06/2022', which='tot_confirmed')"
     ],
     "language": "python",
     "metadata": {},
     "outputs": [],
     "prompt_number": null
    },
    {
     "cell_type": "markdown",
     "metadata": {},
     "source": [
      "Cette carte, comme les graphes pr\u00e9c\u00e9dent, est \u00e9galement interactive. ** Essayez de centrer la carte sur la France **.\n",
      "\n",
      "D'autres instructions existent dans PyCoA."
     ]
    },
    {
     "cell_type": "markdown",
     "metadata": {},
     "source": [
      "## *Instructions de PyCoA*\n",
      "*   `pycoa.plot` : pour les s\u00e9ries temporelles\n",
      "*   `pycoa.map` : pour une repr\u00e9sentation sous forme de carte\n",
      "*   `pycoa.hist` : pour les histogrammes, avec pour option\n",
      "  *   `typeofhist='bycountry'` (par d\u00e9faut), pour un histogramme \u00e0 barres horizontales, lieu par lieu\n",
      "  *   `typeofhist='byvalue'`, pour un histogramme \u00e0 barres verticales, par valeurs\n",
      "  *   `typeofhist='pie'`, pour un camembert\n",
      "*   `pycoa.get` : pour r\u00e9cup\u00e9rer les donn\u00e9es, en vue d'un traitement ult\u00e9rieur"
     ]
    },
    {
     "cell_type": "markdown",
     "metadata": {},
     "source": [
      "## *Documentation*\n",
      "\n",
      "Une documentation plus compl\u00e8te des instructions et options de PyCoA se trouve sur le [wiki PyCoA](https://github.com/coa-project/pycoa/wiki/Accueil). En particulier consultez le menu affich\u00e9 en bas \u00e0 droite : \n",
      "* [R\u00e9cup\u00e9ration des donn\u00e9es et traitements](https://github.com/coa-project/pycoa/wiki/Donn%C3%A9es%2Ctraitements)\n",
      "* [Graphiques en courbes](https://github.com/coa-project/pycoa/wiki/Courbes)\n",
      "* [Histogrammes, secteurs et cartes](https://github.com/coa-project/pycoa/wiki/Diagrammes%2CCartes)\n",
      "* [Avanc\u00e9](https://github.com/coa-project/pycoa/wiki/Avance)\n",
      "* [\u00c9tudes de cas](https://github.com/coa-project/pycoa/wiki/Etudes%2Cde%2Ccas)"
     ]
    },
    {
     "cell_type": "markdown",
     "metadata": {},
     "source": [
      "# Pour continuer\n",
      "\n",
      "## D'autres bases de donn\u00e9es\n",
      "\n",
      "Il est possible d'utiliser d'autres bases de donn\u00e9es. 18 bases de donn\u00e9es sont accessibles. 17 concernent le COVID : \n",
      "\n",
      "N\u00b0| Nom PyCoA |\tPays (WW=monde) |\tGranularit\u00e9\n",
      "--- | --- | --- | ---\n",
      "1 |\tjhu |\tWW \t| nation |\tWorld\n",
      "2 |\towid |\tWW |\tnation |\tWorld\n",
      "3 |\tjhu-usa |\tUSA \t| subregion |\tUnited States of America\n",
      "4 |\tspf |\t\tFRA |\t\tsubregion |\t\tFrance\n",
      "5 |\tspfnational |\t\tFRA |\t\tnation |\t\tFrance\n",
      "6 |\topencovid19 |\t\tFRA |\t\tsubregion |\t\tFrance\n",
      "7 |\topencovid19national |\t\tFRA |  \tnation |\t\tFrance\n",
      "8 |\tdpc |\t\tITA |\t\tregion |\t\tItaly\n",
      "9 |\tcovidtracking \t|\tUSA |\t\tsubregion |\t\tUnited States of America\n",
      "10 |\tcovid19india |\t\tIND |\t\tregion |\t\tIndia\n",
      "11 \t| rki |\t\tDEU |\t\tsubregion |\t\tGermany\n",
      "12 \t| escovid19data |\t\tESP |\t\tsubregion |\t\tSpain\n",
      "13 \t| phe |\t\tGBR |\t\tsubregion |\t\tUnited Kingdom\n",
      "14 |\tsciensano |\t\tBEL |\t\tregion |\t\tBelgium\n",
      "15 |\tdgs |\t\tPRT |\t\tregion |\t\tPortugal\n",
      "16 |\tobepine |\tFRA  |\tregion |\t\tFrance\n",
      "17 | moh |\tMYS | \tsubregion |\t\tMalaysia\n",
      "\n",
      "Il y a quelques semaines, on a ajout\u00e9 une 18e base de donn\u00e9e concernant la [mal nomm\u00e9e](https://www.lemonde.fr/blog/realitesbiomedicales/2022/06/16/variole-du-singe-il-est-urgent-de-changer-le-nom-du-virus-et-de-la-maladie/) \u00ab variole du singe \u00bb (*monkeypox*) : `'mpoxgh'`.\n",
      "\n",
      "Pour s\u00e9lectionner une base de donn\u00e9e sp\u00e9cifique, on utilse l'instruction `pycoa.setwhom`, comme dans l'exemple suivant."
     ]
    },
    {
     "cell_type": "code",
     "collapsed": false,
     "input": [
      "pycoa.setwhom('owid')"
     ],
     "language": "python",
     "metadata": {},
     "outputs": [],
     "prompt_number": null
    },
    {
     "cell_type": "markdown",
     "metadata": {},
     "source": [
      "Une fois charg\u00e9e, le contenu de la base de donn\u00e9es est indiqu\u00e9. En particulier, la base de donn\u00e9es [OwID = \"Our World In Data\"](https://ourworldindata.org/coronavirus) contient des donn\u00e9es relatives \u00e0 la vaccination (ce qui n'\u00e9tait pas le cas de JHU, pr\u00e9c\u00e9demment s\u00e9lectionn\u00e9e par d\u00e9faut). Il devient alors possible d'explorer les corr\u00e9lations entre vaccination et mortalit\u00e9."
     ]
    },
    {
     "cell_type": "markdown",
     "metadata": {},
     "source": [
      "**Explorez et expliquez** les effets des 3 instructions suivantes."
     ]
    },
    {
     "cell_type": "code",
     "collapsed": false,
     "input": [
      "pycoa.hist(which='total_vaccinations') # default is for all countries"
     ],
     "language": "python",
     "metadata": {},
     "outputs": [],
     "prompt_number": null
    },
    {
     "cell_type": "code",
     "collapsed": false,
     "input": [
      "pycoa.hist(which='cur_icu_patients', typeofhist='pie',where='european union')"
     ],
     "language": "python",
     "metadata": {},
     "outputs": [],
     "prompt_number": null
    },
    {
     "cell_type": "code",
     "collapsed": false,
     "input": [
      "pycoa.hist(which='total_people_fully_vaccinated_per_hundred', typeofhist='byvalue', where='asia')"
     ],
     "language": "python",
     "metadata": {},
     "outputs": [],
     "prompt_number": null
    },
    {
     "cell_type": "markdown",
     "metadata": {},
     "source": [
      "## Donn\u00e9es fran\u00e7aises\n",
      "\n",
      "Sant\u00e9 Publique France (`spf`) diffuse les donn\u00e9es aff\u00e9rentes \u00e0 l'\u00e9pid\u00e9mie de COVID en France. Malheureusement, contrairement aux autres bases de donn\u00e9es, le format des donn\u00e9es varie souvent, sans avertissement. Il arrive donc h\u00e9las que les commandes \u00e9chouent, le temps d'apdater PyCoA aux derni\u00e8res modifications.\n",
      "\n",
      "Dans la cellule ci-dessous, **proposez une instruction pour s\u00e9lectionner la base de donn\u00e9e `spf`.**"
     ]
    },
    {
     "cell_type": "code",
     "collapsed": false,
     "input": [
      "pycoa.setwhom('spf')"
     ],
     "language": "python",
     "metadata": {},
     "outputs": [],
     "prompt_number": null
    },
    {
     "cell_type": "markdown",
     "metadata": {},
     "source": [
      "L'instruction suivante trace la carte du taux de vaccination pour la M\u00e9tropole."
     ]
    },
    {
     "cell_type": "code",
     "collapsed": false,
     "input": [
      "pycoa.map(where='M\u00e9tropole',which='tot_vacc_complet', tile='esri', bypop='100') # Vaccinations, map view optional tile, with population normalization "
     ],
     "language": "python",
     "metadata": {},
     "outputs": [],
     "prompt_number": null
    },
    {
     "cell_type": "heading",
     "level": 2,
     "metadata": {},
     "source": [
      "Donn\u00e9es am\u00e9ricaines"
     ]
    },
    {
     "cell_type": "markdown",
     "metadata": {},
     "source": [
      "**Pr\u00e9voir ce que font l'ensemble des deux instructions suivantes.** (avant de les ex\u00e9cuter)\n"
     ]
    },
    {
     "cell_type": "code",
     "collapsed": false,
     "input": [
      "pycoa.setwhom('jhu-usa')"
     ],
     "language": "python",
     "metadata": {},
     "outputs": [],
     "prompt_number": null
    },
    {
     "cell_type": "code",
     "collapsed": false,
     "input": [
      "pycoa.map(visu='folium')"
     ],
     "language": "python",
     "metadata": {},
     "outputs": [],
     "prompt_number": null
    },
    {
     "cell_type": "markdown",
     "metadata": {},
     "source": [
      "## MonkeyPox\n",
      "\n",
      "Repr\u00e9sentez successivement : \n",
      "- l'\u00e9volution temporelle du nombre de cas mondiaux de monkeypox\n",
      "- l'\u00e9volution temporelle de nombre de cas dans chaque pays\n",
      "- l'histogramme des cas de monkeypox\n",
      "- la carte mondiale des cas de monkeypox"
     ]
    },
    {
     "cell_type": "code",
     "collapsed": false,
     "input": [],
     "language": "python",
     "metadata": {},
     "outputs": [],
     "prompt_number": null
    },
    {
     "cell_type": "code",
     "collapsed": false,
     "input": [],
     "language": "python",
     "metadata": {},
     "outputs": [],
     "prompt_number": null
    },
    {
     "cell_type": "code",
     "collapsed": false,
     "input": [],
     "language": "python",
     "metadata": {},
     "outputs": [],
     "prompt_number": null
    },
    {
     "cell_type": "code",
     "collapsed": false,
     "input": [],
     "language": "python",
     "metadata": {},
     "outputs": [],
     "prompt_number": null
    },
    {
     "cell_type": "heading",
     "level": 1,
     "metadata": {},
     "source": [
      "Pour aller encore plus loin, sur la base d'exemples"
     ]
    },
    {
     "cell_type": "code",
     "collapsed": false,
     "input": [
      "print(pycoa.listwhich())\n",
      "print(pycoa.listwhat())\n",
      "print(pycoa.listoption())\n",
      "print(pycoa.listwhom(detailed=True))"
     ],
     "language": "python",
     "metadata": {
      "id": "kDG2y1pNXxSW"
     },
     "outputs": [],
     "prompt_number": null
    },
    {
     "cell_type": "code",
     "collapsed": false,
     "input": [
      "pycoa.setwhom('spf')"
     ],
     "language": "python",
     "metadata": {
      "id": "ybd6vpJNosUg"
     },
     "outputs": [],
     "prompt_number": null
    },
    {
     "cell_type": "code",
     "collapsed": false,
     "input": [
      "pycoa.listwhere(True) # Pour avoir la liste des r\u00e9gions"
     ],
     "language": "python",
     "metadata": {},
     "outputs": [],
     "prompt_number": null
    },
    {
     "cell_type": "code",
     "collapsed": false,
     "input": [
      "pycoa.hist(where='ile de france',which='cur_rea')"
     ],
     "language": "python",
     "metadata": {},
     "outputs": [],
     "prompt_number": null
    },
    {
     "cell_type": "code",
     "collapsed": false,
     "input": [
      "pycoa.plot(where='M\u00e9tropole',what='daily',which='tot_dchosp')"
     ],
     "language": "python",
     "metadata": {
      "id": "Mex3OQI-YJ-2"
     },
     "outputs": [],
     "prompt_number": null
    },
    {
     "cell_type": "code",
     "collapsed": false,
     "input": [
      "pycoa.plot(where='M\u00e9tropole',what='daily',which='tot_dchosp',option='smooth7') # moyennage sur 7 jours glissants"
     ],
     "language": "python",
     "metadata": {
      "id": "NgzTaICjvvD0"
     },
     "outputs": [],
     "prompt_number": null
    },
    {
     "cell_type": "markdown",
     "metadata": {
      "id": "7cFUUJBzcxq_"
     },
     "source": [
      "Avec notre package de gestion de la geographie, on peut faire par exemple : "
     ]
    },
    {
     "cell_type": "code",
     "collapsed": false,
     "input": [
      "pycoa.setwhom('jhu')\n",
      "pycoa.plot(where='G20',what='daily',which='tot_deaths')"
     ],
     "language": "python",
     "metadata": {
      "id": "GYw6yqvAcwmI"
     },
     "outputs": [],
     "prompt_number": null
    },
    {
     "cell_type": "markdown",
     "metadata": {
      "id": "KjCgQFLbdeeZ"
     },
     "source": [
      "Il est possible d'utiliser l'option `sumall` pour l'Afrique compl\u00e8te entre le 01/05/2020 et le 27/01/2021."
     ]
    },
    {
     "cell_type": "code",
     "collapsed": false,
     "input": [
      "pycoa.plot(where='Africa',what='daily',which='tot_deaths',option=\"sumall\",when='01/05/2020:27/01/2021')"
     ],
     "language": "python",
     "metadata": {
      "id": "g44MPW3taxX9"
     },
     "outputs": [],
     "prompt_number": null
    },
    {
     "cell_type": "markdown",
     "metadata": {
      "id": "hQWpM38aeEkE"
     },
     "source": [
      "Si on se concentre sur la France et l'Espagne\u2026"
     ]
    },
    {
     "cell_type": "code",
     "collapsed": false,
     "input": [
      "pycoa.plot(where=['France','Spain'],what='daily',which='tot_deaths')"
     ],
     "language": "python",
     "metadata": {
      "id": "6pKXTyT5ZIdh"
     },
     "outputs": [],
     "prompt_number": null
    },
    {
     "cell_type": "code",
     "collapsed": false,
     "input": [
      "pycoa.plot(where=['France','Spain'],what='standard',which='tot_deaths')"
     ],
     "language": "python",
     "metadata": {
      "id": "R0fmFePxemAE"
     },
     "outputs": [],
     "prompt_number": null
    },
    {
     "cell_type": "code",
     "collapsed": false,
     "input": [
      "pycoa.plot(where=['France','Spain'],what='standard',which='tot_deaths',option='nonneg')"
     ],
     "language": "python",
     "metadata": {
      "id": "cUAtb_eHeuZA"
     },
     "outputs": [],
     "prompt_number": null
    },
    {
     "cell_type": "code",
     "collapsed": false,
     "input": [
      "# Owid database\n",
      "pycoa.setwhom('owid')"
     ],
     "language": "python",
     "metadata": {
      "id": "SoYpafDye7Ry"
     },
     "outputs": [],
     "prompt_number": null
    },
    {
     "cell_type": "code",
     "collapsed": false,
     "input": [
      "pycoa.hist(where='Europe',which='total_vaccinations',typeofhist='pie')"
     ],
     "language": "python",
     "metadata": {
      "id": "Bhy7bn1De_K2"
     },
     "outputs": [],
     "prompt_number": null
    },
    {
     "cell_type": "code",
     "collapsed": false,
     "input": [
      "pycoa.map(where='G7',what='standard',which='total_vaccinations')"
     ],
     "language": "python",
     "metadata": {
      "id": "Mm21lYqhfN-P"
     },
     "outputs": [],
     "prompt_number": null
    },
    {
     "cell_type": "code",
     "collapsed": false,
     "input": [
      "pycoa.map(where='G7',what='standard',which='total_vaccinations',tile='esri')"
     ],
     "language": "python",
     "metadata": {
      "id": "4k2YC1LYgr5d"
     },
     "outputs": [],
     "prompt_number": null
    },
    {
     "cell_type": "code",
     "collapsed": false,
     "input": [
      "# Base de SPF\n",
      "pycoa.setwhom('spf')"
     ],
     "language": "python",
     "metadata": {
      "id": "YqxknP3pfSDy"
     },
     "outputs": [],
     "prompt_number": null
    },
    {
     "cell_type": "code",
     "collapsed": false,
     "input": [
      "pycoa.hist(where=['\u00cele-de-France','Bretagne',\"Provence-Alpes-C\u00f4te d'Azur\"],what='standard',which='tot_vacc_complet')\n",
      "pycoa.plot(where=['\u00cele-de-France','Bretagne',\"Provence-Alpes-C\u00f4te d'Azur\"],what='standard',which='tot_vacc_complet')"
     ],
     "language": "python",
     "metadata": {
      "id": "wcuVLyJKgIiU"
     },
     "outputs": [],
     "prompt_number": null
    },
    {
     "cell_type": "code",
     "collapsed": false,
     "input": [
      "# Utilisation de la notation \u00e0 double crochets\n",
      "pycoa.hist(where=[['\u00cele-de-France'],['Bretagne'],[\"Provence-Alpes-C\u00f4te d'Azur\"]],what='standard',which='tot_vacc_complet',option='sumall')\n",
      "pycoa.plot(where=[['\u00cele-de-France'],['Bretagne'],[\"Provence-Alpes-C\u00f4te d'Azur\"]],what='standard',which='tot_vacc_complet',option='sumall')"
     ],
     "language": "python",
     "metadata": {},
     "outputs": [],
     "prompt_number": null
    },
    {
     "cell_type": "code",
     "collapsed": false,
     "input": [
      "pycoa.plot(option='sumall',which='tot_vacc_complet')"
     ],
     "language": "python",
     "metadata": {
      "id": "HmQjlZAYwv58"
     },
     "outputs": [],
     "prompt_number": null
    },
    {
     "cell_type": "heading",
     "level": 2,
     "metadata": {},
     "source": [
      "\u00c0 vous de jouer maintenant !\u2026"
     ]
    },
    {
     "cell_type": "code",
     "collapsed": false,
     "input": [],
     "language": "python",
     "metadata": {},
     "outputs": [],
     "prompt_number": null
    }
   ],
   "metadata": {}
  }
 ]
}