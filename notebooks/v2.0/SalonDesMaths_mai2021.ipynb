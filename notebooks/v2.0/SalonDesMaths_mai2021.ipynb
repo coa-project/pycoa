{
 "metadata": {
  "kernelspec": {
   "display_name": "Python 3 (ipykernel)",
   "language": "python",
   "name": "python3"
  },
  "language_info": {
   "codemirror_mode": {
    "name": "ipython",
    "version": 3
   },
   "file_extension": ".py",
   "mimetype": "text/x-python",
   "name": "python",
   "nbconvert_exporter": "python",
   "pygments_lexer": "ipython3",
   "version": "3.9.6"
  },
  "name": ""
 },
 "nbformat": 3,
 "nbformat_minor": 0,
 "worksheets": [
  {
   "cells": [
    {
     "cell_type": "markdown",
     "metadata": {},
     "source": [
      "![pycoa_logo](https://github.com/coa-project/coa-project.github.io/raw/main/fig/logo-bitmap-small.png)\n",
      "\n",
      "# Salon des maths mai 2021 - D\u00e9monstration pycoa\n",
      "Tristan Beau, Julien Browae\u00ffs, Olivier Dadoun\n",
      "\n",
      "Retrouvez nous sur :\n",
      "* le web : [www.pycoa.fr](www.pycoa.fr)\n",
      "* twitter : [@pycoa_fr](https://twitter.com/pycoa_fr)\n",
      "* git : [coa-project/pycoa](https://github.com/coa-project/pycoa)\n",
      "* data gouv fr : [reuses/pycoa-python-covid-analysis](https://www.data.gouv.fr/fr/reuses/pycoa-python-covid-analysis/%20%20%20%20)\n",
      "* mail : [support@pycoa.fr](mailto:support@pycoa.fr)\n",
      "\n",
      "Pour une documentation de r\u00e9f\u00e9rence, consulter le [wiki](https://github.com/coa-project/pycoa/wiki)."
     ]
    },
    {
     "cell_type": "markdown",
     "metadata": {},
     "source": [
      "Ce notebook Jupyter\u2122 est disponible directement sous [mybinder](https://mybinder.org). Retrouvez l'environnement binder [ici](https://github.com/coa-project/coadocker)."
     ]
    },
    {
     "cell_type": "heading",
     "level": 2,
     "metadata": {},
     "source": [
      "Configuration de l'environnement"
     ]
    },
    {
     "cell_type": "code",
     "collapsed": false,
     "input": [
      "import coaenv as cf"
     ],
     "language": "python",
     "metadata": {},
     "outputs": [],
     "prompt_number": 2
    },
    {
     "cell_type": "markdown",
     "metadata": {},
     "source": [
      "Chargement du *frontend*"
     ]
    },
    {
     "cell_type": "heading",
     "level": 2,
     "metadata": {},
     "source": [
      "Premiers graphiques"
     ]
    },
    {
     "cell_type": "code",
     "collapsed": false,
     "input": [
      "cf.map()  # arguments par d\u00e9faut"
     ],
     "language": "python",
     "metadata": {},
     "outputs": [],
     "prompt_number": 3
    },
    {
     "cell_type": "code",
     "collapsed": false,
     "input": [
      "cf.plot(where='European union',which='tot_deaths') # en sp\u00e9cifiant le lieu, la donn\u00e9e d'int\u00e9r\u00eat"
     ],
     "language": "python",
     "metadata": {},
     "outputs": [],
     "prompt_number": 6
    },
    {
     "cell_type": "code",
     "collapsed": false,
     "input": [
      "cf.listwhere() # Une r\u00e9gion est un ensemble de subregions, pour une base mondiale, de pays"
     ],
     "language": "python",
     "metadata": {},
     "outputs": [],
     "prompt_number": 8
    },
    {
     "cell_type": "code",
     "collapsed": false,
     "input": [
      "cf.plot(where='Europe',which='tot_deaths',option='sumall',what=\"standard\") # possibilit\u00e9 de sommer le champ de donn\u00e9es sur tous les pays consid\u00e9r\u00e9s"
     ],
     "language": "python",
     "metadata": {},
     "outputs": [],
     "prompt_number": 14
    },
    {
     "cell_type": "code",
     "collapsed": false,
     "input": [
      "cf.listwhich() # liste des champs de donn\u00e9es accessibles pour la base actuelle, jhu pr\u00e9sentement"
     ],
     "language": "python",
     "metadata": {},
     "outputs": [],
     "prompt_number": 11
    },
    {
     "cell_type": "code",
     "collapsed": false,
     "input": [
      "cf.listwhat() # liste des repr\u00e9sentations possibles : cumulative (par d\u00e9faut), journali\u00e8re, hebdomadaire"
     ],
     "language": "python",
     "metadata": {},
     "outputs": [],
     "prompt_number": 12
    },
    {
     "cell_type": "code",
     "collapsed": false,
     "input": [
      "cf.listoption() # liste des options disponibles (voir l'aide si besoin)"
     ],
     "language": "python",
     "metadata": {},
     "outputs": [],
     "prompt_number": null
    },
    {
     "cell_type": "code",
     "collapsed": false,
     "input": [
      "cf.plot(where=['France','Italy','Spain','United kingdom'],which='confirmed',what='weekly') # en pr\u00e9cisant plusieurs pays explicitement\n",
      "# on pourra ajouter utilement l'option nonneg pour voir ce que cela donne, ou smooth7 (ou les deux)"
     ],
     "language": "python",
     "metadata": {},
     "outputs": [],
     "prompt_number": null
    },
    {
     "cell_type": "code",
     "collapsed": false,
     "input": [
      "cf.hist(where='G7') # histogramme horizontal par pays, en sp\u00e9cifiant ici une r\u00e9gion comme localisation. Noter la possibilit\u00e9 d'avoir une repr\u00e9sentation en log"
     ],
     "language": "python",
     "metadata": {},
     "outputs": [],
     "prompt_number": null
    },
    {
     "cell_type": "code",
     "collapsed": false,
     "input": [
      "cf.hist(where='G7',typeofhist='pie') # m\u00eame type d'information mais sous forme d'un camembert."
     ],
     "language": "python",
     "metadata": {},
     "outputs": [],
     "prompt_number": null
    },
    {
     "cell_type": "code",
     "collapsed": false,
     "input": [
      "cf.hist(where='World',typeofhist='byvalue',bins=50) # histogramme classique par valeur. On notera la possibilit\u00e9 d'avoir les donn\u00e9es en logx, logy voire loglog."
     ],
     "language": "python",
     "metadata": {},
     "outputs": [],
     "prompt_number": null
    },
    {
     "cell_type": "heading",
     "level": 2,
     "metadata": {},
     "source": [
      "Quelles autres bases support\u00e9es par pycoa ? "
     ]
    },
    {
     "cell_type": "code",
     "collapsed": false,
     "input": [
      "cf.getwhom() # retourne la base actuelle charg\u00e9e dans le frontend"
     ],
     "language": "python",
     "metadata": {},
     "outputs": [],
     "prompt_number": null
    },
    {
     "cell_type": "code",
     "collapsed": false,
     "input": [
      "cf.listwhom() # liste des bases support\u00e9es"
     ],
     "language": "python",
     "metadata": {},
     "outputs": [],
     "prompt_number": null
    },
    {
     "cell_type": "code",
     "collapsed": false,
     "input": [
      "cf.setwhom('spf') # changement de base, ici SPF, Sant\u00e9 Publique France. \n",
      "# Noter les champs de donn\u00e9es accessibles"
     ],
     "language": "python",
     "metadata": {},
     "outputs": [],
     "prompt_number": 3
    },
    {
     "cell_type": "code",
     "collapsed": false,
     "input": [
      "cf.plot(which='tot_vacc2',where='M\u00e9tropole',option='sumall',when='01/01/2021:') "
     ],
     "language": "python",
     "metadata": {},
     "outputs": [],
     "prompt_number": null
    },
    {
     "cell_type": "code",
     "collapsed": false,
     "input": [
      "cf.map(which='cur_idx_taux_occupation_sae')"
     ],
     "language": "python",
     "metadata": {},
     "outputs": [],
     "prompt_number": null
    },
    {
     "cell_type": "code",
     "collapsed": false,
     "input": [
      "cf.map(which='cur_idx_taux_occupation_sae',when='15/04/2021')"
     ],
     "language": "python",
     "metadata": {},
     "outputs": [],
     "prompt_number": null
    },
    {
     "cell_type": "heading",
     "level": 2,
     "metadata": {},
     "source": [
      "\u00c0 vous de jouer\u2026 quelle(s) donn\u00e9e(s) souhaitez-vous explorer ? "
     ]
    },
    {
     "cell_type": "code",
     "collapsed": false,
     "input": [
      "cf.plot(which='cur_rea',option=['sumall','smooth7'],where='\u00cele-de-France',when='22/03/2020:28/03/2021')"
     ],
     "language": "python",
     "metadata": {},
     "outputs": [],
     "prompt_number": 8
    },
    {
     "cell_type": "code",
     "collapsed": false,
     "input": [
      "import sys\n",
      "sys.path.insert(1,'../pycoa')\n",
      "sys.path.insert(1,'../coadata')\n",
      "import coa.tools"
     ],
     "language": "python",
     "metadata": {},
     "outputs": [],
     "prompt_number": 1
    },
    {
     "cell_type": "code",
     "collapsed": false,
     "input": [
      "coa.tools.set_verbose_mode(2)"
     ],
     "language": "python",
     "metadata": {},
     "outputs": [],
     "prompt_number": 2
    },
    {
     "cell_type": "code",
     "collapsed": false,
     "input": [
      "import coa.front as cf"
     ],
     "language": "python",
     "metadata": {},
     "outputs": [],
     "prompt_number": 3
    },
    {
     "cell_type": "code",
     "collapsed": false,
     "input": [
      "cf.getwhom()"
     ],
     "language": "python",
     "metadata": {},
     "outputs": [],
     "prompt_number": 6
    },
    {
     "cell_type": "code",
     "collapsed": false,
     "input": [
      "cf.listwhom()"
     ],
     "language": "python",
     "metadata": {},
     "outputs": [],
     "prompt_number": 7
    },
    {
     "cell_type": "code",
     "collapsed": false,
     "input": [
      "cf.setwhom('spf')"
     ],
     "language": "python",
     "metadata": {},
     "outputs": [],
     "prompt_number": 5
    },
    {
     "cell_type": "code",
     "collapsed": false,
     "input": [
      "coa.tools.get_local_from_url('https://opendata.arcgis.com/datasets/3a4fa2ce68f642e399b4de07643eeed3_0.geojson')"
     ],
     "language": "python",
     "metadata": {},
     "outputs": [],
     "prompt_number": 7
    },
    {
     "cell_type": "code",
     "collapsed": false,
     "input": [
      "cf.setwhom('phe')"
     ],
     "language": "python",
     "metadata": {},
     "outputs": [],
     "prompt_number": 7
    },
    {
     "cell_type": "code",
     "collapsed": false,
     "input": [
      "cf.map()"
     ],
     "language": "python",
     "metadata": {},
     "outputs": [],
     "prompt_number": 8
    },
    {
     "cell_type": "code",
     "collapsed": false,
     "input": [
      "cf.setwhom('obepine')"
     ],
     "language": "python",
     "metadata": {},
     "outputs": [],
     "prompt_number": 9
    },
    {
     "cell_type": "code",
     "collapsed": false,
     "input": [
      "cf.map()"
     ],
     "language": "python",
     "metadata": {},
     "outputs": [],
     "prompt_number": 10
    },
    {
     "cell_type": "code",
     "collapsed": false,
     "input": [],
     "language": "python",
     "metadata": {},
     "outputs": [],
     "prompt_number": null
    }
   ],
   "metadata": {}
  }
 ]
}