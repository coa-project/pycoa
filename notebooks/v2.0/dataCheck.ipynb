{
 "metadata": {
  "colab": {
   "include_colab_link": true,
   "provenance": [],
   "toc_visible": true
  },
  "kernelspec": {
   "display_name": "Python 3 (ipykernel)",
   "language": "python",
   "name": "python3"
  },
  "language_info": {
   "codemirror_mode": {
    "name": "ipython",
    "version": 3
   },
   "file_extension": ".py",
   "mimetype": "text/x-python",
   "name": "python",
   "nbconvert_exporter": "python",
   "pygments_lexer": "ipython3",
   "version": "3.9.18"
  },
  "name": ""
 },
 "nbformat": 3,
 "nbformat_minor": 0,
 "worksheets": [
  {
   "cells": [
    {
     "cell_type": "markdown",
     "metadata": {
      "colab_type": "text",
      "id": "view-in-github"
     },
     "source": [
      "<a href=\"https://colab.research.google.com/github/coa-project/pycoa/blob/main/coabook/dataCheck.ipynb\" target=\"_parent\"><img src=\"https://colab.research.google.com/assets/colab-badge.svg\" alt=\"Open In Colab\"/></a>\n",
      "[![Binder](https://mybinder.org/badge_logo.svg)](https://mybinder.org/v2/gh/coa-project/pycoa/zenodo-backup)"
     ]
    },
    {
     "cell_type": "heading",
     "level": 1,
     "metadata": {
      "id": "xueZfi-b_sre"
     },
     "source": [
      "Data Check for Pycoa [\u24d2pycoa.fr](http://pycoa.fr) <img src=\"https://www.pycoa.fr/fig/logo-anime.gif\" alt=\"Pycoa\" width=\"35\">"
     ]
    },
    {
     "cell_type": "heading",
     "level": 2,
     "metadata": {
      "id": "_hfa1G0M7Lc5"
     },
     "source": [
      "Importing packages"
     ]
    },
    {
     "cell_type": "markdown",
     "metadata": {
      "id": "DuqlhKNT0J-o"
     },
     "source": [
      "The following commands ensure that Pycoa is correctly installed and configured: \n",
      "* for local installation\n",
      "* for use in Colab\n",
      "* for use in Binder\n",
      "\n",
      "**Execute these lines without asking too many questions...**"
     ]
    },
    {
     "cell_type": "code",
     "collapsed": false,
     "input": [
      "import sys\n",
      "import subprocess\n",
      "import importlib\n",
      "coa_module_info = importlib.util.find_spec(\"coaenv\")\n",
      "if coa_module_info != None:\n",
      "  import coaenv as pycoa\n",
      "else:\n",
      "  #dans le cas o\u00f9 on utilise colab de Google  \n",
      "  subprocess.check_call(['pip3', 'install', '--quiet', 'git+https://github.com/coa-project/pycoa.git@ReadingDataModification'])\n",
      "  sys.path.insert(1, 'pycoa')\n",
      "  !pip install pandas==1.4.2\n",
      "  import coa.front as pycoa"
     ],
     "language": "python",
     "metadata": {
      "id": "a7S3ZtTKNkwn"
     },
     "outputs": [],
     "prompt_number": 1
    },
    {
     "cell_type": "heading",
     "level": 2,
     "metadata": {},
     "source": [
      "Select the database"
     ]
    },
    {
     "cell_type": "markdown",
     "metadata": {},
     "source": [
      "First select the database to get the data. For this use `pycoa.setwhom(\"DataBase\")` replacing `DataBase` with the any of the databases in `pycoa.listwhom(True)`.\n",
      "\n",
      ">If no epidemiological database is selected with `pycoa.setwhom`, the `JHU` database for John Hopkins University is loaded by default. JHU was one of the first institutions to aggregate epidemiological data from countries, and to offer a web-based dashboard to view the data: https://coronavirus.jhu.edu/map.html. \n",
      "\n",
      "PyCoA was designed to extend the possibilities of these *dashboards*. On the one hand, it allows you to retrieve epidemiological data directly; on the other, it allows you to display the data as you wish."
     ]
    },
    {
     "cell_type": "code",
     "collapsed": false,
     "input": [
      "pycoa.setwhom(\"jhu\",reload=False)"
     ],
     "language": "python",
     "metadata": {},
     "outputs": [],
     "prompt_number": 2
    },
    {
     "cell_type": "heading",
     "level": 2,
     "metadata": {},
     "source": [
      "Pycoa instructions"
     ]
    },
    {
     "cell_type": "markdown",
     "metadata": {},
     "source": [
      "* `pycoa.plot`: for time series\n",
      "* `pycoa.map`: for a map representation\n",
      "* `pycoa.hist`: for histograms, with the following options\n",
      "  * `typeofhist='bycountry'` (default), for a histogram with horizontal bars, location by location\n",
      "  * `typeofhist='byvalue'`, for a histogram with vertical bars, by value\n",
      "  * `typeofhist='pie'`, for a pie chart\n",
      "* `pycoa.get`: to retrieve data for further processing"
     ]
    },
    {
     "cell_type": "heading",
     "level": 3,
     "metadata": {},
     "source": [
      "Documentation"
     ]
    },
    {
     "cell_type": "markdown",
     "metadata": {},
     "source": [
      "A more complete documentation of Pycoa instructions and options can be found on the [Pycoa wiki](https://github.com/coa-project/pycoa/wiki/Accueil). In particular, see the menu at the bottom right: \n",
      "* [Data retrieval and processing](https://github.com/coa-project/pycoa/wiki/Donn%C3%A9es%2Ctraitements)\n",
      "* [Curve graphs](https://github.com/coa-project/pycoa/wiki/Courbes)\n",
      "* [Histograms, sectors and maps](https://github.com/coa-project/pycoa/wiki/Diagrammes%2CCartes)\n",
      "* [Advanced](https://github.com/coa-project/pycoa/wiki/Avance)\n",
      "* [Case studies](https://github.com/coa-project/pycoa/wiki/Etudes%2Cde%2Ccas)"
     ]
    },
    {
     "cell_type": "heading",
     "level": 3,
     "metadata": {},
     "source": [
      "*Keywords*"
     ]
    },
    {
     "cell_type": "markdown",
     "metadata": {
      "id": "H06z7ugA0J-q"
     },
     "source": [
      "Different keywords are possible for the various instructions:\n",
      "\n",
      "* `which`: data selected from the current database. \n",
      "* `what`: cumulative, daily or weekly information.\n",
      "* `where`: selection of the location, depending on the database used.\n",
      "  * country, list of countries, regions, continents, etc.\n",
      "  * department, list of departments, regions.\n",
      "* `option`: \"nonneg\", \"nofillnan\", \"smooth7\", \"sumall\".\n",
      "* `when`: date window for selected data.\n",
      "\n",
      "You can use the following functions to get all available configurations `pycoa.listwhich()` `pycoa.listwhat()` `pycoa.listoption()` `pycoa.listwhere()` "
     ]
    },
    {
     "cell_type": "heading",
     "level": 1,
     "metadata": {
      "id": "hgF-8lmE0J-s"
     },
     "source": [
      "Use the databases"
     ]
    },
    {
     "cell_type": "markdown",
     "metadata": {},
     "source": [
      "List available databases"
     ]
    },
    {
     "cell_type": "code",
     "collapsed": false,
     "input": [
      "pycoa.listwhom(True)"
     ],
     "language": "python",
     "metadata": {
      "id": "coXG9UTU3_mk"
     },
     "outputs": [],
     "prompt_number": 3
    },
    {
     "cell_type": "markdown",
     "metadata": {
      "id": "MwOdai3k3_ml"
     },
     "source": [
      "Select 'owid' database"
     ]
    },
    {
     "cell_type": "code",
     "collapsed": false,
     "input": [
      "pycoa.setwhom('insee',reload=False)"
     ],
     "language": "python",
     "metadata": {
      "id": "oDwRnTbB0J-t"
     },
     "outputs": [],
     "prompt_number": 4
    },
    {
     "cell_type": "code",
     "collapsed": false,
     "input": [
      "pycoa.listwhich() "
     ],
     "language": "python",
     "metadata": {},
     "outputs": [],
     "prompt_number": 5
    },
    {
     "cell_type": "code",
     "collapsed": false,
     "input": [
      "pycoa.listwhat() "
     ],
     "language": "python",
     "metadata": {},
     "outputs": [],
     "prompt_number": 6
    },
    {
     "cell_type": "code",
     "collapsed": false,
     "input": [
      "pycoa.listoption() "
     ],
     "language": "python",
     "metadata": {},
     "outputs": [],
     "prompt_number": 7
    },
    {
     "cell_type": "code",
     "collapsed": true,
     "input": [
      "pycoa.listwhere()"
     ],
     "language": "python",
     "metadata": {
      "jupyter": {
       "outputs_hidden": true
      },
      "scrolled": true
     },
     "outputs": [],
     "prompt_number": 8
    },
    {
     "cell_type": "heading",
     "level": 2,
     "metadata": {},
     "source": [
      "Store databases with Pycoa"
     ]
    },
    {
     "cell_type": "markdown",
     "metadata": {},
     "source": [
      "Save with the functions `pycoa.getrawdb()` and `pycoa.saveoutput()`"
     ]
    },
    {
     "cell_type": "code",
     "collapsed": false,
     "input": [
      "#for database in pycoa.listwhom():\n",
      "    #pycoa.setwhom(database,reload=False)\n",
      "    #pycoa.saveoutput(pandas=pycoa.getrawdb(), saveformat='csv', savename=database+\"-PyCoa-DF\")"
     ],
     "language": "python",
     "metadata": {},
     "outputs": [],
     "prompt_number": 17
    },
    {
     "cell_type": "heading",
     "level": 2,
     "metadata": {},
     "source": [
      "List elements"
     ]
    },
    {
     "cell_type": "code",
     "collapsed": false,
     "input": [
      "whichAll = []\n",
      "for database in pycoa.listwhom():\n",
      "    pycoa.setwhom(database,reload=False)\n",
      "    print(database)\n",
      "    #print(pycoa.listwhat()) \n",
      "    for which in pycoa.listwhich():\n",
      "        whichAll.append(which)\n",
      "    #print(\"From: \", pycoa.getrawdb().iloc[0][0])\n",
      "# Remove duplicates\n",
      "whichAll = list(dict.fromkeys(whichAll))"
     ],
     "language": "python",
     "metadata": {
      "scrolled": true
     },
     "outputs": [],
     "prompt_number": 11
    },
    {
     "cell_type": "heading",
     "level": 2,
     "metadata": {},
     "source": [
      "Metadata"
     ]
    },
    {
     "cell_type": "code",
     "collapsed": false,
     "input": [
      "for database in pycoa.listwhom():\n",
      "    pycoa.setwhom(database,reload=False)\n",
      "    print(database)\n",
      "    print(pycoa.getkeywordinfo())\n",
      "    #pycoa.saveoutput(pandas=pycoa.getrawdb(), saveformat='csv', savename=database+\"-PyCoa-DF\")"
     ],
     "language": "python",
     "metadata": {
      "scrolled": true
     },
     "outputs": [],
     "prompt_number": 12
    }
   ],
   "metadata": {}
  }
 ]
}