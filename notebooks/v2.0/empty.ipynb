{
 "metadata": {
  "colab": {
   "collapsed_sections": [],
   "include_colab_link": true,
   "name": "Salon de la Culture et des Jeux Math\u00e9matiques 2022",
   "provenance": [],
   "toc_visible": true
  },
  "kernelspec": {
   "display_name": "Python 3",
   "language": "python",
   "name": "python3"
  },
  "language_info": {
   "codemirror_mode": {
    "name": "ipython",
    "version": 3
   },
   "file_extension": ".py",
   "mimetype": "text/x-python",
   "name": "python",
   "nbconvert_exporter": "python",
   "pygments_lexer": "ipython3",
   "version": "3.8.10"
  },
  "name": ""
 },
 "nbformat": 3,
 "nbformat_minor": 0,
 "worksheets": [
  {
   "cells": [
    {
     "cell_type": "markdown",
     "metadata": {
      "colab_type": "text",
      "id": "view-in-github"
     },
     "source": [
      "<a href=\"https://colab.research.google.com/github/coa-project/pycoa/blob/dev/coabook/empty.ipynb\" target=\"_parent\"><img src=\"https://colab.research.google.com/assets/colab-badge.svg\" alt=\"Open In Colab\"/></a>"
     ]
    },
    {
     "cell_type": "markdown",
     "metadata": {},
     "source": [
      "<a href=\"https://mybinder.org/v2/gh/coa-project/pycoa/dev?labpath=coabook/empty.ipynb\" target=\"_parent\"><img src=\"https://camo.githubusercontent.com/581c077bdbc6ca6899c86d0acc6145ae85e9d80e6f805a1071793dbe48917982/68747470733a2f2f6d7962696e6465722e6f72672f62616467655f6c6f676f2e737667\" alt=\"Open In Binder\"/></a>"
     ]
    },
    {
     "cell_type": "markdown",
     "metadata": {
      "id": "yrk1vvuwxiUu"
     },
     "source": [
      "<a href=\"https://nbviewer.org/github/coa-project/pycoa/blob/dev/coabook/empty.ipynb\" target=\"_parent\" ><img src=\"https://raw.githubusercontent.com/jupyter/design/master/logos/Badges/nbviewer_badge.svg\" height=\"25\"  alt=\"View in Jupyter nbviewwer\" align=\"middle\" /></a>"
     ]
    },
    {
     "cell_type": "markdown",
     "metadata": {
      "id": "xueZfi-b_sre"
     },
     "source": [
      "<img src=\"https://www.pycoa.fr/fig/logo-anime.gif\" alt=\"Pycoa\" width=\"125\">\n",
      "\n",
      "# Empty notebook for PyCoA (July, 9, 2022)\n",
      "\n",
      "[\u24d2pycoa.fr](http://pycoa.fr)"
     ]
    },
    {
     "cell_type": "heading",
     "level": 1,
     "metadata": {
      "id": "_hfa1G0M7Lc5"
     },
     "source": [
      "Package import"
     ]
    },
    {
     "cell_type": "markdown",
     "metadata": {},
     "source": [
      "The following lines are needed to get the proper pycoa install in your environment :\n",
      "* local installdans le cas d'une installation locale\n",
      "* use within Colab\n",
      "* use within Binder\n",
      "\n",
      "**You should execute those line before begining the use of pycoa\u2026**"
     ]
    },
    {
     "cell_type": "code",
     "collapsed": false,
     "input": [
      "import sys\n",
      "import subprocess\n",
      "import importlib\n",
      "coa_module_info = importlib.util.find_spec(\"coaenv\")\n",
      "if coa_module_info != None:\n",
      "  import coaenv as pycoa\n",
      "else:\n",
      "  #dans le cas o\u00f9 on utilise colab de Google  \n",
      "  subprocess.check_call(['pip3', 'install', '--quiet', 'git+https://github.com/coa-project/pycoa.git@dev'])\n",
      "  sys.path.insert(1, 'pycoa')\n",
      "  import coa.front as pycoa"
     ],
     "language": "python",
     "metadata": {
      "id": "a7S3ZtTKNkwn"
     },
     "outputs": [],
     "prompt_number": null
    },
    {
     "cell_type": "markdown",
     "metadata": {},
     "source": [
      "If there is no error, you can continue. For any question, contact us : support@pycoa.fr."
     ]
    },
    {
     "cell_type": "heading",
     "level": 1,
     "metadata": {},
     "source": [
      "Using pycoa now"
     ]
    },
    {
     "cell_type": "markdown",
     "metadata": {},
     "source": [
      "You can enter any `pycoa` command bellow now."
     ]
    },
    {
     "cell_type": "code",
     "collapsed": false,
     "input": [],
     "language": "python",
     "metadata": {},
     "outputs": [],
     "prompt_number": null
    }
   ],
   "metadata": {}
  }
 ]
}