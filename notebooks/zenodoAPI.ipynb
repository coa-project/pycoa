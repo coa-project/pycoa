{
 "metadata": {
  "kernelspec": {
   "display_name": "Python 3 (ipykernel)",
   "language": "python",
   "name": "python3"
  },
  "language_info": {
   "codemirror_mode": {
    "name": "ipython",
    "version": 3
   },
   "file_extension": ".py",
   "mimetype": "text/x-python",
   "name": "python",
   "nbconvert_exporter": "python",
   "pygments_lexer": "ipython3",
   "version": "3.9.18"
  },
  "name": ""
 },
 "nbformat": 3,
 "nbformat_minor": 0,
 "worksheets": [
  {
   "cells": [
    {
     "cell_type": "markdown",
     "metadata": {},
     "source": [
      "<a href=\"https://colab.research.google.com/github/coa-project/pycoa/blob/main/coabook/zenodoAPI.ipynb\" target=\"_parent\"><img src=\"https://colab.research.google.com/assets/colab-badge.svg\" alt=\"Open In Colab\"/></a>\n",
      "[![Binder](https://mybinder.org/badge_logo.svg)](https://mybinder.org/v2/gh/coa-project/pycoa/zenodo-backup)"
     ]
    },
    {
     "cell_type": "heading",
     "level": 1,
     "metadata": {},
     "source": [
      "Zenodo REST API "
     ]
    },
    {
     "cell_type": "heading",
     "level": 3,
     "metadata": {},
     "source": [
      "load libraries"
     ]
    },
    {
     "cell_type": "code",
     "collapsed": false,
     "input": [
      "import json\n",
      "import requests\n",
      "import pydoi\n",
      "\n",
      "import sys\n",
      "import subprocess\n",
      "import importlib\n",
      "coa_module_info = importlib.util.find_spec(\"coaenv\")\n",
      "if coa_module_info != None:\n",
      "  import coaenv as pycoa\n",
      "else:\n",
      "  #dans le cas o\u00f9 on utilise colab de Google  \n",
      "  subprocess.check_call(['pip', 'install', '--quiet', 'git+https://github.com/coa-project/pycoa.git@ReadingDataModification'])\n",
      "  sys.path.insert(1, 'pycoa')\n",
      "  !pip install pandas==1.4.2\n",
      "  import coa.front as pycoa"
     ],
     "language": "python",
     "metadata": {},
     "outputs": [],
     "prompt_number": 1
    },
    {
     "cell_type": "code",
     "collapsed": false,
     "input": [
      "pycoa.getrawdb?"
     ],
     "language": "python",
     "metadata": {},
     "outputs": [],
     "prompt_number": 2
    },
    {
     "cell_type": "code",
     "collapsed": false,
     "input": [
      "importlib.util.find_spec(\"coaenv\")"
     ],
     "language": "python",
     "metadata": {},
     "outputs": [],
     "prompt_number": 3
    },
    {
     "cell_type": "heading",
     "level": 3,
     "metadata": {},
     "source": [
      "Zenodo Community parameters"
     ]
    },
    {
     "cell_type": "code",
     "collapsed": false,
     "input": [
      "# Set the community identifier\n",
      "community_id = \"pycoa\"\n",
      "\n",
      "# Get the user's access token. Necesary for private or restricted contect\n",
      "access_token = \"YOUR_ACCESS_TOKEN\""
     ],
     "language": "python",
     "metadata": {},
     "outputs": [],
     "prompt_number": 4
    },
    {
     "cell_type": "heading",
     "level": 3,
     "metadata": {},
     "source": [
      "Get JSON Metadata from Zenodo"
     ]
    },
    {
     "cell_type": "code",
     "collapsed": false,
     "input": [
      "# Make a GET request to the `/api/communities/{community_id}/records` endpoint\n",
      "headers = {\"Authorization\": f\"Bearer {access_token}\"}\n",
      "\n",
      "# For private or restricted content use\n",
      "#response = requests.get(f\"https://zenodo.org/api/communities/{community_id}/records\", headers=headers)\n",
      "\n",
      "# For Public Items in Communities\n",
      "response = requests.get(f\"https://zenodo.org/api/communities/{community_id}/records\")\n",
      "\n",
      "response.raise_for_status()\n",
      "\n",
      "# Parse the JSON response\n",
      "entries = json.loads(response.content)"
     ],
     "language": "python",
     "metadata": {},
     "outputs": [],
     "prompt_number": 5
    },
    {
     "cell_type": "code",
     "collapsed": false,
     "input": [
      "entries"
     ],
     "language": "python",
     "metadata": {
      "scrolled": true
     },
     "outputs": [],
     "prompt_number": 6
    },
    {
     "cell_type": "heading",
     "level": 3,
     "metadata": {},
     "source": [
      "Play with the entries"
     ]
    },
    {
     "cell_type": "code",
     "collapsed": false,
     "input": [
      "# Print PyCoa DF links for every database\n",
      "for hit in entries[\"hits\"][\"hits\"]:\n",
      "    print(\"Title: \" + hit[\"title\"])\n",
      "    print(hit[\"metadata\"][\"description\"].rstrip(\"</p>\").lstrip(\"<p>\"))\n",
      "    #print(\"DOI: \" + hit[\"doi_url\"].split(\".org/\")[-1:][0])\n",
      "    for file in hit[\"files\"]:\n",
      "        if file[\"key\"] == hit[\"title\"]+\"-PyCoa-DF.csv\":\n",
      "            print(file[\"key\"] + \" [Pycoa file]\")\n",
      "            print(\"URL: \" + file[\"links\"][\"self\"])\n",
      "        else:\n",
      "            print(file[\"key\"] + \" [Raw file]\")\n",
      "            print(\"URL: \" + file[\"links\"][\"self\"])\n",
      "    print(\"\\n\")"
     ],
     "language": "python",
     "metadata": {
      "tags": []
     },
     "outputs": [],
     "prompt_number": 7
    },
    {
     "cell_type": "heading",
     "level": 3,
     "metadata": {},
     "source": [
      "Load PyCoa Pandas Database from Zenodo"
     ]
    },
    {
     "cell_type": "code",
     "collapsed": false,
     "input": [
      "url=\"https://zenodo.org/api/records/10082026/files/dgs-PyCoa-DF.csv/content\"\n",
      "\n",
      "database = pycoa.pd.read_csv(url)\n",
      "\n",
      "#pycoa.loadDataBase(pycoa.pd.read_csv(url))"
     ],
     "language": "python",
     "metadata": {},
     "outputs": [],
     "prompt_number": 8
    },
    {
     "cell_type": "code",
     "collapsed": false,
     "input": [
      "database"
     ],
     "language": "python",
     "metadata": {},
     "outputs": [],
     "prompt_number": 9
    },
    {
     "cell_type": "markdown",
     "metadata": {},
     "source": [
      "> The next steap could be building a function to load the pandas CSV into pycoa, comments???"
     ]
    }
   ],
   "metadata": {}
  }
 ]
}